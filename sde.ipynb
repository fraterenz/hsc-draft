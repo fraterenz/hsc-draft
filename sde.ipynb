{
 "cells": [
  {
   "cell_type": "markdown",
   "id": "9587d1d1",
   "metadata": {},
   "source": [
    "## Compare the number of clones over time from the agent-based model vs SDE model\n",
    "**how to use this:**\n",
    "1. Generate parameters by running `parameters.ipynb`\n",
    "1. Generate the first batch of data by `qsub -t 1:1000 hsc-draft/simulations.sh hsc-draft/parameters_sde_varying_eta1.txt`\n",
    "2.  Generate the second batch of data by `qsub -t 1:1000 hsc-draft/simulations.sh hsc-draft/parameters_sde_varying_eta2.txt`\n",
    "3. run this notebook\n",
    "\n",
    "SDE parameters:\n",
    "```\n",
    "tau=1\n",
    "sigma=0.025\n",
    "N=100'000\n",
    "detection threshold = 0.005\n",
    "```\n",
    "\n",
    "Note: `qsub` is the command to submit jobs via the Univa Grid engine available at QMUL. Another comand might be used with other job schedulers (e.g. Slurm, Apache Hadoop...)."
   ]
  },
  {
   "cell_type": "code",
   "execution_count": null,
   "id": "fc08b8ba",
   "metadata": {},
   "outputs": [],
   "source": [
    "%load_ext autoreload\n",
    "%autoreload 2"
   ]
  },
  {
   "cell_type": "code",
   "execution_count": null,
   "id": "4f0cae47",
   "metadata": {},
   "outputs": [],
   "source": [
    "import matplotlib.pyplot as plt\n",
    "import pandas as pd\n",
    "import seaborn as sns\n",
    "import json\n",
    "import numpy as np\n",
    "from pathlib import Path\n",
    "\n",
    "from hscpy import mitchell, realisation, parameters, variant\n",
    "from hscpy.figures import PlotOptions, ToCellFrequency\n",
    "from hscpy.figures import sfs as sfs_fig\n",
    "\n",
    "from futils import parse_version, snapshot\n",
    "\n",
    "BIGLABELS = False\n",
    "FIGSIZE = [5, 3] if BIGLABELS else [6.4, 4.8]  # default matplotlib\n",
    "LATEST = True\n",
    "SAVEFIG = True\n",
    "EXTENSION = \".svg\"\n",
    "PATH2HSC = Path(\"~\").expanduser() / \"hsc\"\n",
    "PATH2DATA = Path(\"~\").expanduser() / \"hsc-draft/data\"\n",
    "PLOT_OPTIONS = PlotOptions(figsize=FIGSIZE, extension=EXTENSION, save=SAVEFIG)\n",
    "DETECT_THRESHOLD = 0.005"
   ]
  },
  {
   "cell_type": "code",
   "execution_count": null,
   "id": "184496f4",
   "metadata": {},
   "outputs": [],
   "source": [
    "%%bash -s \"$PATH2HSC\" --out version\n",
    "$1/target/release/hsc  --version"
   ]
  },
  {
   "cell_type": "code",
   "execution_count": null,
   "id": "974ca8b1",
   "metadata": {},
   "outputs": [],
   "source": [
    "if LATEST:\n",
    "    VERSION = parse_version(version)\n",
    "else:\n",
    "    VERSION = \"v4.2.1\"\n",
    "PATH2SAVE = Path(f\"./{VERSION}\")\n",
    "\n",
    "print(\"Running hsc with version:\", VERSION)\n",
    "PATH2SIMS = PATH2DATA / f\"sde/{VERSION}\""
   ]
  },
  {
   "cell_type": "code",
   "execution_count": null,
   "id": "433f37df",
   "metadata": {},
   "outputs": [],
   "source": [
    "donors = mitchell.donors()\n",
    "donors"
   ]
  },
  {
   "cell_type": "code",
   "execution_count": null,
   "id": "868a37f6",
   "metadata": {},
   "outputs": [],
   "source": [
    "def float_similar(f1: float, f2: float):\n",
    "    return abs(f1 - f2) < 0.001\n",
    "\n",
    "    \n",
    "def filter_variants(variants, eta: float):\n",
    "    counts = dict()\n",
    "    for k, var in variants.items():\n",
    "        counts[k] = [ele for ele in var if float_similar(ele.parameters.s, eta)]\n",
    "    return counts"
   ]
  },
  {
   "cell_type": "markdown",
   "id": "5c92c004",
   "metadata": {},
   "source": [
    "### Number of clones"
   ]
  },
  {
   "cell_type": "code",
   "execution_count": null,
   "id": "650f132f",
   "metadata": {},
   "outputs": [],
   "source": [
    "p = Path(f\"{PATH2SIMS}/etas_mu4/100000cells/variant_fraction\")\n",
    "variants_agent_based_etas_mu4 = variant.load_all_detected_var_counts_by_age(p, DETECT_THRESHOLD)\n",
    "variants_agent_based_eta005_mu4 = filter_variants(variants_agent_based_etas_mu4, 0.05)\n",
    "variants_agent_based_eta02_mu4 = filter_variants(variants_agent_based_etas_mu4, 0.2)\n",
    "assert len(variants_agent_based_eta005_mu4[0]) == len(variants_agent_based_eta02_mu4[0]) == 500\n",
    "variants_agent_based_eta02_mu4"
   ]
  },
  {
   "cell_type": "code",
   "execution_count": null,
   "id": "17538c19",
   "metadata": {},
   "outputs": [],
   "source": [
    "for ele in variants_agent_based_eta02_mu4.values():\n",
    "    assert len(ele) == 500\n",
    "    for e in ele:\n",
    "        assert e.parameters.mu == 4\n",
    "        assert float_similar(e.parameters.s, 0.2), e.parameters.s"
   ]
  },
  {
   "cell_type": "code",
   "execution_count": null,
   "id": "912727bb",
   "metadata": {},
   "outputs": [],
   "source": [
    "for ele in variants_agent_based_eta005_mu4.values():\n",
    "    assert len(ele) == 500\n",
    "    for e in ele:\n",
    "        assert e.parameters.mu == 4\n",
    "        assert float_similar(e.parameters.s, 0.05), e.parameters.s"
   ]
  },
  {
   "cell_type": "code",
   "execution_count": null,
   "id": "0f565ed0",
   "metadata": {},
   "outputs": [],
   "source": [
    "variants_sde_eta005_mu4 = pd.read_csv(\"sde_variants/nClonesWithTime_eta0.05_mu4.csv\")\n",
    "variants_sde_eta02_mu4 = pd.read_csv(\"sde_variants/nClonesWithTime_eta0.2_mu4.csv\")"
   ]
  },
  {
   "cell_type": "code",
   "execution_count": null,
   "id": "18bce710",
   "metadata": {
    "scrolled": false
   },
   "outputs": [],
   "source": [
    "for (eta, mu), (abm, sde) in zip(\n",
    "    ((\"0.05\", \"4\"), (\"0.2\", \"4\")),\n",
    "    [(variants_agent_based_eta005_mu4, variants_sde_eta005_mu4), (variants_agent_based_eta02_mu4, variants_sde_eta02_mu4)]\n",
    "):\n",
    "    counts = variant.variant_counts_detected_df(abm)\n",
    "    fig, ax = plt.subplots(1, 1, layout=\"tight\")\n",
    "    sns.lineplot(\n",
    "        counts,\n",
    "        x=\"age\",\n",
    "        y=\"variant counts detected\",\n",
    "        errorbar=lambda x: (np.min(x), np.max(x)),\n",
    "        ax=ax,\n",
    "        # label=\"abm\",\n",
    "    )\n",
    "    sns.lineplot(\n",
    "        sde,\n",
    "        x=\"t\",\n",
    "        y=\"nClones\",\n",
    "        ax=ax,\n",
    "        # label=\"sde\",\n",
    "    )\n",
    "    ax.set_ylabel(\"Expanded clones\")\n",
    "    ax.set_xlabel(\"Age (years)\")\n",
    "    ax.text(x=0.1, y=0.8, s=f\"$\\eta={eta}$\", fontsize=12, transform=ax.transAxes)\n",
    "    ax.text(x=0.1, y=0.65, s=f\"$\\mu={mu}$\", fontsize=12, transform=ax.transAxes)\n",
    "    \n",
    "    if PLOT_OPTIONS.save:\n",
    "        plt.savefig(f\"sde_eta{eta.replace('.', '')}_mu{mu.replace('.', '')}{PLOT_OPTIONS.extension}\")\n",
    "\n",
    "    plt.show()"
   ]
  },
  {
   "cell_type": "code",
   "execution_count": null,
   "id": "e44ba721",
   "metadata": {},
   "outputs": [],
   "source": [
    "p = Path(f\"{PATH2SIMS}/etas_mu15/100000cells/variant_fraction\")\n",
    "variants_agent_based_etas_mu15 = variant.load_all_detected_var_counts_by_age(p, DETECT_THRESHOLD)\n",
    "variants_agent_based_eta005_mu15 = filter_variants(variants_agent_based_etas_mu15, 0.05)\n",
    "variants_agent_based_eta02_mu15 = filter_variants(variants_agent_based_etas_mu15, 0.2)\n",
    "assert len(variants_agent_based_eta005_mu15[0]) == len(variants_agent_based_eta02_mu15[0]) == 500\n",
    "variants_agent_based_eta02_mu15"
   ]
  },
  {
   "cell_type": "code",
   "execution_count": null,
   "id": "eca44d5e",
   "metadata": {},
   "outputs": [],
   "source": [
    "for ele in variants_agent_based_eta02_mu15.values():\n",
    "    for e in ele:\n",
    "        assert e.parameters.mu == 15\n",
    "        assert float_similar(e.parameters.s, 0.2), e.parameters.s"
   ]
  },
  {
   "cell_type": "code",
   "execution_count": null,
   "id": "61d6ee9d",
   "metadata": {},
   "outputs": [],
   "source": [
    "for ele in variants_agent_based_eta005_mu15.values():\n",
    "    for e in ele:\n",
    "        assert e.parameters.mu == 15\n",
    "        assert float_similar(e.parameters.s, 0.05), e.parameters.s"
   ]
  },
  {
   "cell_type": "code",
   "execution_count": null,
   "id": "77da6729",
   "metadata": {},
   "outputs": [],
   "source": [
    "variants_sde_eta005_mu15 = pd.read_csv(\"sde_variants/nClonesWithTime_eta0.05_mu15.csv\")\n",
    "variants_sde_eta02_mu15 = pd.read_csv(\"sde_variants/nClonesWithTime_eta0.2_mu15.csv\")"
   ]
  },
  {
   "cell_type": "code",
   "execution_count": null,
   "id": "30c2eda2",
   "metadata": {
    "scrolled": true
   },
   "outputs": [],
   "source": [
    "variants_sde_eta02_mu15.head(n=15)"
   ]
  },
  {
   "cell_type": "code",
   "execution_count": null,
   "id": "4928c96f",
   "metadata": {
    "scrolled": true
   },
   "outputs": [],
   "source": [
    "counts[[\"variant counts detected\", \"age\"]].groupby(\"age\").mean()"
   ]
  },
  {
   "cell_type": "code",
   "execution_count": null,
   "id": "7c0db584",
   "metadata": {},
   "outputs": [],
   "source": [
    "for (eta, mu), (abm, sde) in zip(\n",
    "    ((\"0.05\", \"15\"), (\"0.2\", \"15\")),\n",
    "    [(variants_agent_based_eta005_mu15, variants_sde_eta005_mu15), (variants_agent_based_eta02_mu15, variants_sde_eta02_mu15)]\n",
    "):\n",
    "    counts = variant.variant_counts_detected_df(abm)\n",
    "    fig, ax = plt.subplots(1, 1, layout=\"tight\")\n",
    "    sns.lineplot(\n",
    "        counts,\n",
    "        x=\"age\",\n",
    "        y=\"variant counts detected\",\n",
    "        errorbar=lambda x: (np.min(x), np.max(x)),\n",
    "        ax=ax,\n",
    "        #label=\"agent-based model\",\n",
    "    )\n",
    "    sns.lineplot(\n",
    "        sde,\n",
    "        x=\"t\",\n",
    "        y=\"nClones\",\n",
    "        ax=ax,\n",
    "        #label=\"sde\",\n",
    "    )\n",
    "    ax.set_ylabel(\"Expanded clones\")\n",
    "    ax.set_xlabel(\"Age (years)\")\n",
    "    ax.text(x=0.1, y=0.8, s=f\"$\\eta={eta}$\", fontsize=12, transform=ax.transAxes)\n",
    "    ax.text(x=0.1, y=0.65, s=f\"$\\mu={mu}$\", fontsize=12, transform=ax.transAxes)\n",
    "    if PLOT_OPTIONS.save:\n",
    "        plt.savefig(f\"sde_eta{eta.replace('.', '')}_mu{mu.replace('.', '')}{PLOT_OPTIONS.extension}\")\n",
    "    plt.show()"
   ]
  },
  {
   "cell_type": "markdown",
   "id": "522ae8a2",
   "metadata": {},
   "source": [
    "### Distribution of clones aka variant sizes distribution"
   ]
  },
  {
   "cell_type": "code",
   "execution_count": null,
   "id": "50742e5c",
   "metadata": {},
   "outputs": [],
   "source": [
    "t = variant.load_all_var_frac_by_age(Path(\"/data/home/hfx923/hsc-draft/data/sde/v4.3.6/etas_mu15/100000cells/variant_fraction\"))"
   ]
  },
  {
   "cell_type": "code",
   "execution_count": null,
   "id": "a182181a",
   "metadata": {},
   "outputs": [],
   "source": [
    "arr = np.array(t[60][1].variant_fractions)\n",
    "arr[arr > 0.0]"
   ]
  }
 ],
 "metadata": {
  "kernelspec": {
   "display_name": "hsc-draft",
   "language": "python",
   "name": "hsc-draft"
  },
  "language_info": {
   "codemirror_mode": {
    "name": "ipython",
    "version": 3
   },
   "file_extension": ".py",
   "mimetype": "text/x-python",
   "name": "python",
   "nbconvert_exporter": "python",
   "pygments_lexer": "ipython3",
   "version": "3.9.7"
  }
 },
 "nbformat": 4,
 "nbformat_minor": 5
}
