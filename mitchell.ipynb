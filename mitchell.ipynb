{
 "cells": [
  {
   "cell_type": "markdown",
   "id": "c99eb63a",
   "metadata": {},
   "source": [
    "# Descriptive analysis of Mitchell's paper\n",
    "We plot the burden and the SFS for the data published in [Mitchell's et al. Nature 2022](https://www.nature.com/articles/s41586-022-04786-y).\n",
    "\n",
    "For the SFS we show also some simulations with the parameters that are inferred from the ABC."
   ]
  },
  {
   "cell_type": "code",
   "execution_count": null,
   "id": "013dfa7a-53c6-4347-869c-29f66ee18bc8",
   "metadata": {},
   "outputs": [],
   "source": [
    "%load_ext autoreload\n",
    "%autoreload 2"
   ]
  },
  {
   "cell_type": "code",
   "execution_count": null,
   "id": "ce19ffa6",
   "metadata": {},
   "outputs": [],
   "source": [
    "import matplotlib.pyplot as plt\n",
    "import numpy as np\n",
    "import pandas as pd\n",
    "import socket\n",
    "import seaborn as sns\n",
    "import subprocess\n",
    "from pathlib import Path\n",
    "\n",
    "from hscpy import mitchell, realisation, parameters\n",
    "from hscpy.figures import sfs as sfs_figures\n",
    "from hscpy.figures import PlotOptions, simulations\n",
    "\n",
    "from futils import parse_version, snapshot\n",
    "\n",
    "NCELLS = 100_000\n",
    "SEED = 10\n",
    "RUN_SIMS = False\n",
    "SAVEFIG = True\n",
    "BIGLABELS = False\n",
    "FIGSIZE = [5, 3] if BIGLABELS else [6.4, 4.8]  # default matplotlib\n",
    "EXTENSION = \".svg\"\n",
    "PLOT_OPTIONS = PlotOptions(figsize=FIGSIZE, extension=EXTENSION, save=SAVEFIG)\n",
    "PATH2HSC = Path(\"~\").expanduser() / \"hsc\"\n",
    "assert PATH2HSC.is_dir()"
   ]
  },
  {
   "cell_type": "code",
   "execution_count": null,
   "id": "985e133e",
   "metadata": {},
   "outputs": [],
   "source": [
    "if socket.gethostname() == \"5X9ZYD3\":\n",
    "    PATH2MITCHELL = Path(\"/mnt/c/Users/terenz01/Documents/SwitchDrive/PhD/hsc\")\n",
    "elif socket.gethostname() == \"LAPTOP-CEKCHJ4C\":\n",
    "    PATH2MITCHELL = Path(\"/mnt/c/Users/fra_t/Documents/PhD/hsc\")\n",
    "else:\n",
    "    PATH2MITCHELL = Path(\"~\").expanduser()"
   ]
  },
  {
   "cell_type": "code",
   "execution_count": null,
   "id": "87defa58",
   "metadata": {},
   "outputs": [],
   "source": [
    "%%bash -s \"$PATH2HSC\" --out version\n",
    "$1/target/release/hsc  --version"
   ]
  },
  {
   "cell_type": "code",
   "execution_count": null,
   "id": "2920efef",
   "metadata": {},
   "outputs": [],
   "source": [
    "VERSION = parse_version(version)\n",
    "print(\"Running hsc with version:\", VERSION)"
   ]
  },
  {
   "cell_type": "markdown",
   "id": "f788bd4b",
   "metadata": {
    "tags": []
   },
   "source": [
    "## Mitchell's data"
   ]
  },
  {
   "cell_type": "code",
   "execution_count": null,
   "id": "bf0282ac",
   "metadata": {},
   "outputs": [],
   "source": [
    "summary = mitchell.load_and_process_mitchell(\n",
    "    PATH2MITCHELL / \"Summary_cut.csv\", drop_donor_KX007=True\n",
    ")\n",
    "summary.dtypes"
   ]
  },
  {
   "cell_type": "code",
   "execution_count": null,
   "id": "19a2afe0",
   "metadata": {},
   "outputs": [],
   "source": [
    "print(summary.describe())\n",
    "print(f\"\\n\\ncell types: \\n{summary.cell_type.value_counts()}\")\n",
    "print(f\"\\n\\nsample types: \\n{summary.sample_type.value_counts()}\")\n",
    "print(f\"\\n\\ntimepoints: \\n{summary.timepoint.value_counts()}\")\n",
    "print(\n",
    "    f'\\n\\nages and cells: \\n{summary[[\"donor_id\", \"cells\", \"age\"]].drop_duplicates()}'\n",
    ")\n",
    "print(\n",
    "    f'\\n\\nmutations per donor: \\n{summary[[\"donor_id\", \"number_mutations\"]].groupby(\"donor_id\").sum()}'\n",
    ")"
   ]
  },
  {
   "cell_type": "code",
   "execution_count": null,
   "id": "3429f098",
   "metadata": {
    "tags": []
   },
   "outputs": [],
   "source": [
    "for i in summary.donor_id.unique():\n",
    "    fig, ax = plt.subplots(1, 1, tight_layout=True, figsize=(6, 4))\n",
    "    sns.histplot(\n",
    "        data=summary[summary.donor_id == i],\n",
    "        x=\"number_mutations\",\n",
    "        hue=\"donor_id\",\n",
    "        kde=True,\n",
    "        bins=50,\n",
    "        ax=ax,\n",
    "        stat=\"count\",\n",
    "    )\n",
    "    if PLOT_OPTIONS.save:\n",
    "        plt.savefig(f\"./{i}_burden{EXTENSION}\")\n",
    "    plt.show()"
   ]
  },
  {
   "cell_type": "code",
   "execution_count": null,
   "id": "aba9cabd-1658-432c-b97b-58f93c663fcd",
   "metadata": {},
   "outputs": [],
   "source": [
    "descr = (\n",
    "    summary.loc[summary.age == 0, [\"donor_id\", \"number_mutations\"]]\n",
    "    .groupby(\"donor_id\")\n",
    "    .describe()\n",
    ")\n",
    "descr"
   ]
  },
  {
   "cell_type": "code",
   "execution_count": null,
   "id": "09b5d81e-2695-47ed-b488-0d24aac691f7",
   "metadata": {},
   "outputs": [],
   "source": [
    "fig, ax = plt.subplots(1, 1, tight_layout=True, figsize=FIGSIZE)\n",
    "sns.histplot(\n",
    "    data=summary,\n",
    "    x=\"number_mutations\",\n",
    "    hue=\"donor_id\",\n",
    "    kde=True,\n",
    "    binwidth=10,\n",
    "    ax=ax,\n",
    "    stat=\"percent\",\n",
    ")\n",
    "sns.move_legend(\n",
    "    ax,\n",
    "    ncol=2,\n",
    "    # bbox_to_anchor=(1.01, 1),\n",
    "    loc=\"upper right\",\n",
    "    frameon=False,\n",
    "    fontsize=\"small\",\n",
    ")\n",
    "if PLOT_OPTIONS.save:\n",
    "    plt.savefig(f\"./mitchell_burden{EXTENSION}\")\n",
    "plt.show()"
   ]
  },
  {
   "cell_type": "code",
   "execution_count": null,
   "id": "fdc763cd-16f3-45ce-995b-e98209295eb4",
   "metadata": {},
   "outputs": [],
   "source": [
    "descr[(\"number_mutations\", \"mean\")].mean() / (2 * np.log(200_000 - 2))"
   ]
  },
  {
   "cell_type": "code",
   "execution_count": null,
   "id": "17991679-ff17-43d3-8d02-2f6d709e1960",
   "metadata": {},
   "outputs": [],
   "source": [
    "descr[(\"number_mutations\", \"std\")] ** 2"
   ]
  },
  {
   "cell_type": "markdown",
   "id": "5b8200aa",
   "metadata": {},
   "source": [
    "## Plot the SFS \n",
    "Combine different data for this plot:\n",
    "1. 1/f^2 sampled prediction (computed here in python)\n",
    "2. Mitchell's SFS (loaded and computed here in python)\n",
    "2. 1/f sampled prediction from Nate's (loaded from external file)\n",
    "3. SFS from simulations (need to generate them)"
   ]
  },
  {
   "cell_type": "markdown",
   "id": "0459853c",
   "metadata": {},
   "source": [
    "### Generate/load/compute the data"
   ]
  },
  {
   "cell_type": "markdown",
   "id": "b6e65342",
   "metadata": {},
   "source": [
    "####  1. 1/f2 predictions"
   ]
  },
  {
   "cell_type": "code",
   "execution_count": null,
   "id": "70325d8b-ce8b-484b-9d07-7d4728f8c94b",
   "metadata": {},
   "outputs": [],
   "source": [
    "%%time\n",
    "# compute the correction for the sims' SFS with sampled distributions from\n",
    "# https://www.biorxiv.org/content/10.1101/2022.11.07.515470v2\n",
    "corrected_variants_one_over_1_squared = dict()\n",
    "for donor in (\n",
    "    summary[[\"donor_id\", \"age\", \"cells\"]]\n",
    "    .drop_duplicates()\n",
    "    .sort_values(by=\"age\", ascending=False)\n",
    "    .itertuples()\n",
    "):\n",
    "    print(\n",
    "        f\"apply sampling correction to SFS of donor {donor.donor_id} with age {donor.age}\"\n",
    "    )\n",
    "    corrected_variants_one_over_1_squared[\n",
    "        donor.donor_id\n",
    "    ] = realisation.compute_variants(\n",
    "        realisation.Correction.ONE_OVER_F_SQUARED,\n",
    "        pop_size=NCELLS,\n",
    "        sample_size=donor.cells,\n",
    "    )"
   ]
  },
  {
   "cell_type": "markdown",
   "id": "f3015619",
   "metadata": {},
   "source": [
    "#### 2. Mitchell's SFS"
   ]
  },
  {
   "cell_type": "code",
   "execution_count": null,
   "id": "76ae20c7",
   "metadata": {},
   "outputs": [],
   "source": [
    "%%time\n",
    "# compute SFS from Mitchell's data\n",
    "names_mitchell = summary.donor_id.unique()\n",
    "ages_mitchell = summary.age.unique().tolist()\n",
    "# there are two donors with the same age 0\n",
    "assert len(ages_mitchell) + 1 == len(names_mitchell)\n",
    "mitchell_sfs = {\n",
    "    donor: mitchell.sfs_donor_mitchell(donor, age, PATH2MITCHELL, remove_indels=False)\n",
    "    for age, donor in zip([0] + ages_mitchell, names_mitchell)\n",
    "}"
   ]
  },
  {
   "cell_type": "markdown",
   "id": "f1b446b3",
   "metadata": {},
   "source": [
    "#### 3. 1/f sample predictions"
   ]
  },
  {
   "cell_type": "code",
   "execution_count": null,
   "id": "2f833821",
   "metadata": {},
   "outputs": [],
   "source": [
    "# theoretical homeostatic neutral SFS data, from Nate's paper in Elife: for each patient (skipping the neonates) \n",
    "# I evolved until their specific age, and then sampled to the same size as in the data\n",
    "mapping = {age: f\"homeostasisSFS_pid{i}.csv\" for i, age in enumerate(summary.age.unique().tolist()[1:], 3)}\n",
    "mapping"
   ]
  },
  {
   "cell_type": "markdown",
   "id": "4f24ded7",
   "metadata": {},
   "source": [
    "#### 4. SFS from simulations"
   ]
  },
  {
   "cell_type": "code",
   "execution_count": null,
   "id": "9547a59e",
   "metadata": {},
   "outputs": [],
   "source": [
    "# simulations, params are from ABC\n",
    "sims = dict()\n",
    "\n",
    "name, age = 'CB001', 0\n",
    "eta, sigma, mu, tau = 0.03, 0.01, 1, 1\n",
    "sims[name] = realisation.SimulationCMD(\n",
    "    cells=NCELLS,\n",
    "    sample=summary.loc[summary[\"donor_id\"] == name, \"cells\"].drop_duplicates().squeeze(),\n",
    "    eta=eta,\n",
    "    sigma=sigma,\n",
    "    mu=mu,\n",
    "    tau=tau,\n",
    "    age=age,\n",
    "    name=name,\n",
    "    seed=SEED,\n",
    ")\n",
    "\n",
    "# assume same params for both 0 age donors\n",
    "name, age = 'CB002', 0\n",
    "eta, sigma, mu, tau = 0.03, 0.01, 1, 1\n",
    "sims[name] = realisation.SimulationCMD(\n",
    "    cells=NCELLS,\n",
    "    sample=summary.loc[summary[\"donor_id\"] == name, \"cells\"].drop_duplicates().squeeze(),\n",
    "    eta=eta,\n",
    "    sigma=sigma,\n",
    "    mu=mu,\n",
    "    tau=tau,\n",
    "    age=age,\n",
    "    name=name,\n",
    "    seed=SEED,\n",
    ")\n",
    "\n",
    "name, age = 'KX001', 29\n",
    "eta, sigma, mu, tau = 0.03, 0.01, 1, 1.8\n",
    "sims[name] = realisation.SimulationCMD(\n",
    "    cells=NCELLS,\n",
    "    sample=summary.loc[summary[\"donor_id\"] == name, \"cells\"].drop_duplicates().squeeze(),\n",
    "    eta=eta,\n",
    "    sigma=sigma,\n",
    "    mu=mu,\n",
    "    tau=tau,\n",
    "    age=age,\n",
    "    name=name,\n",
    "    seed=SEED,\n",
    ")\n",
    "\n",
    "name, age = 'KX002', 38\n",
    "eta, sigma, mu, tau = 0.02, 0.01, 1, 2.6\n",
    "sims[name] = realisation.SimulationCMD(\n",
    "    cells=NCELLS,\n",
    "    sample=summary.loc[summary[\"donor_id\"] == name, \"cells\"].drop_duplicates().squeeze(),\n",
    "    eta=eta,\n",
    "    sigma=sigma,\n",
    "    mu=mu,\n",
    "    tau=tau,\n",
    "    age=age,\n",
    "    name=name,\n",
    "    seed=SEED,\n",
    ")\n",
    "\n",
    "name, age = 'SX001', 48\n",
    "eta, sigma, mu, tau = 0.03, 0.01, 1, 2.6\n",
    "sims[name] = realisation.SimulationCMD(\n",
    "    cells=NCELLS,\n",
    "    sample=summary.loc[summary[\"donor_id\"] == name, \"cells\"].drop_duplicates().squeeze(),\n",
    "    eta=eta,\n",
    "    sigma=sigma,\n",
    "    mu=mu,\n",
    "    tau=tau,\n",
    "    age=age,\n",
    "    name=name,\n",
    "    seed=SEED,\n",
    ")\n",
    "\n",
    "name, age = 'AX001', 63\n",
    "eta, sigma, mu, tau = 0.02, 0.01, 1, 3\n",
    "sims[name] = realisation.SimulationCMD(\n",
    "    cells=NCELLS,\n",
    "    sample=summary.loc[summary[\"donor_id\"] == name, \"cells\"].drop_duplicates().squeeze(),\n",
    "    eta=eta,\n",
    "    sigma=sigma,\n",
    "    mu=mu,\n",
    "    tau=tau,\n",
    "    age=age,\n",
    "    name=name,\n",
    "    seed=SEED,\n",
    ")\n",
    "\n",
    "name, age = 'KX008', 76 # this does not work, try changing the seed?\n",
    "eta, sigma, mu, tau = 0.06, 0.04, 16, 5\n",
    "sims[name] = realisation.SimulationCMD(\n",
    "    cells=NCELLS,\n",
    "    sample=summary.loc[summary[\"donor_id\"] == name, \"cells\"].drop_duplicates().squeeze(),\n",
    "    eta=eta,\n",
    "    sigma=sigma,\n",
    "    mu=mu,\n",
    "    tau=tau,\n",
    "    age=age,\n",
    "    name=name,\n",
    "    seed=SEED,\n",
    ")\n",
    "\n",
    "name, age = 'KX004', 77\n",
    "eta, sigma, mu, tau = 0.12, 0.04, 16, 1.4\n",
    "sims[name] = realisation.SimulationCMD(\n",
    "    cells=NCELLS,\n",
    "    sample=summary.loc[summary[\"donor_id\"] == name, \"cells\"].drop_duplicates().squeeze(),\n",
    "    eta=eta,\n",
    "    sigma=sigma,\n",
    "    mu=mu,\n",
    "    tau=tau,\n",
    "    age=age,\n",
    "    name=name,\n",
    "    seed=SEED,\n",
    ")\n",
    "\n",
    "name, age = 'KX003', 81\n",
    "eta, sigma, mu, tau = 0.08, 0.04, 23, 3\n",
    "sims[name] = realisation.SimulationCMD(\n",
    "    cells=NCELLS,\n",
    "    sample=summary.loc[summary[\"donor_id\"] == name, \"cells\"].drop_duplicates().squeeze(),\n",
    "    eta=eta,\n",
    "    sigma=sigma,\n",
    "    mu=mu,\n",
    "    tau=tau,\n",
    "    age=age,\n",
    "    name=name,\n",
    "    seed=26,\n",
    ")"
   ]
  },
  {
   "cell_type": "code",
   "execution_count": null,
   "id": "80de884d",
   "metadata": {},
   "outputs": [],
   "source": [
    "if RUN_SIMS:\n",
    "    for name, cmd in sims.items():\n",
    "        print(\"running sims for donor: \", name)\n",
    "        _ = subprocess.run(\n",
    "            cmd.cmd(f\"{PATH2HSC}/target/release/hsc\", f\"./mitchell/{name}\"),\n",
    "            shell=True, \n",
    "            check=True\n",
    "        )"
   ]
  },
  {
   "cell_type": "markdown",
   "id": "55989c4b",
   "metadata": {},
   "source": [
    "### Plot"
   ]
  },
  {
   "cell_type": "code",
   "execution_count": null,
   "id": "b7e552c2",
   "metadata": {
    "scrolled": false
   },
   "outputs": [],
   "source": [
    "for age, name in zip([0] + summary.age.unique().tolist(), summary.donor_id.unique()):\n",
    "    fig, ax = plt.subplots(1, 1, layout=\"constrained\", figsize=PLOT_OPTIONS.figsize)\n",
    "    \n",
    "    # 1/f^2 sampled predictions\n",
    "    normalisation_x = sfs_figures.ToCellFrequency(\n",
    "        sample_size=summary.loc[summary[\"donor_id\"] == name, \"cells\"].drop_duplicates().squeeze(),\n",
    "        to_one=False,\n",
    "    )\n",
    "    sfs_figures.plot_sfs_correction(\n",
    "        ax,\n",
    "        corrected_variants_one_over_1_squared[name],\n",
    "        normalise=True,\n",
    "        options=PLOT_OPTIONS,\n",
    "        normalise_x=normalisation_x,\n",
    "        linestyle=\"-\",\n",
    "        color=\"grey\",\n",
    "        label=r\"$1/f^2$ sampled\",\n",
    "        linewidth=2,\n",
    "    )\n",
    "    \n",
    "    # 1/f sampled predictions from Nate's simulations\n",
    "    one_over_f_csv = mapping.get(age)\n",
    "    if one_over_f_csv:\n",
    "        one_over_f = pd.read_csv(one_over_f_csv)\n",
    "        one_over_f.drop(index=one_over_f[one_over_f[\"_f\"] == 0.0].index, inplace=True)\n",
    "        sfs_one_over_f = {cell: muts for cell, muts in zip(\n",
    "            (one_over_f[\"_f\"] * normalisation_x.nb_cells).tolist(),\n",
    "            one_over_f[\"n_f\"].tolist(),\n",
    "        )}\n",
    "        sfs_figures.plot_sfs(\n",
    "            ax,\n",
    "            sfs_one_over_f,\n",
    "            normalise=True,\n",
    "            normalise_x=normalisation_x,\n",
    "            options=PLOT_OPTIONS,\n",
    "            color=\"grey\",\n",
    "            lw=2,\n",
    "            linestyle=\"--\",\n",
    "            label=r\"$1/f$ sampled\",\n",
    "        )\n",
    "        \n",
    "    # simulations\n",
    "    sfs_sims = realisation.load_all_sfs_by_age(Path(f\"mitchell/{name}/{sims[name].sample}cells/sfs\"))[sims[name].age][-1].sfs\n",
    "    sfs_figures.plot_sfs(\n",
    "        ax,\n",
    "        sfs_sims,\n",
    "        normalise=True,\n",
    "        normalise_x=normalisation_x,\n",
    "        options=PLOT_OPTIONS,\n",
    "        color=\"cyan\",\n",
    "        mew=2,\n",
    "        linestyle=\"\",\n",
    "        marker=\".\",\n",
    "        label=f\"simulation\",\n",
    "    )\n",
    "    \n",
    "    # mitchell's data\n",
    "    sfs_figures.plot_sfs(\n",
    "        ax,\n",
    "        mitchell_sfs[name][3],\n",
    "        normalise=True,\n",
    "        normalise_x=normalisation_x,\n",
    "        options=PLOT_OPTIONS,\n",
    "        color=\"purple\",\n",
    "        mew=2,\n",
    "        linestyle=\"\",\n",
    "        marker=\"x\",\n",
    "        label=f\"{name}, {age} years\",\n",
    "    )\n",
    "\n",
    "\n",
    "    ax.legend(\n",
    "        fontsize=\"small\",\n",
    "        loc=\"upper right\",\n",
    "        frameon=False,\n",
    "    )\n",
    "\n",
    "    if PLOT_OPTIONS.save:\n",
    "        fig.savefig(f\"./sfs_age{age}_{name}{PLOT_OPTIONS.extension}\")\n",
    "    fig.show()"
   ]
  }
 ],
 "metadata": {
  "kernelspec": {
   "display_name": "hsc-draft",
   "language": "python",
   "name": "hsc-draft"
  },
  "language_info": {
   "codemirror_mode": {
    "name": "ipython",
    "version": 3
   },
   "file_extension": ".py",
   "mimetype": "text/x-python",
   "name": "python",
   "nbconvert_exporter": "python",
   "pygments_lexer": "ipython3",
   "version": "3.11.4"
  }
 },
 "nbformat": 4,
 "nbformat_minor": 5
}
