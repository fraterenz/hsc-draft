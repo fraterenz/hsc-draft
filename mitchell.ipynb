{
 "cells": [
  {
   "cell_type": "markdown",
   "id": "c99eb63a",
   "metadata": {},
   "source": [
    "# Descriptive analysis of Mitchell's paper\n",
    "We plot the burden and the SFS for the data published in [Mitchell's et al. Nature 2022](https://www.nature.com/articles/s41586-022-04786-y).\n",
    "There are no simulations here."
   ]
  },
  {
   "cell_type": "code",
   "execution_count": null,
   "id": "013dfa7a-53c6-4347-869c-29f66ee18bc8",
   "metadata": {},
   "outputs": [],
   "source": [
    "%load_ext autoreload\n",
    "%autoreload 2"
   ]
  },
  {
   "cell_type": "code",
   "execution_count": null,
   "id": "ce19ffa6",
   "metadata": {},
   "outputs": [],
   "source": [
    "import matplotlib.pyplot as plt\n",
    "import numpy as np\n",
    "import pandas as pd\n",
    "import socket\n",
    "import seaborn as sns\n",
    "from pathlib import Path\n",
    "\n",
    "from hscpy import mitchell, realisation\n",
    "from hscpy.figures import sfs as sfs_figures\n",
    "from hscpy.figures import PlotOptions, simulations\n",
    "\n",
    "from futils import parse_version, snapshot\n",
    "\n",
    "NCELLS = 100_000\n",
    "\n",
    "SAVEFIG = True\n",
    "BIGLABELS = False\n",
    "FIGSIZE = [5, 3] if BIGLABELS else [6.4, 4.8]  # default matplotlib\n",
    "EXTENSION = \".svg\"\n",
    "PLOT_OPTIONS = PlotOptions(figsize=FIGSIZE, extension=EXTENSION, save=SAVEFIG)"
   ]
  },
  {
   "cell_type": "code",
   "execution_count": null,
   "id": "985e133e",
   "metadata": {},
   "outputs": [],
   "source": [
    "if socket.gethostname() == \"5X9ZYD3\":\n",
    "    PATH2MITCHELL = Path(\"/mnt/c/Users/terenz01/Documents/SwitchDrive/PhD/hsc\")\n",
    "elif socket.gethostname() == \"LAPTOP-CEKCHJ4C\":\n",
    "    PATH2MITCHELL = Path(\"/mnt/c/Users/fra_t/Documents/PhD/hsc\")\n",
    "else:\n",
    "    PATH2MITCHELL = Path(\"~\").expanduser()"
   ]
  },
  {
   "cell_type": "markdown",
   "id": "f788bd4b",
   "metadata": {
    "tags": []
   },
   "source": [
    "## Mitchell's data"
   ]
  },
  {
   "cell_type": "code",
   "execution_count": null,
   "id": "bf0282ac",
   "metadata": {},
   "outputs": [],
   "source": [
    "summary = mitchell.load_and_process_mitchell(\n",
    "    PATH2MITCHELL / \"Summary_cut.csv\", drop_donor_KX007=True\n",
    ")\n",
    "summary.dtypes"
   ]
  },
  {
   "cell_type": "code",
   "execution_count": null,
   "id": "19a2afe0",
   "metadata": {},
   "outputs": [],
   "source": [
    "print(summary.describe())\n",
    "print(f\"\\n\\ncell types: \\n{summary.cell_type.value_counts()}\")\n",
    "print(f\"\\n\\nsample types: \\n{summary.sample_type.value_counts()}\")\n",
    "print(f\"\\n\\ntimepoints: \\n{summary.timepoint.value_counts()}\")\n",
    "print(\n",
    "    f'\\n\\nages and cells: \\n{summary[[\"donor_id\", \"cells\", \"age\"]].drop_duplicates()}'\n",
    ")\n",
    "print(\n",
    "    f'\\n\\nmutations per donor: \\n{summary[[\"donor_id\", \"number_mutations\"]].groupby(\"donor_id\").sum()}'\n",
    ")"
   ]
  },
  {
   "cell_type": "code",
   "execution_count": null,
   "id": "3429f098",
   "metadata": {
    "tags": []
   },
   "outputs": [],
   "source": [
    "for i in summary.donor_id.unique():\n",
    "    fig, ax = plt.subplots(1, 1, tight_layout=True, figsize=(6, 4))\n",
    "    sns.histplot(\n",
    "        data=summary[summary.donor_id == i],\n",
    "        x=\"number_mutations\",\n",
    "        hue=\"donor_id\",\n",
    "        kde=True,\n",
    "        bins=50,\n",
    "        ax=ax,\n",
    "        stat=\"count\",\n",
    "    )\n",
    "    if PLOT_OPTIONS.save:\n",
    "        plt.savefig(f\"./{i}_burden{EXTENSION}\")\n",
    "    plt.show()"
   ]
  },
  {
   "cell_type": "code",
   "execution_count": null,
   "id": "aba9cabd-1658-432c-b97b-58f93c663fcd",
   "metadata": {},
   "outputs": [],
   "source": [
    "descr = (\n",
    "    summary.loc[summary.age == 0, [\"donor_id\", \"number_mutations\"]]\n",
    "    .groupby(\"donor_id\")\n",
    "    .describe()\n",
    ")\n",
    "descr"
   ]
  },
  {
   "cell_type": "code",
   "execution_count": null,
   "id": "09b5d81e-2695-47ed-b488-0d24aac691f7",
   "metadata": {},
   "outputs": [],
   "source": [
    "fig, ax = plt.subplots(1, 1, tight_layout=True, figsize=FIGSIZE)\n",
    "sns.histplot(\n",
    "    data=summary,\n",
    "    x=\"number_mutations\",\n",
    "    hue=\"donor_id\",\n",
    "    kde=True,\n",
    "    binwidth=10,\n",
    "    ax=ax,\n",
    "    stat=\"percent\",\n",
    ")\n",
    "sns.move_legend(\n",
    "    ax,\n",
    "    ncol=2,\n",
    "    # bbox_to_anchor=(1.01, 1),\n",
    "    loc=\"upper right\",\n",
    "    frameon=False,\n",
    "    fontsize=\"small\",\n",
    ")\n",
    "if PLOT_OPTIONS.save:\n",
    "    plt.savefig(f\"./mitchell_burden{EXTENSION}\")\n",
    "plt.show()"
   ]
  },
  {
   "cell_type": "code",
   "execution_count": null,
   "id": "fdc763cd-16f3-45ce-995b-e98209295eb4",
   "metadata": {},
   "outputs": [],
   "source": [
    "descr[(\"number_mutations\", \"mean\")].mean() / (2 * np.log(200_000 - 2))"
   ]
  },
  {
   "cell_type": "code",
   "execution_count": null,
   "id": "17991679-ff17-43d3-8d02-2f6d709e1960",
   "metadata": {},
   "outputs": [],
   "source": [
    "descr[(\"number_mutations\", \"std\")] ** 2"
   ]
  },
  {
   "cell_type": "markdown",
   "id": "5b8200aa",
   "metadata": {},
   "source": [
    "## Plot the SFS with the correction for sampling"
   ]
  },
  {
   "cell_type": "code",
   "execution_count": null,
   "id": "70325d8b-ce8b-484b-9d07-7d4728f8c94b",
   "metadata": {},
   "outputs": [],
   "source": [
    "%%time\n",
    "# compute the correction for the sims' SFS with sampled distributions from\n",
    "# https://www.biorxiv.org/content/10.1101/2022.11.07.515470v2\n",
    "corrected_variants_one_over_1_squared = dict()\n",
    "for donor in (\n",
    "    summary[[\"donor_id\", \"age\", \"cells\"]]\n",
    "    .drop_duplicates()\n",
    "    .sort_values(by=\"age\", ascending=False)\n",
    "    .itertuples()\n",
    "):\n",
    "    print(\n",
    "        f\"apply sampling correction to SFS of donor {donor.donor_id} with age {donor.age}\"\n",
    "    )\n",
    "    corrected_variants_one_over_1_squared[\n",
    "        donor.donor_id\n",
    "    ] = realisation.compute_variants(\n",
    "        realisation.Correction.ONE_OVER_F_SQUARED,\n",
    "        pop_size=NCELLS,\n",
    "        sample_size=donor.cells,\n",
    "    )"
   ]
  },
  {
   "cell_type": "code",
   "execution_count": null,
   "id": "76ae20c7",
   "metadata": {},
   "outputs": [],
   "source": [
    "%%time\n",
    "# compute SFS from Mitchell's data\n",
    "names_mitchell = summary.donor_id.unique()\n",
    "ages_mitchell = summary.age.unique().tolist()\n",
    "# there are two donors with the same age 0\n",
    "assert len(ages_mitchell) + 1 == len(names_mitchell)\n",
    "mitchell_sfs = {\n",
    "    donor: mitchell.sfs_donor_mitchell(donor, age, PATH2MITCHELL, remove_indels=False)\n",
    "    for age, donor in zip([0] + ages_mitchell, names_mitchell)\n",
    "}"
   ]
  },
  {
   "cell_type": "code",
   "execution_count": null,
   "id": "b7e552c2",
   "metadata": {
    "scrolled": true
   },
   "outputs": [],
   "source": [
    "for age, name in zip([0] + summary.age.unique().tolist(), summary.donor_id.unique()):\n",
    "    normalisation_x = sfs_figures.ToCellFrequency(\n",
    "        sample_size=summary.loc[summary[\"donor_id\"] == name, \"cells\"]\n",
    "        .drop_duplicates()\n",
    "        .squeeze(),\n",
    "        to_one=True,\n",
    "    )\n",
    "    fig, ax = plt.subplots(1, 1, layout=\"constrained\", figsize=PLOT_OPTIONS.figsize)\n",
    "    sfs_figures.plot_sfs_correction(\n",
    "        ax,\n",
    "        corrected_variants_one_over_1_squared[name],\n",
    "        normalise=True,\n",
    "        options=PLOT_OPTIONS,\n",
    "        normalise_x=normalisation_x,\n",
    "        linestyle=\"-\",\n",
    "        color=\"grey\",\n",
    "        label=r\"$1/f^2$ sampled\",\n",
    "        linewidth=2,\n",
    "    )\n",
    "\n",
    "    sfs_figures.plot_sfs(\n",
    "        ax,\n",
    "        mitchell_sfs[name][3],\n",
    "        normalise=True,\n",
    "        normalise_x=normalisation_x,\n",
    "        options=PLOT_OPTIONS,\n",
    "        color=\"purple\",\n",
    "        mew=2,\n",
    "        linestyle=\"\",\n",
    "        marker=\"x\",\n",
    "        label=f\"{name}, {age} years\",\n",
    "    )\n",
    "\n",
    "    ax.legend(\n",
    "        fontsize=\"medium\",\n",
    "        loc=\"upper right\",\n",
    "        frameon=False,\n",
    "    )\n",
    "\n",
    "    if PLOT_OPTIONS.save:\n",
    "        fig.savefig(f\"./sfs_age{age}_{name}{PLOT_OPTIONS.extension}\")\n",
    "    fig.show()"
   ]
  },
  {
   "cell_type": "code",
   "execution_count": null,
   "id": "5a7ced91",
   "metadata": {
    "scrolled": true
   },
   "outputs": [],
   "source": [
    "def plot_sfs_multiple_data(names):\n",
    "    fig, ax = plt.subplots(1, 1, layout=\"constrained\", figsize=PLOT_OPTIONS.figsize)\n",
    "    for name, ls, mk in zip(names, (\"-\", \"--\", \"-.\"), ('x', 'o', '.')):\n",
    "        normalisation_x = sfs_figures.ToCellFrequency(\n",
    "            sample_size=summary.loc[summary[\"donor_id\"] == name, \"cells\"]\n",
    "            .drop_duplicates()\n",
    "            .squeeze(),\n",
    "            to_one=True,\n",
    "        )\n",
    "\n",
    "        sfs_figures.plot_sfs(\n",
    "            ax,\n",
    "            mitchell_sfs[name][3],\n",
    "            normalise=True,\n",
    "            normalise_x=normalisation_x,\n",
    "            options=PLOT_OPTIONS,\n",
    "            color=\"purple\",\n",
    "            mew=2,\n",
    "            linestyle=\"\",\n",
    "            marker=mk,\n",
    "            label=\"CB001\",\n",
    "        )\n",
    "\n",
    "        sfs_figures.plot_sfs_correction(\n",
    "            ax,\n",
    "            corrected_variants_one_over_1_squared[name],\n",
    "            normalise=True,\n",
    "            options=PLOT_OPTIONS,\n",
    "            normalise_x=normalisation_x,\n",
    "            linestyle=ls,\n",
    "            color=\"grey\",\n",
    "            label=r\"$1/f^2$ sampled\",\n",
    "            linewidth=2,\n",
    "        )\n",
    "    return fig, ax\n",
    "\n",
    "names = ['KX008', 'KX004', 'KX003']\n",
    "fig, ax = plot_sfs_multiple_data(names)\n",
    "# ax.set_ylim([10**(-4), 1.3])\n",
    "# ax.legend()\n",
    "fig.savefig(\"old_sfs.png\")\n",
    "plt.show()"
   ]
  }
 ],
 "metadata": {
  "kernelspec": {
   "display_name": "hsc-draft",
   "language": "python",
   "name": "hsc-draft"
  },
  "language_info": {
   "codemirror_mode": {
    "name": "ipython",
    "version": 3
   },
   "file_extension": ".py",
   "mimetype": "text/x-python",
   "name": "python",
   "nbconvert_exporter": "python",
   "pygments_lexer": "ipython3",
   "version": "3.11.4"
  }
 },
 "nbformat": 4,
 "nbformat_minor": 5
}
