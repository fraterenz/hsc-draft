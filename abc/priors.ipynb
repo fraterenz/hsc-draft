{
 "cells": [
  {
   "cell_type": "code",
   "execution_count": null,
   "id": "a5dd54a3",
   "metadata": {},
   "outputs": [],
   "source": [
    "%load_ext autoreload\n",
    "%autoreload 2"
   ]
  },
  {
   "cell_type": "code",
   "execution_count": null,
   "id": "adedb63f",
   "metadata": {},
   "outputs": [],
   "source": [
    "import matplotlib.pyplot as plt\n",
    "import numpy as np\n",
    "import pandas as pd\n",
    "import seaborn as sns\n",
    "from pathlib import Path\n",
    "\n",
    "from hscpy import parameters\n",
    "from futils import parse_version\n",
    "\n",
    "RUNS = 65_001\n",
    "ABC_4D = True  # infer tau from abc (4d abc)\n",
    "PATH2BIN = Path(\"~\").expanduser() / \"hsc/target/release\"\n",
    "assert PATH2BIN.is_dir()"
   ]
  },
  {
   "cell_type": "code",
   "execution_count": null,
   "id": "e01bb391",
   "metadata": {},
   "outputs": [],
   "source": [
    "%%bash -s \"$PATH2BIN\" --out version\n",
    "$1/hsc --version"
   ]
  },
  {
   "cell_type": "code",
   "execution_count": null,
   "id": "88a0cc42",
   "metadata": {},
   "outputs": [],
   "source": [
    "VERSION = parse_version(version)\n",
    "PATH2SAVE = Path(f\"/data/scratch/hfx923/hsc-draft/{VERSION}\")"
   ]
  },
  {
   "cell_type": "code",
   "execution_count": null,
   "id": "cd0a58e2",
   "metadata": {},
   "outputs": [],
   "source": [
    "# RANGES!!\n",
    "\"\"\"\n",
    "Up-to-date ranges Feb 13:\n",
    "    s (i.e. old s/tau) : 0.01 to 0.4\n",
    "    sigma (i.e. old sigma/tau) : 0.001 to 0.1\n",
    "    mu: 0.1 to 30\n",
    "    tau: 0.1 to 10\n",
    "    N: 25'000 to 900'000\n",
    "\"\"\"\n",
    "cells = np.ones(RUNS, dtype=int) * 100_000\n",
    "rng = np.random.default_rng(seed=42)\n",
    "\n",
    "if ABC_4D:\n",
    "    taus = rng.uniform(0.1, 10, RUNS)\n",
    "else:\n",
    "    taus = np.ones(RUNS, dtype=int)\n",
    "mu0s = rng.uniform(0.1, 30, RUNS)\n",
    "# eta\n",
    "etas = rng.uniform(0.001, 0.4, RUNS)\n",
    "# sigma\n",
    "sigmas = rng.uniform(0.001, 0.1, RUNS)\n",
    "\n",
    "assert (etas * taus).max() < 4\n",
    "assert (sigmas * taus).max() < 1"
   ]
  },
  {
   "cell_type": "code",
   "execution_count": null,
   "id": "e7114331",
   "metadata": {
    "scrolled": false
   },
   "outputs": [],
   "source": [
    "plt.hist(\n",
    "    parameters.compute_m_background_exp(),\n",
    "    label=\"mu background\",\n",
    "    bins=100,\n",
    ")\n",
    "plt.legend()\n",
    "plt.show()\n",
    "\n",
    "sns.pairplot(\n",
    "    pd.DataFrame(\n",
    "        [mu0s, taus, etas, sigmas, cells], index=[\"mu\", \"tau\", \"eta\", \"sigma\", \"N\"]\n",
    "    ).T\n",
    ")\n",
    "plt.show()"
   ]
  },
  {
   "cell_type": "code",
   "execution_count": null,
   "id": "42beda81",
   "metadata": {},
   "outputs": [],
   "source": [
    "with open(\"parameters.txt\", \"w\") as f:\n",
    "    for tau, mu, mean, std, n in np.column_stack((taus, mu0s, etas, sigmas, cells)):\n",
    "        c = int(n)\n",
    "        f.write(\n",
    "            f\"-c {c} -y 82 -r 1 --sequential --mean-std {parameters.compute_s_per_division_from_s_per_year(mean, tau)} {parameters.compute_std_per_division_from_std_per_year(std, tau)} --subsamples=216,390,407,380,362,361,367,451,328 --snapshots=0,0,29,38,48,63,76,77,81 {PATH2SAVE} exp-moran --tau-exp {parameters.tau_exp(c)} --mu-exp {mu} --mu-division-exp 1.14 --mu-background-exp {parameters.compute_m_background_exp()} --tau {tau} --mu {mu} --mu-division 1.14 --mu-background {parameters.m_background(tau)}\\n\"\n",
    "        )"
   ]
  },
  {
   "cell_type": "code",
   "execution_count": null,
   "id": "0e7534bd",
   "metadata": {},
   "outputs": [],
   "source": [
    "%%bash\n",
    "head parameters.txt"
   ]
  },
  {
   "cell_type": "code",
   "execution_count": null,
   "id": "825d424c",
   "metadata": {},
   "outputs": [],
   "source": [
    "%%bash --out runs\n",
    "wc -l parameters.txt"
   ]
  },
  {
   "cell_type": "code",
   "execution_count": null,
   "id": "77f28ced",
   "metadata": {},
   "outputs": [],
   "source": [
    "runs = int(runs.split(\" \")[0])\n",
    "assert RUNS == runs, f\"{RUNS} vs {runs}\""
   ]
  }
 ],
 "metadata": {
  "kernelspec": {
   "display_name": "hsc-draft",
   "language": "python",
   "name": "hsc-draft"
  },
  "language_info": {
   "codemirror_mode": {
    "name": "ipython",
    "version": 3
   },
   "file_extension": ".py",
   "mimetype": "text/x-python",
   "name": "python",
   "nbconvert_exporter": "python",
   "pygments_lexer": "ipython3",
   "version": "3.9.7"
  }
 },
 "nbformat": 4,
 "nbformat_minor": 5
}
