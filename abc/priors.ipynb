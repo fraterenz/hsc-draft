{
 "cells": [
  {
   "cell_type": "code",
   "execution_count": null,
   "id": "adedb63f",
   "metadata": {},
   "outputs": [],
   "source": [
    "import matplotlib.pyplot as plt\n",
    "import numpy as np\n",
    "import pandas as pd\n",
    "import seaborn as sns\n",
    "\n",
    "RUNS = 65_001\n",
    "# avg between 48.2 and 48.8\n",
    "BURDEN_BABIES = 48.5\n",
    "# mitchell inference (calibration)\n",
    "BURDEN_PER_YEAR = 14\n",
    "BURDEN_PER_DIVISION = 1.2\n",
    "ABC_4D = True  # infer tau from abc (4d abc)"
   ]
  },
  {
   "cell_type": "code",
   "execution_count": null,
   "id": "a3ec7008",
   "metadata": {},
   "outputs": [],
   "source": [
    "# RANGES!!\n",
    "\"\"\"\n",
    "as of 23/01/2024 the ranges are: TO BE determined??\n",
    "    s (i.e. old s/tau) : 0.01 to 0.2\n",
    "    sigma (i.e. old sigma/tau) : 0.001 to 0.05\n",
    "    mu: 0.1 to 30\n",
    "    tau: 0.1 to 10\n",
    "    N: 25'000 to 900'000 # for now we fix this to 10^5\n",
    "\"\"\"\n",
    "cells = np.ones(RUNS, dtype=int) * 100_000\n",
    "rng = np.random.default_rng(seed=42)\n",
    "\n",
    "if ABC_4D:\n",
    "    taus = rng.uniform(0.1, 10, RUNS)\n",
    "else:\n",
    "    taus = np.ones(RUNS, dtype=int)\n",
    "mu0s = rng.uniform(0.1, 30, RUNS)\n",
    "s_means = rng.uniform(0.01, 0.2, RUNS)\n",
    "s_stds = rng.uniform(0.001, 0.05, RUNS)\n",
    "\n",
    "assert (s_means * taus).max() < 2\n",
    "assert (s_stds * taus).max() < 0.5"
   ]
  },
  {
   "cell_type": "code",
   "execution_count": null,
   "id": "8b8b8a69",
   "metadata": {},
   "outputs": [],
   "source": [
    "def compute_m_exp(cells: int) -> float:\n",
    "    return BURDEN_BABIES / (2 * np.log((cells + 1)/2))\n",
    "\n",
    "def compute_m_background(tau: float) -> float:\n",
    "    # 2 because we assume no asymmetric divisions\n",
    "    return BURDEN_PER_YEAR - 2 * BURDEN_PER_DIVISION / tau\n",
    "\n",
    "def compute_std_per_division_from_std_per_year(std_per_year: float, tau: float) -> float:\n",
    "    return std_per_year * tau\n",
    "\n",
    "def compute_s_per_division_from_s_per_year(s_per_year: float, tau: float) -> float:\n",
    "    return s_per_year * tau"
   ]
  },
  {
   "cell_type": "code",
   "execution_count": null,
   "id": "e7114331",
   "metadata": {
    "scrolled": false
   },
   "outputs": [],
   "source": [
    "plt.hist([compute_m_background(tau) for tau in taus], label=\"mu background\", bins=100)\n",
    "plt.legend()\n",
    "plt.show()\n",
    "\n",
    "sns.pairplot(pd.DataFrame([mu0s, taus, s_means, s_stds, cells], index=[\"mu\", \"tau\",\"s\", \"std\", \"N\"]).T)\n",
    "plt.show()"
   ]
  },
  {
   "cell_type": "code",
   "execution_count": null,
   "id": "42beda81",
   "metadata": {},
   "outputs": [],
   "source": [
    "with open(\"parameters.txt\", \"w\") as f:\n",
    "    for (tau, mu, mean, std, n) in np.column_stack((taus, mu0s, s_means, s_stds, cells)):\n",
    "        c = int(n)\n",
    "        f.write(\n",
    "            f\"-c {c} -y 82 -r 1 --tau {tau} --mu0 {mu} --mu-exp {compute_m_exp(c)} --mu-division 1.2 --mu-background {compute_m_background(tau)} --mean-std {compute_s_per_division_from_s_per_year(mean, tau)} {compute_std_per_division_from_std_per_year(std, tau)}\\n\"\n",
    "        )"
   ]
  },
  {
   "cell_type": "code",
   "execution_count": null,
   "id": "0e7534bd",
   "metadata": {},
   "outputs": [],
   "source": [
    "%%bash\n",
    "head parameters.txt"
   ]
  },
  {
   "cell_type": "code",
   "execution_count": null,
   "id": "825d424c",
   "metadata": {},
   "outputs": [],
   "source": [
    "%%bash --out runs\n",
    "wc -l parameters.txt"
   ]
  },
  {
   "cell_type": "code",
   "execution_count": null,
   "id": "77f28ced",
   "metadata": {},
   "outputs": [],
   "source": [
    "runs = int(runs.split(\" \")[0])\n",
    "assert RUNS == runs, f\"{RUNS} vs {runs}\""
   ]
  }
 ],
 "metadata": {
  "kernelspec": {
   "display_name": "hsc-draft",
   "language": "python",
   "name": "hsc-draft"
  },
  "language_info": {
   "codemirror_mode": {
    "name": "ipython",
    "version": 3
   },
   "file_extension": ".py",
   "mimetype": "text/x-python",
   "name": "python",
   "nbconvert_exporter": "python",
   "pygments_lexer": "ipython3",
   "version": "3.11.4"
  }
 },
 "nbformat": 4,
 "nbformat_minor": 5
}
