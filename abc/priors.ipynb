{
 "cells": [
  {
   "cell_type": "code",
   "execution_count": null,
   "id": "adedb63f",
   "metadata": {},
   "outputs": [],
   "source": [
    "import matplotlib.pyplot as plt\n",
    "import numpy as np\n",
    "\n",
    "RUNS = 100_000\n",
    "# avg between 48.2 and 48.8\n",
    "BURDEN_BABIES = 48.5\n",
    "CELLS = 100_000\n",
    "# mitchell inference (calibration)\n",
    "BURDEN_PER_YEAR = 14\n",
    "BURDEN_PER_DIVISION = 1.2\n",
    "ABC_4D = False  # infer tau from abc (4d abc)"
   ]
  },
  {
   "cell_type": "code",
   "execution_count": null,
   "id": "8b8b8a69",
   "metadata": {},
   "outputs": [],
   "source": [
    "def compute_m_exp(cells: int) -> float:\n",
    "    # a 2 is missing because in rust we divide by 2\n",
    "    return 48.5 / (np.log((cells + 1)/2))\n",
    "\n",
    "def compute_m_background(tau: float) -> float:\n",
    "    # 2 because we assume no asymmetric divisions\n",
    "    return BURDEN_PER_YEAR - 2 * tau * BURDEN_PER_DIVISION"
   ]
  },
  {
   "cell_type": "code",
   "execution_count": null,
   "id": "e7114331",
   "metadata": {
    "scrolled": false
   },
   "outputs": [],
   "source": [
    "rng = np.random.default_rng(seed=42)\n",
    "\n",
    "if ABC_4D:\n",
    "    taus = rng.uniform(0.3, 5, RUNS)\n",
    "else:\n",
    "    taus = np.ones(RUNS, dtype=int)\n",
    "plt.hist(taus, label=\"tau\", bins=100)\n",
    "plt.legend()\n",
    "plt.show()\n",
    "\n",
    "mu0s = rng.uniform(0.1, 20, RUNS)\n",
    "plt.hist(mu0s, label=\"mu\", bins=100)\n",
    "plt.legend()\n",
    "plt.show()\n",
    "\n",
    "s_means = rng.uniform(0.01, 0.4, RUNS)\n",
    "plt.hist(s_means, label=\"mean\", bins=100)\n",
    "plt.legend()\n",
    "plt.show()\n",
    "\n",
    "s_stds = rng.uniform(0.005, 0.1, RUNS)\n",
    "plt.hist(s_stds, label=\"std\", bins=100)\n",
    "plt.legend()\n",
    "plt.show()\n",
    "\n",
    "plt.hist([compute_m_background(tau) for tau in taus], label=\"mu background\", bins=100)\n",
    "plt.legend()\n",
    "plt.show()"
   ]
  },
  {
   "cell_type": "code",
   "execution_count": null,
   "id": "48882852",
   "metadata": {},
   "outputs": [],
   "source": [
    "plt.hist(np.column_stack((taus, s_stds))[:, 1])"
   ]
  },
  {
   "cell_type": "code",
   "execution_count": null,
   "id": "42beda81",
   "metadata": {},
   "outputs": [],
   "source": [
    "with open(\"parameters.txt\", \"w\") as f:\n",
    "    for (tau, mu, mean, std) in np.column_stack((taus, mu0s, s_means, s_stds)):\n",
    "        f.write(\n",
    "            f\"-c {CELLS} -y 82 -r 1 --tau {tau} --mu0 {mu} --mu-exp {compute_m_exp(CELLS)} --mu-division 1.2 --mu-background {compute_m_background(tau)} --mean-std {mean} {std}\\n\"\n",
    "        )"
   ]
  },
  {
   "cell_type": "code",
   "execution_count": null,
   "id": "0e7534bd",
   "metadata": {},
   "outputs": [],
   "source": [
    "%%bash\n",
    "head parameters.txt"
   ]
  },
  {
   "cell_type": "code",
   "execution_count": null,
   "id": "825d424c",
   "metadata": {},
   "outputs": [],
   "source": [
    "%%bash --out runs\n",
    "wc -l parameters.txt"
   ]
  },
  {
   "cell_type": "code",
   "execution_count": null,
   "id": "fccb65b3",
   "metadata": {},
   "outputs": [],
   "source": [
    "runs = int(runs.split(\" \")[0])\n",
    "assert RUNS == runs, f\"{RUNS} vs {runs}\""
   ]
  }
 ],
 "metadata": {
  "kernelspec": {
   "display_name": "hsc-draft",
   "language": "python",
   "name": "hsc-draft"
  },
  "language_info": {
   "codemirror_mode": {
    "name": "ipython",
    "version": 3
   },
   "file_extension": ".py",
   "mimetype": "text/x-python",
   "name": "python",
   "nbconvert_exporter": "python",
   "pygments_lexer": "ipython3",
   "version": "3.11.4"
  }
 },
 "nbformat": 4,
 "nbformat_minor": 5
}
