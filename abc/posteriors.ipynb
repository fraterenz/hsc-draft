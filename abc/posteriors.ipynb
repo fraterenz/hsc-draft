{
 "cells": [
  {
   "cell_type": "code",
   "execution_count": null,
   "id": "8b0ca6b9-0ad3-4c80-8b8e-82921c1f91c4",
   "metadata": {},
   "outputs": [],
   "source": [
    "%load_ext autoreload\n",
    "%autoreload 2"
   ]
  },
  {
   "cell_type": "code",
   "execution_count": null,
   "id": "8e1c9998-173c-4494-a6c8-4600ee4104be",
   "metadata": {},
   "outputs": [],
   "source": [
    "import random\n",
    "import numpy as np\n",
    "import socket\n",
    "import pandas as pd\n",
    "import seaborn as sns\n",
    "import matplotlib.pyplot as plt\n",
    "from scipy import stats\n",
    "from matplotlib import colors\n",
    "from datetime import datetime\n",
    "from pathlib import Path\n",
    "from random import choices\n",
    "from typing import Union, List\n",
    "from futils import parse_version, snapshot\n",
    "from hscpy.figures import PlotOptions\n",
    "from hscpy.figures import abc as abc_fig\n",
    "from hscpy.figures import sfs as sfs_fig\n",
    "from hscpy import realisation, mitchell, abc, parse_path2folder_xdoty_years, variant\n",
    "\n",
    "PATH2BIN = Path(\"~\").expanduser() / \"hsc/target/release\"\n",
    "assert PATH2BIN.is_dir()"
   ]
  },
  {
   "cell_type": "code",
   "execution_count": null,
   "id": "236ccb3a-881b-45a2-9d40-64f425a0eaf4",
   "metadata": {},
   "outputs": [],
   "source": [
    "%%bash -s \"$PATH2BIN\" --out version\n",
    "$1/hsc --version"
   ]
  },
  {
   "cell_type": "code",
   "execution_count": null,
   "id": "370b6c11-d170-4ffa-a999-13b67704a53b",
   "metadata": {},
   "outputs": [],
   "source": [
    "USE_SCRATCH = True\n",
    "SAVEFIG = True\n",
    "SHOW_PRIORS = True\n",
    "LATEST = True\n",
    "\n",
    "# the higher, the less precise and thus the more runs\n",
    "QUANTILE, PROPORTION_RUNS_DISCARDED = 0.26, 0.2\n",
    "\n",
    "options = PlotOptions(figsize=(7, 6), extension=\"svg\", save=SAVEFIG)"
   ]
  },
  {
   "cell_type": "code",
   "execution_count": null,
   "id": "2813d27f-0a2f-4794-96e1-66536fe6df1c",
   "metadata": {},
   "outputs": [],
   "source": [
    "if LATEST:\n",
    "    VERSION = parse_version(version)\n",
    "else:\n",
    "    VERSION = \"v2.0.0\"\n",
    "PATH2SAVE = Path(f\"./{VERSION}\")\n",
    "\n",
    "print(\"Running hsc with version:\", VERSION)\n",
    "\n",
    "if USE_SCRATCH:\n",
    "    PATH2SIMS = Path(\"/data/scratch\")\n",
    "else:\n",
    "    PATH2SIMS = Path(\"/data/home\")\n",
    "PATH2SIMS /= f\"hfx923/hsc-draft/{VERSION}\"\n",
    "\n",
    "if socket.gethostname() == \"5X9ZYD3\":\n",
    "    PATH2MITCHELL = Path(\"/mnt/c/Users/terenz01/Documents/SwitchDrive/PhD/hsc\")\n",
    "elif socket.gethostname() == \"LAPTOP-CEKCHJ4C\":\n",
    "    PATH2MITCHELL = Path(\"/mnt/c/Users/fra_t/Documents/PhD/hsc\")\n",
    "else:\n",
    "    PATH2MITCHELL = Path(\"~\").expanduser()"
   ]
  },
  {
   "cell_type": "code",
   "execution_count": null,
   "id": "afda3e86",
   "metadata": {},
   "outputs": [],
   "source": [
    "# 1. we dont use summary `Summary_cut.csv` because\n",
    "#    it contains errors (i.e. duplicated and missing entries)\n",
    "# 2. we dont use donor CB001 because we already have CB002 at age 0\n",
    "# 3. we dont use donor KX007 because the genotype matrix is wrong,\n",
    "#    they have uploded twice the same donor\n",
    "donors = pd.DataFrame.from_records(\n",
    "    [\n",
    "        {\"name\": \"CB002\", \"age\": 0,  \"cells\": 390, \"clones\": 0},\n",
    "        {\"name\": \"KX001\", \"age\": 29, \"cells\": 407, \"clones\": 0},\n",
    "        {\"name\": \"KX002\", \"age\": 38, \"cells\": 380, \"clones\": 1},\n",
    "        {\"name\": \"SX001\", \"age\": 48, \"cells\": 362, \"clones\": 0},\n",
    "        {\"name\": \"AX001\", \"age\": 63, \"cells\": 361, \"clones\": 1},\n",
    "        {\"name\": \"KX008\", \"age\": 76, \"cells\": 367, \"clones\": 12},\n",
    "        {\"name\": \"KX004\", \"age\": 77, \"cells\": 451, \"clones\": 15},\n",
    "        {\"name\": \"KX003\", \"age\": 81, \"cells\": 343, \"clones\": 13}, # TODO change to 328 cells\n",
    "    ]\n",
    ")\n",
    "donors"
   ]
  },
  {
   "cell_type": "markdown",
   "id": "63ca8bcd",
   "metadata": {},
   "source": [
    "# Load simualted data both SFS and variant fractions"
   ]
  },
  {
   "cell_type": "markdown",
   "id": "53e35139-66eb-4dfd-a454-d103966cf175",
   "metadata": {},
   "source": [
    "## Remove runs\n",
    "Remove all the runs that didn't finish running. This is required because we load runs in a numpy array with fixed size."
   ]
  },
  {
   "cell_type": "code",
   "execution_count": null,
   "id": "dea8fe30",
   "metadata": {},
   "outputs": [],
   "source": [
    "def files2remove(years: List[int], cells: List[int]) -> List[str]:\n",
    "    assert len(years) == len(cells)\n",
    "    \n",
    "    paths = [\n",
    "        Path(f\"{PATH2SIMS}/{cell}cells/sfs/{year}dot0years\")\n",
    "        for year, cell in zip(years, cells)\n",
    "    ]\n",
    "        \n",
    "    files = [file.stem for path in paths for file in path.iterdir()]\n",
    "    files2remove = {file for file in set(files) if files.count(file) < len(donors.age.tolist())}\n",
    "    print(f\"{len(files2remove)} files to remove\")\n",
    "    return files2remove"
   ]
  },
  {
   "cell_type": "code",
   "execution_count": null,
   "id": "4c1550e9",
   "metadata": {},
   "outputs": [],
   "source": [
    "%%time\n",
    "runs2remove = files2remove(\n",
    "    years=donors.age.tolist(), \n",
    "    cells=donors.cells.tolist(),\n",
    ")"
   ]
  },
  {
   "cell_type": "code",
   "execution_count": null,
   "id": "4ef7d8a9",
   "metadata": {},
   "outputs": [],
   "source": [
    "%%time\n",
    "for r in donors[[\"age\", \"cells\"]].itertuples():\n",
    "    for f in runs2remove:\n",
    "        myf = f\"{PATH2SIMS}/{r.cells}cells/sfs/{r.age}dot0years/{f}\"\n",
    "        try:\n",
    "            Path(myf).with_suffix(\".json\").unlink()\n",
    "        except FileNotFoundError:\n",
    "            pass\n",
    "        try:\n",
    "            Path(myf.replace(\"sfs\", \"variant_fraction\")).with_suffix(\".csv\").unlink()\n",
    "        except FileNotFoundError:\n",
    "            pass"
   ]
  },
  {
   "cell_type": "markdown",
   "id": "1b1e4efe",
   "metadata": {},
   "source": [
    "## Load data"
   ]
  },
  {
   "cell_type": "code",
   "execution_count": null,
   "id": "00be57a8",
   "metadata": {},
   "outputs": [],
   "source": [
    "%%time\n",
    "sfs_sims = dict()\n",
    "counts_sims = dict()\n",
    "\n",
    "for r in donors[[\"name\", \"age\", \"cells\"]].itertuples():\n",
    "    print(f\"\\tloading sims SFS for donor {r.name} with {r.cells} cells\")\n",
    "    path2sfs = Path(PATH2SIMS / f\"{r.cells}cells/sfs/\")\n",
    "    sfs_sims.update(realisation.load_all_sfs_by_age(path2sfs))\n",
    "    \n",
    "    print(f\"\\tloading sims variant counts for donor {r.name} with {r.cells} cells\")\n",
    "    counts_sims.update(variant.load_all_detected_var_counts_by_age(\n",
    "        PATH2SIMS / f\"{r.cells}cells/variant_fraction\", 0.01\n",
    "    ))"
   ]
  },
  {
   "cell_type": "code",
   "execution_count": null,
   "id": "174ab196",
   "metadata": {},
   "outputs": [],
   "source": [
    "counts = variant.variant_counts_detected_df(counts_sims)\n",
    "fig, ax = plt.subplots(1, 1)\n",
    "sns.lineplot(\n",
    "    counts,\n",
    "    x=\"age\",\n",
    "    y=\"variant counts detected\",\n",
    "    errorbar=lambda x: (np.min(x), np.max(x)),\n",
    "    ax=ax,\n",
    "    label=\"min-max\",\n",
    ")\n",
    "sns.lineplot(\n",
    "    counts,\n",
    "    x=\"age\",\n",
    "    y=\"variant counts detected\",\n",
    "    errorbar=\"sd\",\n",
    "    ax=ax,\n",
    "    color=\"orange\",\n",
    "    label=\"std\",\n",
    ")\n",
    "ax.legend()\n",
    "plt.show()\n",
    "print(counts[[\"variant counts detected\", \"age\"]].groupby(\"age\").describe())"
   ]
  },
  {
   "cell_type": "markdown",
   "id": "559bd040-792b-401d-a86d-cdd00453fbb8",
   "metadata": {},
   "source": [
    "# Run ABC on the real data\n",
    "\n",
    "## Load the data from Mitchell's paper\n",
    "We have excluded two donors from the ABC:\n",
    "1. exclude KX007 bc they have uploded twice the same donor\n",
    "3. exclude CB001 bc it maps to to the same timepoint as CB002 (same age 0)"
   ]
  },
  {
   "cell_type": "code",
   "execution_count": null,
   "id": "f775c641-05f0-4fca-a65c-598b8057c19a",
   "metadata": {},
   "outputs": [],
   "source": [
    "%%time\n",
    "target_sfs = {\n",
    "    r.age: mitchell.sfs_donor_mitchell(r.name, r.age, PATH2MITCHELL, remove_indels=False)\n",
    "    for r in donors[[\"name\", \"age\"]].itertuples()\n",
    "}\n",
    "# TODO: rm comment\n",
    "# assert [ele[2] for ele in target_sfs.values()] == donors.cells.tolist(), \"cells found in genotype matrices do not match the extected nb of cells\""
   ]
  },
  {
   "cell_type": "markdown",
   "id": "6be826ce",
   "metadata": {},
   "source": [
    "### Compute the summary statistics \n",
    "1. wasserstein metric\n",
    "2. the number of clones\n",
    "3. the KS stat (not implemented yet)\n",
    "\n",
    "After having computed the statistics from the simulations and Mitchell's data, we won't use the data anymore but just the summary statistic dataframe `abc_mitchell`: we are going to filter (and keep) the runs by selecting from this dataframe."
   ]
  },
  {
   "cell_type": "code",
   "execution_count": null,
   "id": "56387316",
   "metadata": {
    "scrolled": false
   },
   "outputs": [],
   "source": [
    "%%time\n",
    "\n",
    "# 1. wasserstein\n",
    "abc_mitchell = abc.sfs_summary_statistic_wasserstein(\n",
    "    sfs_sims, \n",
    "    {k: ele[-1] for k, ele in target_sfs.items()}, # ele[-1] means the SFS, k is the age\n",
    "    \"mitchell\"\n",
    ")\n",
    "\n",
    "# add information about clones from Mitchell's fig 5a\n",
    "abc_mitchell = abc_mitchell.merge(\n",
    "    right=counts[[\"age\", \"idx\", \"variant counts detected\"]],\n",
    "    how=\"left\",\n",
    "    left_on=[\"idx\", \"timepoint\"],\n",
    "    right_on=[\"idx\", \"age\"],\n",
    "    validate=\"one_to_one\",\n",
    ")\n",
    "abc_mitchell.dropna(inplace=True)\n",
    "assert (\n",
    "    not abc_mitchell.isna().any().any()\n",
    "), \"cannot match the nb of clones data to the abc results\"\n",
    "abc_mitchell = donors.merge(right=abc_mitchell, how=\"right\", on=\"age\", validate=\"one_to_many\")\n",
    "abc_mitchell.shape"
   ]
  },
  {
   "cell_type": "code",
   "execution_count": null,
   "id": "52f1442c",
   "metadata": {},
   "outputs": [],
   "source": [
    "%%time\n",
    "# 2. number of clones\n",
    "abc_mitchell[\"clones diff\"] = (\n",
    "    abc_mitchell[\"clones\"] - abc_mitchell[\"variant counts detected\"]\n",
    ").abs()\n",
    "abc_mitchell = abc.summary_statistic_relative_diff_clones(abc_mitchell)"
   ]
  },
  {
   "cell_type": "markdown",
   "id": "84707a4b",
   "metadata": {},
   "source": [
    "### Show priors"
   ]
  },
  {
   "cell_type": "code",
   "execution_count": null,
   "id": "f0477c7d-8841-4945-a080-16529cc40e53",
   "metadata": {
    "scrolled": false,
    "tags": []
   },
   "outputs": [],
   "source": [
    "if SHOW_PRIORS:\n",
    "    priors = abc_mitchell[[\"mu\", \"u\", \"s\", \"std\", \"tau\"]].drop_duplicates()\n",
    "    \n",
    "    fig, ax = plt.subplots(1, 1, figsize=[7, 6])\n",
    "    ax = abc_fig.plot_prior(priors[\"s\"], ax=ax, binwidth=0.01)\n",
    "    plt.show()\n",
    "\n",
    "    fig, ax = plt.subplots(1, 1, figsize=[7, 6])\n",
    "    ax = abc_fig.plot_prior(priors[\"std\"], ax=ax, binwidth=0.001)\n",
    "    plt.show()\n",
    "\n",
    "    fig, ax = plt.subplots(1, 1, figsize=[7, 6])\n",
    "    ax = abc_fig.plot_prior(priors[\"tau\"], ax=ax, binwidth=0.1)\n",
    "    plt.show()\n",
    "    \n",
    "    fig, ax = plt.subplots(1, 1, figsize=[7, 6])\n",
    "    ax = abc_fig.plot_prior(priors[\"mu\"], ax=ax, discrete=False)\n",
    "    plt.show()\n",
    "\n",
    "    fig, ax = plt.subplots(1, 1, figsize=[7, 6])\n",
    "    ax = abc_fig.plot_prior(priors[\"u\"], ax=ax)\n",
    "    plt.show()\n",
    "\n",
    "    fig, ax = plt.subplots(1, 1, figsize=[7, 6])\n",
    "    sns.histplot(abc_mitchell[\"wasserstein\"], binwidth=0.01, ax=ax)\n",
    "    plt.show()"
   ]
  },
  {
   "cell_type": "markdown",
   "id": "647598d9",
   "metadata": {},
   "source": [
    "### Run abc considering all timepoints at the same time"
   ]
  },
  {
   "cell_type": "code",
   "execution_count": null,
   "id": "2d500e32",
   "metadata": {},
   "outputs": [],
   "source": [
    "kwargs_s, kwargs_std, kwargs_mu, kwargs_tau = (\n",
    "    {\"binwidth\": 0.01, \"stat\":\"density\"},\n",
    "    {\"binwidth\": 0.002, \"stat\":\"density\"},\n",
    "    {\"discrete\": True, \"stat\":\"density\"},\n",
    "    {\"binwidth\": 0.1, \"stat\":\"density\"},\n",
    ")\n",
    "lims_s, lims_std, lims_mu, lims_tau = (\n",
    "    abc_fig.lims(priors, \"s\"),\n",
    "    abc_fig.lims(priors, \"std\"),\n",
    "    abc_fig.lims(priors, \"mu\"),\n",
    "    abc_fig.lims(priors, \"tau\"),\n",
    ")"
   ]
  },
  {
   "cell_type": "code",
   "execution_count": null,
   "id": "23e59133",
   "metadata": {},
   "outputs": [],
   "source": [
    "def find_map_by_cut(\n",
    "    view: pd.Series, bins: List[Union[float, int]]\n",
    ") -> Union[float, None]:\n",
    "    max_a_posteriori = pd.cut(view, bins=bins).mode()\n",
    "    if max_a_posteriori.shape[0] > 1:\n",
    "        print(\n",
    "            f\"cannot compute MAP because more than one mode have been found {max_a_posteriori}\"\n",
    "        )\n",
    "        return None\n",
    "    max_a_posteriori = max_a_posteriori.iloc[0]\n",
    "    return max_a_posteriori.mid"
   ]
  },
  {
   "cell_type": "code",
   "execution_count": null,
   "id": "d550c8b9",
   "metadata": {},
   "outputs": [],
   "source": [
    " for theta in zip(\n",
    "            [\"s\", \"std\", \"mu\", \"tau\"],\n",
    "            [lims_s, lims_std, lims_mu, lims_tau]\n",
    "        ):\n",
    "        print(theta)"
   ]
  },
  {
   "cell_type": "code",
   "execution_count": null,
   "id": "8947bad8",
   "metadata": {
    "scrolled": false
   },
   "outputs": [],
   "source": [
    "# plot all posteriors for all timepoints separately, for all metrics\n",
    "for t in sorted(target_sfs.keys()):\n",
    "    #for metric in (\"rel clones diff\", ):\n",
    "    # for metric in (\"clones diff\", ):\n",
    "    # for metric in (\"wasserstein\", \"rel clones diff\"):\n",
    "    for metric in (\"wasserstein\", ):\n",
    "        fig, axes = plt.subplots(2, 2, layout=\"tight\", sharey=True)\n",
    "        print(f\"Running ABC on {metric} metric at age {t}\")\n",
    "        idx = abc.run_abc_per_single_timepoint(\n",
    "            abc_mitchell,\n",
    "            t,\n",
    "            quantile=0.01,\n",
    "            metric=metric,\n",
    "        ).get_idx()\n",
    "        print(len(idx))\n",
    "        view = abc_mitchell[abc_mitchell.idx.isin(idx)]\n",
    "        \n",
    "        for i, (theta, lim) in enumerate(zip(\n",
    "            [\"s\", \"std\", \"mu\", \"tau\"],\n",
    "            [lims_s, lims_std, lims_mu, lims_tau]\n",
    "        )):\n",
    "            ax = axes[np.unravel_index(i, (2, 2))]\n",
    "            sns.histplot(view[theta], ax=ax) #stat=\"percent\")\n",
    "            ax.set_xlim(lim)\n",
    "        fig.suptitle(f\"{t} years with {metric}\", y=0.9, fontsize=\"small\")\n",
    "        plt.show()"
   ]
  },
  {
   "cell_type": "code",
   "execution_count": null,
   "id": "c118f92b",
   "metadata": {
    "scrolled": false
   },
   "outputs": [],
   "source": [
    "nb_timepoints = len(names_mitchell)\n",
    "PROPORTION_RUNS_DISCARDED = 0.2\n",
    "QUANTILE_SFS = 0.2\n",
    "QUANTILE_CLONES = 0.8\n",
    "minimum_timepoints = int(round(nb_timepoints - nb_timepoints * PROPORTION_RUNS_DISCARDED))\n",
    "\n",
    "# run abc with different metrics per each timepoint and keep only \n",
    "# the runs that are accepted at least for minimum timepoints\n",
    "print(f\"Running ABC with {minimum_timepoints} minimum timepoints over {nb_timepoints}\")\n",
    "wasserstein_idx = set(abc.run_abc(\n",
    "    abc_mitchell,\n",
    "    quantile=QUANTILE_SFS,\n",
    "    metric=\"wasserstein\",\n",
    ").abc_filter_on_minimum_timepoints(minimum_timepoints).idx.tolist())\n",
    "print(f\"ABC wasserstein kept {len(wasserstein_idx)} runs\")\n",
    "\n",
    "clones_idx = set(abc.run_abc(\n",
    "    abc_mitchell,\n",
    "    quantile=QUANTILE_CLONES,\n",
    "    metric=\"rel clones diff\",\n",
    ").abc_filter_on_minimum_timepoints(minimum_timepoints).idx.tolist())\n",
    "print(f\"ABC clones kept {len(clones_idx)} runs\")\n",
    "\n",
    "runs2keep = clones_idx.intersection(wasserstein_idx)\n",
    "view = abc_mitchell[abc_mitchell.idx.isin(runs2keep)]\n",
    "assert not view.empty, \"empty posterior\"\n",
    "print(f\"kept {len(runs2keep)} runs\")\n",
    "\n",
    "# plots\n",
    "map_mu = find_map_by_cut(view.mu, range(0, 21))\n",
    "map_s = find_map_by_cut(view.s, np.arange(0, 0.45, 0.01).tolist())\n",
    "map_std = find_map_by_cut(view[\"std\"], np.arange(0, 0.15, 0.002).tolist())\n",
    "\"\"\"\n",
    "g1, g2, g3 = abc_fig.plot_posteriors(\n",
    "    view,\n",
    "    show_mean=False,\n",
    "    mu_lims=abc_fig.lims(abc_mitchell, \"mu\"),\n",
    "    s_lims=abc_fig.lims(abc_mitchell, \"s\"),\n",
    "    std_lims=abc_fig.lims(abc_mitchell, \"std\"),\n",
    "\n",
    ")\n",
    "if map_mu:\n",
    "    g1.ax_joint.vlines(\n",
    "        map_mu,\n",
    "        view.s.min(),\n",
    "        view.s.max(),\n",
    "        color=\"yellowgreen\",\n",
    "        label=r\"MAP $\\mu=$\" + str(map_mu),\n",
    "    )\n",
    "    g2.ax_joint.vlines(\n",
    "        map_mu,\n",
    "        view[\"std\"].min(),\n",
    "        view[\"std\"].max(),\n",
    "        color=\"yellowgreen\",\n",
    "        label=r\"MAP $\\mu=$\" + str(map_mu),\n",
    "    )\n",
    "if map_s:\n",
    "    g1.ax_joint.hlines(\n",
    "        map_s,\n",
    "        view.mu.min(),\n",
    "        view.mu.max(),\n",
    "        color=\"yellowgreen\",\n",
    "        linestyle=\"--\",\n",
    "        label=r\"MAP $s=$\" + f\" {map_s:.2f}\",\n",
    "    )\n",
    "    g3.ax_joint.vlines(\n",
    "        map_s,\n",
    "        view[\"std\"].min(),\n",
    "        view[\"std\"].max(),\n",
    "        color=\"yellowgreen\",\n",
    "        label=r\"MAP $s=$\" + f\" {map_s:.2f}\",\n",
    "    )\n",
    "\n",
    "if map_std:\n",
    "    g2.ax_joint.hlines(\n",
    "        map_std,\n",
    "        view.mu.min(),\n",
    "        view.mu.max(),\n",
    "        color=\"yellowgreen\",\n",
    "        linestyle=\"--\",\n",
    "        label=r\"MAP $\\sigma=$\" + f\"{map_std:.2f}\",\n",
    "    )\n",
    "    g3.ax_joint.hlines(\n",
    "        map_std,\n",
    "        view.s.min(),\n",
    "        view.s.max(),\n",
    "        color=\"yellowgreen\",\n",
    "        linestyle=\"--\",\n",
    "        label=r\"MAP $\\sigma=$\" + f\"{map_std:.2f}\",\n",
    "    )\n",
    "\n",
    "result = stats.pearsonr(view.mu, view.s)\n",
    "sns.regplot(\n",
    "    data=view[[\"mu\", \"s\"]],\n",
    "    x=\"mu\",\n",
    "    y=\"s\",\n",
    "    label=f\"r={result.statistic:.2f}, p={result.pvalue:.2e}\",\n",
    "    scatter=False,\n",
    "    line_kws={\"color\": \"purple\", \"linewidth\": 1},\n",
    "    ax=g1.ax_joint,\n",
    ")\n",
    "\n",
    "g1.ax_joint.set_xlabel(r\"$\\mu$\")\n",
    "\n",
    "for g_ in {g1, g2, g3}:\n",
    "    g_.ax_joint.tick_params(\n",
    "        which=\"major\",\n",
    "        bottom=True,\n",
    "        top=False,\n",
    "        left=True,\n",
    "        right=False,\n",
    "        width=1.1,\n",
    "        length=5,\n",
    "        labelsize=14,\n",
    "    )\n",
    "    g_.ax_joint.tick_params(\n",
    "        which=\"minor\",\n",
    "        bottom=True,\n",
    "        top=False,\n",
    "        left=True,\n",
    "        right=False,\n",
    "        width=1.1,\n",
    "        length=3,\n",
    "        labelsize=14,\n",
    "    )\n",
    "    g_.ax_marg_x.tick_params(\n",
    "        which=\"major\",\n",
    "        bottom=True,\n",
    "        top=False,\n",
    "        left=True,\n",
    "        right=False,\n",
    "        width=1.1,\n",
    "        length=3,\n",
    "        labelsize=14,\n",
    "    )\n",
    "    g_.ax_marg_x.tick_params(\n",
    "        which=\"minor\",\n",
    "        bottom=True,\n",
    "        top=False,\n",
    "        left=True,\n",
    "        right=False,\n",
    "        width=1.1,\n",
    "        length=3,\n",
    "        labelsize=14,\n",
    "    )\n",
    "    g_.ax_marg_y.tick_params(\n",
    "        which=\"minor\",\n",
    "        bottom=True,\n",
    "        top=False,\n",
    "        left=True,\n",
    "        right=False,\n",
    "        width=1.1,\n",
    "        length=3,\n",
    "        labelsize=14,\n",
    "    )\n",
    "    g_.ax_marg_y.tick_params(\n",
    "        which=\"major\",\n",
    "        bottom=True,\n",
    "        top=False,\n",
    "        left=True,\n",
    "        right=False,\n",
    "        width=1.1,\n",
    "        length=3,\n",
    "        labelsize=14,\n",
    "    )\n",
    "    g_.ax_joint.legend(fontsize=14)\n",
    "\n",
    "if options.save:\n",
    "    g1.savefig(f\"posterior_mu_s.{options.extension}\")\n",
    "    g2.savefig(f\"posterior_mu_std.{options.extension}\")\n",
    "    g3.savefig(f\"posterior_s_std.{options.extension}\")\n",
    "\"\"\"\n",
    "gs = []\n",
    "gs.append(abc_fig.plot_results(\n",
    "    view, [\"s\", \"std\"], lim1=lims_s, lim2=lims_std, kwargs1=kwargs_s, kwargs2=kwargs_std, show_mean=False\n",
    "))\n",
    "\n",
    "gs.append(abc_fig.plot_results(\n",
    "    view, [\"s\", \"mu\"], lim1=lims_s, lim2=lims_mu, kwargs1=kwargs_s, kwargs2=kwargs_mu, show_mean=False\n",
    "))\n",
    "\n",
    "gs.append(abc_fig.plot_results(\n",
    "    view, [\"s\", \"tau\"], lim1=lims_s, lim2=lims_tau, kwargs1=kwargs_s, kwargs2=kwargs_tau, show_mean=False\n",
    "))\n",
    "\n",
    "gs.append(abc_fig.plot_results(\n",
    "    view, [\"mu\", \"tau\"], lim1=lims_mu, lim2=lims_tau, kwargs1=kwargs_mu, kwargs2=kwargs_tau, show_mean=False\n",
    "))\n",
    "\n",
    "for i, g_ in enumerate(gs):\n",
    "    g_.ax_joint.tick_params(\n",
    "        which=\"major\",\n",
    "        bottom=True,\n",
    "        top=False,\n",
    "        left=True,\n",
    "        right=False,\n",
    "        width=1.1,\n",
    "        length=5,\n",
    "        labelsize=14,\n",
    "    )\n",
    "    g_.ax_joint.tick_params(\n",
    "        which=\"minor\",\n",
    "        bottom=True,\n",
    "        top=False,\n",
    "        left=True,\n",
    "        right=False,\n",
    "        width=1.1,\n",
    "        length=3,\n",
    "        labelsize=14,\n",
    "    )\n",
    "    g_.ax_marg_x.tick_params(\n",
    "        which=\"major\",\n",
    "        bottom=True,\n",
    "        top=False,\n",
    "        left=True,\n",
    "        right=False,\n",
    "        width=1.1,\n",
    "        length=3,\n",
    "        labelsize=14,\n",
    "    )\n",
    "    g_.ax_marg_x.tick_params(\n",
    "        which=\"minor\",\n",
    "        bottom=True,\n",
    "        top=False,\n",
    "        left=True,\n",
    "        right=False,\n",
    "        width=1.1,\n",
    "        length=3,\n",
    "        labelsize=14,\n",
    "    )\n",
    "    g_.ax_marg_y.tick_params(\n",
    "        which=\"minor\",\n",
    "        bottom=True,\n",
    "        top=False,\n",
    "        left=True,\n",
    "        right=False,\n",
    "        width=1.1,\n",
    "        length=3,\n",
    "        labelsize=14,\n",
    "    )\n",
    "    g_.ax_marg_y.tick_params(\n",
    "        which=\"major\",\n",
    "        bottom=True,\n",
    "        top=False,\n",
    "        left=True,\n",
    "        right=False,\n",
    "        width=1.1,\n",
    "        length=3,\n",
    "        labelsize=14,\n",
    "    )\n",
    "    if options.save:\n",
    "        g_.fig.savefig(f\"posterior{i}.{options.extension}\", bbox_inches=\"tight\", pad_inches=0)\n",
    "plt.show()\n",
    "verbose = False\n",
    "idx2show = dict()\n",
    "\n",
    "for t in sorted(abc_mitchell.timepoint.unique()):\n",
    "    if verbose:\n",
    "        title = f\"age: {t} years, quantile threshold: {abc_mitchell.loc[abc_mitchell.timepoint == t, 'wasserstein'].quantile(quantile):.2f}\"\n",
    "    else:\n",
    "        title = f\"age: {round(t)} years\"\n",
    "\n",
    "    idx2show[t] = abc_fig.get_idx_smaller_distance_clones_idx(\n",
    "        abc_mitchell[abc_mitchell.timepoint == t], runs2keep\n",
    "    )\n",
    "\n",
    "    fig = sfs_fig.plot_sfs_cdf(\n",
    "        [idx2show[t]], target_sfs[t], sfs_sims[t], t, verbose=verbose, alpha=0.7\n",
    "    )\n",
    "    \"\"\"fig.suptitle(\n",
    "        title,\n",
    "        x=0.4,\n",
    "    )\"\"\"\n",
    "    if options.save:\n",
    "        fig.savefig(f\"sfs_{t}years.{options.extension}\")\n",
    "    plt.show()"
   ]
  },
  {
   "cell_type": "code",
   "execution_count": null,
   "id": "bf77da09",
   "metadata": {},
   "outputs": [],
   "source": [
    "fig, ax = plt.subplots(1, 1, layout=\"tight\")\n",
    "sns.lineplot(\n",
    "    view,\n",
    "    x=\"age\",\n",
    "    y=\"variant counts detected\",\n",
    "    errorbar=lambda x: (np.min(x), np.max(x)),\n",
    "    ax=ax,\n",
    "    label=\"min-max\",\n",
    ")\n",
    "sns.lineplot(\n",
    "    view,\n",
    "    x=\"age\",\n",
    "    y=\"variant counts detected\",\n",
    "    errorbar=\"sd\",\n",
    "    ax=ax,\n",
    "    color=\"orange\",\n",
    "    label=\"std\",\n",
    ")\n",
    "sns.scatterplot(\n",
    "    data=abc_mitchell[[\"age\", \"clones\"]].drop_duplicates(),\n",
    "    x=\"age\",\n",
    "    y=\"clones\",\n",
    "    marker=\"x\",\n",
    "    linewidths=2,\n",
    "    color=\"purple\",\n",
    "    label=\"Mitchell\",\n",
    ")\n",
    "ax.legend()\n",
    "if options.save:\n",
    "    fig.savefig(f\"variants_abc.{options.extension}\")\n",
    "plt.show()"
   ]
  },
  {
   "cell_type": "code",
   "execution_count": null,
   "id": "b7a19504",
   "metadata": {
    "scrolled": true
   },
   "outputs": [],
   "source": [
    "ts = list(idx2show.keys())\n",
    "mus, ss = (\n",
    "    [\n",
    "        abc_mitchell[(abc_mitchell.timepoint == t) & (abc_mitchell.idx == idx)].mu.iloc[\n",
    "            0\n",
    "        ]\n",
    "        for t, idx in idx2show.items()\n",
    "    ],\n",
    "    [\n",
    "        abc_mitchell[(abc_mitchell.timepoint == t) & (abc_mitchell.idx == idx)].s.iloc[\n",
    "            0\n",
    "        ]\n",
    "        for t, idx in idx2show.items()\n",
    "    ],\n",
    ")\n",
    "sns.histplot(mus, binwidth=0.5)\n",
    "plt.show()\n",
    "sns.histplot(ss, binwidth=0.005)\n",
    "plt.show()\n",
    "\n",
    "plt.plot(ts, mus, marker=\"x\", mew=2)\n",
    "plt.show()\n",
    "\n",
    "plt.plot(ts, ss, marker=\"x\", mew=2)\n",
    "plt.show()"
   ]
  },
  {
   "cell_type": "code",
   "execution_count": null,
   "id": "2ed3fd56",
   "metadata": {},
   "outputs": [],
   "source": [
    "assert False"
   ]
  },
  {
   "cell_type": "markdown",
   "id": "fccc4a18",
   "metadata": {},
   "source": [
    "## Run ABC on subsampled simulated data"
   ]
  },
  {
   "cell_type": "markdown",
   "id": "09379b3a",
   "metadata": {},
   "source": [
    "### Low mu $\\mu = 1.097$"
   ]
  },
  {
   "cell_type": "code",
   "execution_count": null,
   "id": "f4f78cf1",
   "metadata": {},
   "outputs": [],
   "source": [
    "low_mu = (\n",
    "    abc_mitchell[(abc_mitchell.mu - 1.1).abs() < 0.01]\n",
    "    .drop_duplicates(subset={\"mu\", \"s\"})\n",
    "    .sort_values(by=[\"s\", \"mu\"])\n",
    ")\n",
    "idx_low_low = low_mu.iloc[1].idx\n",
    "idx_low_high = low_mu.iloc[-2].idx\n",
    "idx_low_medium = low_mu.iloc[int(low_mu.shape[0] / 2)].idx"
   ]
  },
  {
   "cell_type": "markdown",
   "id": "9fc7d11f",
   "metadata": {},
   "source": [
    "#### Low mu and low s, $\\mu=1.097$ and $s=0.017$"
   ]
  },
  {
   "cell_type": "code",
   "execution_count": null,
   "id": "a558d058",
   "metadata": {
    "scrolled": true
   },
   "outputs": [],
   "source": [
    "view = abc_mitchell[abc_mitchell.idx == idx_low_low]\n",
    "target_stem = view.path.iloc[0].stem\n",
    "view"
   ]
  },
  {
   "cell_type": "code",
   "execution_count": null,
   "id": "5eba8564",
   "metadata": {
    "scrolled": false
   },
   "outputs": [],
   "source": [
    "%%time\n",
    "_, g1, g2, g3 = abc_fig.abc_simulated_validation(\n",
    "    target_stem,\n",
    "    sfs_sims,\n",
    "    counts,\n",
    "    abc.AbcThresholds(quantile=0.4, proportion_runs_to_discard=0, nb_clones_diff=2),\n",
    "    show_priors=False,\n",
    ")\n",
    "plt.show()"
   ]
  },
  {
   "cell_type": "markdown",
   "id": "002e8f80",
   "metadata": {},
   "source": [
    "#### Low mu and medium s, $\\mu=1.096$ and $s=0.189$"
   ]
  },
  {
   "cell_type": "code",
   "execution_count": null,
   "id": "4f4111d0",
   "metadata": {
    "scrolled": true
   },
   "outputs": [],
   "source": [
    "view = abc_mitchell[abc_mitchell.idx == idx_low_medium]\n",
    "target_stem = view.path.iloc[0].stem\n",
    "view"
   ]
  },
  {
   "cell_type": "code",
   "execution_count": null,
   "id": "6684baac",
   "metadata": {
    "scrolled": false
   },
   "outputs": [],
   "source": [
    "%%time\n",
    "_, g1, g2, g3 = abc_fig.abc_simulated_validation(\n",
    "    target_stem,\n",
    "    sfs_sims,\n",
    "    counts,\n",
    "    abc.AbcThresholds(quantile=0.4, proportion_runs_to_discard=0, nb_clones_diff=2),\n",
    "    show_priors=False,\n",
    ")\n",
    "plt.show()"
   ]
  },
  {
   "cell_type": "markdown",
   "id": "19e4722e",
   "metadata": {},
   "source": [
    "#### Low mu and high s, $\\mu=1.102$ and $s=0.367$"
   ]
  },
  {
   "cell_type": "code",
   "execution_count": null,
   "id": "3fec96b8",
   "metadata": {},
   "outputs": [],
   "source": [
    "view = abc_mitchell[abc_mitchell.idx == idx_low_high]\n",
    "target_stem = view.path.iloc[0].stem\n",
    "view"
   ]
  },
  {
   "cell_type": "code",
   "execution_count": null,
   "id": "c7af0ca5",
   "metadata": {
    "scrolled": false
   },
   "outputs": [],
   "source": [
    "%%time\n",
    "_, g1, g2, g3 = abc_fig.abc_simulated_validation(\n",
    "    target_stem,\n",
    "    sfs_sims,\n",
    "    counts,\n",
    "    abc.AbcThresholds(quantile=0.4, proportion_runs_to_discard=0, nb_clones_diff=2),\n",
    "    show_priors=False,\n",
    ")\n",
    "plt.show()"
   ]
  },
  {
   "cell_type": "markdown",
   "id": "90eb31e8",
   "metadata": {},
   "source": [
    "### Medium mu $\\mu = 10$"
   ]
  },
  {
   "cell_type": "code",
   "execution_count": null,
   "id": "54c80b4a",
   "metadata": {},
   "outputs": [],
   "source": [
    "medium_mu = (\n",
    "    abc_mitchell[(abc_mitchell.mu - 10).abs() < 0.01]\n",
    "    .drop_duplicates(subset={\"mu\", \"s\"})\n",
    "    .sort_values(by=[\"s\", \"mu\"])\n",
    ")\n",
    "idx_medium_low = medium_mu.iloc[1].idx\n",
    "idx_medium_high = medium_mu.iloc[-2].idx\n",
    "idx_medium_medium = medium_mu.iloc[int(medium_mu.shape[0] / 2)].idx"
   ]
  },
  {
   "cell_type": "markdown",
   "id": "f31d4a79",
   "metadata": {},
   "source": [
    "#### Medium mu and low s, $\\mu=9.991$ and $s=0.027$"
   ]
  },
  {
   "cell_type": "code",
   "execution_count": null,
   "id": "e8661a84",
   "metadata": {
    "scrolled": true
   },
   "outputs": [],
   "source": [
    "view = abc_mitchell[abc_mitchell.idx == idx_medium_low]\n",
    "target_stem = view.path.iloc[0].stem\n",
    "view"
   ]
  },
  {
   "cell_type": "code",
   "execution_count": null,
   "id": "d2343627",
   "metadata": {
    "scrolled": true
   },
   "outputs": [],
   "source": [
    "%%time\n",
    "_, g1, g2, g3 = abc_fig.abc_simulated_validation(\n",
    "    target_stem,\n",
    "    sfs_sims,\n",
    "    counts,\n",
    "    abc.AbcThresholds(quantile=0.4, proportion_runs_to_discard=0, nb_clones_diff=2),\n",
    "    show_priors=False,\n",
    ")\n",
    "plt.show()"
   ]
  },
  {
   "cell_type": "markdown",
   "id": "79324433",
   "metadata": {},
   "source": [
    "#### Medium mu and medium s, $\\mu=10.004$ and $s=0.193$"
   ]
  },
  {
   "cell_type": "code",
   "execution_count": null,
   "id": "8580dcee",
   "metadata": {
    "scrolled": true
   },
   "outputs": [],
   "source": [
    "view = abc_mitchell[abc_mitchell.idx == idx_medium_medium]\n",
    "target_stem = view.path.iloc[0].stem\n",
    "view"
   ]
  },
  {
   "cell_type": "code",
   "execution_count": null,
   "id": "1fbee1d6",
   "metadata": {
    "scrolled": true
   },
   "outputs": [],
   "source": [
    "%%time\n",
    "_, g1, g2, g3 = abc_fig.abc_simulated_validation(\n",
    "    target_stem,\n",
    "    sfs_sims,\n",
    "    counts,\n",
    "    abc.AbcThresholds(quantile=0.4, proportion_runs_to_discard=0, nb_clones_diff=2),\n",
    "    show_priors=False,\n",
    ")\n",
    "plt.show()"
   ]
  },
  {
   "cell_type": "markdown",
   "id": "a86f9030",
   "metadata": {},
   "source": [
    "### High mu $\\mu=19.091$"
   ]
  },
  {
   "cell_type": "code",
   "execution_count": null,
   "id": "ac774652",
   "metadata": {},
   "outputs": [],
   "source": [
    "high_mu = (\n",
    "    abc_mitchell[(abc_mitchell.mu - 19.1).abs() < 0.01]\n",
    "    .drop_duplicates(subset={\"mu\", \"s\"})\n",
    "    .sort_values(by=[\"s\", \"mu\"])\n",
    ")\n",
    "idx_high_low = high_mu.iloc[1].idx\n",
    "idx_high_high = high_mu.iloc[-2].idx\n",
    "idx_high_medium = high_mu.iloc[int(high_mu.shape[0] / 2)].idx"
   ]
  },
  {
   "cell_type": "markdown",
   "id": "0c2a858c",
   "metadata": {},
   "source": [
    "#### High mu and low s, $\\mu=19.091$ and $s=0.022$"
   ]
  },
  {
   "cell_type": "code",
   "execution_count": null,
   "id": "33d00e9b",
   "metadata": {},
   "outputs": [],
   "source": [
    "view = abc_mitchell[abc_mitchell.idx == idx_high_low]\n",
    "target_stem = view.path.iloc[0].stem\n",
    "view"
   ]
  },
  {
   "cell_type": "code",
   "execution_count": null,
   "id": "fc77a1e1",
   "metadata": {
    "scrolled": false
   },
   "outputs": [],
   "source": [
    "%%time\n",
    "_, g1, g2, g3 = abc_fig.abc_simulated_validation(\n",
    "    target_stem,\n",
    "    sfs_sims,\n",
    "    counts,\n",
    "    abc.AbcThresholds(quantile=0.4, proportion_runs_to_discard=0, nb_clones_diff=2),\n",
    "    show_priors=False,\n",
    ")\n",
    "plt.show()"
   ]
  },
  {
   "cell_type": "markdown",
   "id": "014d3e19",
   "metadata": {},
   "source": [
    "#### High mu and medium s, $\\mu=19.105$ and $s=0.234$"
   ]
  },
  {
   "cell_type": "code",
   "execution_count": null,
   "id": "12d871be",
   "metadata": {},
   "outputs": [],
   "source": [
    "view = abc_mitchell[abc_mitchell.idx == idx_high_medium]\n",
    "target_stem = view.path.iloc[0].stem\n",
    "view"
   ]
  },
  {
   "cell_type": "code",
   "execution_count": null,
   "id": "873d3de3",
   "metadata": {},
   "outputs": [],
   "source": [
    "%%time\n",
    "_, g1, g2, g3 = abc_fig.abc_simulated_validation(\n",
    "    target_stem,\n",
    "    sfs_sims,\n",
    "    counts,\n",
    "    abc.AbcThresholds(quantile=0.4, proportion_runs_to_discard=0, nb_clones_diff=2),\n",
    "    show_priors=False,\n",
    ")\n",
    "plt.show()"
   ]
  },
  {
   "cell_type": "markdown",
   "id": "3de7d703",
   "metadata": {},
   "source": [
    "#### HIgh mu and high s, $\\mu=19.095$ and $s=0.390$"
   ]
  },
  {
   "cell_type": "code",
   "execution_count": null,
   "id": "b554e832",
   "metadata": {},
   "outputs": [],
   "source": [
    "view = abc_mitchell[abc_mitchell.idx == idx_high_high]\n",
    "target_stem = view.path.iloc[0].stem\n",
    "view"
   ]
  },
  {
   "cell_type": "code",
   "execution_count": null,
   "id": "10c5ab26",
   "metadata": {},
   "outputs": [],
   "source": [
    "%%time\n",
    "_, g1, g2, g3 = abc_fig.abc_simulated_validation(\n",
    "    target_stem,\n",
    "    sfs_sims,\n",
    "    counts,\n",
    "    abc.AbcThresholds(quantile=0.4, proportion_runs_to_discard=0, nb_clones_diff=2),\n",
    "    show_priors=False,\n",
    ")\n",
    "plt.show()"
   ]
  }
 ],
 "metadata": {
  "kernelspec": {
   "display_name": "hsc-draft",
   "language": "python",
   "name": "hsc-draft"
  },
  "language_info": {
   "codemirror_mode": {
    "name": "ipython",
    "version": 3
   },
   "file_extension": ".py",
   "mimetype": "text/x-python",
   "name": "python",
   "nbconvert_exporter": "python",
   "pygments_lexer": "ipython3",
   "version": "3.11.4"
  }
 },
 "nbformat": 4,
 "nbformat_minor": 5
}
