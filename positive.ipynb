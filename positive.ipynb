{
 "cells": [
  {
   "cell_type": "markdown",
   "id": "3509fddf",
   "metadata": {},
   "source": [
    "# HSC\n",
    "Markov process with fixed-size population with k-types such that the type 0 is the wild-type with growth rate of `B0`. \n",
    "\n",
    "A cells can get a mutation conferring a proliferative advantage upon cell division. We model this process with a Bernouilli trial with success probability of `u`, with units of 1 mutation/division. To compute `u` we can do `u =  MU0 / (2 * B0 * NCELLS)` for the symmetric division case.\n",
    "\n",
    "For now, all k clones have the same proliferative advantage with k greater than 0."
   ]
  },
  {
   "cell_type": "code",
   "execution_count": null,
   "id": "ce19ffa6",
   "metadata": {},
   "outputs": [],
   "source": [
    "import matplotlib.pyplot as plt\n",
    "import json\n",
    "import numpy as np\n",
    "import pandas as pd\n",
    "import socket\n",
    "import seaborn as sns\n",
    "import sys\n",
    "from hscpy import sfs, variant\n",
    "from typing import Dict\n",
    "from scipy import stats\n",
    "from pathlib import Path\n",
    "from futils import parse_version, snapshot\n",
    "\n",
    "PATH2BIN = Path(\"~\").expanduser() / \"hsc/target/release\"\n",
    "assert PATH2BIN.is_dir()\n",
    "FIGSIZE = [7, 3]\n",
    "PDF = True\n",
    "EXTENSION = \".pdf\" if PDF else \".png\"\n",
    "YEARS_FAST = 100  # TODO replace by 70\n",
    "RUNS = 64\n",
    "NB_TIMEPOINTS = 21\n",
    "DETECTION_THRESH = 0.01\n",
    "SUBCLONES = 60\n",
    "SAVE = False\n",
    "USE_SCRATCH = True"
   ]
  },
  {
   "cell_type": "code",
   "execution_count": null,
   "id": "d40ff0f6",
   "metadata": {},
   "outputs": [],
   "source": [
    "NCELLS = 200_000\n",
    "# mean of the Bernouilli trial (prob of success) to get an asymmetric\n",
    "# division upon cell division, units are [1 asymmetric division / division]\n",
    "P_ASYMMETRIC = 0\n",
    "\n",
    "## NEUTRAL RATES\n",
    "# division rate for the wild-type in units of [division / (year * cell)]\n",
    "# Welch, J.S. et al. (2012) ‘The Origin and Evolution of Mutations in Acute Myeloid Leukemia’,\n",
    "# Cell, 150(2), pp. 264–278\n",
    "B0 = 1  # TODO: double check this, should be between 2 and 20?\n",
    "# Abascal, F. et al. (2021) ‘Somatic mutation landscapes at single-molecule resolution’,\n",
    "# Nature, 593(7859), pp. 405–410. fig. 2b\n",
    "# see also fig 1b of Mitchell, E. et al.\n",
    "# (2022) ‘Clonal dynamics of haematopoiesis across the human lifespan’,\n",
    "# Nature, 606(7913), pp. 343–350\n",
    "NEUTRAL_RATE = 20 # [mut/(year * cell)]\n",
    "\n",
    "## FIT CLONES\n",
    "# avg fit mutations arising in 1 year, units are [mutations/year]\n",
    "# from ABC's inference\n",
    "MU0 = 2\n",
    "# proliferative advantage conferred by fit mutations, all clones\n",
    "# have the same proliferative advantage for now. Units are\n",
    "# [mutation / division]\n",
    "S = 0.11\n",
    "# mean of the Bernouilli trial (prob of success) to get a fit variant upon\n",
    "# cell division, units are [1 mutation/division]\n",
    "if not P_ASYMMETRIC:\n",
    "    u = MU0 / (2 * B0 * NCELLS)\n",
    "else:\n",
    "    u = MU0 / (B0 * NCELLS)\n",
    "# should be 2.0 × 10−3 per HSC per year according to Mitchell, E. et al.\n",
    "# (2022) ‘Clonal dynamics of haematopoiesis across the human lifespan’,\n",
    "# Nature, 606(7913), pp. 343–350\n",
    "# driver mutations enter the HSC compartment at 2.0 × 10−3 per HSC per year\n",
    "print(f\"average sucess rate of occurence of 1 fit mutation upon cell division u={u}\")"
   ]
  },
  {
   "cell_type": "code",
   "execution_count": null,
   "id": "985e133e",
   "metadata": {},
   "outputs": [],
   "source": [
    "if socket.gethostname() == \"5X9ZYD3\":\n",
    "    PATH2SIMS = Path(\"/mnt/c/Users/terenz01/Documents/SwitchDrive/PhD/\")\n",
    "    YEARS = YEARS_FAST\n",
    "elif socket.gethostname() == \"LAPTOP-CEKCHJ4C\":\n",
    "    PATH2SIMS = Path(\"/mnt/c/Users/fra_t/Documents/PhD/\")\n",
    "    # need + 1 to save the last timepoint\n",
    "    YEARS = YEARS_FAST\n",
    "else:\n",
    "    PATH2SIMS = Path(\"~\").expanduser()\n",
    "    YEARS = 100\n",
    "\n",
    "PATH2SIMS /= Path(\"totalVariantFracTime.csv\")\n",
    "x = np.linspace(0, YEARS, NB_TIMEPOINTS)\n",
    "assert PATH2SIMS.is_file()"
   ]
  },
  {
   "cell_type": "code",
   "execution_count": null,
   "id": "affa36a0",
   "metadata": {},
   "outputs": [],
   "source": [
    "%%bash -s \"$PATH2BIN\" --out version\n",
    "$1/hsc --version"
   ]
  },
  {
   "cell_type": "code",
   "execution_count": null,
   "id": "554d54b6",
   "metadata": {},
   "outputs": [],
   "source": [
    "VERSION = parse_version(version)\n",
    "if USE_SCRATCH:\n",
    "    PATH2SAVE = Path(f\"/data/scratch/hfx923/hsc-draft/{VERSION}\")\n",
    "else:\n",
    "    PATH2SAVE = Path(f\"./{VERSION}\")\n",
    "print(\"Running hsc with version:\", VERSION)"
   ]
  },
  {
   "cell_type": "code",
   "execution_count": null,
   "id": "1c914562",
   "metadata": {},
   "outputs": [],
   "source": [
    "%%bash -s \"$PATH2BIN\" \"$PATH2SAVE\" \"$B0\" \"$MU0\" \"$NEUTRAL_RATE\" \"$S\" \"$P_ASYMMETRIC\" \"$RUNS\" \"$NCELLS\" \"$YEARS\" \"$NB_TIMEPOINTS\"\n",
    "rm -rf $2\n",
    "$1/hsc -c $9 -y ${10} -r $8 --b0 $3 --mu0 $4 --neutral-rate $5 -s $6 --p-asymmetric $7 --snapshots ${11} $2"
   ]
  },
  {
   "cell_type": "markdown",
   "id": "4dfcd265",
   "metadata": {},
   "source": [
    "## The SFS"
   ]
  },
  {
   "cell_type": "code",
   "execution_count": null,
   "id": "55c7177f",
   "metadata": {},
   "outputs": [],
   "source": [
    "sfs_all"
   ]
  },
  {
   "cell_type": "code",
   "execution_count": null,
   "id": "193434ae",
   "metadata": {},
   "outputs": [],
   "source": [
    "sfs_all = sfs.load_sfs(PATH2SAVE, runs=RUNS)\n",
    "jcells, avg_sfs = sfs.average_sfs(sfs_all)"
   ]
  },
  {
   "cell_type": "code",
   "execution_count": null,
   "id": "950d968f",
   "metadata": {},
   "outputs": [],
   "source": [
    "fig, ax = plt.subplots(1, 1)\n",
    "for k in (\"7\", \"1\", \"2\"):\n",
    "    sfs.plot_sfs(sfs_all[k], ax, k)\n",
    "ax.set_xscale(\"log\")\n",
    "ax.set_yscale(\"log\")\n",
    "ax.set_ylabel(\"# of mutations with j cells\")\n",
    "ax.set_xlabel(\"j cells\")\n",
    "ax.legend(title=\"sim id\")\n",
    "ax.set_title(f\"individual realisations of the SFS after {YEARS} years\")\n",
    "plt.show()\n",
    "\n",
    "fig, ax = plt.subplots(1, 1)\n",
    "ax.plot(\n",
    "    jcells[0],\n",
    "    avg_sfs,\n",
    "    alpha=0.45,\n",
    "    marker=\"x\",\n",
    "    linestyle=\"\",\n",
    "    c=\"grey\",\n",
    ")\n",
    "ax.set_ylabel(\"# of mutations with j cells\")\n",
    "ax.set_xlabel(\"j cells\")\n",
    "x_ = np.arange(1, 2 * NCELLS)\n",
    "y_ = 2 * NEUTRAL_RATE * NCELLS / x_\n",
    "ax.set_xscale(\"log\")\n",
    "ax.set_yscale(\"log\")\n",
    "ax.set_title(f\"avg of the SFS over {RUNS} runs after {YEARS} years\")\n",
    "plt.show()"
   ]
  },
  {
   "cell_type": "markdown",
   "id": "cf11a8d9",
   "metadata": {},
   "source": [
    "## Single-cell mutational burden"
   ]
  },
  {
   "cell_type": "code",
   "execution_count": null,
   "id": "b9805d7f",
   "metadata": {},
   "outputs": [],
   "source": [
    "def get_idx_timepoint_from_age(age: int, years: int, nb_timepoints: int) -> int:\n",
    "    \"\"\"Find the idx of the timepoint associated to `age`.\n",
    "    \n",
    "    Rust saves timepoints in the reverse order, that is idx of 1 corresponds\n",
    "    to the older timepoint (greater age).\n",
    "    \"\"\"\n",
    "    try:\n",
    "        age = round(age)\n",
    "    except TypeError:\n",
    "        print(f\"arg `age` must be int found {type(age)} instead\")\n",
    "        sys.exit(1)\n",
    "    timepoints = list(np.linspace(0, years, nb_timepoints))[::-1]\n",
    "    try:\n",
    "        found = timepoints.index(age) + 1\n",
    "        closest_age = age\n",
    "    except ValueError:\n",
    "        closest_age = round(min(timepoints, key=lambda x:abs(x-age)))\n",
    "        found = timepoints.index(closest_age) + 1\n",
    "        print(f\"age {age} cannot be mapped, found mapping of timepoint {found} for the closest age of {closest_age}\")\n",
    "    return found, closest_age\n",
    "\n",
    "\n",
    "def array_of_single_cell_mutations(sfs: Dict[int, int]) -> np.ndarray:\n",
    "    muts = []\n",
    "    for jmuts, jcells in sfs.items():\n",
    "        for cell in range(0, jcells):\n",
    "            muts.append(jmuts)\n",
    "    return np.array(muts, dtype=int)"
   ]
  },
  {
   "cell_type": "code",
   "execution_count": null,
   "id": "5429c2f3",
   "metadata": {},
   "outputs": [],
   "source": [
    "# TODO: move this to other nb\n",
    "mitchell_ages = (0, 29, 38, 48, 63, 75, 81)\n",
    "simulated = list()\n",
    "for age in mitchell_ages:\n",
    "    idx_timepoint, closest_age = get_idx_timepoint_from_age(age, YEARS_FAST, NB_TIMEPOINTS)\n",
    "    for idx_sim, simulation in sfs.load_sfs(PATH2SAVE, runs=RUNS, timepoint=idx_timepoint).items():\n",
    "        for cell in array_of_single_cell_mutations(simulation):\n",
    "            simulated.append((int(idx_sim), closest_age, age, cell))"
   ]
  },
  {
   "cell_type": "code",
   "execution_count": null,
   "id": "5f557f46",
   "metadata": {},
   "outputs": [],
   "source": [
    "simulated = pd.DataFrame(simulated, columns=[\"id\", \"age\", \"mitchell_age\", \"single nucleotide variant\"])\n",
    "simulated.dtypes"
   ]
  },
  {
   "cell_type": "code",
   "execution_count": null,
   "id": "902a8dcd",
   "metadata": {},
   "outputs": [],
   "source": [
    "cells_per_variants_per_age = (simulated[[\"age\", \"single nucleotide variant\"]].groupby([\"age\", \"single nucleotide variant\"]).value_counts() / (RUNS * NCELLS)).reset_index()\n",
    "# add entry with no variants\n",
    "cells_per_variants_per_age = pd.concat([\n",
    "    cells_per_variants_per_age, \n",
    "    (1 - cells_per_variants_per_age[[\"age\", 0]].groupby(\"age\").sum()).reset_index(),\n",
    "    ]\n",
    ").fillna(0)\n",
    "cells_per_variants_per_age[\"single nucleotide variant\"] = cells_per_variants_per_age[\"single nucleotide variant\"].astype(int)\n",
    "\n",
    "fig, ax = plt.subplots(1, 1, tight_layout=True, figsize=(7, 3))\n",
    "for age in cells_per_variants_per_age.age.unique():\n",
    "    ax.bar(x=cells_per_variants_per_age.loc[cells_per_variants_per_age.age == age, \"single nucleotide variant\"], height=cells_per_variants_per_age.loc[cells_per_variants_per_age.age == age, 0], label=age, alpha=0.2)\n",
    "ax.legend(title=\"age\", bbox_to_anchor=(1.15, 1), frameon=False)\n",
    "ax.set_ylabel(\"frequency of variants\")\n",
    "ax.set_xlabel(\"single nucleotide variant\")\n",
    "ax.set_title(f\"frequency of variants pooled from {RUNS} runs\")\n",
    "ax.set_yscale(\"log\")\n",
    "fig.show()"
   ]
  },
  {
   "cell_type": "code",
   "execution_count": null,
   "id": "5c47c99d",
   "metadata": {},
   "outputs": [],
   "source": [
    "fig, ax = plt.subplots(1, 1, tight_layout=True, figsize=(7, 3))\n",
    "sns.histplot(\n",
    "    data=simulated[simulated.id == 1],# .sample(n=4000, replace=False),\n",
    "    x=\"single nucleotide variant\",\n",
    "    hue=\"age\",\n",
    "    kde=False,\n",
    "    binwidth=1,\n",
    "    ax=ax,\n",
    "    stat=\"count\",\n",
    "    alpha=0.5,\n",
    "    palette=\"Dark2\"\n",
    ")\n",
    "ax.set_yscale(\"symlog\")\n",
    "sns.move_legend(ax, bbox_to_anchor=(1.01, 1), loc=\"upper left\", frameon=False)\n",
    "plt.show()"
   ]
  },
  {
   "cell_type": "code",
   "execution_count": null,
   "id": "1a82c3cd",
   "metadata": {},
   "outputs": [],
   "source": [
    "diamonds = sns.load_dataset(\"diamonds\")"
   ]
  },
  {
   "cell_type": "code",
   "execution_count": null,
   "id": "c64f5162",
   "metadata": {
    "scrolled": false
   },
   "outputs": [],
   "source": [
    "sns.catplot(\n",
    "    data=simulated,\n",
    "    x=\"age\", y=\"single nucleotide variant\", kind=\"box\",\n",
    ")"
   ]
  },
  {
   "cell_type": "code",
   "execution_count": null,
   "id": "a8824aa3",
   "metadata": {},
   "outputs": [],
   "source": [
    "diamonds"
   ]
  },
  {
   "cell_type": "code",
   "execution_count": null,
   "id": "85db1445",
   "metadata": {
    "scrolled": false
   },
   "outputs": [],
   "source": [
    "for age in simulated.age.unique():\n",
    "    fig, ax = plt.subplots(1, 1)\n",
    "    sns.histplot(\n",
    "        data=simulated.loc[simulated.age == age, [\"single nucleotide variant\", \"age\"]], \n",
    "        x=\"single nucleotide variant\",\n",
    "        ax=ax, \n",
    "        discrete=True\n",
    "    )\n",
    "    ax.set_title(age)\n",
    "    plt.show()"
   ]
  },
  {
   "cell_type": "code",
   "execution_count": null,
   "id": "9ebf89f4",
   "metadata": {},
   "outputs": [],
   "source": [
    "yo = simulated[[\"age\", \"id\", \"single nucleotide variant\"]].groupby([\"age\", \"id\"]).mean().reset_index()\n",
    "yo"
   ]
  },
  {
   "cell_type": "code",
   "execution_count": null,
   "id": "372af10a",
   "metadata": {
    "scrolled": false
   },
   "outputs": [],
   "source": [
    "for age in yo.age.unique():\n",
    "    fig, ax = plt.subplots(1, 1)\n",
    "    for i in yo.id.unique():\n",
    "        tmp = yo[(yo.age == age) & (yo.id == i)]\n",
    "        ax.boxplot(x=i, y=tmp[\"single nucleotide variant\"])\n",
    "    ax.set_title(age)\n",
    "    fig.show()"
   ]
  },
  {
   "cell_type": "markdown",
   "id": "34c92e28",
   "metadata": {},
   "source": [
    "## Entropy\n",
    "Compute the entropy of the sfs for all patients."
   ]
  },
  {
   "cell_type": "code",
   "execution_count": null,
   "id": "e7191c86",
   "metadata": {
    "scrolled": true
   },
   "outputs": [],
   "source": [
    "# load all sfs over time\n",
    "entropies_avg, entropies_std = [], []\n",
    "entropies = []\n",
    "for t in range(1, NB_TIMEPOINTS + 1):\n",
    "    sfs_t = sfs.load_sfs(PATH2SAVE, neutral=False, timepoint=t, runs=RUNS)\n",
    "\n",
    "    entropy = list()\n",
    "    # compute the entropy for the run\n",
    "    for sfs_patient in sfs_t.values():\n",
    "        jcells, jmuts = np.fromiter(sfs_patient.keys(), dtype=float), np.fromiter(sfs_patient.values(), dtype=float)\n",
    "        jcells /= jcells.sum()\n",
    "        pi = jcells * jmuts \n",
    "        entropy.append(stats.entropy(pi))\n",
    "    for i, e in enumerate(entropy):\n",
    "        entropies.append((x[t - 1], e, i))\n",
    "    # average and std of all runs for this timepoint\n",
    "    entropies_avg.append(np.mean(entropy, axis=-1))\n",
    "    entropies_std.append(np.std(entropy, axis=-1))\n",
    "\n",
    "fig, ax = plt.subplots(1, 1, tight_layout=True, figsize=FIGSIZE)\n",
    "ax.errorbar(\n",
    "    x,\n",
    "    entropies_avg,\n",
    "    yerr=entropies_std,\n",
    "    fmt=\"o\",\n",
    "    alpha=0.8,\n",
    "    label=f\"ABM, avg of {RUNS} runs\",\n",
    ")\n",
    "ax.set_xlabel(\"time [years]\")\n",
    "ax.set_ylabel(\"avg entropy\")\n",
    "ax.set_title(f\"avg of the entropy over {RUNS} runs\")\n",
    "plt.show()"
   ]
  },
  {
   "cell_type": "code",
   "execution_count": null,
   "id": "45e3f7e6",
   "metadata": {},
   "outputs": [],
   "source": [
    "# same plot as above but using sns api\n",
    "entropies_df = pd.DataFrame(entropies, columns=[\"time [years]\", \"entropy\", \"run\"])\n",
    "sns.relplot(\n",
    "    data=entropies_df[[\"time [years]\", \"entropy\"]],\n",
    "    x=\"time [years]\",\n",
    "    y=\"entropy\",\n",
    "    kind=\"line\",\n",
    "    errorbar=\"sd\",\n",
    "    aspect=2,\n",
    "    height=3,\n",
    ");"
   ]
  },
  {
   "cell_type": "code",
   "execution_count": null,
   "id": "e2d18624",
   "metadata": {},
   "outputs": [],
   "source": [
    "fig, ax = plt.subplots(1, 1, tight_layout=True, figsize=FIGSIZE)\n",
    "\n",
    "prob_jcells, idx = list(), list()\n",
    "for patient, sfs_patient in sfs_all.items():\n",
    "    jcells = np.fromiter(sfs_patient.keys(), dtype=float)\n",
    "    jcells /= jcells.sum()\n",
    "    prob_jcells.append(jcells)\n",
    "    idx.append(patient)\n",
    "\n",
    "for xx, pk in zip(idx, prob_jcells):\n",
    "    ax.bar(xx, stats.entropy(pk), color=\"grey\", alpha=0.8)\n",
    "ax.set_ylabel(\"entropy\")\n",
    "ax.set_xlabel(\"run idx\")\n",
    "ax.set_xticks(range(0, RUNS))\n",
    "ax.set_title(f\"entropy for {RUNS} runs after {YEARS} years\")\n",
    "plt.show()"
   ]
  },
  {
   "cell_type": "markdown",
   "id": "cbd84017",
   "metadata": {},
   "source": [
    "## Total variant\n",
    "The total variant fraction is the fraction of all selected clones averaged over all patients, that is anything except the wild type."
   ]
  },
  {
   "cell_type": "code",
   "execution_count": null,
   "id": "107479de",
   "metadata": {
    "scrolled": true
   },
   "outputs": [],
   "source": [
    "fig, ax = plt.subplots(1, 1, tight_layout=True, figsize=FIGSIZE)\n",
    "other_sims = pd.read_csv(PATH2SIMS).loc[:YEARS, :]\n",
    "\n",
    "ax.set_xlabel(\"time [years]\")\n",
    "ax.set_ylabel(\"avg total variant fraction\")\n",
    "variant_fraction = variant.load_variant_fractions(PATH2SAVE, NB_TIMEPOINTS, RUNS, SUBCLONES)\n",
    "total_fraction = variant_fraction.sum(axis=-1)\n",
    "ax.errorbar(\n",
    "    x,\n",
    "    total_fraction.mean(axis=-1),\n",
    "    yerr=total_fraction.std(axis=-1),\n",
    "    fmt=\"o\",\n",
    "    alpha=0.8,\n",
    "    label=f\"ABM, avg of {RUNS} runs\",\n",
    ")\n",
    "ax.plot(other_sims.t, other_sims[\"Expected total variant fraction\"], label=\"theory\")\n",
    "ax.plot(\n",
    "    other_sims.t,\n",
    "    other_sims[\"Average total variant fraction\"],\n",
    "    linestyle=\"--\",\n",
    "    label=\"sims, avg of ?? runs\",\n",
    ")\n",
    "ax.legend(loc=\"upper left\")\n",
    "if SAVE:\n",
    "    path2figure = PATH2SAVE / \"figures\"\n",
    "    try:\n",
    "        plt.savefig(path2figure / f\"total_variant{EXTENSION}\")\n",
    "    except FileNotFoundError:\n",
    "        path2figure.mkdir()\n",
    "        plt.savefig(path2figure / f\"total_variant{EXTENSION}\")\n",
    "plt.show()"
   ]
  },
  {
   "cell_type": "code",
   "execution_count": null,
   "id": "ed0c9716",
   "metadata": {},
   "outputs": [],
   "source": [
    "fig, ax = plt.subplots(1, 1, tight_layout=True, figsize=FIGSIZE)\n",
    "clones_abm = (\n",
    "    np.sum(np.sum(np.where(variant_fraction > 0.0, 1, 0), axis=-1), axis=-1) / RUNS\n",
    ")\n",
    "ax.scatter(x, clones_abm, label=f\"ABM, avg {RUNS} runs\")\n",
    "ax.plot(other_sims.t, other_sims[f\"Average number of existing clones\"], label=\"sims\")\n",
    "# ax.set_yscale(\"log\")\n",
    "ax.set_xlabel(\"time [years]\")\n",
    "ax.set_ylabel(\"clones\")\n",
    "ax.legend()\n",
    "ax.set_title(\"avg # of clones\")\n",
    "fig.show()"
   ]
  },
  {
   "cell_type": "code",
   "execution_count": null,
   "id": "329559b7",
   "metadata": {
    "scrolled": true
   },
   "outputs": [],
   "source": [
    "fig, ax = plt.subplots(1, 1, tight_layout=True, figsize=FIGSIZE)\n",
    "clones_abm = (\n",
    "    np.sum(\n",
    "        np.sum(np.where(variant_fraction > DETECTION_THRESH, 1, 0), axis=-1), axis=-1\n",
    "    )\n",
    "    / RUNS\n",
    ")\n",
    "ax.scatter(x, clones_abm, label=f\"ABM, avg {RUNS} runs\")\n",
    "ax.plot(\n",
    "    other_sims.t,\n",
    "    other_sims[f\"Average number of clones above threshold 0.01\"],\n",
    "    label=\"sims\",\n",
    ")\n",
    "# ax.set_yscale(\"log\")\n",
    "ax.set_xlabel(\"time [years]\")\n",
    "ax.set_ylabel(\"clones\")\n",
    "ax.legend()\n",
    "ax.set_title(f\"avg # of clones above frequency threshold of {DETECTION_THRESH}\")\n",
    "fig.show()"
   ]
  },
  {
   "cell_type": "code",
   "execution_count": null,
   "id": "3b9d7eb2",
   "metadata": {},
   "outputs": [],
   "source": [
    "# record-format\n",
    "df = list()\n",
    "for t in range(0, NB_TIMEPOINTS):\n",
    "    for r in range(RUNS):\n",
    "        for c in range(0, variant_fraction.shape[-1]):\n",
    "            df.append((x[t], r, c, variant_fraction[t, r, c]))\n",
    "df = pd.DataFrame(\n",
    "    df, columns=[\"time [years]\", \"run\", \"clone_id\", \"avg tot variant fraction\"]\n",
    ")\n",
    "df"
   ]
  },
  {
   "cell_type": "code",
   "execution_count": null,
   "id": "bfe25eb1",
   "metadata": {},
   "outputs": [],
   "source": [
    "rl = sns.relplot(\n",
    "    data=df.loc[\n",
    "        df[\"avg tot variant fraction\"] > DETECTION_THRESH,\n",
    "        [\"time [years]\", \"avg tot variant fraction\"],\n",
    "    ],\n",
    "    x=\"time [years]\",\n",
    "    y=\"avg tot variant fraction\",\n",
    "    kind=\"line\",\n",
    "    errorbar=\"sd\",\n",
    "    aspect=2,\n",
    "    height=3,\n",
    ")\n",
    "rl.fig.suptitle(\"tot avg fraction for detectable clones\")\n",
    "rl.fig.show()"
   ]
  },
  {
   "cell_type": "code",
   "execution_count": null,
   "id": "98580eac",
   "metadata": {},
   "outputs": [],
   "source": [
    "grouped = (\n",
    "    df[[\"run\", \"time [years]\", \"avg tot variant fraction\"]]\n",
    "    .groupby([\"run\", \"time [years]\"])\n",
    "    .sum()\n",
    "    .reset_index()\n",
    ")\n",
    "grouped.rename(\n",
    "    columns={\"avg tot variant fraction\": \"tot variant fraction\"}, inplace=True\n",
    ")\n",
    "grouped"
   ]
  },
  {
   "cell_type": "code",
   "execution_count": null,
   "id": "60737777",
   "metadata": {},
   "outputs": [],
   "source": [
    "df = df.merge(grouped, on=[\"run\", \"time [years]\"], how=\"left\", validate=\"many_to_one\")\n",
    "df[\"effective fitness\"] = (\n",
    "    S * df[\"avg tot variant fraction\"] / df[\"tot variant fraction\"]\n",
    ").fillna(0)\n",
    "df"
   ]
  },
  {
   "cell_type": "code",
   "execution_count": null,
   "id": "83ce05f2",
   "metadata": {
    "scrolled": false
   },
   "outputs": [],
   "source": [
    "int_x = [round(x_) for x_ in x]\n",
    "clones = []\n",
    "for run in range(RUNS):\n",
    "    fig, ax = plt.subplots(1, 1, tight_layout=True, figsize=FIGSIZE)\n",
    "    try:\n",
    "        detected = df.loc[\n",
    "            (df[\"avg tot variant fraction\"] > DETECTION_THRESH) & (df.run == run), :\n",
    "        ]\n",
    "        detected_clones = set(detected.clone_id.tolist())\n",
    "        sns.barplot(\n",
    "            detected,\n",
    "            x=\"time [years]\",\n",
    "            y=\"avg tot variant fraction\",\n",
    "            hue=\"clone_id\",\n",
    "            ax=ax,\n",
    "            palette=\"Dark2\",\n",
    "        )\n",
    "    except ValueError:  # no detectable clone for this run\n",
    "        continue\n",
    "    ax.set_ylabel(\"variant fraction\")\n",
    "    ax.legend(loc=\"center left\", title=\"clone id\")\n",
    "    ax.set_title(\n",
    "        f\"variant fraction of clones above frequency threshold of {DETECTION_THRESH}\"\n",
    "    )\n",
    "    plt.show()\n",
    "\n",
    "    pivoted = detected.pivot(\n",
    "        columns=\"clone_id\", index=\"time [years]\", values=\"avg tot variant fraction\"\n",
    "    ).fillna(0)\n",
    "\n",
    "    fig, ax = plt.subplots(1, 1, tight_layout=True, figsize=FIGSIZE)\n",
    "    pivoted.plot(ax=ax, color=sns.color_palette(\"Dark2\"))\n",
    "    ax.set_ylabel(\"variant fraction\")\n",
    "    ax.legend(loc=\"center left\", title=\"clone id\")\n",
    "    ax.set_title(\n",
    "        f\"variant fraction of clones above frequency threshold of {DETECTION_THRESH}\"\n",
    "    )\n",
    "    ax.set_xlim([0, YEARS])\n",
    "\n",
    "    fig, ax = plt.subplots(1, 1, tight_layout=True, figsize=FIGSIZE)\n",
    "    pivoted = (\n",
    "        df.loc[\n",
    "            (df.run == run) & (df.clone_id.isin(detected_clones)),\n",
    "            [\"clone_id\", \"time [years]\", \"effective fitness\"],\n",
    "        ]\n",
    "        .pivot(columns=\"clone_id\", index=\"time [years]\", values=\"effective fitness\")\n",
    "        .fillna(0)\n",
    "    )\n",
    "    pivoted.plot(ax=ax, color=sns.color_palette(\"Dark2\"))\n",
    "    ax.set_ylabel(\"effective fitness\")\n",
    "    ax.legend(loc=\"center left\", title=\"clone id\")\n",
    "    ax.set_title(\n",
    "        f\"effective fitness of clones above frequency threshold of {DETECTION_THRESH}\"\n",
    "    )\n",
    "\n",
    "    plt.show()"
   ]
  }
 ],
 "metadata": {
  "kernelspec": {
   "display_name": "hsc-draft",
   "language": "python",
   "name": "hsc-draft"
  },
  "language_info": {
   "codemirror_mode": {
    "name": "ipython",
    "version": 3
   },
   "file_extension": ".py",
   "mimetype": "text/x-python",
   "name": "python",
   "nbconvert_exporter": "python",
   "pygments_lexer": "ipython3",
   "version": "3.9.17"
  }
 },
 "nbformat": 4,
 "nbformat_minor": 5
}
