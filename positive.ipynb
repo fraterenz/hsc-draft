{
 "cells": [
  {
   "cell_type": "markdown",
   "id": "3509fddf",
   "metadata": {},
   "source": [
    "# HSC\n",
    "Markov process with fixed-size population with k-types such that the type 0 is the wild-type with growth rate of `B0`. \n",
    "\n",
    "A cells can get a mutation conferring a proliferative advantage upon cell division. We model this process with a Bernouilli trial with success probability of `u`, with units of 1 mutation/division. To compute `u` we can do `u =  MU0 / (B0 * NCELLS)` for the symmetric division case.\n",
    "\n",
    "For now, all k clones have the same proliferative advantage with k greater than 0."
   ]
  },
  {
   "cell_type": "markdown",
   "id": "e5108f9d-6368-47ac-a8cf-92b2c9d32d37",
   "metadata": {
    "jp-MarkdownHeadingCollapsed": true
   },
   "source": [
    "## Simulation and parameters"
   ]
  },
  {
   "cell_type": "code",
   "execution_count": null,
   "id": "ce19ffa6",
   "metadata": {},
   "outputs": [],
   "source": [
    "import matplotlib.pyplot as plt\n",
    "import json\n",
    "import numpy as np\n",
    "import pandas as pd\n",
    "import socket\n",
    "import seaborn as sns\n",
    "import sys\n",
    "from hscpy import burden, variant, get_idx_timepoint_from_age, sfs\n",
    "from typing import Dict\n",
    "from scipy import stats\n",
    "from pathlib import Path\n",
    "from futils import parse_version, snapshot\n",
    "\n",
    "PATH2BIN = Path(\"~\").expanduser() / \"hsc/target/release\"\n",
    "assert PATH2BIN.is_dir()\n",
    "FIGSIZE = [7, 3]\n",
    "PDF = True\n",
    "EXTENSION = \".pdf\" if PDF else \".png\"\n",
    "YEARS_FAST = 80\n",
    "RUNS = 8\n",
    "NB_TIMEPOINTS = 21\n",
    "DETECTION_THRESH = 0.01\n",
    "SUBCLONES = 60\n",
    "SAVE = False\n",
    "USE_SCRATCH = False"
   ]
  },
  {
   "cell_type": "code",
   "execution_count": null,
   "id": "29477a90-abc6-454b-a8c8-fc49f66244f2",
   "metadata": {},
   "outputs": [],
   "source": [
    "%load_ext autoreload\n",
    "%autoreload 2"
   ]
  },
  {
   "cell_type": "code",
   "execution_count": null,
   "id": "d40ff0f6",
   "metadata": {},
   "outputs": [],
   "source": [
    "NCELLS = 200_000\n",
    "# mean of the Bernouilli trial (prob of success) to get an asymmetric\n",
    "# division upon cell division, units are [1 asymmetric division / division]\n",
    "P_ASYMMETRIC = 0\n",
    "\n",
    "## NEUTRAL RATES\n",
    "# division rate for the wild-type in units of [division / (year * cell)]\n",
    "# Welch, J.S. et al. (2012) ‘The Origin and Evolution of Mutations in Acute Myeloid Leukemia’,\n",
    "# Cell, 150(2), pp. 264–278\n",
    "B0 = 1  # TODO: double check this, should be between 2 and 20?\n",
    "# Abascal, F. et al. (2021) ‘Somatic mutation landscapes at single-molecule resolution’,\n",
    "# Nature, 593(7859), pp. 405–410. fig. 2b\n",
    "# see also fig 1b of Mitchell, E. et al.\n",
    "# (2022) ‘Clonal dynamics of haematopoiesis across the human lifespan’,\n",
    "# Nature, 606(7913), pp. 343–350\n",
    "NEUTRAL_RATE = 20  # [mut/(year * cell)]\n",
    "\n",
    "## FIT CLONES\n",
    "# avg fit mutations arising in 1 year, units are [mutations/year]\n",
    "# from ABC's inference\n",
    "MU0 = 2\n",
    "# proliferative advantage conferred by fit mutations, all clones\n",
    "# have the same proliferative advantage for now. Units are\n",
    "# [mutation / division]\n",
    "S = 0.11\n",
    "# mean of the Bernouilli trial (prob of success) to get a fit variant upon\n",
    "# cell division, units are [1 mutation/division]\n",
    "u = MU0 / (B0 * NCELLS)\n",
    "# should be 2.0 × 10−3 per HSC per year according to Mitchell, E. et al.\n",
    "# (2022) ‘Clonal dynamics of haematopoiesis across the human lifespan’,\n",
    "# Nature, 606(7913), pp. 343–350\n",
    "# driver mutations enter the HSC compartment at 2.0 × 10−3 per HSC per year\n",
    "print(f\"average sucess rate of occurence of 1 fit mutation upon cell division u={u}\")"
   ]
  },
  {
   "cell_type": "code",
   "execution_count": null,
   "id": "985e133e",
   "metadata": {},
   "outputs": [],
   "source": [
    "if socket.gethostname() == \"5X9ZYD3\":\n",
    "    PATH2SIMS = Path(\"/mnt/c/Users/terenz01/Documents/SwitchDrive/PhD/\")\n",
    "    YEARS = YEARS_FAST\n",
    "elif socket.gethostname() == \"LAPTOP-CEKCHJ4C\":\n",
    "    PATH2SIMS = Path(\"/mnt/c/Users/fra_t/Documents/PhD/\")\n",
    "    # need + 1 to save the last timepoint\n",
    "    YEARS = YEARS_FAST\n",
    "else:\n",
    "    PATH2SIMS = Path(\"~\").expanduser()\n",
    "    YEARS = 100\n",
    "\n",
    "PATH2SIMS /= Path(\"totalVariantFracTime.csv\")\n",
    "x = np.linspace(0, YEARS, NB_TIMEPOINTS)\n",
    "assert PATH2SIMS.is_file()"
   ]
  },
  {
   "cell_type": "code",
   "execution_count": null,
   "id": "affa36a0",
   "metadata": {},
   "outputs": [],
   "source": [
    "%%bash -s \"$PATH2BIN\" --out version\n",
    "$1/hsc --version"
   ]
  },
  {
   "cell_type": "code",
   "execution_count": null,
   "id": "554d54b6",
   "metadata": {},
   "outputs": [],
   "source": [
    "VERSION = parse_version(version)\n",
    "if USE_SCRATCH:\n",
    "    PATH2SAVE = Path(f\"/data/scratch/hfx923/hsc-draft/{VERSION}\")\n",
    "else:\n",
    "    PATH2SAVE = Path(f\"./{VERSION}\")\n",
    "print(\"Running hsc with version:\", VERSION)"
   ]
  },
  {
   "cell_type": "code",
   "execution_count": null,
   "id": "1c914562",
   "metadata": {},
   "outputs": [],
   "source": [
    "%%bash -s \"$PATH2BIN\" \"$PATH2SAVE\" \"$B0\" \"$MU0\" \"$NEUTRAL_RATE\" \"$S\" \"$P_ASYMMETRIC\" \"$RUNS\" \"$NCELLS\" \"$YEARS\" \"$NB_TIMEPOINTS\"\n",
    "rm -rf $2\n",
    "$1/hsc -c $9 -y ${10} -r $8 --b0 $3 --mu0 $4 --neutral-rate $5 -s $6 --p-asymmetric $7 --snapshots ${11} $2"
   ]
  },
  {
   "cell_type": "markdown",
   "id": "4dfcd265",
   "metadata": {
    "jp-MarkdownHeadingCollapsed": true
   },
   "source": [
    "## SFS"
   ]
  },
  {
   "cell_type": "code",
   "execution_count": null,
   "id": "00863054-6172-4bd5-937f-37af0670ba04",
   "metadata": {},
   "outputs": [],
   "source": [
    "sfs_all = sfs.load_sfs(PATH2SAVE, runs=RUNS, timepoint=1)"
   ]
  },
  {
   "cell_type": "code",
   "execution_count": null,
   "id": "32a4d122-08b8-48ea-97b0-1a1e2110c8c1",
   "metadata": {},
   "outputs": [],
   "source": [
    "sfs_three = sfs_all[\"3\"]\n",
    "fig, ax = plt.subplots(1, 1)\n",
    "sfs2plot = pd.Series(sfs_three, dtype=int).value_counts()\n",
    "ax.plot(sfs2plot.index, sfs2plot, linestyle=\"\", marker=\"x\")\n",
    "ax.set_xscale(\"log\")\n",
    "ax.set_yscale(\"log\")\n",
    "ax.set_xlabel(\"j cells\")\n",
    "ax.set_ylabel(\"# of muts in j cells\")\n",
    "fig.show()"
   ]
  },
  {
   "cell_type": "code",
   "execution_count": null,
   "id": "5f256e50-b5c7-465a-8d35-52996df50b58",
   "metadata": {},
   "outputs": [],
   "source": [
    "sfs_all = sfs.pandafy_sfs_dict(sfs_all)"
   ]
  },
  {
   "cell_type": "code",
   "execution_count": null,
   "id": "ed71b9ec-3b17-4f7c-ad87-14a2b87547fe",
   "metadata": {},
   "outputs": [],
   "source": [
    "fig, ax = plt.subplots(1, 1)\n",
    "ax.plot(x, y, linestyle=\"--\", color=\"black\", alpha=0.5, label=\"1/f\")\n",
    "sns.scatterplot(\n",
    "    sfs_all,\n",
    "    x=\"# of j cells\",\n",
    "    y=\"# of muts in j cells\",\n",
    "    hue=\"id\",\n",
    "    ax=ax,\n",
    "    marker=\"x\",\n",
    "    alpha=0.5,\n",
    ")\n",
    "x = np.arange(1, NCELLS, dtype=int)\n",
    "y = 1.0 / x * NCELLS\n",
    "ax.set_xscale(\"log\")\n",
    "ax.set_yscale(\"log\")\n",
    "ax.set_xlabel(\"j cells\")\n",
    "ax.set_ylabel(\"# of muts in j cells\")\n",
    "fig.show()"
   ]
  },
  {
   "cell_type": "markdown",
   "id": "cf11a8d9",
   "metadata": {
    "jp-MarkdownHeadingCollapsed": true
   },
   "source": [
    "## Single-cell mutational burden"
   ]
  },
  {
   "cell_type": "code",
   "execution_count": null,
   "id": "f795bb18-48a7-4aef-9363-f396deaa1aa7",
   "metadata": {},
   "outputs": [],
   "source": [
    "mitchell_ages = (0, 29, 38, 48, 63, 75)  # , 81)\n",
    "closest_age = dict.fromkeys(mitchell_ages)\n",
    "simulated = dict()\n",
    "for age in mitchell_ages:\n",
    "    print(f\"\\nloading mutational burden for age {age}\")\n",
    "    idx_timepoint, closest_age_ = get_idx_timepoint_from_age(\n",
    "        age, YEARS_FAST, NB_TIMEPOINTS\n",
    "    )\n",
    "    closest_age[age] = closest_age_\n",
    "    simulated[closest_age[age]] = dict()\n",
    "    try:\n",
    "        for idx_sim, simulation in burden.load_burden(\n",
    "            PATH2SAVE, runs=RUNS, timepoint=idx_timepoint\n",
    "        ).items():\n",
    "            simulated[closest_age[age]][idx_sim] = simulation\n",
    "    except AssertionError:\n",
    "        print(\n",
    "            f\"skipping timepoint {idx_timepoint} with age {closest_age_} because empty mutational burden\"\n",
    "        )"
   ]
  },
  {
   "cell_type": "code",
   "execution_count": null,
   "id": "958d94af-7206-4696-a7b5-e43ffbd8b032",
   "metadata": {},
   "outputs": [],
   "source": [
    "id2plot = \"3\"\n",
    "fig, ax = plt.subplots(1, 1)\n",
    "for (age, sfs_dict), c in zip(\n",
    "    simulated.items(), (\"red\", \"grey\", \"black\", \"cyan\", \"yellowgreen\", \"blue\")\n",
    "):\n",
    "    burden.plot_burden(sfs_dict[id2plot], ax, label=age, color=c, alpha=0.8)\n",
    "ax.legend(title=\"age\")\n",
    "ax.set_xlabel(\"single nucleotide variant\")\n",
    "ax.set_ylabel(\"cell count\")\n",
    "ax.set_title(\"single cell mutational burden\")\n",
    "plt.show()"
   ]
  },
  {
   "cell_type": "markdown",
   "id": "34c92e28",
   "metadata": {},
   "source": [
    "## Entropy"
   ]
  },
  {
   "cell_type": "code",
   "execution_count": null,
   "id": "e7191c86",
   "metadata": {
    "scrolled": true
   },
   "outputs": [],
   "source": [
    "# load all sfs over time\n",
    "entropies_avg, entropies_std = [], []\n",
    "entropies = []\n",
    "for t in range(1, NB_TIMEPOINTS + 1):\n",
    "    sfs_t = sfs.load_sfs(PATH2SAVE, timepoint=t, runs=RUNS)\n",
    "\n",
    "    entropy = list()\n",
    "    # compute the entropy for the run\n",
    "    for sfs_patient in sfs_t.values():\n",
    "        jcells, jmuts = np.fromiter(sfs_patient.keys(), dtype=float), np.fromiter(\n",
    "            sfs_patient.values(), dtype=float\n",
    "        )\n",
    "        jcells /= jcells.sum()\n",
    "        pi = jcells * jmuts\n",
    "        entropy.append(stats.entropy(pi))\n",
    "    for i, e in enumerate(entropy):\n",
    "        entropies.append((x[t - 1], e, i))\n",
    "    # average and std of all runs for this timepoint\n",
    "    entropies_avg.append(np.mean(entropy, axis=-1))\n",
    "    entropies_std.append(np.std(entropy, axis=-1))\n",
    "\n",
    "fig, ax = plt.subplots(1, 1, tight_layout=True, figsize=FIGSIZE)\n",
    "ax.errorbar(\n",
    "    x,\n",
    "    entropies_avg,\n",
    "    yerr=entropies_std,\n",
    "    fmt=\"o\",\n",
    "    alpha=0.8,\n",
    "    label=f\"ABM, avg of {RUNS} runs\",\n",
    ")\n",
    "ax.set_xlabel(\"time [years]\")\n",
    "ax.set_ylabel(\"avg entropy\")\n",
    "ax.set_title(f\"avg of the entropy over {RUNS} runs\")\n",
    "plt.show()"
   ]
  },
  {
   "cell_type": "code",
   "execution_count": null,
   "id": "45e3f7e6",
   "metadata": {},
   "outputs": [],
   "source": [
    "# same plot as above but using sns api\n",
    "entropies_df = pd.DataFrame(entropies, columns=[\"time [years]\", \"entropy\", \"run\"])\n",
    "sns.relplot(\n",
    "    data=entropies_df[[\"time [years]\", \"entropy\"]],\n",
    "    x=\"time [years]\",\n",
    "    y=\"entropy\",\n",
    "    kind=\"line\",\n",
    "    errorbar=\"sd\",\n",
    "    aspect=2,\n",
    "    height=3,\n",
    ");"
   ]
  },
  {
   "cell_type": "code",
   "execution_count": null,
   "id": "e2d18624",
   "metadata": {},
   "outputs": [],
   "source": [
    "fig, ax = plt.subplots(1, 1, tight_layout=True, figsize=FIGSIZE)\n",
    "\n",
    "prob_jcells, idx = list(), list()\n",
    "for patient, sfs_patient in sfs_all.items():\n",
    "    jcells = np.fromiter(sfs_patient.keys(), dtype=float)\n",
    "    jcells /= jcells.sum()\n",
    "    prob_jcells.append(jcells)\n",
    "    idx.append(patient)\n",
    "\n",
    "for xx, pk in zip(idx, prob_jcells):\n",
    "    ax.bar(xx, stats.entropy(pk), color=\"grey\", alpha=0.8)\n",
    "ax.set_ylabel(\"entropy\")\n",
    "ax.set_xlabel(\"run idx\")\n",
    "ax.set_xticks(range(0, RUNS))\n",
    "ax.set_title(f\"entropy for {RUNS} runs after {YEARS} years\")\n",
    "plt.show()"
   ]
  },
  {
   "cell_type": "markdown",
   "id": "cbd84017",
   "metadata": {
    "jp-MarkdownHeadingCollapsed": true
   },
   "source": [
    "## Total variant\n",
    "The total variant fraction is the fraction of all selected clones averaged over all patients, that is anything except the wild type."
   ]
  },
  {
   "cell_type": "code",
   "execution_count": null,
   "id": "107479de",
   "metadata": {
    "scrolled": true
   },
   "outputs": [],
   "source": [
    "fig, ax = plt.subplots(1, 1, tight_layout=True, figsize=FIGSIZE)\n",
    "other_sims = pd.read_csv(PATH2SIMS).loc[:YEARS, :]\n",
    "\n",
    "ax.set_xlabel(\"time [years]\")\n",
    "ax.set_ylabel(\"avg total variant fraction\")\n",
    "variant_fraction = variant.load_variant_fractions(\n",
    "    PATH2SAVE, NB_TIMEPOINTS, RUNS, SUBCLONES\n",
    ")\n",
    "total_fraction = variant_fraction.sum(axis=-1)\n",
    "ax.errorbar(\n",
    "    x,\n",
    "    total_fraction.mean(axis=-1),\n",
    "    yerr=total_fraction.std(axis=-1),\n",
    "    fmt=\"o\",\n",
    "    alpha=0.8,\n",
    "    label=f\"ABM, avg of {RUNS} runs\",\n",
    ")\n",
    "ax.plot(other_sims.t, other_sims[\"Expected total variant fraction\"], label=\"theory\")\n",
    "ax.plot(\n",
    "    other_sims.t,\n",
    "    other_sims[\"Average total variant fraction\"],\n",
    "    linestyle=\"--\",\n",
    "    label=\"sims, avg of ?? runs\",\n",
    ")\n",
    "ax.legend(loc=\"upper left\")\n",
    "if SAVE:\n",
    "    path2figure = PATH2SAVE / \"figures\"\n",
    "    try:\n",
    "        plt.savefig(path2figure / f\"total_variant{EXTENSION}\")\n",
    "    except FileNotFoundError:\n",
    "        path2figure.mkdir()\n",
    "        plt.savefig(path2figure / f\"total_variant{EXTENSION}\")\n",
    "plt.show()"
   ]
  },
  {
   "cell_type": "code",
   "execution_count": null,
   "id": "ed0c9716",
   "metadata": {},
   "outputs": [],
   "source": [
    "fig, ax = plt.subplots(1, 1, tight_layout=True, figsize=FIGSIZE)\n",
    "clones_abm = (\n",
    "    np.sum(np.sum(np.where(variant_fraction > 0.0, 1, 0), axis=-1), axis=-1) / RUNS\n",
    ")\n",
    "ax.scatter(x, clones_abm, label=f\"ABM, avg {RUNS} runs\")\n",
    "ax.plot(other_sims.t, other_sims[f\"Average number of existing clones\"], label=\"sims\")\n",
    "# ax.set_yscale(\"log\")\n",
    "ax.set_xlabel(\"time [years]\")\n",
    "ax.set_ylabel(\"clones\")\n",
    "ax.legend()\n",
    "ax.set_title(\"avg # of clones\")\n",
    "fig.show()"
   ]
  },
  {
   "cell_type": "code",
   "execution_count": null,
   "id": "329559b7",
   "metadata": {
    "scrolled": true
   },
   "outputs": [],
   "source": [
    "fig, ax = plt.subplots(1, 1, tight_layout=True, figsize=FIGSIZE)\n",
    "clones_abm = (\n",
    "    np.sum(\n",
    "        np.sum(np.where(variant_fraction > DETECTION_THRESH, 1, 0), axis=-1), axis=-1\n",
    "    )\n",
    "    / RUNS\n",
    ")\n",
    "ax.scatter(x, clones_abm, label=f\"ABM, avg {RUNS} runs\")\n",
    "ax.plot(\n",
    "    other_sims.t,\n",
    "    other_sims[f\"Average number of clones above threshold 0.01\"],\n",
    "    label=\"sims\",\n",
    ")\n",
    "# ax.set_yscale(\"log\")\n",
    "ax.set_xlabel(\"time [years]\")\n",
    "ax.set_ylabel(\"clones\")\n",
    "ax.legend()\n",
    "ax.set_title(f\"avg # of clones above frequency threshold of {DETECTION_THRESH}\")\n",
    "fig.show()"
   ]
  },
  {
   "cell_type": "code",
   "execution_count": null,
   "id": "3b9d7eb2",
   "metadata": {},
   "outputs": [],
   "source": [
    "# record-format\n",
    "df = list()\n",
    "for t in range(0, NB_TIMEPOINTS):\n",
    "    for r in range(RUNS):\n",
    "        for c in range(0, variant_fraction.shape[-1]):\n",
    "            df.append((x[t], r, c, variant_fraction[t, r, c]))\n",
    "df = pd.DataFrame(\n",
    "    df, columns=[\"time [years]\", \"run\", \"clone_id\", \"avg tot variant fraction\"]\n",
    ")\n",
    "df"
   ]
  },
  {
   "cell_type": "code",
   "execution_count": null,
   "id": "bfe25eb1",
   "metadata": {},
   "outputs": [],
   "source": [
    "rl = sns.relplot(\n",
    "    data=df.loc[\n",
    "        df[\"avg tot variant fraction\"] > DETECTION_THRESH,\n",
    "        [\"time [years]\", \"avg tot variant fraction\"],\n",
    "    ],\n",
    "    x=\"time [years]\",\n",
    "    y=\"avg tot variant fraction\",\n",
    "    kind=\"line\",\n",
    "    errorbar=\"sd\",\n",
    "    aspect=2,\n",
    "    height=3,\n",
    ")\n",
    "rl.fig.suptitle(\"tot avg fraction for detectable clones\")\n",
    "rl.fig.show()"
   ]
  },
  {
   "cell_type": "code",
   "execution_count": null,
   "id": "98580eac",
   "metadata": {},
   "outputs": [],
   "source": [
    "grouped = (\n",
    "    df[[\"run\", \"time [years]\", \"avg tot variant fraction\"]]\n",
    "    .groupby([\"run\", \"time [years]\"])\n",
    "    .sum()\n",
    "    .reset_index()\n",
    ")\n",
    "grouped.rename(\n",
    "    columns={\"avg tot variant fraction\": \"tot variant fraction\"}, inplace=True\n",
    ")\n",
    "grouped"
   ]
  },
  {
   "cell_type": "code",
   "execution_count": null,
   "id": "60737777",
   "metadata": {},
   "outputs": [],
   "source": [
    "df = df.merge(grouped, on=[\"run\", \"time [years]\"], how=\"left\", validate=\"many_to_one\")\n",
    "df[\"effective fitness\"] = (\n",
    "    S * df[\"avg tot variant fraction\"] / df[\"tot variant fraction\"]\n",
    ").fillna(0)\n",
    "df"
   ]
  },
  {
   "cell_type": "code",
   "execution_count": null,
   "id": "83ce05f2",
   "metadata": {},
   "outputs": [],
   "source": [
    "int_x = [round(x_) for x_ in x]\n",
    "clones = []\n",
    "for run in range(RUNS):\n",
    "    fig, ax = plt.subplots(1, 1, tight_layout=True, figsize=FIGSIZE)\n",
    "    try:\n",
    "        detected = df.loc[\n",
    "            (df[\"avg tot variant fraction\"] > DETECTION_THRESH) & (df.run == run), :\n",
    "        ]\n",
    "        detected_clones = set(detected.clone_id.tolist())\n",
    "        sns.barplot(\n",
    "            detected,\n",
    "            x=\"time [years]\",\n",
    "            y=\"avg tot variant fraction\",\n",
    "            hue=\"clone_id\",\n",
    "            ax=ax,\n",
    "            palette=\"Dark2\",\n",
    "        )\n",
    "    except ValueError:  # no detectable clone for this run\n",
    "        continue\n",
    "    ax.set_ylabel(\"variant fraction\")\n",
    "    ax.legend(loc=\"center left\", title=\"clone id\")\n",
    "    ax.set_title(\n",
    "        f\"variant fraction of clones above frequency threshold of {DETECTION_THRESH}\"\n",
    "    )\n",
    "    plt.show()\n",
    "\n",
    "    pivoted = detected.pivot(\n",
    "        columns=\"clone_id\", index=\"time [years]\", values=\"avg tot variant fraction\"\n",
    "    ).fillna(0)\n",
    "\n",
    "    fig, ax = plt.subplots(1, 1, tight_layout=True, figsize=FIGSIZE)\n",
    "    pivoted.plot(ax=ax, color=sns.color_palette(\"Dark2\"))\n",
    "    ax.set_ylabel(\"variant fraction\")\n",
    "    ax.legend(loc=\"center left\", title=\"clone id\")\n",
    "    ax.set_title(\n",
    "        f\"variant fraction of clones above frequency threshold of {DETECTION_THRESH}\"\n",
    "    )\n",
    "    ax.set_xlim([0, YEARS])\n",
    "\n",
    "    fig, ax = plt.subplots(1, 1, tight_layout=True, figsize=FIGSIZE)\n",
    "    pivoted = (\n",
    "        df.loc[\n",
    "            (df.run == run) & (df.clone_id.isin(detected_clones)),\n",
    "            [\"clone_id\", \"time [years]\", \"effective fitness\"],\n",
    "        ]\n",
    "        .pivot(columns=\"clone_id\", index=\"time [years]\", values=\"effective fitness\")\n",
    "        .fillna(0)\n",
    "    )\n",
    "    pivoted.plot(ax=ax, color=sns.color_palette(\"Dark2\"))\n",
    "    ax.set_ylabel(\"effective fitness\")\n",
    "    ax.legend(loc=\"center left\", title=\"clone id\")\n",
    "    ax.set_title(\n",
    "        f\"effective fitness of clones above frequency threshold of {DETECTION_THRESH}\"\n",
    "    )\n",
    "\n",
    "    plt.show()"
   ]
  }
 ],
 "metadata": {
  "kernelspec": {
   "display_name": "hsc-draft",
   "language": "python",
   "name": "hsc-draft"
  },
  "language_info": {
   "codemirror_mode": {
    "name": "ipython",
    "version": 3
   },
   "file_extension": ".py",
   "mimetype": "text/x-python",
   "name": "python",
   "nbconvert_exporter": "python",
   "pygments_lexer": "ipython3",
   "version": "3.11.3"
  }
 },
 "nbformat": 4,
 "nbformat_minor": 5
}
