{
 "cells": [
  {
   "cell_type": "code",
   "execution_count": null,
   "id": "f0494fa8",
   "metadata": {},
   "outputs": [],
   "source": [
    "import matplotlib.pyplot as plt\n",
    "from pathlib import Path\n",
    "import subprocess\n",
    "from hscpy import realisation, parameters\n",
    "from hscpy.figures import burden as burden_figures\n",
    "from hscpy.figures import sfs as sfs_figures\n",
    "from hscpy.figures import PlotOptions, simulations\n",
    "\n",
    "from futils import parse_version\n",
    "\n",
    "SAVEFIG = True\n",
    "BIGLABELS = False\n",
    "FIGSIZE = [5, 3] if BIGLABELS else [6.4, 4.8]  # default matplotlib\n",
    "EXTENSION = \".svg\"\n",
    "PLOT_OPTIONS = PlotOptions(figsize=FIGSIZE, extension=EXTENSION, save=SAVEFIG)\n",
    "PATH2HSC = Path(\"~\").expanduser() / \"hsc\"\n",
    "assert PATH2HSC.is_dir()"
   ]
  },
  {
   "cell_type": "code",
   "execution_count": null,
   "id": "c4a8d5e9",
   "metadata": {},
   "outputs": [],
   "source": [
    "%%bash -s \"$PATH2HSC\" --out version\n",
    "$1/target/release/hsc  --version"
   ]
  },
  {
   "cell_type": "code",
   "execution_count": null,
   "id": "bcd32f83",
   "metadata": {},
   "outputs": [],
   "source": [
    "VERSION = parse_version(version)\n",
    "print(\"Running hsc with version:\", VERSION)"
   ]
  },
  {
   "cell_type": "code",
   "execution_count": null,
   "id": "b3455bf4",
   "metadata": {},
   "outputs": [],
   "source": [
    "# PARAMS\n",
    "tau = 4\n",
    "mu = 5\n",
    "c = 100_000 # cells\n",
    "# fitness distr (measured per year)\n",
    "eta, sigma = 0.06, 0.02\n",
    "\n",
    "cmd = f\"{PATH2HSC}/target/release/hsc -c {c} -y 81 -r 1 --tau {tau} --mu0 {mu} --mu-exp {parameters.compute_m_exp(c)} --mu-division 1.2 --mu-background {parameters.compute_m_background(tau)} --mean-std {parameters.compute_s_per_division_from_s_per_year(eta, tau)} {parameters.compute_std_per_division_from_std_per_year(sigma, tau)} --subsamples 368 --snapshots 0 10 20 30 40 50 60 70 80 --save-population --sequential ./simulations\"\n",
    "print(cmd)"
   ]
  },
  {
   "cell_type": "code",
   "execution_count": null,
   "id": "eb203696",
   "metadata": {},
   "outputs": [],
   "source": [
    "subprocess.run(\n",
    "    cmd,\n",
    "    shell=True, \n",
    "    check=True\n",
    ")"
   ]
  },
  {
   "cell_type": "code",
   "execution_count": null,
   "id": "b79f7748",
   "metadata": {},
   "outputs": [],
   "source": [
    "sfs = realisation.load_realisations(\n",
    "    Path(\"./simulations/100000cells/sfs/\"),\n",
    "    realisation.RealisationKind.SFS,\n",
    "    filtering=None\n",
    ")"
   ]
  },
  {
   "cell_type": "code",
   "execution_count": null,
   "id": "39a56f51",
   "metadata": {},
   "outputs": [],
   "source": [
    "sfs[0][0].sfs[53744]"
   ]
  },
  {
   "cell_type": "code",
   "execution_count": null,
   "id": "90deb505",
   "metadata": {
    "scrolled": true
   },
   "outputs": [],
   "source": [
    "max(sfs[0][0].sfs.keys()) * 2 "
   ]
  },
  {
   "cell_type": "code",
   "execution_count": null,
   "id": "dd05daa4",
   "metadata": {
    "scrolled": true
   },
   "outputs": [],
   "source": [
    "for k, sfs_ in sfs.items():\n",
    "    fig, ax = plt.subplots(1, 1, figsize=[7.8, 6], layout=\"constrained\") \n",
    "    sfs_figures.plot_sfs(\n",
    "        ax,\n",
    "        sfs_[0].sfs, \n",
    "        True, \n",
    "        PLOT_OPTIONS, \n",
    "        normalise_x=sfs_figures.ToCellFrequency(sample_size=100_000, to_one=True),\n",
    "        ls=\"\",\n",
    "        marker=\"o\",\n",
    "        mew=2,\n",
    "        label=f\"{int(k)} years\"\n",
    "    )\n",
    "    ax.set_xlim([10**(-5), 3])\n",
    "    ax.legend()\n",
    "    plt.savefig(f\"{int(k)}_sfs.png\")\n",
    "    plt.show()"
   ]
  },
  {
   "cell_type": "markdown",
   "id": "8e715cf5",
   "metadata": {},
   "source": [
    "### No exp. phase"
   ]
  },
  {
   "cell_type": "code",
   "execution_count": null,
   "id": "acbf5ae6",
   "metadata": {},
   "outputs": [],
   "source": [
    "# PARAMS\n",
    "tau = 4\n",
    "mu = 5\n",
    "c = 100_000 # cells\n",
    "# fitness distr (measured per year)\n",
    "eta, sigma = 0.06, 0.02\n",
    "\n",
    "cmd = f\"{PATH2HSC}/target/release/hsc -c {c} -y 81 -r 1 --tau {tau} --mu0 {mu} --mu-division 1.2 --mu-background {parameters.compute_m_background(tau)} --mean-std {parameters.compute_s_per_division_from_s_per_year(eta, tau)} {parameters.compute_std_per_division_from_std_per_year(sigma, tau)} --subsamples 368 --snapshots 0 10 20 30 40 50 60 70 80 --save-population --sequential ./simulations_exp\"\n",
    "print(cmd)"
   ]
  },
  {
   "cell_type": "code",
   "execution_count": null,
   "id": "4ebcb285",
   "metadata": {},
   "outputs": [],
   "source": [
    "subprocess.run(\n",
    "    cmd,\n",
    "    shell=True, \n",
    "    check=True\n",
    ")"
   ]
  },
  {
   "cell_type": "code",
   "execution_count": null,
   "id": "785fb7f8",
   "metadata": {},
   "outputs": [],
   "source": [
    "sfs = realisation.load_realisations(\n",
    "    Path(\"./simulations_exp/368cells/sfs/\"),\n",
    "    realisation.RealisationKind.SFS,\n",
    "    filtering=None\n",
    ")"
   ]
  },
  {
   "cell_type": "code",
   "execution_count": null,
   "id": "df29d037",
   "metadata": {},
   "outputs": [],
   "source": [
    "for k, sfs_ in sfs.items():\n",
    "    fig, ax = plt.subplots(1, 1, figsize=[7.8, 6], layout=\"constrained\") \n",
    "    sfs_figures.plot_sfs(\n",
    "        ax,\n",
    "        sfs_[0].sfs, \n",
    "        True, \n",
    "        PLOT_OPTIONS, \n",
    "        normalise_x=sfs_figures.ToCellFrequency(sample_size=100_000, to_one=True),\n",
    "        ls=\"\",\n",
    "        marker=\"o\",\n",
    "        mew=2,\n",
    "        label=f\"{int(k)} years\"\n",
    "    )\n",
    "    ax.set_xlim([10**(-5), 3])\n",
    "    ax.legend()\n",
    "    plt.savefig(f\"{int(k)}_sfs.png\")\n",
    "    plt.show()"
   ]
  },
  {
   "cell_type": "code",
   "execution_count": null,
   "id": "ab7a163b",
   "metadata": {},
   "outputs": [],
   "source": [
    "fig, ax = plt.subplots(1, 1, layout=\"constrained\")\n",
    "ax.bar([ele / 4 for ele in [1, 2, 3, 4]], [0.5, 0.333, 0, 0.167], width=0.2)\n",
    "ax.set_xlabel(\"density of cells\")\n",
    "ax.set_ylabel(\"density of variants\")\n",
    "ax.set_xticks([0.25, 0.5, 0.75, 1])\n",
    "plt.savefig(\"vaf.png\")"
   ]
  }
 ],
 "metadata": {
  "kernelspec": {
   "display_name": "hsc-draft",
   "language": "python",
   "name": "hsc-draft"
  },
  "language_info": {
   "codemirror_mode": {
    "name": "ipython",
    "version": 3
   },
   "file_extension": ".py",
   "mimetype": "text/x-python",
   "name": "python",
   "nbconvert_exporter": "python",
   "pygments_lexer": "ipython3",
   "version": "3.11.4"
  }
 },
 "nbformat": 4,
 "nbformat_minor": 5
}
