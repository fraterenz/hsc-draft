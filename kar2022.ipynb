{
 "cells": [
  {
   "cell_type": "code",
   "execution_count": null,
   "id": "0fdeb5c2-0f71-4413-ad31-e4c9dfd2d88d",
   "metadata": {},
   "outputs": [],
   "source": [
    "import pandas as pd"
   ]
  },
  {
   "cell_type": "code",
   "execution_count": null,
   "id": "60d3f5d6-28e4-4a76-8119-563d2b42fc43",
   "metadata": {},
   "outputs": [],
   "source": [
    "data = pd.read_csv(\n",
    "    \"/mnt/c/Users/fra_t/Downloads/chOVERALL_0.6info_0.002MAF_filtered.txt\",\n",
    "    compression=\"gzip\",\n",
    "    nrows=200,\n",
    "    sep=\"\\t\",\n",
    ")\n",
    "data"
   ]
  },
  {
   "cell_type": "code",
   "execution_count": null,
   "id": "e00f26e7-f595-49c8-9788-555679da74b3",
   "metadata": {},
   "outputs": [],
   "source": [
    "data = pd.read_csv(\n",
    "    \"/mnt/c/Users/fra_t/Downloads/GCST90102618_buildGRCh37.tsv.gz\",\n",
    "    compression=\"gzip\",\n",
    "    nrows=200,\n",
    "    sep=\"\\t\",\n",
    ")\n",
    "data"
   ]
  },
  {
   "cell_type": "code",
   "execution_count": null,
   "id": "37b207fd-4517-42b5-b20c-7eafaba92f3f",
   "metadata": {},
   "outputs": [],
   "source": []
  }
 ],
 "metadata": {
  "kernelspec": {
   "display_name": "hsc-draft",
   "language": "python",
   "name": "hsc-draft"
  },
  "language_info": {
   "codemirror_mode": {
    "name": "ipython",
    "version": 3
   },
   "file_extension": ".py",
   "mimetype": "text/x-python",
   "name": "python",
   "nbconvert_exporter": "python",
   "pygments_lexer": "ipython3",
   "version": "3.12.5"
  }
 },
 "nbformat": 4,
 "nbformat_minor": 5
}
