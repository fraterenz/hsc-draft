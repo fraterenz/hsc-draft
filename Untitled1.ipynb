{
 "cells": [
  {
   "cell_type": "code",
   "execution_count": null,
   "id": "5b0f0104-3eac-4748-97e1-c90568048c12",
   "metadata": {},
   "outputs": [],
   "source": [
    "%load_ext autoreload\n",
    "%autoreload 2"
   ]
  },
  {
   "cell_type": "code",
   "execution_count": null,
   "id": "0f0bd0b1-0dcd-4cd5-81d6-fb8a42a73dbf",
   "metadata": {},
   "outputs": [],
   "source": [
    "import matplotlib.pyplot as plt\n",
    "import json\n",
    "from pathlib import Path\n",
    "\n",
    "from futils import snapshot\n",
    "\n",
    "from hscpy import burden\n",
    "from hscpy.figures import burden as burden_fig\n",
    "from hscpy.figures import options"
   ]
  },
  {
   "cell_type": "code",
   "execution_count": null,
   "id": "be7767b7-f477-43a2-a752-ea87b98ec210",
   "metadata": {},
   "outputs": [],
   "source": [
    "PATH2SAVE = Path(\"../hsc/test/\")\n",
    "NB_TIMEPOINTS = 10\n",
    "YEARS = 10\n",
    "SUBCLONES = 60\n",
    "SAVE = True\n",
    "BIGLABELS = False\n",
    "FIGSIZE = [5, 3] if BIGLABELS else [6.4, 4.8]  # default matplotlib\n",
    "PDF = False\n",
    "EXTENSION = \".pdf\" if PDF else \".png\"\n",
    "\n",
    "PLOT_OPTIONS = options.PlotOptions(figsize=FIGSIZE, extension=EXTENSION, save=SAVE)\n",
    "\n",
    "RUNS = 6\n",
    "# SAMPLE_STRONG = int(summary.cells.mean())# SAMPLE_WEAK = SAMPLE_STRONG * 10  # TODO * 100\n",
    "NCELLS = 200_000\n",
    "\n",
    "B0 = 1  # TODO: double check this, should be between 2 and 20?\n",
    "NEUTRAL_RATE = 20  # [mut/(year * cell)]\n",
    "\n",
    "## FIT CLONES\n",
    "MU0 = 2\n",
    "S = 0\n",
    "u = MU0 / (B0 * NCELLS)"
   ]
  },
  {
   "cell_type": "code",
   "execution_count": null,
   "id": "67b24637-f6d6-464c-a9e8-d95a4541fe40",
   "metadata": {},
   "outputs": [],
   "source": [
    "sim_options_population = options.SimulationOptions(\n",
    "    runs=RUNS,\n",
    "    cells=NCELLS,\n",
    "    sample=NCELLS,\n",
    "    path2save=PATH2SAVE,\n",
    "    neutral_rate=NEUTRAL_RATE,\n",
    "    nb_timepoints=NB_TIMEPOINTS,\n",
    "    last_timepoint_years=YEARS,\n",
    "    nb_subclones=SUBCLONES,\n",
    "    s=S,\n",
    ")"
   ]
  },
  {
   "cell_type": "code",
   "execution_count": null,
   "id": "386ed066-8d9b-48ee-98cc-94a4d18dee5e",
   "metadata": {},
   "outputs": [],
   "source": [
    "ages = [\n",
    "    1.1111112,\n",
    "    2.2222223,\n",
    "    3.3333335,\n",
    "    4.4444447,\n",
    "    5,\n",
    "    6.666667,\n",
    "    7.777778,\n",
    "    8.888889,\n",
    "    10.0,\n",
    "]"
   ]
  },
  {
   "cell_type": "code",
   "execution_count": null,
   "id": "3ad70709-c5d6-403e-a902-4ae177962400",
   "metadata": {},
   "outputs": [],
   "source": [
    "burden_fig.show_burden_plots(\n",
    "    sim_options_population, PLOT_OPTIONS, ages=ages, #id2plot='0', \n",
    "    verbosity=False\n",
    ")"
   ]
  },
  {
   "cell_type": "code",
   "execution_count": null,
   "id": "384ffebd-2459-4a16-ac55-48c5105e330f",
   "metadata": {},
   "outputs": [],
   "source": [
    "for t, age in zip(range(2, 11), ages[::-1]):\n",
    "    fig, ax = plt.subplots(1, 1)\n",
    "    sfs = []\n",
    "    for i, file in enumerate((sim_options_population.path2save / f\"{sim_options_population.sample}cells/sfs/{t}\").iterdir(), 1):\n",
    "        try:\n",
    "            with open(file, \"r\") as f:\n",
    "                sfs.append(snapshot.Histogram(\n",
    "                    {int(x): int(y) for x, y in json.load(f).items()}\n",
    "                ))\n",
    "        except json.JSONDecodeError as e:\n",
    "            print(f\"Error in opening {file} {e}\")\n",
    "            sys.exit(1)\n",
    "    avg = snapshot.Uniformise.pooled_distribution(sfs)\n",
    "    # jmuts = max(avg.values())\n",
    "    # ax.scatter(list(avg.keys()), [ele / jmuts for ele in avg.values()])\n",
    "    ax.scatter(list(avg.keys()), list(avg.values()))\n",
    "    ax.set_title(f\"SFS at age {age:.1f} avg over {sim_options_population.runs} runs\")\n",
    "    ax.set_xlabel(\"nb of cells\")\n",
    "    ax.set_ylabel(\"density of variants\")\n",
    "    ax.set_xscale(\"log\")\n",
    "    ax.set_yscale(\"log\")\n",
    "    if PLOT_OPTIONS.save:\n",
    "        plt.savefig(sim_options_population.path2save / f\"sfs_{age}{PLOT_OPTIONS.extension}\")\n",
    "    plt.show()"
   ]
  }
 ],
 "metadata": {
  "kernelspec": {
   "display_name": "hsc-draft",
   "language": "python",
   "name": "hsc-draft"
  },
  "language_info": {
   "codemirror_mode": {
    "name": "ipython",
    "version": 3
   },
   "file_extension": ".py",
   "mimetype": "text/x-python",
   "name": "python",
   "nbconvert_exporter": "python",
   "pygments_lexer": "ipython3",
   "version": "3.11.3"
  }
 },
 "nbformat": 4,
 "nbformat_minor": 5
}
