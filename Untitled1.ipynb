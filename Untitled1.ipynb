{
 "cells": [
  {
   "cell_type": "code",
   "execution_count": null,
   "id": "5b0f0104-3eac-4748-97e1-c90568048c12",
   "metadata": {},
   "outputs": [],
   "source": [
    "%load_ext autoreload\n",
    "%autoreload 2"
   ]
  },
  {
   "cell_type": "code",
   "execution_count": null,
   "id": "0f0bd0b1-0dcd-4cd5-81d6-fb8a42a73dbf",
   "metadata": {},
   "outputs": [],
   "source": [
    "import matplotlib.pyplot as plt\n",
    "import json\n",
    "import csv\n",
    "import numpy as np\n",
    "import pandas as pd\n",
    "from pathlib import Path\n",
    "\n",
    "from futils import snapshot\n",
    "\n",
    "from hscpy import burden, variant\n",
    "from hscpy.figures import burden as burden_fig\n",
    "from hscpy.figures import options"
   ]
  },
  {
   "cell_type": "code",
   "execution_count": null,
   "id": "be7767b7-f477-43a2-a752-ea87b98ec210",
   "metadata": {},
   "outputs": [],
   "source": [
    "PATH2SAVE = Path(\"../hsc/test/\")\n",
    "NB_TIMEPOINTS = 10\n",
    "YEARS = 70\n",
    "SUBCLONES = 60\n",
    "SAVE = True\n",
    "BIGLABELS = False\n",
    "FIGSIZE = [5, 3] if BIGLABELS else [6.4, 4.8]  # default matplotlib\n",
    "PDF = False\n",
    "EXTENSION = \".pdf\" if PDF else \".png\"\n",
    "\n",
    "PLOT_OPTIONS = options.PlotOptions(figsize=FIGSIZE, extension=EXTENSION, save=SAVE)\n",
    "\n",
    "RUNS = 1\n",
    "# SAMPLE_STRONG = int(summary.cells.mean())# SAMPLE_WEAK = SAMPLE_STRONG * 10  # TODO * 100\n",
    "NCELLS = 200_000\n",
    "\n",
    "B0 = 1  # TODO: double check this, should be between 2 and 20?\n",
    "NEUTRAL_RATE = 20  # [mut/(year * cell)]\n",
    "\n",
    "## FIT CLONES\n",
    "MU0 = 2\n",
    "S = 0\n",
    "u = MU0 / (B0 * NCELLS)"
   ]
  },
  {
   "cell_type": "code",
   "execution_count": null,
   "id": "67b24637-f6d6-464c-a9e8-d95a4541fe40",
   "metadata": {},
   "outputs": [],
   "source": [
    "sim_options_population = options.SimulationOptions(\n",
    "    runs=RUNS,\n",
    "    cells=NCELLS,\n",
    "    sample=NCELLS,\n",
    "    path2save=PATH2SAVE,\n",
    "    neutral_rate=NEUTRAL_RATE,\n",
    "    nb_timepoints=NB_TIMEPOINTS,\n",
    "    last_timepoint_years=YEARS,\n",
    "    nb_subclones=SUBCLONES,\n",
    "    s=S,\n",
    ")"
   ]
  },
  {
   "cell_type": "code",
   "execution_count": null,
   "id": "386ed066-8d9b-48ee-98cc-94a4d18dee5e",
   "metadata": {},
   "outputs": [],
   "source": [
    "ages = [\n",
    "    0.0,\n",
    "    7.7777777,\n",
    "    15.555555,\n",
    "    23.333332,\n",
    "    31.11111,\n",
    "    38.88889,\n",
    "    46.666668,\n",
    "    54.444447,\n",
    "    62.222225,\n",
    "    70.0,\n",
    "]"
   ]
  },
  {
   "cell_type": "code",
   "execution_count": null,
   "id": "3ad70709-c5d6-403e-a902-4ae177962400",
   "metadata": {},
   "outputs": [],
   "source": [
    "burden_fig.show_burden_plots(\n",
    "    sim_options_population, PLOT_OPTIONS, ages=ages[1:], id2plot=\"0\", verbosity=False\n",
    ")"
   ]
  },
  {
   "cell_type": "code",
   "execution_count": null,
   "id": "ebf49f28",
   "metadata": {},
   "outputs": [],
   "source": [
    "for f in (sim_options_population.path2save / \"rates\").iterdir():\n",
    "    fig, ax = plt.subplots(1, 1)\n",
    "    data = []\n",
    "    with open(f, \"r\") as file:\n",
    "        data.extend([float(ele) for r in csv.reader(file) for ele in r if ele])\n",
    "    ax.hist(data, bins=20)\n",
    "    plt.show()"
   ]
  },
  {
   "cell_type": "code",
   "execution_count": null,
   "id": "384ffebd-2459-4a16-ac55-48c5105e330f",
   "metadata": {},
   "outputs": [],
   "source": [
    "for t, age in zip(range(1, 11), ages[::-1]):\n",
    "    fig, ax = plt.subplots(1, 1)\n",
    "    sfs = []\n",
    "    for i, file in enumerate(\n",
    "        (\n",
    "            sim_options_population.path2save\n",
    "            / f\"{sim_options_population.sample}cells/sfs/{t}\"\n",
    "        ).iterdir(),\n",
    "        1,\n",
    "    ):\n",
    "        try:\n",
    "            with open(file, \"r\") as f:\n",
    "                sfs.append(\n",
    "                    snapshot.Histogram(\n",
    "                        {int(x): int(y) for x, y in json.load(f).items()}\n",
    "                    )\n",
    "                )\n",
    "        except json.JSONDecodeError as e:\n",
    "            print(f\"Error in opening {file} {e}\")\n",
    "            sys.exit(1)\n",
    "    # avg = snapshot.Uniformise.pooled_distribution(sfs)\n",
    "    avg = sfs[0]\n",
    "    # jmuts = max(avg.values())\n",
    "    # ax.scatter(list(avg.keys()), [ele / jmuts for ele in avg.values()])\n",
    "    ax.scatter(list(avg.keys()), list(avg.values()))\n",
    "    ax.set_title(f\"SFS at age {age:.1f} avg over {sim_options_population.runs} runs\")\n",
    "    ax.set_xlabel(\"nb of cells\")\n",
    "    ax.set_ylabel(\"density of variants\")\n",
    "    ax.set_xscale(\"log\")\n",
    "    ax.set_yscale(\"log\")\n",
    "    if PLOT_OPTIONS.save:\n",
    "        plt.savefig(\n",
    "            sim_options_population.path2save / f\"sfs_{age}{PLOT_OPTIONS.extension}\"\n",
    "        )\n",
    "    plt.show()"
   ]
  },
  {
   "cell_type": "code",
   "execution_count": null,
   "id": "53ed948c",
   "metadata": {},
   "outputs": [],
   "source": [
    "variants = variant.load_variant_fractions(\n",
    "    sim_options_population.path2save,\n",
    "    sim_options_population.nb_timepoints,\n",
    "    sim_options_population.sample,\n",
    "    sim_options_population.runs,\n",
    "    sim_options_population.nb_subclones,\n",
    ")"
   ]
  },
  {
   "cell_type": "code",
   "execution_count": null,
   "id": "51c475ee",
   "metadata": {},
   "outputs": [],
   "source": [
    "variants_nate = pd.read_csv(\n",
    "    \"/mnt/c/Users/terenz01/Documents/SwitchDrive/PhD/hsc/totalVariantFracTime.csv\"\n",
    ")\n",
    "variants_nate"
   ]
  },
  {
   "cell_type": "code",
   "execution_count": null,
   "id": "013fd1d1",
   "metadata": {},
   "outputs": [],
   "source": [
    "fig, ax = plt.subplots(1, 1)\n",
    "ax.plot(ages, variants.sum(axis=-1), label=\"ABM\")\n",
    "ax.plot(\n",
    "    variants_nate.t, variants_nate[\"Expected total variant fraction\"], label=\"theory\"\n",
    ")\n",
    "ax.plot(variants_nate.t, variants_nate[\"Average total variant fraction\"], label=\"SDE\")\n",
    "ax.legend()\n",
    "plt.show()"
   ]
  },
  {
   "cell_type": "code",
   "execution_count": null,
   "id": "2002f5f4",
   "metadata": {},
   "outputs": [],
   "source": [
    "# record-format\n",
    "df = list()\n",
    "for t in range(0, sim_options_population.nb_timepoints):\n",
    "    for r in range(sim_options_population.runs):\n",
    "        for c in range(0, variants.shape[-1]):\n",
    "            df.append((int(round(ages[t], 0)), r, c, variants[t, r, c]))\n",
    "df = pd.DataFrame(df, columns=[\"time [years]\", \"run\", \"clone_id\", \"variant fraction\"])"
   ]
  },
  {
   "cell_type": "code",
   "execution_count": null,
   "id": "da04eea5",
   "metadata": {},
   "outputs": [],
   "source": [
    "import seaborn as sns"
   ]
  },
  {
   "cell_type": "code",
   "execution_count": null,
   "id": "9087d28f",
   "metadata": {},
   "outputs": [],
   "source": [
    "variants.sum(axis=-1)[3:].shape"
   ]
  },
  {
   "cell_type": "code",
   "execution_count": null,
   "id": "5acafe79",
   "metadata": {},
   "outputs": [],
   "source": [
    "fig, ax = plt.subplots(1, 1)\n",
    "for run in range(sim_options_population.runs):\n",
    "    detected = df.loc[\n",
    "        (df[\"variant fraction\"] > 0.001) & (df.run == run),\n",
    "        :,\n",
    "    ]\n",
    "    detected_clones = set(detected.clone_id.tolist())\n",
    "    sns.barplot(\n",
    "        detected,\n",
    "        x=\"time [years]\",\n",
    "        y=\"variant fraction\",\n",
    "        hue=\"clone_id\",\n",
    "        ax=ax,\n",
    "        palette=\"Dark2\",\n",
    "    )\n",
    "# ax.set_xlim([-0.5, 4.5])\n",
    "# ax.set_yscale(\"log\")\n",
    "ax.plot(variants.sum(axis=-1)[3:], linestyle=\"\", marker=\"x\", mew=2)\n",
    "sns.move_legend(ax, loc=2)\n",
    "plt.xticks(fontsize=18)\n",
    "plt.yticks(fontsize=18)\n",
    "ax.xaxis.label.set_size(22)\n",
    "ax.yaxis.label.set_size(22)\n",
    "plt.yticks(fontsize=22)\n",
    "ax.minorticks_on()\n",
    "ax.xaxis.set_tick_params(which=\"minor\", bottom=False)\n",
    "plt.tight_layout()\n",
    "if PLOT_OPTIONS.save:\n",
    "    plt.savefig(\n",
    "        sim_options_population.path2save / f\"variant_run0{PLOT_OPTIONS.extension}\"\n",
    "    )\n",
    "plt.show()"
   ]
  },
  {
   "cell_type": "code",
   "execution_count": null,
   "id": "7e559e5b",
   "metadata": {},
   "outputs": [],
   "source": []
  }
 ],
 "metadata": {
  "kernelspec": {
   "display_name": "Python 3 (ipykernel)",
   "language": "python",
   "name": "python3"
  },
  "language_info": {
   "codemirror_mode": {
    "name": "ipython",
    "version": 3
   },
   "file_extension": ".py",
   "mimetype": "text/x-python",
   "name": "python",
   "nbconvert_exporter": "python",
   "pygments_lexer": "ipython3",
   "version": "3.11.5"
  }
 },
 "nbformat": 4,
 "nbformat_minor": 5
}
