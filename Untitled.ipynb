{
 "cells": [
  {
   "cell_type": "code",
   "execution_count": 5,
   "id": "7ed23141",
   "metadata": {},
   "outputs": [
    {
     "name": "stdout",
     "output_type": "stream",
     "text": [
      "scipy                              1.11.4\r\n"
     ]
    }
   ],
   "source": [
    "!pip list | grep scipy"
   ]
  },
  {
   "cell_type": "code",
   "execution_count": 4,
   "id": "9f783272",
   "metadata": {},
   "outputs": [
    {
     "name": "stdout",
     "output_type": "stream",
     "text": [
      "Defaulting to user installation because normal site-packages is not writeable\n",
      "Requirement already satisfied: scipy in /share/apps/centos7/anaconda3/2021.11/lib/python3.9/site-packages (1.7.1)\n",
      "Collecting scipy\n",
      "  Downloading scipy-1.11.4-cp39-cp39-manylinux_2_17_x86_64.manylinux2014_x86_64.whl.metadata (60 kB)\n",
      "\u001b[2K     \u001b[90m━━━━━━━━━━━━━━━━━━━━━━━━━━━━━━━━━━━━━━━━\u001b[0m \u001b[32m60.4/60.4 kB\u001b[0m \u001b[31m6.1 MB/s\u001b[0m eta \u001b[36m0:00:00\u001b[0m\n",
      "\u001b[?25hRequirement already satisfied: numpy<1.28.0,>=1.21.6 in /data/home/hfx923/.local/lib/python3.9/site-packages (from scipy) (1.25.0)\n",
      "Downloading scipy-1.11.4-cp39-cp39-manylinux_2_17_x86_64.manylinux2014_x86_64.whl (36.6 MB)\n",
      "\u001b[2K   \u001b[90m━━━━━━━━━━━━━━━━━━━━━━━━━━━━━━━━━━━━━━━━\u001b[0m \u001b[32m36.6/36.6 MB\u001b[0m \u001b[31m49.2 MB/s\u001b[0m eta \u001b[36m0:00:00\u001b[0m:00:01\u001b[0m00:01\u001b[0m\n",
      "\u001b[?25h\u001b[33mDEPRECATION: pyodbc 4.0.0-unsupported has a non-standard version number. pip 24.0 will enforce this behaviour change. A possible replacement is to upgrade to a newer version of pyodbc or contact the author to suggest that they release a version with a conforming version number. Discussion can be found at https://github.com/pypa/pip/issues/12063\u001b[0m\u001b[33m\n",
      "\u001b[0mInstalling collected packages: scipy\n",
      "Successfully installed scipy-1.11.4\n"
     ]
    }
   ],
   "source": [
    "!pip install --upgrade scipy"
   ]
  },
  {
   "cell_type": "code",
   "execution_count": 6,
   "id": "0d2059fa",
   "metadata": {},
   "outputs": [],
   "source": [
    "import numpy as np\n",
    "from scipy import stats"
   ]
  },
  {
   "cell_type": "code",
   "execution_count": 68,
   "id": "bfa64b3e",
   "metadata": {},
   "outputs": [
    {
     "data": {
      "text/plain": [
       "0.08836522967499771"
      ]
     },
     "execution_count": 68,
     "metadata": {},
     "output_type": "execute_result"
    }
   ],
   "source": [
    "data = stats.ecdf(np.array([1, 2, 3]))\n",
    "sims = stats.ecdf(np.array([4, 4, 1, 1, 2]))\n",
    "\n",
    "stats.wasserstein_distance(\n",
    "    u_values=data.cdf.quantiles.tolist(),\n",
    "    v_values=sims.cdf.quantiles,\n",
    "    u_weights=-np.log10(data.cdf.probabilities),\n",
    "    v_weights=-np.log10(sims.cdf.probabilities),\n",
    ")"
   ]
  },
  {
   "cell_type": "code",
   "execution_count": 72,
   "id": "cec4d3fb",
   "metadata": {},
   "outputs": [
    {
     "data": {
      "text/plain": [
       "array([ 0.39794001,  0.22184875, -0.        ])"
      ]
     },
     "execution_count": 72,
     "metadata": {},
     "output_type": "execute_result"
    }
   ],
   "source": [
    "-np.log10(sims.cdf.probabilities)"
   ]
  },
  {
   "cell_type": "code",
   "execution_count": 71,
   "id": "9315c121",
   "metadata": {},
   "outputs": [
    {
     "data": {
      "text/plain": [
       "array([ 0.47712125,  0.17609126, -0.        ])"
      ]
     },
     "execution_count": 71,
     "metadata": {},
     "output_type": "execute_result"
    }
   ],
   "source": [
    "-np.log10(data.cdf.probabilities)"
   ]
  },
  {
   "cell_type": "code",
   "execution_count": 64,
   "id": "07e06728",
   "metadata": {},
   "outputs": [
    {
     "data": {
      "text/plain": [
       "array([1., 2., 3.])"
      ]
     },
     "execution_count": 64,
     "metadata": {},
     "output_type": "execute_result"
    }
   ],
   "source": [
    "data.cdf.quantiles"
   ]
  },
  {
   "cell_type": "code",
   "execution_count": 65,
   "id": "542592bf",
   "metadata": {},
   "outputs": [
    {
     "data": {
      "text/plain": [
       "array([0.4, 0.6, 1. ])"
      ]
     },
     "execution_count": 65,
     "metadata": {},
     "output_type": "execute_result"
    }
   ],
   "source": [
    "sims.cdf.probabilities"
   ]
  },
  {
   "cell_type": "code",
   "execution_count": 67,
   "id": "67d0de93",
   "metadata": {},
   "outputs": [
    {
     "data": {
      "text/plain": [
       "array([0.33333333, 0.66666667, 1.        ])"
      ]
     },
     "execution_count": 67,
     "metadata": {},
     "output_type": "execute_result"
    }
   ],
   "source": [
    "data.cdf.probabilities"
   ]
  },
  {
   "cell_type": "code",
   "execution_count": null,
   "id": "ee130858",
   "metadata": {},
   "outputs": [],
   "source": [
    "test = pd.read_csv(\n",
    "    \"/mnt/c/Users/terenz01/Documents/SwitchDrive/PhD/hsc/williams2022/PD4781.csv\",\n",
    "    low_memory=False,\n",
    ")"
   ]
  },
  {
   "cell_type": "code",
   "execution_count": null,
   "id": "0f9a7bdb",
   "metadata": {},
   "outputs": [],
   "source": [
    "test"
   ]
  },
  {
   "cell_type": "code",
   "execution_count": null,
   "id": "f484d4c3",
   "metadata": {},
   "outputs": [],
   "source": [
    "test.FILTER.value_counts()"
   ]
  },
  {
   "cell_type": "code",
   "execution_count": null,
   "id": "d9e63b49",
   "metadata": {},
   "outputs": [],
   "source": [
    "test.INFO.iloc[0]"
   ]
  },
  {
   "cell_type": "code",
   "execution_count": null,
   "id": "180d7a0a",
   "metadata": {},
   "outputs": [],
   "source": [
    "%%bash\n",
    "head -n 96 /mnt/c/Users/terenz01/Documents/SwitchDrive/PhD/hsc/williams2022/hrmxybrd2n-1/VCF/PD4781.vcf"
   ]
  },
  {
   "cell_type": "code",
   "execution_count": null,
   "id": "b5de1f9e",
   "metadata": {},
   "outputs": [],
   "source": [
    "pd.read_csv(\n",
    "    \"/mnt/c/Users/terenz01/Documents/SwitchDrive/PhD/hsc/williams2022/hrmxybrd2n-1/VCF/PD4781.vcf\",\n",
    "    sep=\"\\t\",\n",
    "    header=95,\n",
    ")"
   ]
  },
  {
   "cell_type": "code",
   "execution_count": null,
   "id": "143e1f59",
   "metadata": {},
   "outputs": [],
   "source": [
    "import matplotlib.pyplot as plt"
   ]
  },
  {
   "cell_type": "code",
   "execution_count": null,
   "id": "f78652a4",
   "metadata": {},
   "outputs": [],
   "source": [
    "from matplotlib import ticker\n",
    "\n",
    "fig, ax = plt.subplots(1, 1)\n",
    "data = [1, 2, 3]\n",
    "tot = sum(data)\n",
    "ax.plot([4, 2, 1], [ele / tot for ele in data], mew=7, linestyle=\"\", marker=\"x\")\n",
    "# ax.set_xscale(\"log\")\n",
    "# ax.set_yscale(\"log\")\n",
    "ax.set_xlabel(\"nb of cells\", size=22)\n",
    "ax.set_ylabel(\"density of variants\", size=22)\n",
    "plt.yticks(fontsize=18)\n",
    "ax.set_xticks([1, 2, 3, 4], [1, 2, 3, 4], fontsize=18)\n",
    "plt.tight_layout()\n",
    "plt.savefig(\"test.png\", dpi=600)\n",
    "plt.show()"
   ]
  },
  {
   "cell_type": "code",
   "execution_count": null,
   "id": "ad7609ab",
   "metadata": {},
   "outputs": [],
   "source": [
    "fig, ax = plt.subplots(1, 1)\n",
    "ax.bar(x=[2, 3], height=[1 / 4, 3 / 4])\n",
    "# ax.set_xscale(\"log\")\n",
    "# ax.set_yscale(\"log\")\n",
    "ax.set_xlabel(\"nb of variants\", size=22)\n",
    "ax.set_ylabel(\"density\", size=22)\n",
    "ax.set_xticks([2, 3])\n",
    "ax.set_yticks([0, 0.25, 0.5, 0.75, 1])\n",
    "# ax.set_title(\"SFS\")\n",
    "plt.xticks(fontsize=18)\n",
    "plt.yticks(fontsize=18)\n",
    "# ax.yaxis.set_major_formatter(ticker.StrMethodFormatter(\"{x:.0f}\"))\n",
    "plt.tight_layout()\n",
    "plt.savefig(\"test.png\", dpi=600)\n",
    "plt.show()"
   ]
  }
 ],
 "metadata": {
  "kernelspec": {
   "display_name": "hsc-draft",
   "language": "python",
   "name": "hsc-draft"
  },
  "language_info": {
   "codemirror_mode": {
    "name": "ipython",
    "version": 3
   },
   "file_extension": ".py",
   "mimetype": "text/x-python",
   "name": "python",
   "nbconvert_exporter": "python",
   "pygments_lexer": "ipython3",
   "version": "3.11.4"
  }
 },
 "nbformat": 4,
 "nbformat_minor": 5
}
