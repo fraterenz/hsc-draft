{
 "cells": [
  {
   "cell_type": "code",
   "execution_count": null,
   "id": "67d0de93",
   "metadata": {},
   "outputs": [],
   "source": [
    "import pandas as pd"
   ]
  },
  {
   "cell_type": "code",
   "execution_count": null,
   "id": "ee130858",
   "metadata": {},
   "outputs": [],
   "source": [
    "test = pd.read_csv(\n",
    "    \"/mnt/c/Users/terenz01/Documents/SwitchDrive/PhD/hsc/williams2022/PD4781.csv\",\n",
    "    low_memory=False,\n",
    ")"
   ]
  },
  {
   "cell_type": "code",
   "execution_count": null,
   "id": "0f9a7bdb",
   "metadata": {},
   "outputs": [],
   "source": [
    "test"
   ]
  },
  {
   "cell_type": "code",
   "execution_count": null,
   "id": "f484d4c3",
   "metadata": {},
   "outputs": [],
   "source": [
    "test.FILTER.value_counts()"
   ]
  },
  {
   "cell_type": "code",
   "execution_count": null,
   "id": "d9e63b49",
   "metadata": {},
   "outputs": [],
   "source": [
    "test.INFO.iloc[0]"
   ]
  },
  {
   "cell_type": "code",
   "execution_count": null,
   "id": "180d7a0a",
   "metadata": {},
   "outputs": [],
   "source": [
    "%%bash\n",
    "head -n 96 /mnt/c/Users/terenz01/Documents/SwitchDrive/PhD/hsc/williams2022/hrmxybrd2n-1/VCF/PD4781.vcf"
   ]
  },
  {
   "cell_type": "code",
   "execution_count": null,
   "id": "b5de1f9e",
   "metadata": {},
   "outputs": [],
   "source": [
    "pd.read_csv(\n",
    "    \"/mnt/c/Users/terenz01/Documents/SwitchDrive/PhD/hsc/williams2022/hrmxybrd2n-1/VCF/PD4781.vcf\",\n",
    "    sep=\"\\t\",\n",
    "    header=95,\n",
    ")"
   ]
  },
  {
   "cell_type": "code",
   "execution_count": null,
   "id": "143e1f59",
   "metadata": {},
   "outputs": [],
   "source": [
    "import matplotlib.pyplot as plt"
   ]
  },
  {
   "cell_type": "code",
   "execution_count": null,
   "id": "f78652a4",
   "metadata": {},
   "outputs": [],
   "source": [
    "from matplotlib import ticker\n",
    "fig, ax = plt.subplots(1, 1)\n",
    "data = [1, 2, 3]\n",
    "tot = sum(data)\n",
    "ax.plot([4, 2, 1], [ele / tot for ele in data], mew=7, linestyle=\"\", marker=\"x\")\n",
    "# ax.set_xscale(\"log\")\n",
    "# ax.set_yscale(\"log\")\n",
    "ax.set_xlabel(\"nb of cells\", size=22)\n",
    "ax.set_ylabel(\"density of variants\", size=22)\n",
    "# ax.set_title(\"SFS\")\n",
    "plt.xticks(fontsize=18)\n",
    "plt.yticks(fontsize=18)\n",
    "ax.xaxis.set_major_formatter(ticker.StrMethodFormatter(\"{x:.0f}\"))\n",
    "plt.tight_layout()\n",
    "plt.savefig(\"test.png\", dpi=600)\n",
    "plt.show()"
   ]
  },
  {
   "cell_type": "code",
   "execution_count": null,
   "id": "ad7609ab",
   "metadata": {},
   "outputs": [],
   "source": [
    "fig, ax = plt.subplots(1, 1)\n",
    "ax.bar(x=[2, 3], height=[1/4, 3/4])\n",
    "# ax.set_xscale(\"log\")\n",
    "# ax.set_yscale(\"log\")\n",
    "ax.set_xlabel(\"nb of variants\", size=22)\n",
    "ax.set_ylabel(\"density\", size=22)\n",
    "ax.set_xticks([2, 3])\n",
    "ax.set_yticks([0, 0.25, 0.5, 0.75, 1])\n",
    "# ax.set_title(\"SFS\")\n",
    "plt.xticks(fontsize=18)\n",
    "plt.yticks(fontsize=18)\n",
    "# ax.yaxis.set_major_formatter(ticker.StrMethodFormatter(\"{x:.0f}\"))\n",
    "plt.tight_layout()\n",
    "plt.savefig(\"test.png\", dpi=600)\n",
    "plt.show()"
   ]
  }
 ],
 "metadata": {
  "kernelspec": {
   "display_name": "Python 3 (ipykernel)",
   "language": "python",
   "name": "python3"
  },
  "language_info": {
   "codemirror_mode": {
    "name": "ipython",
    "version": 3
   },
   "file_extension": ".py",
   "mimetype": "text/x-python",
   "name": "python",
   "nbconvert_exporter": "python",
   "pygments_lexer": "ipython3",
   "version": "3.11.5"
  }
 },
 "nbformat": 4,
 "nbformat_minor": 5
}
