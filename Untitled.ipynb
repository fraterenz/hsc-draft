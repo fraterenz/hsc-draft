{
 "cells": [
  {
   "cell_type": "code",
   "execution_count": null,
   "id": "67d0de93",
   "metadata": {},
   "outputs": [],
   "source": [
    "import pandas as pd"
   ]
  },
  {
   "cell_type": "code",
   "execution_count": null,
   "id": "ee130858",
   "metadata": {},
   "outputs": [],
   "source": [
    "test = pd.read_csv(\n",
    "    \"/mnt/c/Users/terenz01/Documents/SwitchDrive/PhD/hsc/williams2022/PD4781.csv\",\n",
    "    low_memory=False,\n",
    ")"
   ]
  },
  {
   "cell_type": "code",
   "execution_count": null,
   "id": "0f9a7bdb",
   "metadata": {},
   "outputs": [],
   "source": [
    "test"
   ]
  },
  {
   "cell_type": "code",
   "execution_count": null,
   "id": "f484d4c3",
   "metadata": {},
   "outputs": [],
   "source": [
    "test.FILTER.value_counts()"
   ]
  },
  {
   "cell_type": "code",
   "execution_count": null,
   "id": "d9e63b49",
   "metadata": {},
   "outputs": [],
   "source": [
    "test.INFO.iloc[0]"
   ]
  },
  {
   "cell_type": "code",
   "execution_count": null,
   "id": "180d7a0a",
   "metadata": {},
   "outputs": [],
   "source": [
    "%%bash\n",
    "head -n 96 /mnt/c/Users/terenz01/Documents/SwitchDrive/PhD/hsc/williams2022/hrmxybrd2n-1/VCF/PD4781.vcf"
   ]
  },
  {
   "cell_type": "code",
   "execution_count": null,
   "id": "b5de1f9e",
   "metadata": {},
   "outputs": [],
   "source": [
    "pd.read_csv(\n",
    "    \"/mnt/c/Users/terenz01/Documents/SwitchDrive/PhD/hsc/williams2022/hrmxybrd2n-1/VCF/PD4781.vcf\",\n",
    "    sep=\"\\t\",\n",
    "    header=95,\n",
    ")"
   ]
  },
  {
   "cell_type": "code",
   "execution_count": null,
   "id": "143e1f59",
   "metadata": {},
   "outputs": [],
   "source": []
  }
 ],
 "metadata": {
  "kernelspec": {
   "display_name": "Python 3 (ipykernel)",
   "language": "python",
   "name": "python3"
  },
  "language_info": {
   "codemirror_mode": {
    "name": "ipython",
    "version": 3
   },
   "file_extension": ".py",
   "mimetype": "text/x-python",
   "name": "python",
   "nbconvert_exporter": "python",
   "pygments_lexer": "ipython3",
   "version": "3.11.5"
  }
 },
 "nbformat": 4,
 "nbformat_minor": 5
}
