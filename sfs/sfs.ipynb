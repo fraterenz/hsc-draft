{
 "cells": [
  {
   "cell_type": "markdown",
   "id": "c99eb63a",
   "metadata": {},
   "source": [
    "# SFS\n",
    "We plot the burden and the SFS for the data published in [Mitchell's et al. Nature 2022](https://www.nature.com/articles/s41586-022-04786-y).\n",
    "\n",
    "For the SFS we show also some simulations with the parameters that are inferred from the ABC."
   ]
  },
  {
   "cell_type": "code",
   "execution_count": null,
   "id": "013dfa7a-53c6-4347-869c-29f66ee18bc8",
   "metadata": {},
   "outputs": [],
   "source": [
    "%load_ext autoreload\n",
    "%autoreload 2"
   ]
  },
  {
   "cell_type": "code",
   "execution_count": null,
   "id": "ce19ffa6",
   "metadata": {},
   "outputs": [],
   "source": [
    "import matplotlib.pyplot as plt\n",
    "from matplotlib import gridspec\n",
    "from matplotlib.lines import Line2D\n",
    "import numpy as np\n",
    "import pandas as pd\n",
    "import socket\n",
    "import seaborn as sns\n",
    "import subprocess\n",
    "from pathlib import Path\n",
    "\n",
    "from hscpy import mitchell, realisation, parameters\n",
    "from hscpy.figures import sfs as sfs_figures\n",
    "from hscpy.figures import PlotOptions, simulations\n",
    "from futils import parse_version, snapshot\n",
    "\n",
    "NCELLS = 100_000\n",
    "SEED = 10\n",
    "RUN_SIMS = False\n",
    "SAVEFIG = True\n",
    "BIGLABELS = False\n",
    "FIGSIZE = [5, 4] if BIGLABELS else [6.4, 4.8]  # default matplotlib\n",
    "LATEST = False\n",
    "EXTENSION = \".svg\"\n",
    "PLOT_OPTIONS = PlotOptions(figsize=FIGSIZE, extension=EXTENSION, save=SAVEFIG)\n",
    "PATH2HSC = Path(\"~\").expanduser() / \"hsc\"\n",
    "assert PATH2HSC.is_dir()"
   ]
  },
  {
   "cell_type": "code",
   "execution_count": null,
   "id": "985e133e",
   "metadata": {},
   "outputs": [],
   "source": [
    "if socket.gethostname() == \"5X9ZYD3\":\n",
    "    PATH2MITCHELL = Path(\"/mnt/c/Users/terenz01/Documents/SwitchDrive/PhD/hsc\")\n",
    "elif socket.gethostname() == \"LAPTOP-CEKCHJ4C\":\n",
    "    PATH2MITCHELL = Path(\"/mnt/c/Users/fra_t/Documents/PhD/hsc\")\n",
    "else:\n",
    "    PATH2MITCHELL = Path(\"~\").expanduser()"
   ]
  },
  {
   "cell_type": "code",
   "execution_count": null,
   "id": "87defa58",
   "metadata": {},
   "outputs": [],
   "source": [
    "%%bash -s \"$PATH2HSC\" --out version\n",
    "$1/target/release/hsc  --version"
   ]
  },
  {
   "cell_type": "code",
   "execution_count": null,
   "id": "2920efef",
   "metadata": {},
   "outputs": [],
   "source": [
    "if LATEST:\n",
    "    VERSION = parse_version(version)\n",
    "else:\n",
    "    VERSION = \"v2.2.13\"\n",
    "PATH2SAVE = Path(f\"./{VERSION}\")\n",
    "\n",
    "print(\"Running hsc with version:\", VERSION)"
   ]
  },
  {
   "cell_type": "code",
   "execution_count": null,
   "id": "caad95d2",
   "metadata": {},
   "outputs": [],
   "source": [
    "donors = mitchell.donors()\n",
    "donors"
   ]
  },
  {
   "cell_type": "markdown",
   "id": "5b8200aa",
   "metadata": {},
   "source": [
    "## Plot the SFS \n",
    "Combine different data for this plot:\n",
    "1. 1/f^2 sampled prediction (computed here in python)\n",
    "2. Mitchell's SFS (loaded and computed here in python)\n",
    "2. 1/f sampled prediction from Nate's (loaded from external file)\n",
    "3. SFS from simulations (need to generate them)"
   ]
  },
  {
   "cell_type": "markdown",
   "id": "0459853c",
   "metadata": {},
   "source": [
    "### Generate/load/compute the data"
   ]
  },
  {
   "cell_type": "markdown",
   "id": "b6e65342",
   "metadata": {},
   "source": [
    "####  1. 1/f2 predictions"
   ]
  },
  {
   "cell_type": "code",
   "execution_count": null,
   "id": "70325d8b-ce8b-484b-9d07-7d4728f8c94b",
   "metadata": {},
   "outputs": [],
   "source": [
    "%%time\n",
    "# compute the correction for the sims' SFS with sampled distributions from\n",
    "# https://www.biorxiv.org/content/10.1101/2022.11.07.515470v2\n",
    "corrected_variants_one_over_1_squared = dict()\n",
    "for donor in donors.itertuples():\n",
    "    print(\n",
    "        f\"apply sampling correction to SFS of donor {donor.name} with age {donor.age} with sample size {donor.cells}\"\n",
    "    )\n",
    "    corrected_variants_one_over_1_squared[donor.name] = realisation.compute_variants(\n",
    "        realisation.Correction.ONE_OVER_F_SQUARED,\n",
    "        pop_size=NCELLS,\n",
    "        sample_size=donor.cells,\n",
    "    )"
   ]
  },
  {
   "cell_type": "markdown",
   "id": "f3015619",
   "metadata": {},
   "source": [
    "#### 2. Mitchell's SFS"
   ]
  },
  {
   "cell_type": "code",
   "execution_count": null,
   "id": "76ae20c7",
   "metadata": {},
   "outputs": [],
   "source": [
    "%%time\n",
    "# there are two donors with the same age 0\n",
    "mitchell_sfs = {\n",
    "    donor.name: mitchell.sfs_donor_mitchell(\n",
    "        donor.name, donor.age, PATH2MITCHELL, remove_indels=False\n",
    "    )\n",
    "    for donor in donors.itertuples()\n",
    "}"
   ]
  },
  {
   "cell_type": "code",
   "execution_count": null,
   "id": "53aeefd4",
   "metadata": {},
   "outputs": [],
   "source": [
    "assert all(\n",
    "    [\n",
    "        m[2] == donors.loc[donors.name == name, \"cells\"].squeeze()\n",
    "        for name, m in mitchell_sfs.items()\n",
    "    ]\n",
    "), \"number of cells loaded for the SFSF do not match those in donors\""
   ]
  },
  {
   "cell_type": "markdown",
   "id": "f1b446b3",
   "metadata": {},
   "source": [
    "#### 3. 1/f sample predictions"
   ]
  },
  {
   "cell_type": "code",
   "execution_count": null,
   "id": "2f833821",
   "metadata": {},
   "outputs": [],
   "source": [
    "# theoretical homeostatic neutral SFS data, from Nate's paper in Elife: for each patient (skipping the neonates)\n",
    "# I evolved until their specific age, and then sampled to the same size as in the data\n",
    "mapping = {\n",
    "    age: f\"homeostasisSFS_pid{i}.csv\"\n",
    "    for i, age in enumerate(donors.age.unique().tolist()[1:], 3)\n",
    "}\n",
    "mapping"
   ]
  },
  {
   "cell_type": "markdown",
   "id": "4f24ded7",
   "metadata": {},
   "source": [
    "#### 4. SFS from simulations\n",
    "The data have been generated with the cmd `sfs.sh parameters.txt`."
   ]
  },
  {
   "cell_type": "code",
   "execution_count": null,
   "id": "89e447b4",
   "metadata": {},
   "outputs": [],
   "source": [
    "sfs_sims = dict()\n",
    "for donor in donors.itertuples():\n",
    "    sfs_sims[donor.name] = realisation.load_all_sfs_by_age(\n",
    "        Path(f\"{VERSION}/{donor.cells}cells/sfs\")\n",
    "    )[donor.age]"
   ]
  },
  {
   "cell_type": "markdown",
   "id": "55989c4b",
   "metadata": {},
   "source": [
    "### Plot"
   ]
  },
  {
   "cell_type": "code",
   "execution_count": null,
   "id": "b7e552c2",
   "metadata": {
    "scrolled": false
   },
   "outputs": [],
   "source": [
    "selected = [\"CB002\", \"KX002\", \"KX008\"]\n",
    "for name in donors.name.unique().tolist():\n",
    "    age = donors.loc[donors.name == name, \"age\"].squeeze()\n",
    "    fig, ax = plt.subplots(1, 1, layout=\"constrained\", figsize=PLOT_OPTIONS.figsize)\n",
    "    sfs_figures.plot_ax_sfs_predictions_data_sims(\n",
    "        ax,\n",
    "        donor=donors[donors.name == name].squeeze(),\n",
    "        corrected_one_over_1_squared=corrected_variants_one_over_1_squared[name],\n",
    "        sfs_sims_donor=sfs_sims[name],\n",
    "        mitchell_sfs=mitchell_sfs[name][3],\n",
    "        one_over_f_csv=mapping.get(age),\n",
    "        idx_sim2plot=4,\n",
    "        plot_options=PLOT_OPTIONS,\n",
    "    )\n",
    "    if age:\n",
    "        ax.set_ylabel(\"\")\n",
    "\n",
    "    ax.text(\n",
    "        x=0.65,\n",
    "        y=0.9,\n",
    "        s=f\"donor {age} y.o.\",\n",
    "        transform=ax.transAxes,\n",
    "    )\n",
    "    handles, labels = ax.get_legend_handles_labels()\n",
    "    \"\"\"\n",
    "    ax.legend(\n",
    "        fontsize=\"small\",\n",
    "        loc=\"upper right\",\n",
    "        frameon=False,\n",
    "    )\n",
    "    if name not in selected:\n",
    "        ax.legend(\n",
    "            fontsize=\"small\",\n",
    "            loc=\"upper right\",\n",
    "            frameon=False,\n",
    "        )\n",
    "    else:\n",
    "        handles, labels = ax.get_legend_handles_labels()\n",
    "        ax.legend(\n",
    "            handles=[handles[-1]],\n",
    "            labels=[labels[-1]],\n",
    "            fontsize=\"medium\",\n",
    "            loc=\"upper right\",\n",
    "            frameon=False,\n",
    "            handletextpad=0,\n",
    "        )\n",
    "    \"\"\"\n",
    "    if PLOT_OPTIONS.save:\n",
    "        fig.savefig(f\"./sfs_age{age}_{name}{PLOT_OPTIONS.extension}\")\n",
    "    fig.show()"
   ]
  },
  {
   "cell_type": "code",
   "execution_count": null,
   "id": "e7aff479",
   "metadata": {},
   "outputs": [],
   "source": [
    "fig, ax = plt.subplots(1, 1, figsize=(20, 1))\n",
    "legend_elements = [\n",
    "    Line2D([1], [1], color=\"black\", alpha=0.8, lw=4, label=\"growth scaling law\"),\n",
    "    Line2D(\n",
    "        [0],\n",
    "        [0],\n",
    "        color=\"black\",\n",
    "        ls=\"--\",\n",
    "        alpha=0.8,\n",
    "        lw=4,\n",
    "        label=\"homeostatsis scaling law\",\n",
    "    ),\n",
    "    Line2D(\n",
    "        [0],\n",
    "        [0],\n",
    "        marker=\"x\",\n",
    "        ls=\"\",\n",
    "        mew=4,\n",
    "        color=\"#d95f0e\",\n",
    "        label=\"data\",\n",
    "        markerfacecolor=\"g\",\n",
    "        markersize=13,\n",
    "    ),\n",
    "    Line2D(\n",
    "        [0],\n",
    "        [0],\n",
    "        marker=\"o\",\n",
    "        ls=\"\",\n",
    "        mew=1,\n",
    "        color=\"grey\",\n",
    "        label=\"single simulation\",\n",
    "        markersize=12,\n",
    "    ),\n",
    "    Line2D([0], [0], color=\"grey\", alpha=0.6, lw=4, label=\"simulation average\"),\n",
    "]\n",
    "\n",
    "ax.legend(\n",
    "    handles=legend_elements,\n",
    "    mode=\"extend\",\n",
    "    ncols=5,\n",
    "    handletextpad=0.4,\n",
    ")\n",
    "ax.axis(\"off\")\n",
    "plt.show()"
   ]
  },
  {
   "cell_type": "code",
   "execution_count": null,
   "id": "f7ec0d8e",
   "metadata": {
    "scrolled": true
   },
   "outputs": [],
   "source": [
    "fig = plt.figure(figsize=[26, 5], layout=\"constrained\")\n",
    "\n",
    "gs0 = gridspec.GridSpec(1, 2, figure=fig, width_ratios=[7, 1])\n",
    "gs00 = gridspec.GridSpecFromSubplotSpec(1, 3, subplot_spec=gs0[0], wspace=0.1)\n",
    "gs01 = gs0[1].subgridspec(1, 1)\n",
    "ax1 = fig.add_subplot(gs00[0, 0])\n",
    "ax2 = fig.add_subplot(gs00[0, 1])\n",
    "ax3 = fig.add_subplot(gs00[0, 2])\n",
    "ax4 = fig.add_subplot(gs01[0, 0])\n",
    "\n",
    "for i, (ax_, name) in enumerate(\n",
    "    zip(\n",
    "        (ax1, ax2, ax3),\n",
    "        donors.loc[donors.name.isin(selected), \"name\"].squeeze().tolist(),\n",
    "    )\n",
    "):\n",
    "    sfs_figures.plot_ax_sfs_predictions_data_sims(\n",
    "        ax_,\n",
    "        donor=donors[donors.name == name].squeeze(),\n",
    "        corrected_one_over_1_squared=corrected_variants_one_over_1_squared[name],\n",
    "        sfs_sims_donor=sfs_sims[name],\n",
    "        mitchell_sfs=mitchell_sfs[name][3],\n",
    "        one_over_f_csv=mapping.get(donors.loc[donors.name == name, \"age\"].squeeze()),\n",
    "        idx_sim2plot=-1,\n",
    "        plot_options=PLOT_OPTIONS,\n",
    "    )\n",
    "    handles, labels = ax_.get_legend_handles_labels()\n",
    "    if i:\n",
    "        ax_.set_ylabel(\"\")\n",
    "        ax_.set_title(labels[2])\n",
    "    else:\n",
    "        ax_.set_title(labels[1])\n",
    "\n",
    "ax4.axis(\"off\")\n",
    "labels[2] = \"donors\"\n",
    "ax4.legend(\n",
    "    handles=handles,\n",
    "    labels=labels,\n",
    "    fontsize=\"medium\",\n",
    "    loc=\"upper right\",\n",
    "    frameon=False,\n",
    ")\n",
    "if PLOT_OPTIONS.save:\n",
    "    fig.savefig(f\"./3sfs_age{PLOT_OPTIONS.extension}\")\n",
    "fig.show()"
   ]
  }
 ],
 "metadata": {
  "kernelspec": {
   "display_name": "hsc-draft",
   "language": "python",
   "name": "hsc-draft"
  },
  "language_info": {
   "codemirror_mode": {
    "name": "ipython",
    "version": 3
   },
   "file_extension": ".py",
   "mimetype": "text/x-python",
   "name": "python",
   "nbconvert_exporter": "python",
   "pygments_lexer": "ipython3",
   "version": "3.11.4"
  }
 },
 "nbformat": 4,
 "nbformat_minor": 5
}
