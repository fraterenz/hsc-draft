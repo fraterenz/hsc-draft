{
 "cells": [
  {
   "cell_type": "markdown",
   "id": "c99eb63a",
   "metadata": {},
   "source": [
    "# SFS\n",
    "We plot the burden and the SFS for the data published in [Mitchell's et al. Nature 2022](https://www.nature.com/articles/s41586-022-04786-y).\n",
    "\n",
    "For the SFS we show also some simulations with the parameters that are inferred from the ABC."
   ]
  },
  {
   "cell_type": "code",
   "execution_count": null,
   "id": "013dfa7a-53c6-4347-869c-29f66ee18bc8",
   "metadata": {},
   "outputs": [],
   "source": [
    "%load_ext autoreload\n",
    "%autoreload 2"
   ]
  },
  {
   "cell_type": "code",
   "execution_count": null,
   "id": "ce19ffa6",
   "metadata": {},
   "outputs": [],
   "source": [
    "import matplotlib.pyplot as plt\n",
    "import numpy as np\n",
    "import pandas as pd\n",
    "import socket\n",
    "import seaborn as sns\n",
    "import subprocess\n",
    "from pathlib import Path\n",
    "\n",
    "from hscpy import mitchell, realisation, parameters\n",
    "from hscpy.figures import sfs as sfs_figures\n",
    "from hscpy.figures import PlotOptions, simulations\n",
    "\n",
    "from futils import parse_version, snapshot\n",
    "\n",
    "NCELLS = 100_000\n",
    "SEED = 10\n",
    "RUN_SIMS = False\n",
    "SAVEFIG = True\n",
    "BIGLABELS = False\n",
    "FIGSIZE = [5, 3] if BIGLABELS else [6.4, 4.8]  # default matplotlib\n",
    "EXTENSION = \".svg\"\n",
    "PLOT_OPTIONS = PlotOptions(figsize=FIGSIZE, extension=EXTENSION, save=SAVEFIG)\n",
    "PATH2HSC = Path(\"~\").expanduser() / \"hsc\"\n",
    "assert PATH2HSC.is_dir()"
   ]
  },
  {
   "cell_type": "code",
   "execution_count": null,
   "id": "985e133e",
   "metadata": {},
   "outputs": [],
   "source": [
    "if socket.gethostname() == \"5X9ZYD3\":\n",
    "    PATH2MITCHELL = Path(\"/mnt/c/Users/terenz01/Documents/SwitchDrive/PhD/hsc\")\n",
    "elif socket.gethostname() == \"LAPTOP-CEKCHJ4C\":\n",
    "    PATH2MITCHELL = Path(\"/mnt/c/Users/fra_t/Documents/PhD/hsc\")\n",
    "else:\n",
    "    PATH2MITCHELL = Path(\"~\").expanduser()"
   ]
  },
  {
   "cell_type": "code",
   "execution_count": null,
   "id": "87defa58",
   "metadata": {},
   "outputs": [],
   "source": [
    "%%bash -s \"$PATH2HSC\" --out version\n",
    "$1/target/release/hsc  --version"
   ]
  },
  {
   "cell_type": "code",
   "execution_count": null,
   "id": "2920efef",
   "metadata": {},
   "outputs": [],
   "source": [
    "VERSION = parse_version(version)\n",
    "print(\"Running hsc with version:\", VERSION)"
   ]
  },
  {
   "cell_type": "code",
   "execution_count": null,
   "id": "caad95d2",
   "metadata": {},
   "outputs": [],
   "source": [
    "donors = mitchell.donors()\n",
    "donors"
   ]
  },
  {
   "cell_type": "markdown",
   "id": "5b8200aa",
   "metadata": {},
   "source": [
    "## Plot the SFS \n",
    "Combine different data for this plot:\n",
    "1. 1/f^2 sampled prediction (computed here in python)\n",
    "2. Mitchell's SFS (loaded and computed here in python)\n",
    "2. 1/f sampled prediction from Nate's (loaded from external file)\n",
    "3. SFS from simulations (need to generate them)"
   ]
  },
  {
   "cell_type": "markdown",
   "id": "0459853c",
   "metadata": {},
   "source": [
    "### Generate/load/compute the data"
   ]
  },
  {
   "cell_type": "markdown",
   "id": "b6e65342",
   "metadata": {},
   "source": [
    "####  1. 1/f2 predictions"
   ]
  },
  {
   "cell_type": "code",
   "execution_count": null,
   "id": "70325d8b-ce8b-484b-9d07-7d4728f8c94b",
   "metadata": {},
   "outputs": [],
   "source": [
    "%%time\n",
    "# compute the correction for the sims' SFS with sampled distributions from\n",
    "# https://www.biorxiv.org/content/10.1101/2022.11.07.515470v2\n",
    "corrected_variants_one_over_1_squared = dict()\n",
    "for donor in donors.itertuples():\n",
    "    print(\n",
    "        f\"apply sampling correction to SFS of donor {donor.name} with age {donor.age} with sample size {donor.cells}\"\n",
    "    )\n",
    "    corrected_variants_one_over_1_squared[\n",
    "        donor.name\n",
    "    ] = realisation.compute_variants(\n",
    "        realisation.Correction.ONE_OVER_F_SQUARED,\n",
    "        pop_size=NCELLS,\n",
    "        sample_size=donor.cells,\n",
    "    )"
   ]
  },
  {
   "cell_type": "markdown",
   "id": "f3015619",
   "metadata": {},
   "source": [
    "#### 2. Mitchell's SFS"
   ]
  },
  {
   "cell_type": "code",
   "execution_count": null,
   "id": "76ae20c7",
   "metadata": {},
   "outputs": [],
   "source": [
    "%%time\n",
    "# there are two donors with the same age 0\n",
    "mitchell_sfs = {\n",
    "    donor.name: mitchell.sfs_donor_mitchell(donor.name, donor.age, PATH2MITCHELL, remove_indels=False)\n",
    "    for donor in donors.itertuples()\n",
    "}"
   ]
  },
  {
   "cell_type": "markdown",
   "id": "f1b446b3",
   "metadata": {},
   "source": [
    "#### 3. 1/f sample predictions"
   ]
  },
  {
   "cell_type": "code",
   "execution_count": null,
   "id": "2f833821",
   "metadata": {},
   "outputs": [],
   "source": [
    "# theoretical homeostatic neutral SFS data, from Nate's paper in Elife: for each patient (skipping the neonates) \n",
    "# I evolved until their specific age, and then sampled to the same size as in the data\n",
    "mapping = {age: f\"homeostasisSFS_pid{i}.csv\" for i, age in enumerate(donors.age.unique().tolist()[1:], 3)}\n",
    "mapping"
   ]
  },
  {
   "cell_type": "markdown",
   "id": "4f24ded7",
   "metadata": {},
   "source": [
    "#### 4. SFS from simulations\n",
    "The data have been generated with the cmd `sfs.sh parameters.txt`."
   ]
  },
  {
   "cell_type": "markdown",
   "id": "55989c4b",
   "metadata": {},
   "source": [
    "### Plot"
   ]
  },
  {
   "cell_type": "code",
   "execution_count": null,
   "id": "b7e552c2",
   "metadata": {
    "scrolled": false
   },
   "outputs": [],
   "source": [
    "for donor in donors.itertuples():\n",
    "    fig, ax = plt.subplots(1, 1, layout=\"constrained\", figsize=PLOT_OPTIONS.figsize)\n",
    "    \n",
    "    # 1/f^2 sampled predictions\n",
    "    normalisation_x = sfs_figures.ToCellFrequency(\n",
    "        sample_size=donor.cells\n",
    "    )\n",
    "    sfs_figures.plot_sfs_correction(\n",
    "        ax,\n",
    "        corrected_variants_one_over_1_squared[donor.name],\n",
    "        normalise=True,\n",
    "        options=PLOT_OPTIONS,\n",
    "        normalise_x=normalisation_x,\n",
    "        linestyle=\"-\",\n",
    "        color=\"grey\",\n",
    "        label=r\"$1/f^2$ sampled\",\n",
    "        linewidth=2,\n",
    "    )\n",
    "    \n",
    "    # 1/f sampled predictions from Nate's simulations\n",
    "    one_over_f_csv = mapping.get(donor.age)\n",
    "    if one_over_f_csv:\n",
    "        one_over_f = pd.read_csv(one_over_f_csv)\n",
    "        one_over_f.drop(index=one_over_f[one_over_f[\"_f\"] == 0.0].index, inplace=True)\n",
    "        sfs_one_over_f = {cell: muts for cell, muts in zip(\n",
    "            (one_over_f[\"_f\"] * normalisation_x.nb_cells).tolist(),\n",
    "            one_over_f[\"n_f\"].tolist(),\n",
    "        )}\n",
    "        sfs_figures.plot_sfs(\n",
    "            ax,\n",
    "            sfs_one_over_f,\n",
    "            normalise=True,\n",
    "            normalise_x=normalisation_x,\n",
    "            options=PLOT_OPTIONS,\n",
    "            color=\"grey\",\n",
    "            lw=2,\n",
    "            linestyle=\"--\",\n",
    "            label=r\"$1/f$ sampled\",\n",
    "        )\n",
    "        \n",
    "    # simulations\n",
    "    # TODO show avg instead of one realisation only\n",
    "    sfs_sims = realisation.load_all_sfs_by_age(Path(f\"{VERSION}/{donor.cells}cells/sfs\"))[donor.age]\n",
    "    sfs_figures.plot_sfs(\n",
    "        ax,\n",
    "        sfs_sims[-1].sfs,\n",
    "        normalise=True,\n",
    "        normalise_x=normalisation_x,\n",
    "        options=PLOT_OPTIONS,\n",
    "        color=\"cyan\",\n",
    "        mew=2,\n",
    "        linestyle=\"\",\n",
    "        marker=\".\",\n",
    "        label=\"simulation\",\n",
    "    )\n",
    "    \n",
    "    sfs_figures.plot_sfs_avg(\n",
    "        ax,\n",
    "        [sfs_.sfs for sfs_ in sfs_sims],\n",
    "        options_plot=PLOT_OPTIONS,\n",
    "        normalise_x=normalisation_x,\n",
    "        lw=3,\n",
    "        color=\"cyan\",\n",
    "        alpha=0.3,\n",
    "        label=\"avg\"\n",
    "    )\n",
    "    \n",
    "    # mitchell's data\n",
    "    sfs_figures.plot_sfs(\n",
    "        ax,\n",
    "        mitchell_sfs[donor.name][3],\n",
    "        normalise=True,\n",
    "        normalise_x=normalisation_x,\n",
    "        options=PLOT_OPTIONS,\n",
    "        color=\"purple\",\n",
    "        mew=2,\n",
    "        linestyle=\"\",\n",
    "        marker=\"x\",\n",
    "        label=f\"{donor.age} years\",\n",
    "    )\n",
    "\n",
    "\n",
    "    ax.legend(\n",
    "        fontsize=\"small\",\n",
    "        loc=\"upper right\",\n",
    "        frameon=False,\n",
    "    )\n",
    "\n",
    "    if PLOT_OPTIONS.save:\n",
    "        fig.savefig(f\"./sfs_age{donor.age}_{donor.name}{PLOT_OPTIONS.extension}\")\n",
    "    fig.show()"
   ]
  }
 ],
 "metadata": {
  "kernelspec": {
   "display_name": "hsc-draft",
   "language": "python",
   "name": "hsc-draft"
  },
  "language_info": {
   "codemirror_mode": {
    "name": "ipython",
    "version": 3
   },
   "file_extension": ".py",
   "mimetype": "text/x-python",
   "name": "python",
   "nbconvert_exporter": "python",
   "pygments_lexer": "ipython3",
   "version": "3.11.4"
  }
 },
 "nbformat": 4,
 "nbformat_minor": 5
}
