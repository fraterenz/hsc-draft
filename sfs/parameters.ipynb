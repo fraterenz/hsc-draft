{
 "cells": [
  {
   "cell_type": "markdown",
   "id": "804a2ee6",
   "metadata": {},
   "source": [
    "## Create parameters file"
   ]
  },
  {
   "cell_type": "code",
   "execution_count": null,
   "id": "799bba80",
   "metadata": {},
   "outputs": [],
   "source": [
    "import pandas as pd\n",
    "from hscpy import mitchell, realisation\n",
    "\n",
    "NCELLS = 100_000\n",
    "REPLICATES = 100"
   ]
  },
  {
   "cell_type": "code",
   "execution_count": null,
   "id": "c24e1535",
   "metadata": {},
   "outputs": [],
   "source": [
    "donors = mitchell.donors()\n",
    "donors"
   ]
  },
  {
   "cell_type": "code",
   "execution_count": null,
   "id": "87588878",
   "metadata": {},
   "outputs": [],
   "source": [
    "def create_parameters(donors: pd.DataFrame, name: str, eta: float, sigma: float, mu: int, tau: float) ->  realisation.SimulationCMD:\n",
    "    return realisation.SimulationCMD(\n",
    "        cells=NCELLS,\n",
    "        sample=donors[donors.name == name].cells.squeeze(),\n",
    "        eta=eta,\n",
    "        sigma=sigma,\n",
    "        mu=mu,\n",
    "        tau=tau,\n",
    "        age=donors[donors.name == name].age.squeeze(),\n",
    "        name=name,\n",
    "        seed=None,\n",
    "    )"
   ]
  },
  {
   "cell_type": "code",
   "execution_count": null,
   "id": "eb797b58",
   "metadata": {},
   "outputs": [],
   "source": [
    "# params are from ABC\n",
    "parameters = dict()\n",
    "\n",
    "name = 'CB001'\n",
    "eta, sigma, mu, tau = 0.03, 0.01, 1, 1\n",
    "parameters[name] = create_parameters(donors, name, eta, sigma, mu, tau)\n",
    "\n",
    "# assume same params for both 0 age donors\n",
    "name = 'CB002'\n",
    "eta, sigma, mu, tau = 0.03, 0.01, 1, 1\n",
    "parameters[name] = create_parameters(donors, name, eta, sigma, mu, tau)\n",
    "\n",
    "\n",
    "name = 'KX001'\n",
    "eta, sigma, mu, tau = 0.03, 0.01, 1, 1.8\n",
    "parameters[name] = create_parameters(donors, name, eta, sigma, mu, tau)\n",
    "\n",
    "\n",
    "name = 'KX002'\n",
    "eta, sigma, mu, tau = 0.02, 0.01, 1, 2.6\n",
    "parameters[name] = create_parameters(donors, name, eta, sigma, mu, tau)\n",
    "\n",
    "\n",
    "name = 'SX001'\n",
    "eta, sigma, mu, tau = 0.03, 0.01, 1, 2.6\n",
    "parameters[name] = create_parameters(donors, name, eta, sigma, mu, tau)\n",
    "\n",
    "\n",
    "name = 'AX001'\n",
    "eta, sigma, mu, tau = 0.02, 0.01, 1, 3\n",
    "parameters[name] = create_parameters(donors, name, eta, sigma, mu, tau)\n",
    "\n",
    "\n",
    "name = 'KX008'\n",
    "eta, sigma, mu, tau = 0.06, 0.04, 16, 5\n",
    "parameters[name] = create_parameters(donors, name, eta, sigma, mu, tau)\n",
    "\n",
    "\n",
    "name = 'KX004'\n",
    "eta, sigma, mu, tau = 0.12, 0.04, 16, 1.4\n",
    "parameters[name] = create_parameters(donors, name, eta, sigma, mu, tau)\n",
    "\n",
    "\n",
    "name = 'KX003'\n",
    "eta, sigma, mu, tau = 0.08, 0.04, 23, 3\n",
    "parameters[name] = create_parameters(donors, name, eta, sigma, mu, tau)"
   ]
  },
  {
   "cell_type": "code",
   "execution_count": null,
   "id": "255cd39f",
   "metadata": {},
   "outputs": [],
   "source": [
    "with open(\"parameters.txt\", \"w\") as f:\n",
    "    for params in parameters.values():\n",
    "        for _ in range(REPLICATES):\n",
    "            f.write(params.parameters() +\"\\n\")"
   ]
  },
  {
   "cell_type": "code",
   "execution_count": null,
   "id": "e1cd38a8",
   "metadata": {},
   "outputs": [],
   "source": [
    "%%bash\n",
    "head parameters.txt"
   ]
  },
  {
   "cell_type": "code",
   "execution_count": null,
   "id": "3ad2206e",
   "metadata": {},
   "outputs": [],
   "source": [
    "%%bash --out runs\n",
    "wc -l parameters.txt"
   ]
  },
  {
   "cell_type": "code",
   "execution_count": null,
   "id": "98b599ac",
   "metadata": {},
   "outputs": [],
   "source": [
    "runs = int(runs.split(\" \")[0])\n",
    "assert REPLICATES * len(parameters) == runs, f\"{REPLICATES * len(parameters)} vs {runs}\""
   ]
  },
  {
   "cell_type": "code",
   "execution_count": null,
   "id": "82542cee",
   "metadata": {},
   "outputs": [],
   "source": [
    "REPLICATES * len(parameters)"
   ]
  }
 ],
 "metadata": {
  "kernelspec": {
   "display_name": "hsc-draft",
   "language": "python",
   "name": "hsc-draft"
  },
  "language_info": {
   "codemirror_mode": {
    "name": "ipython",
    "version": 3
   },
   "file_extension": ".py",
   "mimetype": "text/x-python",
   "name": "python",
   "nbconvert_exporter": "python",
   "pygments_lexer": "ipython3",
   "version": "3.11.4"
  }
 },
 "nbformat": 4,
 "nbformat_minor": 5
}
