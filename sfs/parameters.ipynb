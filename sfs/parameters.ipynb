{
 "cells": [
  {
   "cell_type": "markdown",
   "id": "804a2ee6",
   "metadata": {},
   "source": [
    "## Create parameters file"
   ]
  },
  {
   "cell_type": "code",
   "execution_count": 21,
   "id": "799bba80",
   "metadata": {},
   "outputs": [],
   "source": [
    "import pandas as pd\n",
    "from hscpy import mitchell, realisation\n",
    "\n",
    "NCELLS = 100_000\n",
    "REPLICATES = 32"
   ]
  },
  {
   "cell_type": "code",
   "execution_count": 2,
   "id": "c24e1535",
   "metadata": {},
   "outputs": [
    {
     "data": {
      "text/html": [
       "<div>\n",
       "<style scoped>\n",
       "    .dataframe tbody tr th:only-of-type {\n",
       "        vertical-align: middle;\n",
       "    }\n",
       "\n",
       "    .dataframe tbody tr th {\n",
       "        vertical-align: top;\n",
       "    }\n",
       "\n",
       "    .dataframe thead th {\n",
       "        text-align: right;\n",
       "    }\n",
       "</style>\n",
       "<table border=\"1\" class=\"dataframe\">\n",
       "  <thead>\n",
       "    <tr style=\"text-align: right;\">\n",
       "      <th></th>\n",
       "      <th>name</th>\n",
       "      <th>age</th>\n",
       "      <th>cells</th>\n",
       "      <th>clones</th>\n",
       "    </tr>\n",
       "  </thead>\n",
       "  <tbody>\n",
       "    <tr>\n",
       "      <th>0</th>\n",
       "      <td>CB001</td>\n",
       "      <td>0</td>\n",
       "      <td>216</td>\n",
       "      <td>0</td>\n",
       "    </tr>\n",
       "    <tr>\n",
       "      <th>1</th>\n",
       "      <td>CB002</td>\n",
       "      <td>0</td>\n",
       "      <td>390</td>\n",
       "      <td>0</td>\n",
       "    </tr>\n",
       "    <tr>\n",
       "      <th>2</th>\n",
       "      <td>KX001</td>\n",
       "      <td>29</td>\n",
       "      <td>407</td>\n",
       "      <td>0</td>\n",
       "    </tr>\n",
       "    <tr>\n",
       "      <th>3</th>\n",
       "      <td>KX002</td>\n",
       "      <td>38</td>\n",
       "      <td>380</td>\n",
       "      <td>1</td>\n",
       "    </tr>\n",
       "    <tr>\n",
       "      <th>4</th>\n",
       "      <td>SX001</td>\n",
       "      <td>48</td>\n",
       "      <td>362</td>\n",
       "      <td>0</td>\n",
       "    </tr>\n",
       "    <tr>\n",
       "      <th>5</th>\n",
       "      <td>AX001</td>\n",
       "      <td>63</td>\n",
       "      <td>361</td>\n",
       "      <td>1</td>\n",
       "    </tr>\n",
       "    <tr>\n",
       "      <th>6</th>\n",
       "      <td>KX008</td>\n",
       "      <td>76</td>\n",
       "      <td>367</td>\n",
       "      <td>12</td>\n",
       "    </tr>\n",
       "    <tr>\n",
       "      <th>7</th>\n",
       "      <td>KX004</td>\n",
       "      <td>77</td>\n",
       "      <td>451</td>\n",
       "      <td>15</td>\n",
       "    </tr>\n",
       "    <tr>\n",
       "      <th>8</th>\n",
       "      <td>KX003</td>\n",
       "      <td>81</td>\n",
       "      <td>328</td>\n",
       "      <td>13</td>\n",
       "    </tr>\n",
       "  </tbody>\n",
       "</table>\n",
       "</div>"
      ],
      "text/plain": [
       "    name  age  cells  clones\n",
       "0  CB001    0    216       0\n",
       "1  CB002    0    390       0\n",
       "2  KX001   29    407       0\n",
       "3  KX002   38    380       1\n",
       "4  SX001   48    362       0\n",
       "5  AX001   63    361       1\n",
       "6  KX008   76    367      12\n",
       "7  KX004   77    451      15\n",
       "8  KX003   81    328      13"
      ]
     },
     "execution_count": 2,
     "metadata": {},
     "output_type": "execute_result"
    }
   ],
   "source": [
    "donors = mitchell.donors()\n",
    "donors"
   ]
  },
  {
   "cell_type": "code",
   "execution_count": 15,
   "id": "87588878",
   "metadata": {},
   "outputs": [],
   "source": [
    "def create_parameters(donors: pd.DataFrame, name: str, eta: float, sigma: float, mu: int, tau: float) ->  realisation.SimulationCMD:\n",
    "    return realisation.SimulationCMD(\n",
    "        cells=NCELLS,\n",
    "        sample=donors[donors.name == name].cells.squeeze(),\n",
    "        eta=eta,\n",
    "        sigma=sigma,\n",
    "        mu=mu,\n",
    "        tau=tau,\n",
    "        age=donors[donors.name == name].age.squeeze(),\n",
    "        name=name,\n",
    "        seed=None,\n",
    "    )"
   ]
  },
  {
   "cell_type": "code",
   "execution_count": 16,
   "id": "eb797b58",
   "metadata": {},
   "outputs": [],
   "source": [
    "# params are from ABC\n",
    "parameters = dict()\n",
    "\n",
    "name = 'CB001'\n",
    "eta, sigma, mu, tau = 0.03, 0.01, 1, 1\n",
    "parameters[name] = create_parameters(donors, name, eta, sigma, mu, tau)\n",
    "\n",
    "# assume same params for both 0 age donors\n",
    "name = 'CB002'\n",
    "eta, sigma, mu, tau = 0.03, 0.01, 1, 1\n",
    "parameters[name] = create_parameters(donors, name, eta, sigma, mu, tau)\n",
    "\n",
    "\n",
    "name = 'KX001'\n",
    "eta, sigma, mu, tau = 0.03, 0.01, 1, 1.8\n",
    "parameters[name] = create_parameters(donors, name, eta, sigma, mu, tau)\n",
    "\n",
    "\n",
    "name = 'KX002'\n",
    "eta, sigma, mu, tau = 0.02, 0.01, 1, 2.6\n",
    "parameters[name] = create_parameters(donors, name, eta, sigma, mu, tau)\n",
    "\n",
    "\n",
    "name = 'SX001'\n",
    "eta, sigma, mu, tau = 0.03, 0.01, 1, 2.6\n",
    "parameters[name] = create_parameters(donors, name, eta, sigma, mu, tau)\n",
    "\n",
    "\n",
    "name = 'AX001'\n",
    "eta, sigma, mu, tau = 0.02, 0.01, 1, 3\n",
    "parameters[name] = create_parameters(donors, name, eta, sigma, mu, tau)\n",
    "\n",
    "\n",
    "name = 'KX008'\n",
    "eta, sigma, mu, tau = 0.06, 0.04, 16, 5\n",
    "parameters[name] = create_parameters(donors, name, eta, sigma, mu, tau)\n",
    "\n",
    "\n",
    "name = 'KX004'\n",
    "eta, sigma, mu, tau = 0.12, 0.04, 16, 1.4\n",
    "parameters[name] = create_parameters(donors, name, eta, sigma, mu, tau)\n",
    "\n",
    "\n",
    "name = 'KX003'\n",
    "eta, sigma, mu, tau = 0.08, 0.04, 23, 3\n",
    "parameters[name] = create_parameters(donors, name, eta, sigma, mu, tau)"
   ]
  },
  {
   "cell_type": "code",
   "execution_count": 27,
   "id": "255cd39f",
   "metadata": {},
   "outputs": [],
   "source": [
    "with open(\"parameters.txt\", \"w\") as f:\n",
    "    for params in parameters.values():\n",
    "        for _ in range(REPLICATES):\n",
    "            f.write(params.parameters() +\"\\n\")"
   ]
  },
  {
   "cell_type": "code",
   "execution_count": 28,
   "id": "e1cd38a8",
   "metadata": {},
   "outputs": [
    {
     "name": "stdout",
     "output_type": "stream",
     "text": [
      "-c 100000 -y 1 -r 1 --tau 1 --mu0 1 --mu-exp 2.2413 --mu-division 1.2 --mu-background 11.6 --mean-std 0.03 0.01 --subsamples 216 --snapshots 0  --sequential\n",
      "-c 100000 -y 1 -r 1 --tau 1 --mu0 1 --mu-exp 2.2413 --mu-division 1.2 --mu-background 11.6 --mean-std 0.03 0.01 --subsamples 216 --snapshots 0  --sequential\n",
      "-c 100000 -y 1 -r 1 --tau 1 --mu0 1 --mu-exp 2.2413 --mu-division 1.2 --mu-background 11.6 --mean-std 0.03 0.01 --subsamples 216 --snapshots 0  --sequential\n",
      "-c 100000 -y 1 -r 1 --tau 1 --mu0 1 --mu-exp 2.2413 --mu-division 1.2 --mu-background 11.6 --mean-std 0.03 0.01 --subsamples 216 --snapshots 0  --sequential\n",
      "-c 100000 -y 1 -r 1 --tau 1 --mu0 1 --mu-exp 2.2413 --mu-division 1.2 --mu-background 11.6 --mean-std 0.03 0.01 --subsamples 216 --snapshots 0  --sequential\n",
      "-c 100000 -y 1 -r 1 --tau 1 --mu0 1 --mu-exp 2.2413 --mu-division 1.2 --mu-background 11.6 --mean-std 0.03 0.01 --subsamples 216 --snapshots 0  --sequential\n",
      "-c 100000 -y 1 -r 1 --tau 1 --mu0 1 --mu-exp 2.2413 --mu-division 1.2 --mu-background 11.6 --mean-std 0.03 0.01 --subsamples 216 --snapshots 0  --sequential\n",
      "-c 100000 -y 1 -r 1 --tau 1 --mu0 1 --mu-exp 2.2413 --mu-division 1.2 --mu-background 11.6 --mean-std 0.03 0.01 --subsamples 216 --snapshots 0  --sequential\n",
      "-c 100000 -y 1 -r 1 --tau 1 --mu0 1 --mu-exp 2.2413 --mu-division 1.2 --mu-background 11.6 --mean-std 0.03 0.01 --subsamples 216 --snapshots 0  --sequential\n",
      "-c 100000 -y 1 -r 1 --tau 1 --mu0 1 --mu-exp 2.2413 --mu-division 1.2 --mu-background 11.6 --mean-std 0.03 0.01 --subsamples 216 --snapshots 0  --sequential\n"
     ]
    }
   ],
   "source": [
    "%%bash\n",
    "head parameters.txt"
   ]
  },
  {
   "cell_type": "code",
   "execution_count": 29,
   "id": "3ad2206e",
   "metadata": {},
   "outputs": [],
   "source": [
    "%%bash --out runs\n",
    "wc -l parameters.txt"
   ]
  },
  {
   "cell_type": "code",
   "execution_count": 31,
   "id": "98b599ac",
   "metadata": {},
   "outputs": [],
   "source": [
    "runs = int(runs.split(\" \")[0])\n",
    "assert REPLICATES * len(parameters) == runs, f\"{REPLICATES * len(parameters)} vs {runs}\""
   ]
  },
  {
   "cell_type": "code",
   "execution_count": 32,
   "id": "82542cee",
   "metadata": {},
   "outputs": [
    {
     "data": {
      "text/plain": [
       "288"
      ]
     },
     "execution_count": 32,
     "metadata": {},
     "output_type": "execute_result"
    }
   ],
   "source": [
    "REPLICATES * len(parameters)"
   ]
  }
 ],
 "metadata": {
  "kernelspec": {
   "display_name": "hsc-draft",
   "language": "python",
   "name": "hsc-draft"
  },
  "language_info": {
   "codemirror_mode": {
    "name": "ipython",
    "version": 3
   },
   "file_extension": ".py",
   "mimetype": "text/x-python",
   "name": "python",
   "nbconvert_exporter": "python",
   "pygments_lexer": "ipython3",
   "version": "3.11.4"
  }
 },
 "nbformat": 4,
 "nbformat_minor": 5
}
