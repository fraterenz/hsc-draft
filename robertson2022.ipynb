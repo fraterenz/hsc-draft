{
 "cells": [
  {
   "cell_type": "code",
   "execution_count": null,
   "id": "08e14195-f8be-453f-ab91-e42e9727e91e",
   "metadata": {},
   "outputs": [],
   "source": [
    "import pandas as pd\n",
    "import seaborn as sns\n",
    "import matplotlib.pyplot as plt\n",
    "import numpy as np\n",
    "import datetime"
   ]
  },
  {
   "cell_type": "markdown",
   "id": "630d38b4-bd87-4754-a682-154f8c50c9ba",
   "metadata": {},
   "source": [
    "## Bick et al. 2020 Nature\n",
    "The problem is that we dont have age here in the table :("
   ]
  },
  {
   "cell_type": "code",
   "execution_count": null,
   "id": "5e3434da-57ce-4d00-93cf-57e911273115",
   "metadata": {},
   "outputs": [],
   "source": [
    "header = pd.read_excel(\n",
    "    \"/mnt/c/Users/fra_t/Documents/PhD/hsc/bick2020/41586_2020_2819_MOESM1_ESM.xlsx\",\n",
    "    header=7,\n",
    ")\n",
    "print(header.Title.tolist())\n",
    "header"
   ]
  },
  {
   "cell_type": "markdown",
   "id": "de1a4140-16a2-487f-afb0-bde8942dad8d",
   "metadata": {},
   "source": [
    "## Uddin et al. 2022 Immunity & Ageing\n",
    "Here we have age, but only 11 genes... :("
   ]
  },
  {
   "cell_type": "code",
   "execution_count": null,
   "id": "696217f8-1a5d-49f0-be44-f43db32edc41",
   "metadata": {},
   "outputs": [],
   "source": [
    "data = pd.read_excel(\n",
    "    \"/mnt/c/Users/fra_t/Documents/PhD/hsc/uddin2022/12979_2022_278_MOESM2_ESM.xlsx\",\n",
    "    header=4,\n",
    ")\n",
    "data.drop(columns=data.columns[0], inplace=True)\n",
    "data"
   ]
  },
  {
   "cell_type": "code",
   "execution_count": null,
   "id": "ab37f0b7-af1c-4b65-94eb-94d59a2a3293",
   "metadata": {},
   "outputs": [],
   "source": [
    "data.VAF.hist()\n",
    "data.VAF.describe()"
   ]
  },
  {
   "cell_type": "code",
   "execution_count": null,
   "id": "73cb3de8-03bb-44cc-8664-74399dd5b977",
   "metadata": {},
   "outputs": [],
   "source": [
    "data[\"Sample ID\"].value_counts()"
   ]
  },
  {
   "cell_type": "code",
   "execution_count": null,
   "id": "75a7dc66-4752-45de-9e7d-0371b644e8cf",
   "metadata": {},
   "outputs": [],
   "source": [
    "fig, ax = plt.subplots(1, 1, figsize=(4, 3))\n",
    "sns.lineplot(\n",
    "    data[\n",
    "        (data.Annotation == \"JAK2:NM_004972:exon14:c.G1849T:p.V617F\")\n",
    "        & (data.VAF >= 0.001)\n",
    "    ],\n",
    "    x=\"Age (Blood Draw)\",\n",
    "    y=\"VAF\",\n",
    "    hue=\"Sample ID\",\n",
    "    ax=ax,\n",
    "    estimator=None,\n",
    "    # marker=\".\",\n",
    ")\n",
    "ax.legend().set_visible(False)\n",
    "ax.set_yscale(\"log\")\n",
    "ax.set_ylim([0.001, 1])\n",
    "ax.set_title(\"JAK2 V617F\")\n",
    "plt.show()\n",
    "\n",
    "fig, ax = plt.subplots(1, 1, figsize=(4, 3))\n",
    "sns.lineplot(\n",
    "    data[\n",
    "        (data.Annotation == \"DNMT3A:NM_022552:exon22:c.G2580A:p.W860X\")\n",
    "        & (data.VAF >= 0.001)\n",
    "    ],\n",
    "    x=\"Age (Blood Draw)\",\n",
    "    y=\"VAF\",\n",
    "    hue=\"Sample ID\",\n",
    "    ax=ax,\n",
    "    estimator=None,\n",
    "    # marker=\".\",\n",
    ")\n",
    "ax.legend().set_visible(False)\n",
    "ax.set_yscale(\"log\")\n",
    "ax.set_title(\"DNMT3A W860X\")\n",
    "ax.set_ylim([0.001, 1])\n",
    "plt.show()\n",
    "\n",
    "fig, ax = plt.subplots(1, 1, figsize=(4, 3))\n",
    "sns.lineplot(\n",
    "    data[\n",
    "        (data.Annotation == \"ASXL1:NM_015338:exon12:c.3911delT:p.F1305Lfs*145\")\n",
    "        & (data.VAF >= 0.001)\n",
    "    ],\n",
    "    x=\"Age (Blood Draw)\",\n",
    "    y=\"VAF\",\n",
    "    hue=\"Sample ID\",\n",
    "    ax=ax,\n",
    "    estimator=None,\n",
    "    # marker=\".\",\n",
    ")\n",
    "ax.legend().set_visible(False)\n",
    "ax.set_yscale(\"log\")\n",
    "ax.set_title(\"ASXL1\")\n",
    "ax.set_ylim([0.001, 1])\n",
    "plt.show()\n",
    "\n",
    "fig, ax = plt.subplots(1, 1, figsize=(4, 3))\n",
    "sns.lineplot(\n",
    "    data[\n",
    "        (data.Annotation == \"DNMT3A:NM_022552:exon23:c.G2645A:p.R882H\")\n",
    "        & (data.VAF >= 0.001)\n",
    "    ],\n",
    "    x=\"Age (Blood Draw)\",\n",
    "    y=\"VAF\",\n",
    "    hue=\"Sample ID\",\n",
    "    ax=ax,\n",
    "    estimator=None,\n",
    "    # marker=\".\",\n",
    ")\n",
    "ax.legend().set_visible(False)\n",
    "ax.set_yscale(\"log\")\n",
    "ax.set_title(\"DNMT3A R882H\")\n",
    "ax.set_ylim([0.001, 1])\n",
    "plt.show()"
   ]
  },
  {
   "cell_type": "code",
   "execution_count": null,
   "id": "8f54faa6-04cb-42aa-9e0f-593b0e05f0d6",
   "metadata": {},
   "outputs": [],
   "source": [
    "fig, ax = plt.subplots(1, 1)\n",
    "sns.scatterplot(data, x=\"Age (Blood Draw)\", y=\"VAF\", hue=\"Gene\", ax=ax)\n",
    "ax.set_yscale(\"log\")\n",
    "ax.set_ylim([9 * 10 ** (-5), 1])\n",
    "plt.show()"
   ]
  },
  {
   "attachments": {},
   "cell_type": "markdown",
   "id": "c4ba6a94-ce7a-4823-8411-d4841383e49a",
   "metadata": {},
   "source": [
    "## Roberston et al. 2022 Nature medicine\n",
    "Get the data from [here](https://www.ncbi.nlm.nih.gov/geo/query/acc.cgi?acc=GSE178936), use only `1PCT` because we are interested in VAF > 0.01.\n",
    "Indeed, the other tables `2PCT` are filtered versions of the tables `1PCT`, where only variants with VAF > 0.02 are kept.\n",
    "\n",
    "Use both synonymous and non-synonymous tables.\n",
    "\n",
    "To get the age of the donors, we need to do a bit of work. In the paper, they do not discriminate between the cohort `LBC1936` and the cohort `LBC1921` but those two are different.\n",
    "To assign the average age to the correct donors, we can use the column `Participiant_ID`."
   ]
  },
  {
   "cell_type": "code",
   "execution_count": null,
   "id": "2dad862c-72b1-4793-bb72-dcf009b829e4",
   "metadata": {},
   "outputs": [],
   "source": [
    "drivers = pd.read_excel(\n",
    "    \"/mnt/c/Users/fra_t/Documents/PhD/hsc/robertson2022/41591_2022_1883_MOESM3_ESM.xlsx\",\n",
    "    sheet_name=1,\n",
    "    header=6,\n",
    ")\n",
    "drivers"
   ]
  },
  {
   "cell_type": "code",
   "execution_count": null,
   "id": "b1915a6c-a41c-4c19-a5d3-213b3bf11a1c",
   "metadata": {},
   "outputs": [],
   "source": [
    "drivers[[\"wave\", \"Largest_VAF\"]].groupby(\"wave\").describe()"
   ]
  },
  {
   "cell_type": "code",
   "execution_count": null,
   "id": "dabdf94f-c117-4015-a085-6d1887caf61e",
   "metadata": {},
   "outputs": [],
   "source": [
    "fig, ax = plt.subplots(1, 1)\n",
    "sns.lineplot(\n",
    "    drivers,\n",
    "    x=\"wave\",\n",
    "    y=\"Largest_VAF\",\n",
    "    legend=False,\n",
    "    errorbar=(\"ci\", 95),\n",
    "    marker=\"x\",\n",
    "    ax=ax,\n",
    "    n_boot=10000,\n",
    "    seed=10,\n",
    ")\n",
    "ax.set_xticks([1, 2, 3, 4, 5])\n",
    "ax.set_ylim([0, 0.4])\n",
    "plt.show()"
   ]
  },
  {
   "cell_type": "code",
   "execution_count": null,
   "id": "7d0ca2a0-c219-403d-a432-cdaa8d4672c5",
   "metadata": {},
   "outputs": [],
   "source": []
  },
  {
   "cell_type": "code",
   "execution_count": null,
   "id": "8358507a-df79-4969-9dd4-02c0323f88d3",
   "metadata": {},
   "outputs": [],
   "source": [
    "# A) load data\n",
    "# 1. synonymous\n",
    "data_synonymous = pd.read_csv(\n",
    "    \"/mnt/c/Users/fra_t/Documents/PhD/hsc/robertson2022/GSE178936_LBC_ARCHER.1PCT_VAF.Feb22.synonymous.tsv\",\n",
    "    sep=\"\\t\",\n",
    ")\n",
    "data_synonymous[\"synonymous\"] = True\n",
    "# 2. non-synonymous\n",
    "data = pd.read_csv(\n",
    "    \"/mnt/c/Users/fra_t/Documents/PhD/hsc/robertson2022/GSE178936_LBC_ARCHER.1PCT_VAF.Feb22.non-synonymous.tsv\",\n",
    "    sep=\"\\t\",\n",
    ")\n",
    "data[\"synonymous\"] = False\n",
    "# 3. concat\n",
    "data = pd.concat([data, data_synonymous], axis=0)\n",
    "data.reset_index(inplace=True, drop=True)\n",
    "\n",
    "# B) processing\n",
    "data[\"cohort\"] = data.participant_id.str.extract(r\"CHIP_(.+)_.*\").astype(\"category\")\n",
    "# waves start at timepoint 0 and increase by 3 years at every timepoint\n",
    "mapping = {i: ele for i, ele in enumerate((range(0, 3 * 5, 3)), 1)}\n",
    "data[\"Age\"] = data.wave.map(mapping)\n",
    "data.loc[data.cohort == \"LBC21\", \"Age\"] += 79\n",
    "data.loc[data.cohort == \"LBC36\", \"Age\"] += 70\n",
    "data.dropna(subset=\"HGVSp\", inplace=True)\n",
    "data"
   ]
  },
  {
   "cell_type": "code",
   "execution_count": null,
   "id": "783166d0-a2c5-4cdf-aa1c-b81a70168636",
   "metadata": {},
   "outputs": [],
   "source": [
    "# drop patients with chemio (see Robertson et al. 2022 Fig1H)\n",
    "data[data.PreferredSymbol == \"JAK2\"].sort_values(by=\"AF\", ascending=False)\n",
    "# find the two participants that received the chemio based on the VAF of JAK2\n",
    "# this will remove data that have mutations on many genes such as TP53, KMT2A, DNMT3A and NOTCH1\n",
    "lost = (\n",
    "    data[\n",
    "        data.participant_id.isin(\n",
    "            data[\n",
    "                (data.PreferredSymbol == \"JAK2\") & (data.AF > 0.4)\n",
    "            ].participant_id.to_list()\n",
    "        )\n",
    "    ]\n",
    "    .PreferredSymbol.unique()\n",
    "    .tolist()\n",
    ")\n",
    "print(\"loosing data on genes: \", lost)\n",
    "data.drop(\n",
    "    index=data[\n",
    "        data.participant_id.isin(\n",
    "            data[\n",
    "                (data.PreferredSymbol == \"JAK2\") & (data.AF > 0.4)\n",
    "            ].participant_id.to_list()\n",
    "        )\n",
    "    ].index,\n",
    "    inplace=True,\n",
    ")"
   ]
  },
  {
   "cell_type": "code",
   "execution_count": null,
   "id": "289109ea-e056-45cc-913d-c4bb128e8993",
   "metadata": {},
   "outputs": [],
   "source": [
    "# max VAF per mutation per donor\n",
    "t = (\n",
    "    data[data.AF > 0.01]\n",
    "    .sort_values([\"participant_id\", \"Age\", \"AF\"], ascending=False)[\n",
    "        [\"participant_id\", \"AF\", \"Age\"]\n",
    "    ]\n",
    "    .groupby([\"participant_id\", \"Age\"])\n",
    "    .head(1)\n",
    ")\n",
    "t[[\"AF\", \"Age\"]].groupby(\"Age\").describe()"
   ]
  },
  {
   "cell_type": "code",
   "execution_count": null,
   "id": "d589e166-719d-4b51-b87c-33c4a66aae10",
   "metadata": {},
   "outputs": [],
   "source": [
    "# largest clone per donor\n",
    "fig, ax = plt.subplots(1, 1)\n",
    "sns.lineplot(\n",
    "    data[data.AF > 0.01]\n",
    "    .sort_values([\"participant_id\", \"Age\", \"AF\"], ascending=False)[\n",
    "        [\"participant_id\", \"AF\", \"Age\"]\n",
    "    ]\n",
    "    .groupby([\"participant_id\", \"Age\"])\n",
    "    .head(1),\n",
    "    x=\"Age\",\n",
    "    y=\"AF\",\n",
    "    hue=\"participant_id\",\n",
    "    legend=False,\n",
    "    palette=\"Blues\",\n",
    "    ax=ax,\n",
    "    marker=\"x\",\n",
    "    markersize=3,\n",
    "    markeredgewidth=1,\n",
    "    markeredgecolor=\"blue\",\n",
    ")\n",
    "# ax.set_ylim([0, 0.4])\n",
    "plt.show()"
   ]
  },
  {
   "cell_type": "code",
   "execution_count": null,
   "id": "06efcd1b-94f5-4383-b8f6-37bcb3eca910",
   "metadata": {},
   "outputs": [],
   "source": [
    "fig, ax = plt.subplots(1, 1, figsize=(4, 3))\n",
    "sns.histplot(data[data.AF > 0], x=\"AF\", hue=\"synonymous\", ax=ax, binwidth=0.01)\n",
    "# ax.set_yscale(\"log\")\n",
    "plt.show()"
   ]
  },
  {
   "cell_type": "code",
   "execution_count": null,
   "id": "92c55893-4023-45b5-a05c-4a2fefafa5b6",
   "metadata": {},
   "outputs": [],
   "source": [
    "data[[\"AF\", \"synonymous\"]].groupby(\"synonymous\", observed=False).describe()"
   ]
  },
  {
   "cell_type": "code",
   "execution_count": null,
   "id": "f95437a5-7176-4207-99d6-87cb089c917e",
   "metadata": {},
   "outputs": [],
   "source": [
    "data[[\"AF\", \"cohort\"]].groupby(\"cohort\", observed=False).describe()"
   ]
  },
  {
   "cell_type": "code",
   "execution_count": null,
   "id": "633e2bd5-9cce-4d8c-9e49-139280759431",
   "metadata": {},
   "outputs": [],
   "source": [
    "data[[\"AF\", \"Age\"]].groupby(\"Age\").describe()"
   ]
  },
  {
   "cell_type": "code",
   "execution_count": null,
   "id": "d81818bf-b109-44d7-960e-c59b20ae31ff",
   "metadata": {},
   "outputs": [],
   "source": [
    "data[[\"AF\", \"Age\"]].groupby([\"Age\"]).describe()"
   ]
  },
  {
   "cell_type": "code",
   "execution_count": null,
   "id": "e18df7ce-1df5-471b-9cbf-4683d093fb44",
   "metadata": {},
   "outputs": [],
   "source": [
    "# this makes me want to drop 82\n",
    "print(data.Age.value_counts())\n",
    "data.drop(index=data[data.Age == 82].index, inplace=True)\n",
    "print(data.Age.value_counts())"
   ]
  },
  {
   "cell_type": "markdown",
   "id": "655c73b8-8321-4fbc-87d0-ef0306684884",
   "metadata": {},
   "source": [
    "### Biggest clones assuming donors are the same process"
   ]
  },
  {
   "cell_type": "code",
   "execution_count": null,
   "id": "8ca87bc6-064c-49fd-8136-c2d7f704e20b",
   "metadata": {},
   "outputs": [],
   "source": [
    "# for each donor, get the largest frequency. Then, aggregate per age to compute\n",
    "# some stats on those data\n",
    "# largest clone per patient\n",
    "largest_clones = (\n",
    "    data.loc[data.AF >= 0.01, [\"participant_id\", \"AF\", \"Age\"]]\n",
    "    .groupby([\"participant_id\", \"Age\"])\n",
    "    .max()\n",
    ").reset_index()\n",
    "largest_clones[\"Largest clone frequency\"] = 2 * largest_clones.AF\n",
    "largest_clones.drop(columns=\"AF\", inplace=True)\n",
    "data = pd.merge(\n",
    "    left=data,\n",
    "    right=largest_clones,\n",
    "    on=[\"participant_id\", \"Age\"],\n",
    "    validate=\"many_to_one\",\n",
    ")\n",
    "largest_clones.groupby(\"Age\").describe()"
   ]
  },
  {
   "cell_type": "code",
   "execution_count": null,
   "id": "e808c3a2-d6cf-4718-a627-c863e81e298e",
   "metadata": {},
   "outputs": [],
   "source": [
    "for age in sorted(data.Age.unique()):\n",
    "    fig, ax = plt.subplots(1, 1, layout=\"constrained\", figsize=(4, 3))\n",
    "    data_age = data.loc[\n",
    "        data.Age == age, [\"participant_id\", \"Age\", \"Largest clone frequency\"]\n",
    "    ].drop_duplicates()\n",
    "    sns.histplot(\n",
    "        data_age, x=\"Largest clone frequency\", bins=np.arange(0, 1.1, 0.1), ax=ax\n",
    "    )\n",
    "    ax.set_xlim([0, 1])\n",
    "    ax.set_title(f\"{age} y.o.\")\n",
    "    ax.set_xlabel(\"Largest clone frequency\")\n",
    "    plt.savefig(f\"largest_clone_distr_per_timepoint_robertson_{age}years.svg\")\n",
    "    plt.show()"
   ]
  },
  {
   "cell_type": "code",
   "execution_count": null,
   "id": "e8fd6a09-3326-4751-9f72-8425f48c273e",
   "metadata": {},
   "outputs": [],
   "source": [
    "# largest clone per patient\n",
    "fig, ax = plt.subplots(1, 1, figsize=(4, 3), layout=\"constrained\")\n",
    "sns.lineplot(\n",
    "    data[[\"participant_id\", \"Age\", \"Largest clone frequency\"]].drop_duplicates(),\n",
    "    x=\"Age\",\n",
    "    y=\"Largest clone frequency\",\n",
    "    errorbar=(\"ci\", 95),\n",
    "    legend=False,\n",
    "    ax=ax,\n",
    "    marker=\"x\",\n",
    "    markersize=3,\n",
    "    markeredgewidth=1,\n",
    "    markeredgecolor=\"blue\",\n",
    "    n_boot=10000,\n",
    "    seed=10,\n",
    ")\n",
    "ax.set_xlabel(\"Age (years)\")\n",
    "ax.set_ylim([0, 1])\n",
    "ax.set_xlim([68, 92])\n",
    "plt.savefig(\"largest_clone_avg_robertson.png\", dpi=600)\n",
    "plt.show()"
   ]
  },
  {
   "cell_type": "code",
   "execution_count": null,
   "id": "46ee4262-34f8-4148-b8d4-fc17e17ece27",
   "metadata": {},
   "outputs": [],
   "source": [
    "detected_clones = (\n",
    "    data.loc[data.AF >= 0.01, [\"AF\", \"Age\", \"participant_id\"]]\n",
    "    .groupby([\"participant_id\", \"Age\"])\n",
    "    .count()\n",
    ")\n",
    "detected_clones.rename(columns={\"AF\": \"Detected clones\"}, inplace=True)\n",
    "detected_clones.reset_index(inplace=True)\n",
    "data = pd.merge(\n",
    "    left=data,\n",
    "    right=detected_clones,\n",
    "    on=[\"participant_id\", \"Age\"],\n",
    "    validate=\"many_to_one\",\n",
    ")\n",
    "detected_clones.groupby(\"Age\").describe()"
   ]
  },
  {
   "cell_type": "code",
   "execution_count": null,
   "id": "14fa73d9-7557-49cc-a267-081d8fed3d97",
   "metadata": {},
   "outputs": [],
   "source": [
    "# TODO: I think we should drop age > 81 if we want to compare to Fig3F\n",
    "fig, ax = plt.subplots(1, 1, figsize=(4, 3), layout=\"constrained\")\n",
    "sns.lineplot(\n",
    "    data[[\"participant_id\", \"Age\", \"Detected clones\"]].drop_duplicates(),\n",
    "    x=\"Age\",\n",
    "    y=\"Detected clones\",\n",
    "    legend=False,\n",
    "    marker=\"x\",\n",
    "    markeredgewidth=1.2,\n",
    "    markeredgecolor=\"black\",\n",
    "    ax=ax,\n",
    ")\n",
    "ax.set_ylabel(\"Number of expanded clones\")\n",
    "ax.set_xlabel(\"Age (years)\")\n",
    "ax.set_ylim([10, 40])\n",
    "plt.savefig(\"expanded_clones_robertson.png\", dpi=600)\n",
    "plt.show()"
   ]
  },
  {
   "cell_type": "code",
   "execution_count": null,
   "id": "2f2bd669-ca99-4fec-a7c9-3229b383756a",
   "metadata": {},
   "outputs": [],
   "source": [
    "detected_clones_non_syn = (\n",
    "    data.loc[(data.AF >= 0.01) & (~data.synonymous), [\"AF\", \"Age\", \"participant_id\"]]\n",
    "    .groupby([\"participant_id\", \"Age\"])\n",
    "    .count()\n",
    ")\n",
    "detected_clones_non_syn.rename(\n",
    "    columns={\"AF\": \"Detected clones non synonymous\"}, inplace=True\n",
    ")\n",
    "detected_clones_non_syn.reset_index(inplace=True)\n",
    "data = pd.merge(\n",
    "    left=data,\n",
    "    right=detected_clones_non_syn,\n",
    "    on=[\"participant_id\", \"Age\"],\n",
    "    validate=\"many_to_one\",\n",
    ")\n",
    "# 446?? hitchhiking!\n",
    "print(data[\"Detected clones\"].unique())\n",
    "print(data[\"Detected clones non synonymous\"].unique())\n",
    "detected_clones_non_syn.groupby(\"Age\").describe()"
   ]
  },
  {
   "cell_type": "code",
   "execution_count": null,
   "id": "05f3f8bc-e0b2-4ce6-8def-50a16331e104",
   "metadata": {},
   "outputs": [],
   "source": [
    "# TODO: I think we should drop age > 81 if we want to compare to Fig3F\n",
    "fig, ax = plt.subplots(1, 1, figsize=(4, 3), layout=\"constrained\")\n",
    "sns.lineplot(\n",
    "    data[[\"participant_id\", \"Age\", \"Detected clones non synonymous\"]].drop_duplicates(),\n",
    "    x=\"Age\",\n",
    "    y=\"Detected clones non synonymous\",\n",
    "    legend=False,\n",
    "    marker=\"x\",\n",
    "    markeredgewidth=1.2,\n",
    "    markeredgecolor=\"black\",\n",
    "    ax=ax,\n",
    ")\n",
    "ax.set_ylabel(\"Number of expanded clones\")\n",
    "ax.set_xlabel(\"Age (years)\")\n",
    "ax.set_ylim([0, 35])\n",
    "plt.savefig(\"expanded_clones_nonsynonymous_robertson.png\", dpi=600)\n",
    "plt.show()"
   ]
  },
  {
   "cell_type": "code",
   "execution_count": null,
   "id": "c3c991d0-b9ba-4e4d-8075-4558306aa848",
   "metadata": {},
   "outputs": [],
   "source": [
    "fig, ax = plt.subplots(1, 1, figsize=(4, 3), layout=\"constrained\")\n",
    "\n",
    "sns.lineplot(\n",
    "    data[[\"participant_id\", \"Age\", \"Largest clone frequency\"]].drop_duplicates(),\n",
    "    x=\"Age\",\n",
    "    y=\"Largest clone frequency\",\n",
    "    hue=\"participant_id\",\n",
    "    legend=False,\n",
    "    # palette=\"Blues\",\n",
    "    ax=ax,\n",
    "    marker=\"x\",\n",
    "    markersize=3,\n",
    "    markeredgewidth=1,\n",
    "    markeredgecolor=\"blue\",\n",
    ")\n",
    "ax.set_ylim([0, 1])\n",
    "ax.set_xlabel(\"Age (years)\")\n",
    "plt.savefig(\"largest_clone_robertson.png\", dpi=600)\n",
    "plt.show()"
   ]
  },
  {
   "cell_type": "code",
   "execution_count": null,
   "id": "6567c9a8-6ede-408a-811f-f43836a9833b",
   "metadata": {},
   "outputs": [],
   "source": [
    "today = datetime.date.today().strftime(\"%d_%m_%Y\")\n",
    "data.to_csv(f\"robertson_cleaned_{today}.csv\", index=False)\n",
    "pd.read_csv(f\"robertson_cleaned_{today}.csv\").columns"
   ]
  },
  {
   "cell_type": "markdown",
   "id": "a5cd1a33-1867-4571-a884-9e22f764aaba",
   "metadata": {},
   "source": [
    "### Trajectories"
   ]
  },
  {
   "cell_type": "markdown",
   "id": "3ff3d421-b7ec-467c-9395-d7e8f6c2def2",
   "metadata": {},
   "source": [
    "#### Protein substitution"
   ]
  },
  {
   "cell_type": "code",
   "execution_count": null,
   "id": "a089183f-ab36-4ea7-8e94-707d00e61f65",
   "metadata": {},
   "outputs": [],
   "source": [
    "sns.lineplot(\n",
    "    data[\n",
    "        (data[\"PreferredSymbol\"] == \"JAK2\")\n",
    "        & (data[\"protein_substitution\"] == \"p.Val617Phe\")\n",
    "    ],\n",
    "    x=\"Age\",\n",
    "    y=\"AF\",\n",
    ")\n",
    "data.loc[\n",
    "    (data[\"PreferredSymbol\"] == \"JAK2\")\n",
    "    & (data[\"protein_substitution\"] == \"p.Val617Phe\"),\n",
    "    [\"AF\", \"Age\"],\n",
    "].groupby(\"Age\").describe()"
   ]
  },
  {
   "cell_type": "code",
   "execution_count": null,
   "id": "c620e102-2131-4381-a09d-c6eed9e46ef9",
   "metadata": {},
   "outputs": [],
   "source": [
    "sns.lineplot(\n",
    "    data[data.HGVSp == \"NP_005924.2:p.Pro773ArgfsTer8\"],\n",
    "    x=\"Age\",\n",
    "    y=\"AF\",\n",
    ")\n",
    "data.HGVSp.value_counts()"
   ]
  },
  {
   "cell_type": "markdown",
   "id": "c31f6939-0066-439d-90d6-277c947272a2",
   "metadata": {},
   "source": [
    "#### Gene level"
   ]
  },
  {
   "cell_type": "code",
   "execution_count": null,
   "id": "220baa4d-3215-4f02-8403-808662d458e8",
   "metadata": {},
   "outputs": [],
   "source": [
    "data[\n",
    "    (data[\"PreferredSymbol\"] == \"DNMT3A\")\n",
    "    & (data.Variant_Classification == \"Missense_Mutation\")\n",
    "]"
   ]
  },
  {
   "cell_type": "code",
   "execution_count": null,
   "id": "0502f3dc-2b84-42d0-8b61-b8f5ac2dcb74",
   "metadata": {},
   "outputs": [],
   "source": [
    "data.loc[\n",
    "    (data[\"participant_id\"] == \"CHIP_LBC36_037\") & (data.AF >= 0.01), [\"AF\", \"HGVSp\"]\n",
    "].groupby(\"HGVSp\").describe()"
   ]
  },
  {
   "cell_type": "code",
   "execution_count": null,
   "id": "98ae05bf-85a4-4cc1-b232-bfbc736d1fc9",
   "metadata": {},
   "outputs": [],
   "source": [
    "data.loc[\n",
    "    (data[\"participant_id\"] == \"CHIP_LBC36_037\") & (data.AF >= 0.01),\n",
    "    [\"AF\", \"PreferredSymbol\", \"Age\"],\n",
    "]"
   ]
  },
  {
   "cell_type": "code",
   "execution_count": null,
   "id": "aa0d9e71-3b2f-4ae9-9a60-91847e72c2b4",
   "metadata": {},
   "outputs": [],
   "source": [
    "# the most present genes at patient level?\n",
    "data[[\"participant_id\", \"PreferredSymbol\", \"AF\"]].groupby(\n",
    "    [\"participant_id\", \"PreferredSymbol\"]\n",
    ").count().sort_values(\n",
    "    by=\"AF\", ascending=False\n",
    ").reset_index().PreferredSymbol.value_counts().head(\n",
    "    n=20\n",
    ")"
   ]
  },
  {
   "cell_type": "code",
   "execution_count": null,
   "id": "441d2ad7-ca8e-4d47-86d5-a8ac4bd6e2c0",
   "metadata": {},
   "outputs": [],
   "source": [
    "# hitchhiking: how can we distinguish between hichhikers and clones?\n",
    "# genes = {\"NF1\", \"NOTCH1\", \"TP53\"}\n",
    "genes = sorted([\"KMT2A\", \"DNMT3A\", \"NOTCH1\", \"TP53\", \"NF1\", \"RAD21\"])\n",
    "for participant in data.loc[data[\"Detected clones\"] > 30, \"participant_id\"].unique():\n",
    "    xlims = (\n",
    "        data.loc[data[\"participant_id\"] == participant, \"Age\"].min() - 1,\n",
    "        data.loc[data[\"participant_id\"] == participant, \"Age\"].max() + 1,\n",
    "    )\n",
    "    fig, axes = plt.subplots(\n",
    "        2, 3, figsize=(6, 3.5), layout=\"constrained\", sharey=True, sharex=True\n",
    "    )\n",
    "    tmp = data.loc[\n",
    "        (data[\"participant_id\"] == participant) & (data[\"PreferredSymbol\"].isin(genes)),\n",
    "        [\"AF\", \"HGVSp\", \"Age\", \"PreferredSymbol\"],\n",
    "    ]\n",
    "    ylims = 0, tmp.AF.max() + 0.001\n",
    "    for gene, ax in zip(genes, axes.ravel()):\n",
    "        sns.lineplot(\n",
    "            data=tmp[tmp.PreferredSymbol == gene],\n",
    "            x=\"Age\",\n",
    "            y=\"AF\",\n",
    "            hue=\"HGVSp\",\n",
    "            marker=\"x\",\n",
    "            markersize=3,\n",
    "            markeredgewidth=1,\n",
    "            markeredgecolor=\"blue\",\n",
    "            legend=False,\n",
    "            ax=ax,\n",
    "        )\n",
    "        ax.set_title(gene)\n",
    "        ax.set_ylim(ylims)\n",
    "        ax.set_xlim(xlims)\n",
    "        ax.fill_between(\n",
    "            x=np.arange(xlims[0], xlims[1] + 1),\n",
    "            y1=0,\n",
    "            y2=0.01,\n",
    "            color=\"red\",\n",
    "            alpha=0.1,\n",
    "            edgecolor=\"face\",\n",
    "        )\n",
    "    fig.suptitle(participant)\n",
    "    plt.savefig(f'{str(\"_\").join(genes)}_{participant}.png', dpi=600)\n",
    "    plt.show()"
   ]
  },
  {
   "cell_type": "code",
   "execution_count": null,
   "id": "261272bf-27a8-4e8c-ba04-2f06bf65dac9",
   "metadata": {},
   "outputs": [],
   "source": [
    "print(\n",
    "    f'There are {data.loc[data[\"Detected clones\"] > 40, \"participant_id\"].drop_duplicates().shape[0]} donors with more than 40 expanded clones'\n",
    ")\n",
    "sns.lineplot(\n",
    "    data.loc[\n",
    "        (data[\"participant_id\"] == \"CHIP_LBC36_037\")\n",
    "        & (data.AF >= 0.01)\n",
    "        & (~data.synonymous),\n",
    "        [\"AF\", \"Age\", \"HGVSp\", \"PreferredSymbol\"],\n",
    "    ],\n",
    "    x=\"Age\",\n",
    "    y=\"AF\",\n",
    "    hue=\"HGVSp\",\n",
    "    legend=False,\n",
    "    # palette=\"Greens\",\n",
    "    marker=\"x\",\n",
    "    markersize=3,\n",
    "    markeredgewidth=1,\n",
    "    markeredgecolor=\"blue\",\n",
    "    # estimator=None,\n",
    ")\n",
    "plt.show()"
   ]
  },
  {
   "cell_type": "code",
   "execution_count": null,
   "id": "38135257-21fb-4fea-8615-ddd7a5f99294",
   "metadata": {},
   "outputs": [],
   "source": [
    "sns.relplot(\n",
    "    data.loc[\n",
    "        (data[\"PreferredSymbol\"] == \"JAK2\")\n",
    "        & (~data.Variant_Classification.isin([\"RNA\", \"5'UTR\"]))\n",
    "    ],\n",
    "    x=\"Age\",\n",
    "    y=\"AF\",\n",
    "    kind=\"line\",\n",
    "    marker=\".\",\n",
    ")\n",
    "plt.show()"
   ]
  },
  {
   "cell_type": "code",
   "execution_count": null,
   "id": "58511106-a1f3-4998-9ca0-fe71f9504dff",
   "metadata": {},
   "outputs": [],
   "source": [
    "sns.relplot(\n",
    "    data.loc[\n",
    "        (data[\"PreferredSymbol\"] == \"JAK2\")\n",
    "        & (~data.Variant_Classification.isin([\"RNA\", \"5'UTR\"]))\n",
    "    ],\n",
    "    x=\"Age\",\n",
    "    y=\"AF\",\n",
    "    hue=\"participant_id\",\n",
    "    col=\"Variant_Classification\",\n",
    "    kind=\"line\",\n",
    "    marker=\".\",\n",
    ")\n",
    "plt.show()"
   ]
  },
  {
   "cell_type": "code",
   "execution_count": null,
   "id": "89c8a094-9c1e-47fb-9966-dcafdb65eacd",
   "metadata": {},
   "outputs": [],
   "source": [
    "sns.relplot(\n",
    "    data.loc[\n",
    "        (data[\"PreferredSymbol\"] == \"TET2\")\n",
    "        & (~data.Variant_Classification.isin([\"RNA\", \"5'UTR\"]))\n",
    "    ],\n",
    "    x=\"Age\",\n",
    "    y=\"AF\",\n",
    "    hue=\"participant_id\",\n",
    "    col=\"Variant_Classification\",\n",
    "    kind=\"line\",\n",
    "    legend=False,\n",
    ")\n",
    "plt.show()"
   ]
  },
  {
   "cell_type": "code",
   "execution_count": null,
   "id": "4c0d0035-f3f8-4d23-ab2c-3b3119964923",
   "metadata": {},
   "outputs": [],
   "source": [
    "sns.lineplot(\n",
    "    data[(data[\"PreferredSymbol\"] == \"JAK2\") & (data.type == \"snp\")],\n",
    "    x=\"Age\",\n",
    "    y=\"AF\",\n",
    "    ls=\"-.\",\n",
    ")\n",
    "sns.lineplot(\n",
    "    data[(data[\"PreferredSymbol\"] == \"JAK2\") & (data.type == \"snp\")],\n",
    "    x=\"Age\",\n",
    "    y=\"AF\",\n",
    "    hue=\"participant_id\",\n",
    "    legend=False,\n",
    ")\n",
    "plt.show()\n",
    "\n",
    "\n",
    "sns.lineplot(\n",
    "    data[data[\"PreferredSymbol\"] == \"TET2\"],\n",
    "    x=\"Age\",\n",
    "    y=\"AF\",\n",
    "    hue=\"Variant_Classification\",\n",
    ")\n",
    "plt.show()\n",
    "\n",
    "sns.lineplot(\n",
    "    data[(data[\"PreferredSymbol\"] == \"DNMT3A\") & (data.type == \"snp\")],\n",
    "    x=\"Age\",\n",
    "    y=\"AF\",\n",
    ")\n",
    "plt.show()"
   ]
  }
 ],
 "metadata": {
  "kernelspec": {
   "display_name": "Python 3 (ipykernel)",
   "language": "python",
   "name": "python3"
  },
  "language_info": {
   "codemirror_mode": {
    "name": "ipython",
    "version": 3
   },
   "file_extension": ".py",
   "mimetype": "text/x-python",
   "name": "python",
   "nbconvert_exporter": "python",
   "pygments_lexer": "ipython3",
   "version": "3.12.5"
  }
 },
 "nbformat": 4,
 "nbformat_minor": 5
}
