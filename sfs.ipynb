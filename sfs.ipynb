{
 "cells": [
  {
   "cell_type": "code",
   "execution_count": null,
   "id": "013dfa7a-53c6-4347-869c-29f66ee18bc8",
   "metadata": {},
   "outputs": [],
   "source": [
    "%load_ext autoreload\n",
    "%autoreload 2"
   ]
  },
  {
   "cell_type": "code",
   "execution_count": null,
   "id": "ce19ffa6",
   "metadata": {},
   "outputs": [],
   "source": [
    "import matplotlib.pyplot as plt\n",
    "import numpy as np\n",
    "import pandas as pd\n",
    "import socket\n",
    "import seaborn as sns\n",
    "from pathlib import Path\n",
    "from random import choices\n",
    "\n",
    "from hscpy import mitchell, parse_path2folder_xdoty_years, realisation, parameters\n",
    "from hscpy.figures import sfs as sfs_figures\n",
    "from hscpy.figures import PlotOptions, simulations\n",
    "\n",
    "from futils import parse_version, snapshot\n",
    "\n",
    "PATH2BIN = Path(\"~\").expanduser() / \"hsc/target/release\"\n",
    "assert PATH2BIN.is_dir()\n",
    "\n",
    "NCELLS = 100_000\n",
    "SAMPLE = 368\n",
    "USE_SCRATCH = True\n",
    "\n",
    "SAVEFIG = True\n",
    "BIGLABELS = False\n",
    "FIGSIZE = [5, 3] if BIGLABELS else [6.4, 4.8]  # default matplotlib\n",
    "EXTENSION = \".svg\"\n",
    "PLOT_OPTIONS = PlotOptions(figsize=FIGSIZE, extension=EXTENSION, save=SAVEFIG)"
   ]
  },
  {
   "cell_type": "code",
   "execution_count": null,
   "id": "affa36a0",
   "metadata": {},
   "outputs": [],
   "source": [
    "%%bash -s \"$PATH2BIN\" --out version\n",
    "$1/hsc --version"
   ]
  },
  {
   "cell_type": "code",
   "execution_count": null,
   "id": "985e133e",
   "metadata": {},
   "outputs": [],
   "source": [
    "VERSION = parse_version(version)\n",
    "PATH2SAVE = Path(f\"./{VERSION}\")\n",
    "\n",
    "print(\"Running hsc with version:\", VERSION)\n",
    "\n",
    "if USE_SCRATCH:\n",
    "    PATH2SIMS = Path(\"/data/scratch/\")\n",
    "else:\n",
    "    PATH2SIMS = Path(\"/data/home/\")\n",
    "PATH2SIMS /= f\"hfx923/hsc-draft/{VERSION}\"\n",
    "\n",
    "if socket.gethostname() == \"5X9ZYD3\":\n",
    "    PATH2MITCHELL = Path(\"/mnt/c/Users/terenz01/Documents/SwitchDrive/PhD/hsc\")\n",
    "elif socket.gethostname() == \"LAPTOP-CEKCHJ4C\":\n",
    "    PATH2MITCHELL = Path(\"/mnt/c/Users/fra_t/Documents/PhD/hsc\")\n",
    "else:\n",
    "    PATH2MITCHELL = Path(\"~\").expanduser()\n",
    "\n",
    "PATH2SAVE = Path(f\"./{VERSION}\")"
   ]
  },
  {
   "cell_type": "markdown",
   "id": "f788bd4b",
   "metadata": {
    "tags": []
   },
   "source": [
    "## Mitchell's data"
   ]
  },
  {
   "cell_type": "code",
   "execution_count": null,
   "id": "bf0282ac",
   "metadata": {},
   "outputs": [],
   "source": [
    "summary = mitchell.load_and_process_mitchell(\n",
    "    PATH2MITCHELL / \"Summary_cut.csv\", drop_donor_KX007=True\n",
    ")\n",
    "summary.dtypes"
   ]
  },
  {
   "cell_type": "code",
   "execution_count": null,
   "id": "19a2afe0",
   "metadata": {},
   "outputs": [],
   "source": [
    "print(summary.describe())\n",
    "print(f\"\\n\\ncell types: \\n{summary.cell_type.value_counts()}\")\n",
    "print(f\"\\n\\nsample types: \\n{summary.sample_type.value_counts()}\")\n",
    "print(f\"\\n\\ntimepoints: \\n{summary.timepoint.value_counts()}\")\n",
    "print(\n",
    "    f'\\n\\nages and cells: \\n{summary[[\"donor_id\", \"cells\", \"age\"]].drop_duplicates()}'\n",
    ")\n",
    "print(\n",
    "    f'\\n\\nmutations per donor: \\n{summary[[\"donor_id\", \"number_mutations\"]].groupby(\"donor_id\").sum()}'\n",
    ")"
   ]
  },
  {
   "cell_type": "code",
   "execution_count": null,
   "id": "3429f098",
   "metadata": {
    "tags": []
   },
   "outputs": [],
   "source": [
    "for i in summary.donor_id.unique():\n",
    "    fig, ax = plt.subplots(1, 1, tight_layout=True, figsize=(6, 4))\n",
    "    sns.histplot(\n",
    "        data=summary[summary.donor_id == i],\n",
    "        x=\"number_mutations\",\n",
    "        hue=\"donor_id\",\n",
    "        kde=True,\n",
    "        bins=50,\n",
    "        ax=ax,\n",
    "        stat=\"count\",\n",
    "    )\n",
    "    if PLOT_OPTIONS.save:\n",
    "        plt.savefig(f\"./{i}_burden{EXTENSION}\")\n",
    "    plt.show()"
   ]
  },
  {
   "cell_type": "code",
   "execution_count": null,
   "id": "aba9cabd-1658-432c-b97b-58f93c663fcd",
   "metadata": {},
   "outputs": [],
   "source": [
    "descr = (\n",
    "    summary.loc[summary.age == 0, [\"donor_id\", \"number_mutations\"]]\n",
    "    .groupby(\"donor_id\")\n",
    "    .describe()\n",
    ")\n",
    "descr"
   ]
  },
  {
   "cell_type": "code",
   "execution_count": null,
   "id": "09b5d81e-2695-47ed-b488-0d24aac691f7",
   "metadata": {},
   "outputs": [],
   "source": [
    "fig, ax = plt.subplots(1, 1, tight_layout=True, figsize=FIGSIZE)\n",
    "sns.histplot(\n",
    "    data=summary,\n",
    "    x=\"number_mutations\",\n",
    "    hue=\"donor_id\",\n",
    "    kde=True,\n",
    "    binwidth=10,\n",
    "    ax=ax,\n",
    "    stat=\"percent\",\n",
    ")\n",
    "sns.move_legend(ax, bbox_to_anchor=(1.01, 1), loc=\"upper left\", frameon=False)\n",
    "if PLOT_OPTIONS.save:\n",
    "    plt.savefig(f\"./mitchell_burden{EXTENSION}\")\n",
    "plt.show()"
   ]
  },
  {
   "cell_type": "code",
   "execution_count": null,
   "id": "fdc763cd-16f3-45ce-995b-e98209295eb4",
   "metadata": {},
   "outputs": [],
   "source": [
    "descr[(\"number_mutations\", \"mean\")].mean() / (2 * np.log(200_000 - 2))"
   ]
  },
  {
   "cell_type": "code",
   "execution_count": null,
   "id": "17991679-ff17-43d3-8d02-2f6d709e1960",
   "metadata": {},
   "outputs": [],
   "source": [
    "descr[(\"number_mutations\", \"std\")] ** 2"
   ]
  },
  {
   "cell_type": "markdown",
   "id": "5b8200aa",
   "metadata": {},
   "source": [
    "## Compare the SFS of the simulations against the data"
   ]
  },
  {
   "cell_type": "code",
   "execution_count": null,
   "id": "e7c9f31d",
   "metadata": {},
   "outputs": [],
   "source": [
    "%%time\n",
    "names_mitchell = summary.donor_id.unique()\n",
    "ages_mitchell = summary.age.unique().tolist()\n",
    "# there are two donors with the same age 0\n",
    "assert len(ages_mitchell) + 1 == len(names_mitchell)\n",
    "target_sfs = {\n",
    "    donor: mitchell.sfs_donor_mitchell(donor, PATH2MITCHELL, remove_indels=False)\n",
    "    for age, donor in zip([0] + ages_mitchell, names_mitchell)\n",
    "}"
   ]
  },
  {
   "cell_type": "code",
   "execution_count": null,
   "id": "70325d8b-ce8b-484b-9d07-7d4728f8c94b",
   "metadata": {},
   "outputs": [],
   "source": [
    "%%time\n",
    "# compute the correction for the SFS with sampled distributions from\n",
    "# https://www.biorxiv.org/content/10.1101/2022.11.07.515470v2\n",
    "corrected_variants_one_over_1_squared = dict()\n",
    "for donor in (\n",
    "    summary[[\"donor_id\", \"age\", \"cells\"]]\n",
    "    .drop_duplicates()\n",
    "    .sort_values(by=\"age\", ascending=False)\n",
    "    .itertuples()\n",
    "):\n",
    "    print(\n",
    "        f\"apply sampling correction to SFS of donor {donor.donor_id} with age {donor.age}\"\n",
    "    )\n",
    "    corrected_variants_one_over_1_squared[\n",
    "        donor.donor_id\n",
    "    ] = realisation.compute_variants(\n",
    "        realisation.Correction.ONE_OVER_F_SQUARED,\n",
    "        pop_size=NCELLS,\n",
    "        sample_size=donor.cells,\n",
    "    )"
   ]
  },
  {
   "cell_type": "code",
   "execution_count": null,
   "id": "1b63c62d",
   "metadata": {},
   "outputs": [],
   "source": [
    "%%time\n",
    "path2sfs = Path(PATH2SIMS / f\"{SAMPLE}cells/sfs/\")\n",
    "ages_sims = sorted([parse_path2folder_xdoty_years(path) for path in path2sfs.iterdir()])\n",
    "assert ages_sims == ages_mitchell\n",
    "\n",
    "# load some runs with specific parameters\n",
    "filtered_by_abc = parameters.filter_simulations(\n",
    "    path2sfs, mu=1, mean=0.09, std=0.01, b0=1\n",
    ")\n",
    "filtered_by_abc.sort_values(by=\"s\", inplace=True)\n",
    "view = filtered_by_abc[\n",
    "    (filtered_by_abc.s > filtered_by_abc.s.quantile(0.01))\n",
    "    & (filtered_by_abc.s < filtered_by_abc.s.quantile(0.99))\n",
    "]\n",
    "filtered_idx_by_abc = set(view.idx)\n",
    "print(f\"{len(filtered_idx_by_abc)} runs\")\n",
    "sfs_sims = realisation.load_all_sfs_by_age(path2sfs, filtered_idx_by_abc)\n",
    "sns.pairplot(filtered_by_abc[[\"mu\", \"s\", \"std\"]].drop_duplicates())\n",
    "view"
   ]
  },
  {
   "cell_type": "code",
   "execution_count": null,
   "id": "b7e552c2",
   "metadata": {
    "scrolled": false
   },
   "outputs": [],
   "source": [
    "SHOW_SAMPLE_ONLY = True  # do not show sims\n",
    "\n",
    "if not SHOW_SAMPLE_ONLY:\n",
    "    # TODO this\n",
    "    subsample = choices(list(filtered_idx_by_abc), k=len(markers))\n",
    "    markers = {\"D\", \"o\"}\n",
    "    for age, name in zip([0] + ages_mitchell, names_mitchell):\n",
    "        fig, axes = plt.subplots(\n",
    "            1, 2, width_ratios=[4, 1], layout=\"constrained\", figsize=(9.5, 5)\n",
    "        )\n",
    "        fig1, ax1 = plt.subplots(1, 1)\n",
    "        for sfs_, marker in zip(\n",
    "            filter(lambda sim: sim.parameters.idx in subsample, sfs_sims[age]), markers\n",
    "        ):\n",
    "            simulations.plot_rates(ax1, PATH2SIMS, sfs_.parameters.idx, xlims=[0.95, 1.5])\n",
    "            ax1.set_label(f\"run {sfs_.parameters.idx} with mu {sfs_.parameters.mu}\")\n",
    "            my_dict = sfs_.parameters.into_dict()\n",
    "            print(\n",
    "                f\"idx={my_dict['idx']}, s={my_dict['s']}, std={my_dict['std']}, mu={my_dict['mu']}\"\n",
    "            )\n",
    "            sfs_figures.plot_sfs(\n",
    "                axes[0],\n",
    "                sfs_.sfs,\n",
    "                True,\n",
    "                PLOT_OPTIONS,\n",
    "                marker=marker,\n",
    "                mew=2,\n",
    "                linestyle=\"\",\n",
    "                color=\"yellowgreen\",\n",
    "                alpha=0.5,\n",
    "                # label=f\"run with id {sfs_.parameters.idx}\",\n",
    "                label=f\"simulation\",\n",
    "            )\n",
    "        sfs_figures.plot_sfs_avg(\n",
    "            axes[0],\n",
    "            [\n",
    "                sfs_.sfs\n",
    "                for sfs_ in filter(\n",
    "                    lambda sim: sim.parameters.idx in filtered_idx_by_abc, sfs_sims[age]\n",
    "                )\n",
    "            ],\n",
    "            PLOT_OPTIONS,\n",
    "            color=\"blue\",\n",
    "            alpha=0.6,\n",
    "            label=f\"avg of {len(filtered_idx_by_abc)} runs\",\n",
    "        )\n",
    "        ax1.legend()\n",
    "\n",
    "        sfs_figures.plot_sfs_correction(\n",
    "            axes[0],\n",
    "            corrected_variants_one_over_1_squared[name],\n",
    "            True,\n",
    "            PLOT_OPTIONS,\n",
    "            linestyle=\"-\",\n",
    "            color=\"grey\",\n",
    "            label=r\"$1/f^2$ sampled\",\n",
    "            linewidth=2,\n",
    "        )\n",
    "\n",
    "        sfs_figures.plot_sfs(\n",
    "            axes[0],\n",
    "            target_sfs[name],\n",
    "            normalise=True,\n",
    "            options=PLOT_OPTIONS,\n",
    "            color=\"purple\",\n",
    "            mew=2,\n",
    "            linestyle=\"\",\n",
    "            marker=\"x\",\n",
    "            label=f\"{name}, {age} years\",\n",
    "        )\n",
    "\n",
    "        axes[1].legend(\n",
    "            *axes[0].get_legend_handles_labels(),\n",
    "            fontsize=\"small\",\n",
    "            loc=6,\n",
    "            frameon=False,\n",
    "        )\n",
    "        axes[1].set_xticks([])\n",
    "        axes[1].set_yticks([])\n",
    "        axes[1].spines.right.set_visible(False)\n",
    "        axes[1].spines.left.set_visible(False)\n",
    "        axes[1].spines.top.set_visible(False)\n",
    "        axes[1].spines.bottom.set_visible(False)\n",
    "\n",
    "        if PLOT_OPTIONS.save:\n",
    "            fig.savefig(f\"./sfs_age{age}{PLOT_OPTIONS.extension}\")\n",
    "        fig.show()\n",
    "else:\n",
    "    for age, name in zip([0] + ages_mitchell, names_mitchell):\n",
    "        normalisation_x = sfs_figures.ToCellFrequency(\n",
    "            sample_size=summary.loc[summary[\"donor_id\"] == name, \"cells\"].drop_duplicates().squeeze(),\n",
    "            to_one=True\n",
    "        )\n",
    "        fig, ax = plt.subplots(1, 1, layout=\"constrained\", figsize=PLOT_OPTIONS.figsize)\n",
    "        sfs_figures.plot_sfs_correction(\n",
    "            ax,\n",
    "            corrected_variants_one_over_1_squared[name],\n",
    "            normalise=True,\n",
    "            options=PLOT_OPTIONS,\n",
    "            normalise_x=normalisation_x,\n",
    "            linestyle=\"-\",\n",
    "            color=\"grey\",\n",
    "            label=r\"$1/f^2$ sampled\",\n",
    "            linewidth=2,\n",
    "        )\n",
    "\n",
    "        sfs_figures.plot_sfs(\n",
    "            ax,\n",
    "            target_sfs[name],\n",
    "            normalise=True,\n",
    "            normalise_x=normalisation_x,\n",
    "            options=PLOT_OPTIONS,\n",
    "            color=\"purple\",\n",
    "            mew=2,\n",
    "            linestyle=\"\",\n",
    "            marker=\"x\",\n",
    "            label=f\"{name}, {age} years\",\n",
    "        )\n",
    "\n",
    "        ax.legend(\n",
    "            fontsize=\"medium\",\n",
    "            loc='upper right',\n",
    "            frameon=False,\n",
    "        )\n",
    "\n",
    "        if PLOT_OPTIONS.save:\n",
    "            fig.savefig(f\"./sfs_age{age}{PLOT_OPTIONS.extension}\")\n",
    "        fig.show()"
   ]
  },
  {
   "cell_type": "markdown",
   "id": "c4f12503",
   "metadata": {},
   "source": [
    "## Compare the variant fraction of the simulations against the data"
   ]
  },
  {
   "cell_type": "code",
   "execution_count": null,
   "id": "6c10226c",
   "metadata": {},
   "outputs": [],
   "source": [
    "from hscpy import variant, mitchell"
   ]
  },
  {
   "cell_type": "code",
   "execution_count": null,
   "id": "31d350b4",
   "metadata": {},
   "outputs": [],
   "source": [
    "path2variants = PATH2SIMS / f\"{NCELLS}cells\" / \"variant_fraction\""
   ]
  },
  {
   "cell_type": "code",
   "execution_count": null,
   "id": "d34a5024",
   "metadata": {},
   "outputs": [],
   "source": [
    "%%time\n",
    "counts = variant.load_all_var_counts_by_age(\n",
    "    PATH2SIMS / f\"{SAMPLE}cells/variant_fraction\"\n",
    ")\n",
    "counts = variant.variant_counts_df(counts)\n",
    "\n",
    "fig, ax = plt.subplots(1, 1)\n",
    "sns.lineplot(counts, x=\"age\", y=\"variant counts\", ax=ax)\n",
    "plt.show()"
   ]
  },
  {
   "cell_type": "code",
   "execution_count": null,
   "id": "64c29523",
   "metadata": {},
   "outputs": [],
   "source": [
    "%%time\n",
    "counts = variant.load_all_var_counts_by_age(\n",
    "    PATH2SIMS / f\"{200_000}cells/variant_fraction\"\n",
    ")\n",
    "counts = variant.variant_counts_df(counts)\n",
    "\n",
    "fig, ax = plt.subplots(1, 1)\n",
    "sns.lineplot(counts, x=\"age\", y=\"variant counts\", ax=ax)\n",
    "plt.show()"
   ]
  }
 ],
 "metadata": {
  "kernelspec": {
   "display_name": "hsc-draft",
   "language": "python",
   "name": "hsc-draft"
  },
  "language_info": {
   "codemirror_mode": {
    "name": "ipython",
    "version": 3
   },
   "file_extension": ".py",
   "mimetype": "text/x-python",
   "name": "python",
   "nbconvert_exporter": "python",
   "pygments_lexer": "ipython3",
   "version": "3.11.4"
  }
 },
 "nbformat": 4,
 "nbformat_minor": 5
}
