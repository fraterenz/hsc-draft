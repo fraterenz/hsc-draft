{
 "cells": [
  {
   "cell_type": "markdown",
   "id": "c99eb63a",
   "metadata": {},
   "source": [
    "# Descriptive analysis of Mitchell's paper\n",
    "From the file `summary_cut.csv` which contains some incosistency with the mutMatrix files."
   ]
  },
  {
   "cell_type": "code",
   "execution_count": null,
   "id": "013dfa7a-53c6-4347-869c-29f66ee18bc8",
   "metadata": {},
   "outputs": [],
   "source": [
    "%load_ext autoreload\n",
    "%autoreload 2"
   ]
  },
  {
   "cell_type": "code",
   "execution_count": null,
   "id": "ce19ffa6",
   "metadata": {},
   "outputs": [],
   "source": [
    "import matplotlib.pyplot as plt\n",
    "import numpy as np\n",
    "import pandas as pd\n",
    "import socket\n",
    "import seaborn as sns\n",
    "import subprocess\n",
    "from pathlib import Path\n",
    "\n",
    "from hscpy import mitchell, realisation, parameters\n",
    "from hscpy.figures import sfs as sfs_figures\n",
    "from hscpy.figures import PlotOptions, simulations\n",
    "\n",
    "from futils import parse_version, snapshot\n",
    "\n",
    "\n",
    "SAVEFIG = True\n",
    "BIGLABELS = False\n",
    "FIGSIZE = [5, 3] if BIGLABELS else [6.4, 4.8]  # default matplotlib\n",
    "EXTENSION = \".svg\"\n",
    "PLOT_OPTIONS = PlotOptions(figsize=FIGSIZE, extension=EXTENSION, save=SAVEFIG)"
   ]
  },
  {
   "cell_type": "code",
   "execution_count": null,
   "id": "985e133e",
   "metadata": {},
   "outputs": [],
   "source": [
    "if socket.gethostname() == \"5X9ZYD3\":\n",
    "    PATH2MITCHELL = Path(\"/mnt/c/Users/terenz01/Documents/SwitchDrive/PhD/hsc\")\n",
    "elif socket.gethostname() == \"LAPTOP-CEKCHJ4C\":\n",
    "    PATH2MITCHELL = Path(\"/mnt/c/Users/fra_t/Documents/PhD/hsc\")\n",
    "else:\n",
    "    PATH2MITCHELL = Path(\"~\").expanduser()"
   ]
  },
  {
   "cell_type": "code",
   "execution_count": null,
   "id": "bf0282ac",
   "metadata": {},
   "outputs": [],
   "source": [
    "summary = mitchell.load_and_process_mitchell(\n",
    "    PATH2MITCHELL / \"Summary_cut.csv\", drop_donor_KX007=True\n",
    ")\n",
    "summary.dtypes"
   ]
  },
  {
   "cell_type": "code",
   "execution_count": null,
   "id": "19a2afe0",
   "metadata": {},
   "outputs": [],
   "source": [
    "print(summary.describe())\n",
    "print(f\"\\n\\ncell types: \\n{summary.cell_type.value_counts()}\")\n",
    "print(f\"\\n\\nsample types: \\n{summary.sample_type.value_counts()}\")\n",
    "print(f\"\\n\\ntimepoints: \\n{summary.timepoint.value_counts()}\")\n",
    "print(\n",
    "    f'\\n\\nages and cells: \\n{summary[[\"donor_id\", \"cells\", \"age\"]].drop_duplicates()}'\n",
    ")\n",
    "print(\n",
    "    f'\\n\\nmutations per donor: \\n{summary[[\"donor_id\", \"number_mutations\"]].groupby(\"donor_id\").sum()}'\n",
    ")"
   ]
  },
  {
   "cell_type": "code",
   "execution_count": null,
   "id": "3429f098",
   "metadata": {
    "tags": []
   },
   "outputs": [],
   "source": [
    "for i in summary.donor_id.unique():\n",
    "    fig, ax = plt.subplots(1, 1, tight_layout=True, figsize=(6, 4))\n",
    "    sns.histplot(\n",
    "        data=summary[summary.donor_id == i],\n",
    "        x=\"number_mutations\",\n",
    "        hue=\"donor_id\",\n",
    "        kde=True,\n",
    "        bins=50,\n",
    "        ax=ax,\n",
    "        stat=\"count\",\n",
    "    )\n",
    "    if PLOT_OPTIONS.save:\n",
    "        plt.savefig(f\"./{i}_burden{EXTENSION}\")\n",
    "    plt.show()"
   ]
  },
  {
   "cell_type": "code",
   "execution_count": null,
   "id": "aba9cabd-1658-432c-b97b-58f93c663fcd",
   "metadata": {},
   "outputs": [],
   "source": [
    "descr = (\n",
    "    summary.loc[summary.age == 0, [\"donor_id\", \"number_mutations\"]]\n",
    "    .groupby(\"donor_id\")\n",
    "    .describe()\n",
    ")\n",
    "descr"
   ]
  },
  {
   "cell_type": "code",
   "execution_count": null,
   "id": "09b5d81e-2695-47ed-b488-0d24aac691f7",
   "metadata": {},
   "outputs": [],
   "source": [
    "fig, ax = plt.subplots(1, 1, tight_layout=True, figsize=FIGSIZE)\n",
    "sns.histplot(\n",
    "    data=summary,\n",
    "    x=\"number_mutations\",\n",
    "    hue=\"donor_id\",\n",
    "    kde=True,\n",
    "    binwidth=10,\n",
    "    ax=ax,\n",
    "    stat=\"percent\",\n",
    ")\n",
    "sns.move_legend(\n",
    "    ax,\n",
    "    ncol=2,\n",
    "    # bbox_to_anchor=(1.01, 1),\n",
    "    loc=\"upper right\",\n",
    "    frameon=False,\n",
    "    fontsize=\"small\",\n",
    ")\n",
    "if PLOT_OPTIONS.save:\n",
    "    plt.savefig(f\"./mitchell_burden{EXTENSION}\")\n",
    "plt.show()"
   ]
  },
  {
   "cell_type": "code",
   "execution_count": null,
   "id": "fdc763cd-16f3-45ce-995b-e98209295eb4",
   "metadata": {},
   "outputs": [],
   "source": [
    "descr[(\"number_mutations\", \"mean\")].mean() / (2 * np.log(200_000 - 2))"
   ]
  },
  {
   "cell_type": "code",
   "execution_count": null,
   "id": "17991679-ff17-43d3-8d02-2f6d709e1960",
   "metadata": {},
   "outputs": [],
   "source": [
    "descr[(\"number_mutations\", \"std\")] ** 2"
   ]
  },
  {
   "cell_type": "code",
   "execution_count": null,
   "id": "d18adddc",
   "metadata": {},
   "outputs": [],
   "source": [
    "summary"
   ]
  },
  {
   "cell_type": "code",
   "execution_count": null,
   "id": "149a8e0d",
   "metadata": {},
   "outputs": [],
   "source": [
    "summary[[\"age\", \"donor_id\"]].drop_duplicates().sort_values(\"age\").donor_id.to_list()"
   ]
  },
  {
   "cell_type": "code",
   "execution_count": null,
   "id": "d51fd069",
   "metadata": {},
   "outputs": [],
   "source": [
    "fig, ax = plt.subplots(1, 1)\n",
    "y = summary[[\"number_mutations\", \"donor_id\"]].groupby(\"donor_id\").var().reindex(\n",
    "    summary[[\"age\", \"donor_id\"]].drop_duplicates().sort_values(\"age\").donor_id.to_list()\n",
    ").squeeze()\n",
    "ax.plot(list(summary.age.unique()), y.iloc[1:], marker=\".\")\n",
    "ax.set_ylabel(\"Variance\")\n",
    "ax.set_xlabel(\"time [years]\")\n",
    "# ax.set_yscale(\"log\")\n",
    "plt.show()"
   ]
  },
  {
   "cell_type": "code",
   "execution_count": null,
   "id": "9767d853",
   "metadata": {},
   "outputs": [],
   "source": [
    "summary[[\"number_mutations\", \"donor_id\"]].groupby(\"donor_id\").var()"
   ]
  }
 ],
 "metadata": {
  "kernelspec": {
   "display_name": "hsc-draft",
   "language": "python",
   "name": "hsc-draft"
  },
  "language_info": {
   "codemirror_mode": {
    "name": "ipython",
    "version": 3
   },
   "file_extension": ".py",
   "mimetype": "text/x-python",
   "name": "python",
   "nbconvert_exporter": "python",
   "pygments_lexer": "ipython3",
   "version": "3.11.4"
  }
 },
 "nbformat": 4,
 "nbformat_minor": 5
}
