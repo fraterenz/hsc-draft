{
 "cells": [
  {
   "cell_type": "code",
   "execution_count": null,
   "id": "403e60bc",
   "metadata": {},
   "outputs": [],
   "source": [
    "import pandas as pd\n",
    "import seaborn as sns\n",
    "import matplotlib.pyplot as plt\n",
    "from pathlib import Path\n",
    "from scipy import stats"
   ]
  },
  {
   "cell_type": "code",
   "execution_count": null,
   "id": "d4409337",
   "metadata": {},
   "outputs": [],
   "source": [
    "summary = pd.read_csv(\"../Summary_cut.csv\", index_col=0)\n",
    "summary.cell_type = summary.cell_type.astype('category')\n",
    "summary.sample_type = summary.sample_type.astype('category')\n",
    "summary.sort_values(by=\"age\", inplace=True)\n",
    "summary.reset_index(inplace=True)\n",
    "# neglect some duplicated colonies e.g. summary.colony_ID == \"11_E07\"\n",
    "summary = summary.merge(\n",
    "    summary[[\"donor_id\", \"age\"]].groupby(\"donor_id\").count().reset_index().rename(columns={\"age\": \"cells\"}),\n",
    "    on=\"donor_id\",\n",
    "    validate=\"many_to_one\",\n",
    "    how=\"left\"\n",
    ")\n",
    "summary.dtypes"
   ]
  },
  {
   "cell_type": "code",
   "execution_count": null,
   "id": "9714b3ee",
   "metadata": {},
   "outputs": [],
   "source": [
    "summary.describe()"
   ]
  },
  {
   "cell_type": "code",
   "execution_count": null,
   "id": "e9472f43",
   "metadata": {},
   "outputs": [],
   "source": [
    "summary.cell_type.value_counts()"
   ]
  },
  {
   "cell_type": "code",
   "execution_count": null,
   "id": "57f33800",
   "metadata": {},
   "outputs": [],
   "source": [
    "summary.sample_type.value_counts()"
   ]
  },
  {
   "cell_type": "code",
   "execution_count": null,
   "id": "afdccff2",
   "metadata": {},
   "outputs": [],
   "source": [
    "summary"
   ]
  },
  {
   "cell_type": "code",
   "execution_count": null,
   "id": "1d45cddf",
   "metadata": {},
   "outputs": [],
   "source": [
    "sns.regplot(data=summary, x=\"age\", y=\"number_mutations\", scatter_kws={\"marker\": \"x\"})"
   ]
  },
  {
   "cell_type": "code",
   "execution_count": null,
   "id": "0ab78f0d",
   "metadata": {},
   "outputs": [],
   "source": [
    "fig, ax = plt.subplots(1, 1, tight_layout=True, figsize=(7, 3))\n",
    "sns.histplot(\n",
    "    data=summary, x=\"number_mutations\", hue=\"donor_id\", kde=True, binwidth=10, ax=ax,\n",
    "    stat=\"percent\",\n",
    ")\n",
    "sns.move_legend(ax, bbox_to_anchor=(1.01, 1), loc=\"upper left\", frameon=False)\n",
    "plt.show()"
   ]
  },
  {
   "cell_type": "code",
   "execution_count": null,
   "id": "852d8f37",
   "metadata": {},
   "outputs": [],
   "source": [
    "fig, ax = plt.subplots(1, 1, tight_layout=True, figsize=(7, 3))\n",
    "sns.histplot(\n",
    "    data=summary, x=\"number_mutations\", hue=\"donor_id\", kde=True, binwidth=10, ax=ax,\n",
    "    stat=\"count\",\n",
    ")\n",
    "sns.move_legend(ax, bbox_to_anchor=(1.01, 1), loc=\"upper left\", frameon=False)\n",
    "plt.show()"
   ]
  },
  {
   "cell_type": "code",
   "execution_count": null,
   "id": "ca3461f0",
   "metadata": {
    "scrolled": false
   },
   "outputs": [],
   "source": [
    "for i in summary.donor_id.unique():\n",
    "    fig, ax = plt.subplots(1, 1, tight_layout=True, figsize=(6, 4))\n",
    "    sns.histplot(\n",
    "        data=summary[summary.donor_id == i], x=\"number_mutations\", hue=\"donor_id\", kde=True, bins=50, ax=ax,\n",
    "        stat=\"count\"\n",
    "    )\n",
    "    plt.show()"
   ]
  },
  {
   "cell_type": "markdown",
   "id": "78baf63a",
   "metadata": {},
   "source": [
    "## Entropy\n",
    "Based on the code they [developped](https://github.com/emily-mitchell/normal_haematopoiesis/blob/23d221e8d125d78c1e8bcbe05d41d0f3594b0cfb/4_phylogeny_analysis/scripts/shannon_diversity.Rmd#L147), I think they define entropy as in [here](http://math.bu.edu/people/mkon/J6A.pdf) using the phylogenetic tree.\n",
    "We just compute the entropy from the number of cells: we consider a class being the cells with the same number of mutations and compute the abbundance of those classes, that is the abbundance of cells with the same number of mutations."
   ]
  },
  {
   "cell_type": "code",
   "execution_count": null,
   "id": "a511610e",
   "metadata": {},
   "outputs": [],
   "source": [
    "# count the number of cells with the same number of mutations\n",
    "test = summary[[\"donor_id\", \"number_mutations\", \"age\"]].groupby([\"donor_id\", \"number_mutations\"]).count().reset_index()\n",
    "test.rename(columns={\"age\": \"probs\"}, inplace=True)\n",
    "entropies = test[[\"donor_id\", \"probs\"]].groupby(\"donor_id\").value_counts().reset_index().groupby(\"donor_id\").agg(stats.entropy).reset_index().rename(columns={\"probs\": \"entropy\"})\n",
    "summary = summary.merge(\n",
    "    entropies,\n",
    "    how=\"left\",\n",
    "    on=\"donor_id\",\n",
    "    validate=\"many_to_one\"\n",
    ")"
   ]
  },
  {
   "cell_type": "code",
   "execution_count": null,
   "id": "80b82d9c",
   "metadata": {},
   "outputs": [],
   "source": [
    "fig, ax = plt.subplots(1, 1, tight_layout=True, figsize=(6, 4))\n",
    "summary.drop_duplicates(subset=[\"entropy\", \"donor_id\"]).plot(x=\"age\", y=\"entropy\", ax=ax, kind=\"scatter\")\n",
    "plt.show()"
   ]
  }
 ],
 "metadata": {
  "kernelspec": {
   "display_name": "ecdna-figures",
   "language": "python",
   "name": "ecdna-figures"
  },
  "language_info": {
   "codemirror_mode": {
    "name": "ipython",
    "version": 3
   },
   "file_extension": ".py",
   "mimetype": "text/x-python",
   "name": "python",
   "nbconvert_exporter": "python",
   "pygments_lexer": "ipython3",
   "version": "3.10.11"
  }
 },
 "nbformat": 4,
 "nbformat_minor": 5
}
