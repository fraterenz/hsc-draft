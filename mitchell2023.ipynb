{
 "cells": [
  {
   "cell_type": "code",
   "execution_count": null,
   "id": "403e60bc",
   "metadata": {},
   "outputs": [],
   "source": [
    "import pandas as pd\n",
    "import seaborn as sns\n",
    "import matplotlib.pyplot as plt\n",
    "import numpy as np\n",
    "from pathlib import Path\n",
    "from scipy import stats\n",
    "from typing import Tuple\n",
    "from hscpy import sfs\n",
    "from hscpy.figures import mitchell\n",
    "\n",
    "SAVE = False\n",
    "BIGLABELS = False\n",
    "FIGSIZE = [5, 3] if BIGLABELS else [6.4, 4.8]  # default matplotlib\n",
    "PDF = True\n",
    "EXTENSION = \".pdf\" if PDF else \".png\""
   ]
  },
  {
   "cell_type": "markdown",
   "id": "777bbb0b",
   "metadata": {},
   "source": [
    "## Mitchell's data"
   ]
  },
  {
   "cell_type": "markdown",
   "id": "b3f981fb",
   "metadata": {},
   "source": [
    "### Statistics"
   ]
  },
  {
   "cell_type": "code",
   "execution_count": null,
   "id": "d4409337",
   "metadata": {},
   "outputs": [],
   "source": [
    "try:\n",
    "    path2data = Path.home()\n",
    "    summary = pd.read_csv(path2data / \"Summary_cut.csv\", index_col=0)\n",
    "except FileNotFoundError:\n",
    "    path2data = \"/mnt/c/Users/fra_t/Documents/PhD/\"\n",
    "    summary = pd.read_csv(\n",
    "        path2data / \"Summary_cut.csv\", index_col=0\n",
    "    )\n",
    "summary.cell_type = summary.cell_type.astype(\"category\")\n",
    "summary.sample_type = summary.sample_type.astype(\"category\")\n",
    "summary.sort_values(by=\"age\", inplace=True)\n",
    "summary.reset_index(inplace=True)\n",
    "# neglect some duplicated colonies e.g. summary.colony_ID == \"11_E07\"\n",
    "summary = summary.merge(\n",
    "    summary[[\"donor_id\", \"age\"]]\n",
    "    .groupby(\"donor_id\")\n",
    "    .count()\n",
    "    .reset_index()\n",
    "    .rename(columns={\"age\": \"cells\"}),\n",
    "    on=\"donor_id\",\n",
    "    validate=\"many_to_one\",\n",
    "    how=\"left\",\n",
    ")\n",
    "summary.dtypes"
   ]
  },
  {
   "cell_type": "code",
   "execution_count": null,
   "id": "e9472f43",
   "metadata": {},
   "outputs": [],
   "source": [
    "print(summary.describe())\n",
    "print(f\"\\n\\ncell types: \\n{summary.cell_type.value_counts()}\")\n",
    "print(f\"\\n\\nsample types: \\n{summary.sample_type.value_counts()}\")\n",
    "print(f\"\\n\\ntimepoints: \\n{summary.timepoint.value_counts()}\")\n",
    "print(f'\\n\\nages and cells: \\n{summary[[\"donor_id\", \"cells\", \"age\"]].drop_duplicates()}')\n",
    "print(f'\\n\\nmutations per donor: \\n{summary[[\"donor_id\", \"number_mutations\"]].groupby(\"donor_id\").sum()}')"
   ]
  },
  {
   "cell_type": "code",
   "execution_count": null,
   "id": "1d45cddf",
   "metadata": {},
   "outputs": [],
   "source": [
    "mean_mutations = (\n",
    "    summary[[\"donor_id\", \"number_mutations\"]]\n",
    "    .groupby(\"donor_id\")\n",
    "    .mean()\n",
    "    .reset_index()\n",
    "    .merge(\n",
    "        summary[[\"donor_id\", \"age\"]].drop_duplicates(),\n",
    "        on=\"donor_id\",\n",
    "        how=\"inner\",\n",
    "        validate=\"one_to_one\",\n",
    "    )\n",
    "    .sort_values(by=\"age\")\n",
    ")\n",
    "\n",
    "x = mean_mutations.age.to_numpy()\n",
    "y = mean_mutations.number_mutations.to_numpy()\n",
    "A = np.vstack([x, np.ones(len(x))]).T\n",
    "m, c = np.linalg.lstsq(A, y, rcond=None)[0]\n",
    "\n",
    "fig, ax = plt.subplots(1, 1, figsize=FIGSIZE)\n",
    "ax.plot(summary[\"age\"], summary[\"number_mutations\"], linestyle=\"\", marker=\"o\", alpha=0.4)\n",
    "ax.plot(x, y, \"x\", c=\"orange\")\n",
    "ax.plot(x, m * x + c, \"b\", linestyle=\"--\", c=\"orange\")\n",
    "ax.set_xlabel(\"age [years]\")\n",
    "ax.set_ylabel(\"number of SNVs\")\n",
    "ax.set_title(f\"y=mx+c with m={m:.2f}, c={c:.2f}\")\n",
    "plt.show()\n",
    "\n",
    "fig, ax = plt.subplots(1, 1, tight_layout=True, figsize=FIGSIZE)\n",
    "sns.histplot(\n",
    "    data=summary,\n",
    "    x=\"number_mutations\",\n",
    "    hue=\"donor_id\",\n",
    "    kde=True,\n",
    "    binwidth=10,\n",
    "    ax=ax,\n",
    "    stat=\"count\",\n",
    ")\n",
    "sns.move_legend(ax, bbox_to_anchor=(1.01, 1), loc=\"upper left\", frameon=False)\n",
    "if SAVE:\n",
    "    plt.savefig(f\"./mitchell_burden{EXTENSION}\")\n",
    "plt.show()"
   ]
  },
  {
   "cell_type": "code",
   "execution_count": null,
   "id": "ca3461f0",
   "metadata": {},
   "outputs": [],
   "source": [
    "for i in summary.donor_id.unique():\n",
    "    fig, ax = plt.subplots(1, 1, tight_layout=True, figsize=(6, 4))\n",
    "    sns.histplot(\n",
    "        data=summary[summary.donor_id == i],\n",
    "        x=\"number_mutations\",\n",
    "        hue=\"donor_id\",\n",
    "        kde=True,\n",
    "        bins=50,\n",
    "        ax=ax,\n",
    "        stat=\"count\",\n",
    "    )\n",
    "    if SAVE:\n",
    "        plt.savefig(f\"./{i}_burden{EXTENSION}\")\n",
    "    plt.show()"
   ]
  },
  {
   "cell_type": "markdown",
   "id": "78baf63a",
   "metadata": {},
   "source": [
    "### Entropy\n",
    "Based on the code they [developped](https://github.com/emily-mitchell/normal_haematopoiesis/blob/23d221e8d125d78c1e8bcbe05d41d0f3594b0cfb/4_phylogeny_analysis/scripts/shannon_diversity.Rmd#L147), I think they define entropy as in [here](http://math.bu.edu/people/mkon/J6A.pdf) using the phylogenetic tree.\n",
    "We just compute the entropy from the number of cells: we consider a class being the cells with the same number of mutations and compute the abbundance of those classes, that is the abbundance of cells with the same number of mutations."
   ]
  },
  {
   "cell_type": "markdown",
   "id": "d92e47ea-c322-483e-a43c-92bed6f96656",
   "metadata": {},
   "source": [
    "### SFS using the genotype matrix"
   ]
  },
  {
   "cell_type": "code",
   "execution_count": null,
   "id": "53d5efa3",
   "metadata": {},
   "outputs": [],
   "source": [
    "N = 20_000\n",
    "S = 100\n",
    "_f = sfs.compute_frequencies(N) # / N\n",
    "correction = sfs.SamplingCorrection(N, S)\n",
    "sampled_f, y = sfs.compute_variants(correction, sfs.Correction.ONE_OVER_F, S)\n",
    "\n",
    "sampled_f_squared, y_squared = sfs.compute_variants(correction, sfs.Correction.ONE_OVER_F_SQUARED, S)\n",
    "\n",
    "fig, ax = plt.subplots(1, 1, figsize=(6, 5))\n",
    "ax.plot(_f[:S], sampled_f, label=f\"$1/f$ sampled\", marker=\"x\", alpha=0.4)\n",
    "ax.plot(_f[:S], sampled_f_squared / sampled_f_squared.max(), label=f\"$1/f^2$ sampled\", marker=\"x\", alpha=0.4)\n",
    "ax.plot(_f, y, label=f\"$1/f$\", alpha=0.4)\n",
    "ax.plot(_f, y_squared, label=f\"$1/f^2$\", alpha=0.4)\n",
    "\n",
    "ax.set_yscale(\"log\")\n",
    "ax.set_xscale(\"log\")\n",
    "ax.legend()\n",
    "plt.show()"
   ]
  },
  {
   "cell_type": "code",
   "execution_count": null,
   "id": "c5c8ff7e",
   "metadata": {
    "scrolled": false
   },
   "outputs": [],
   "source": [
    "%%time\n",
    "# pop size\n",
    "N = 200_000\n",
    "_f = sfs.compute_frequencies(N)\n",
    "\n",
    "for i, donor in enumerate(summary.donor_id.unique()):\n",
    "    if donor == \"KX003\":\n",
    "        continue\n",
    "    print(f\"donor {donor}\")\n",
    "    filtered_matrix = mitchell.filter_mutations(\n",
    "        *mitchell.load_patient(\n",
    "            donor, \n",
    "            path2data / f\"mutMatrix{donor}.csv\",\n",
    "            path2data / f\"mutType{donor}.csv\"\n",
    "        )\n",
    "    )\n",
    "    sfs_donor = filtered_matrix.sum(axis=1).value_counts(normalize=True)\n",
    "    sfs_donor.drop(index=sfs_donor[sfs_donor.index==0].index, inplace=True)\n",
    "    x_sfs = sfs_donor.index.to_numpy(dtype=int)\n",
    "    y_sfs = sfs_donor.to_numpy()\n",
    "    # sample size\n",
    "    cells = summary.loc[summary.donor_id == donor, \"cells\"].unique()[0]\n",
    "    correction = sfs.SamplingCorrection(N, cells)\n",
    "    assert cells <= 1000\n",
    "    \n",
    "    sampled_f, y = sfs.compute_variants(correction, sfs.Correction.ONE_OVER_F, cells)\n",
    "    sampled_f_squared, y_squared = sfs.compute_variants(correction, sfs.Correction.ONE_OVER_F_SQUARED, cells)\n",
    "    \n",
    "    fig, ax = plt.subplots(1, 1, figsize=FIGSIZE)\n",
    "    ax.plot(_f[:cells], sampled_f, label=f\"$1/f$ sampled\", alpha=0.4, linestyle=\"--\", c=\"black\")\n",
    "    ax.plot(_f[:cells], sampled_f_squared / sampled_f_squared.max(), label=f\"$1/f^2$ sampled\", alpha=0.4, c=\"black\")\n",
    "    ax.plot(x_sfs, sfs_donor.to_numpy(), label=f\"{donor}\", linestyle=\"\", marker=\"x\", c=\"purple\", alpha=0.7)\n",
    "    ax.set_yscale(\"log\")\n",
    "    ax.set_xscale(\"log\")\n",
    "    ax.set_xlabel(\"j cells\")\n",
    "    ax.set_ylabel(\"normalised nb of muts in j cells\")\n",
    "    ax.set_ylim([y_sfs.min() - y_sfs.min() * 0.2, 2])\n",
    "    ax.set_xlim([0.8, x_sfs.max() +  x_sfs.max() * 0.2])\n",
    "    ax.legend()\n",
    "    ax.set_title(f\"age {ages[ages.donor_id == donor].age.tolist()[0]}\")\n",
    "    plt.show()"
   ]
  }
 ],
 "metadata": {
  "kernelspec": {
   "display_name": "hsc-draft",
   "language": "python",
   "name": "hsc-draft"
  },
  "language_info": {
   "codemirror_mode": {
    "name": "ipython",
    "version": 3
   },
   "file_extension": ".py",
   "mimetype": "text/x-python",
   "name": "python",
   "nbconvert_exporter": "python",
   "pygments_lexer": "ipython3",
   "version": "3.11.4"
  }
 },
 "nbformat": 4,
 "nbformat_minor": 5
}
