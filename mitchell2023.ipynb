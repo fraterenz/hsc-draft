{
 "cells": [
  {
   "cell_type": "code",
   "execution_count": null,
   "id": "403e60bc",
   "metadata": {},
   "outputs": [],
   "source": [
    "import pandas as pd\n",
    "import seaborn as sns\n",
    "import matplotlib.pyplot as plt\n",
    "from pathlib import Path\n",
    "from scipy import stats\n",
    "\n",
    "SAVE = False\n",
    "BIGLABELS = False\n",
    "FIGSIZE = [5, 3] if BIGLABELS else [6.4, 4.8]  # default matplotlib\n",
    "PDF = True\n",
    "EXTENSION = \".pdf\" if PDF else \".png\""
   ]
  },
  {
   "cell_type": "code",
   "execution_count": null,
   "id": "d4409337",
   "metadata": {},
   "outputs": [],
   "source": [
    "try:\n",
    "    summary = pd.read_csv(\"../Summary_cut.csv\", index_col=0)\n",
    "except FileNotFoundError:\n",
    "    summary = pd.read_csv(\n",
    "        \"/mnt/c/Users/fra_t/Documents/PhD/Summary_cut.csv\", index_col=0\n",
    "    )\n",
    "summary.cell_type = summary.cell_type.astype(\"category\")\n",
    "summary.sample_type = summary.sample_type.astype(\"category\")\n",
    "summary.sort_values(by=\"age\", inplace=True)\n",
    "summary.reset_index(inplace=True)\n",
    "# neglect some duplicated colonies e.g. summary.colony_ID == \"11_E07\"\n",
    "summary = summary.merge(\n",
    "    summary[[\"donor_id\", \"age\"]]\n",
    "    .groupby(\"donor_id\")\n",
    "    .count()\n",
    "    .reset_index()\n",
    "    .rename(columns={\"age\": \"cells\"}),\n",
    "    on=\"donor_id\",\n",
    "    validate=\"many_to_one\",\n",
    "    how=\"left\",\n",
    ")\n",
    "summary.dtypes"
   ]
  },
  {
   "cell_type": "code",
   "execution_count": null,
   "id": "9714b3ee",
   "metadata": {},
   "outputs": [],
   "source": [
    "summary.describe()"
   ]
  },
  {
   "cell_type": "code",
   "execution_count": null,
   "id": "e9472f43",
   "metadata": {},
   "outputs": [],
   "source": [
    "summary.cell_type.value_counts()"
   ]
  },
  {
   "cell_type": "code",
   "execution_count": null,
   "id": "57f33800",
   "metadata": {},
   "outputs": [],
   "source": [
    "summary.sample_type.value_counts()"
   ]
  },
  {
   "cell_type": "code",
   "execution_count": null,
   "id": "ca524210-ac99-44f9-adcd-dcd503cf459d",
   "metadata": {},
   "outputs": [],
   "source": [
    "summary.timepoint.value_counts()"
   ]
  },
  {
   "cell_type": "code",
   "execution_count": null,
   "id": "afdccff2",
   "metadata": {},
   "outputs": [],
   "source": [
    "summary"
   ]
  },
  {
   "cell_type": "code",
   "execution_count": null,
   "id": "c488cff7-dd5a-45e9-9031-dd4a9ff711f2",
   "metadata": {},
   "outputs": [],
   "source": [
    "summary[[\"donor_id\", \"cells\", \"age\"]].drop_duplicates()"
   ]
  },
  {
   "cell_type": "code",
   "execution_count": null,
   "id": "1d45cddf",
   "metadata": {},
   "outputs": [],
   "source": [
    "sns.regplot(data=summary, x=\"age\", y=\"number_mutations\", scatter_kws={\"marker\": \"x\"})"
   ]
  },
  {
   "cell_type": "code",
   "execution_count": null,
   "id": "852d8f37",
   "metadata": {},
   "outputs": [],
   "source": [
    "fig, ax = plt.subplots(1, 1, tight_layout=True, figsize=FIGSIZE)\n",
    "sns.histplot(\n",
    "    data=summary,\n",
    "    x=\"number_mutations\",\n",
    "    hue=\"donor_id\",\n",
    "    kde=True,\n",
    "    binwidth=10,\n",
    "    ax=ax,\n",
    "    stat=\"count\",\n",
    ")\n",
    "sns.move_legend(ax, bbox_to_anchor=(1.01, 1), loc=\"upper left\", frameon=False)\n",
    "if SAVE:\n",
    "    plt.savefig(f\"./mitchell_burden{EXTENSION}\")\n",
    "plt.show()"
   ]
  },
  {
   "cell_type": "code",
   "execution_count": null,
   "id": "ca3461f0",
   "metadata": {},
   "outputs": [],
   "source": [
    "for i in summary.donor_id.unique():\n",
    "    fig, ax = plt.subplots(1, 1, tight_layout=True, figsize=(6, 4))\n",
    "    sns.histplot(\n",
    "        data=summary[summary.donor_id == i],\n",
    "        x=\"number_mutations\",\n",
    "        hue=\"donor_id\",\n",
    "        kde=True,\n",
    "        bins=50,\n",
    "        ax=ax,\n",
    "        stat=\"count\",\n",
    "    )\n",
    "    if SAVE:\n",
    "        plt.savefig(f\"./{i}_burden{EXTENSION}\")\n",
    "    plt.show()"
   ]
  },
  {
   "cell_type": "markdown",
   "id": "78baf63a",
   "metadata": {},
   "source": [
    "## Entropy\n",
    "Based on the code they [developped](https://github.com/emily-mitchell/normal_haematopoiesis/blob/23d221e8d125d78c1e8bcbe05d41d0f3594b0cfb/4_phylogeny_analysis/scripts/shannon_diversity.Rmd#L147), I think they define entropy as in [here](http://math.bu.edu/people/mkon/J6A.pdf) using the phylogenetic tree.\n",
    "We just compute the entropy from the number of cells: we consider a class being the cells with the same number of mutations and compute the abbundance of those classes, that is the abbundance of cells with the same number of mutations."
   ]
  },
  {
   "cell_type": "code",
   "execution_count": null,
   "id": "2e4c8f24-21c4-46f8-8ed5-2b492d26c573",
   "metadata": {},
   "outputs": [],
   "source": [
    "summary[[\"donor_id\", \"number_mutations\"]].groupby(\n",
    "    \"donor_id\"\n",
    ").value_counts().reset_index()"
   ]
  },
  {
   "cell_type": "code",
   "execution_count": null,
   "id": "feee5a05-9264-4c82-9762-ccf02e029c1b",
   "metadata": {},
   "outputs": [],
   "source": [
    "entropies = (\n",
    "    summary[[\"donor_id\", \"number_mutations\"]]\n",
    "    .groupby(\"donor_id\")\n",
    "    .value_counts()\n",
    "    .reset_index()[[\"donor_id\", \"count\"]]\n",
    "    .groupby(\"donor_id\")\n",
    "    .count()\n",
    "    .rename(columns={\"count\": \"entropy\"})\n",
    ")"
   ]
  },
  {
   "cell_type": "code",
   "execution_count": null,
   "id": "a511610e",
   "metadata": {},
   "outputs": [],
   "source": [
    "# count the number of cells with the same number of mutations\n",
    "entropies = (\n",
    "    summary[[\"donor_id\", \"number_mutations\"]]\n",
    "    .groupby(\"donor_id\")\n",
    "    .value_counts()\n",
    "    .reset_index()[[\"donor_id\", \"count\"]]\n",
    "    .groupby(\"donor_id\")\n",
    "    .agg(stats.entropy)\n",
    "    .rename(columns={\"count\": \"entropy\"})\n",
    ")\n",
    "summary = summary.merge(entropies, how=\"left\", on=\"donor_id\", validate=\"many_to_one\")"
   ]
  },
  {
   "cell_type": "code",
   "execution_count": null,
   "id": "80b82d9c",
   "metadata": {},
   "outputs": [],
   "source": [
    "fig, ax = plt.subplots(1, 1, tight_layout=True, figsize=(6, 4))\n",
    "summary.drop_duplicates(subset=[\"entropy\", \"donor_id\"]).plot(\n",
    "    x=\"age\", y=\"entropy\", ax=ax, kind=\"scatter\"\n",
    ")\n",
    "plt.show()"
   ]
  },
  {
   "cell_type": "markdown",
   "id": "d92e47ea-c322-483e-a43c-92bed6f96656",
   "metadata": {},
   "source": [
    "### The genotype matrix?"
   ]
  },
  {
   "cell_type": "code",
   "execution_count": null,
   "id": "76934e30-bc3c-41eb-9373-d8fcfd3eb587",
   "metadata": {},
   "outputs": [],
   "source": []
  }
 ],
 "metadata": {
  "kernelspec": {
   "display_name": "hsc-draft",
   "language": "python",
   "name": "hsc-draft"
  },
  "language_info": {
   "codemirror_mode": {
    "name": "ipython",
    "version": 3
   },
   "file_extension": ".py",
   "mimetype": "text/x-python",
   "name": "python",
   "nbconvert_exporter": "python",
   "pygments_lexer": "ipython3",
   "version": "3.11.3"
  }
 },
 "nbformat": 4,
 "nbformat_minor": 5
}
