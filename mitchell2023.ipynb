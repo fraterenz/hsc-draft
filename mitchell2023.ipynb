{
 "cells": [
  {
   "cell_type": "code",
   "execution_count": null,
   "id": "403e60bc",
   "metadata": {},
   "outputs": [],
   "source": [
    "import pandas as pd\n",
    "import seaborn as sns\n",
    "import matplotlib.pyplot as plt\n",
    "import numpy as np\n",
    "from pathlib import Path\n",
    "from scipy import stats\n",
    "from typing import Tuple\n",
    "\n",
    "SAVE = False\n",
    "BIGLABELS = False\n",
    "FIGSIZE = [5, 3] if BIGLABELS else [6.4, 4.8]  # default matplotlib\n",
    "PDF = True\n",
    "EXTENSION = \".pdf\" if PDF else \".png\""
   ]
  },
  {
   "cell_type": "code",
   "execution_count": null,
   "id": "d4409337",
   "metadata": {},
   "outputs": [],
   "source": [
    "try:\n",
    "    summary = pd.read_csv(\"../Summary_cut.csv\", index_col=0)\n",
    "except FileNotFoundError:\n",
    "    summary = pd.read_csv(\n",
    "        \"/mnt/c/Users/fra_t/Documents/PhD/Summary_cut.csv\", index_col=0\n",
    "    )\n",
    "summary.cell_type = summary.cell_type.astype(\"category\")\n",
    "summary.sample_type = summary.sample_type.astype(\"category\")\n",
    "summary.sort_values(by=\"age\", inplace=True)\n",
    "summary.reset_index(inplace=True)\n",
    "# neglect some duplicated colonies e.g. summary.colony_ID == \"11_E07\"\n",
    "summary = summary.merge(\n",
    "    summary[[\"donor_id\", \"age\"]]\n",
    "    .groupby(\"donor_id\")\n",
    "    .count()\n",
    "    .reset_index()\n",
    "    .rename(columns={\"age\": \"cells\"}),\n",
    "    on=\"donor_id\",\n",
    "    validate=\"many_to_one\",\n",
    "    how=\"left\",\n",
    ")\n",
    "summary.dtypes"
   ]
  },
  {
   "cell_type": "code",
   "execution_count": null,
   "id": "9714b3ee",
   "metadata": {},
   "outputs": [],
   "source": [
    "summary.describe()"
   ]
  },
  {
   "cell_type": "code",
   "execution_count": null,
   "id": "e9472f43",
   "metadata": {},
   "outputs": [],
   "source": [
    "summary.cell_type.value_counts()"
   ]
  },
  {
   "cell_type": "code",
   "execution_count": null,
   "id": "57f33800",
   "metadata": {},
   "outputs": [],
   "source": [
    "summary.sample_type.value_counts()"
   ]
  },
  {
   "cell_type": "code",
   "execution_count": null,
   "id": "ca524210-ac99-44f9-adcd-dcd503cf459d",
   "metadata": {},
   "outputs": [],
   "source": [
    "summary.timepoint.value_counts()"
   ]
  },
  {
   "cell_type": "code",
   "execution_count": null,
   "id": "afdccff2",
   "metadata": {},
   "outputs": [],
   "source": [
    "summary"
   ]
  },
  {
   "cell_type": "code",
   "execution_count": null,
   "id": "c488cff7-dd5a-45e9-9031-dd4a9ff711f2",
   "metadata": {},
   "outputs": [],
   "source": [
    "summary[[\"donor_id\", \"cells\", \"age\"]].drop_duplicates()"
   ]
  },
  {
   "cell_type": "code",
   "execution_count": null,
   "id": "00070cad-f526-421e-ba68-6627f6e75e6f",
   "metadata": {},
   "outputs": [],
   "source": [
    "summary[[\"donor_id\", \"number_mutations\"]].groupby(\n",
    "    \"donor_id\"\n",
    ").sum()  # mutations per donor"
   ]
  },
  {
   "cell_type": "code",
   "execution_count": null,
   "id": "1d45cddf",
   "metadata": {},
   "outputs": [],
   "source": [
    "sns.regplot(data=summary, x=\"age\", y=\"number_mutations\", scatter_kws={\"marker\": \"x\"})"
   ]
  },
  {
   "cell_type": "code",
   "execution_count": null,
   "id": "cd247fc5-037f-4abe-bd53-b303d15fe667",
   "metadata": {},
   "outputs": [],
   "source": [
    "mean_mutations = (\n",
    "    summary[[\"donor_id\", \"number_mutations\"]]\n",
    "    .groupby(\"donor_id\")\n",
    "    .mean()\n",
    "    .reset_index()\n",
    "    .merge(\n",
    "        summary[[\"donor_id\", \"age\"]].drop_duplicates(),\n",
    "        on=\"donor_id\",\n",
    "        how=\"inner\",\n",
    "        validate=\"one_to_one\",\n",
    "    )\n",
    "    .sort_values(by=\"age\")\n",
    ")"
   ]
  },
  {
   "cell_type": "code",
   "execution_count": null,
   "id": "980a0ad7-11e4-4066-aee3-c7727e7a6e0a",
   "metadata": {},
   "outputs": [],
   "source": [
    "x = mean_mutations.age.to_numpy()\n",
    "y = mean_mutations.number_mutations.to_numpy()\n",
    "A = np.vstack([x, np.ones(len(x))]).T\n",
    "m, c = np.linalg.lstsq(A, y, rcond=None)[0]"
   ]
  },
  {
   "cell_type": "code",
   "execution_count": null,
   "id": "976fb57c-0ea1-46b6-aa81-f4b5c0a90484",
   "metadata": {},
   "outputs": [],
   "source": [
    "fig, ax = plt.subplots(1, 1, figsize=FIGSIZE)\n",
    "ax.plot(x, y, \"o\")\n",
    "ax.plot(x, m * x + c, \"b\", linestyle=\"--\")\n",
    "# ax.plot(x, 16*x + c, 'r', linestyle=\"--\")\n",
    "ax.set_xlabel(\"age [years]\")\n",
    "ax.set_ylabel(\"avg number of SNVs\")\n",
    "ax.set_title(f\"y=mx+c with m={m:.2f}, c={c:.2f}\")\n",
    "fig.show()"
   ]
  },
  {
   "cell_type": "code",
   "execution_count": null,
   "id": "852d8f37",
   "metadata": {},
   "outputs": [],
   "source": [
    "fig, ax = plt.subplots(1, 1, tight_layout=True, figsize=FIGSIZE)\n",
    "sns.histplot(\n",
    "    data=summary,\n",
    "    x=\"number_mutations\",\n",
    "    hue=\"donor_id\",\n",
    "    kde=True,\n",
    "    binwidth=10,\n",
    "    ax=ax,\n",
    "    stat=\"count\",\n",
    ")\n",
    "sns.move_legend(ax, bbox_to_anchor=(1.01, 1), loc=\"upper left\", frameon=False)\n",
    "if SAVE:\n",
    "    plt.savefig(f\"./mitchell_burden{EXTENSION}\")\n",
    "plt.show()"
   ]
  },
  {
   "cell_type": "code",
   "execution_count": null,
   "id": "ca3461f0",
   "metadata": {},
   "outputs": [],
   "source": [
    "for i in summary.donor_id.unique():\n",
    "    fig, ax = plt.subplots(1, 1, tight_layout=True, figsize=(6, 4))\n",
    "    sns.histplot(\n",
    "        data=summary[summary.donor_id == i],\n",
    "        x=\"number_mutations\",\n",
    "        hue=\"donor_id\",\n",
    "        kde=True,\n",
    "        bins=50,\n",
    "        ax=ax,\n",
    "        stat=\"count\",\n",
    "    )\n",
    "    if SAVE:\n",
    "        plt.savefig(f\"./{i}_burden{EXTENSION}\")\n",
    "    plt.show()"
   ]
  },
  {
   "cell_type": "markdown",
   "id": "78baf63a",
   "metadata": {},
   "source": [
    "## Entropy\n",
    "Based on the code they [developped](https://github.com/emily-mitchell/normal_haematopoiesis/blob/23d221e8d125d78c1e8bcbe05d41d0f3594b0cfb/4_phylogeny_analysis/scripts/shannon_diversity.Rmd#L147), I think they define entropy as in [here](http://math.bu.edu/people/mkon/J6A.pdf) using the phylogenetic tree.\n",
    "We just compute the entropy from the number of cells: we consider a class being the cells with the same number of mutations and compute the abbundance of those classes, that is the abbundance of cells with the same number of mutations."
   ]
  },
  {
   "cell_type": "code",
   "execution_count": null,
   "id": "2e4c8f24-21c4-46f8-8ed5-2b492d26c573",
   "metadata": {},
   "outputs": [],
   "source": [
    "summary[[\"donor_id\", \"number_mutations\"]].groupby(\n",
    "    \"donor_id\"\n",
    ").value_counts().reset_index()"
   ]
  },
  {
   "cell_type": "code",
   "execution_count": null,
   "id": "c1a34295",
   "metadata": {},
   "outputs": [],
   "source": [
    "summary[[\"donor_id\", \"number_mutations\"]].groupby(\"donor_id\").value_counts().reset_index()"
   ]
  },
  {
   "cell_type": "code",
   "execution_count": null,
   "id": "feee5a05-9264-4c82-9762-ccf02e029c1b",
   "metadata": {},
   "outputs": [],
   "source": [
    "entropies = (\n",
    "    summary[[\"donor_id\", \"number_mutations\"]]\n",
    "    .groupby(\"donor_id\")\n",
    "    .value_counts()\n",
    "    .reset_index()[[\"donor_id\", 0]]\n",
    "    .groupby(\"donor_id\")\n",
    "    .count()\n",
    "    .rename(columns={\"count\": \"entropy\"})\n",
    ")"
   ]
  },
  {
   "cell_type": "code",
   "execution_count": null,
   "id": "a511610e",
   "metadata": {},
   "outputs": [],
   "source": [
    "# count the number of cells with the same number of mutations\n",
    "entropies = (\n",
    "    summary[[\"donor_id\", \"number_mutations\"]]\n",
    "    .groupby(\"donor_id\")\n",
    "    .value_counts()\n",
    "    .reset_index()[[\"donor_id\", 0]]\n",
    "    .groupby(\"donor_id\")\n",
    "    .agg(stats.entropy)\n",
    "    .rename(columns={\"count\": \"entropy\"})\n",
    ")\n",
    "summary = summary.merge(entropies, how=\"left\", on=\"donor_id\", validate=\"many_to_one\")"
   ]
  },
  {
   "cell_type": "code",
   "execution_count": null,
   "id": "80b82d9c",
   "metadata": {},
   "outputs": [],
   "source": [
    "fig, ax = plt.subplots(1, 1, tight_layout=True, figsize=(6, 4))\n",
    "summary.drop_duplicates(subset=[0, \"donor_id\"]).plot(\n",
    "    x=\"age\", y=0, ax=ax, kind=\"scatter\"\n",
    ")\n",
    "plt.show()"
   ]
  },
  {
   "cell_type": "markdown",
   "id": "d92e47ea-c322-483e-a43c-92bed6f96656",
   "metadata": {},
   "source": [
    "## SFS and entropy using the genotype matrix?\n",
    "Based on the code they [developped](https://github.com/emily-mitchell/normal_haematopoiesis/blob/23d221e8d125d78c1e8bcbe05d41d0f3594b0cfb/4_phylogeny_analysis/scripts/shannon_diversity.Rmd#L147), I think they define entropy as in [here](http://math.bu.edu/people/mkon/J6A.pdf) using the phylogenetic tree?\n",
    "\n",
    "I think they consider the number of cells carrying one variant at blood collection, only for variants that were present before 100 mutations appeared in the stem cell compartment. That is old variants present today."
   ]
  },
  {
   "cell_type": "code",
   "execution_count": null,
   "id": "76934e30-bc3c-41eb-9373-d8fcfd3eb587",
   "metadata": {},
   "outputs": [],
   "source": [
    "def load_patient(patient: str) -> Tuple[pd.DataFrame, pd.DataFrame]:\n",
    "    mut_matrix = pd.read_csv(f\"../mutMatrix{patient}.csv\", index_col=0)\n",
    "    mut_type = pd.read_csv(f\"../mutType{patient}.csv\", usecols=[1], dtype=\"category\")\n",
    "    # mut_matrix = mut_matrix.where(~(ax001==0.5), 1)  # map 0.5 to 1\n",
    "    mut_matrix = mut_matrix.applymap(int)  # map 0.5 to 0\n",
    "    mut_matrix = pd.DataFrame(mut_matrix, dtype=int)\n",
    "    return mut_matrix, mut_type\n",
    "\n",
    "\n",
    "def filter_mutations(m_matrix: pd.DataFrame, m_type: pd.DataFrame) -> pd.DataFrame:\n",
    "    return m_matrix.iloc[m_type[m_type==\"SNV\"].dropna().index, :]\n",
    "\n",
    "\n",
    "def compute_entropy(m_matrix: pd.DataFrame) -> float:\n",
    "    # count the number of cells for each variant\n",
    "    summed = m_matrix.sum(axis=1)\n",
    "    # summed = summed[summed > 3]\n",
    "    return stats.entropy(summed.to_numpy())"
   ]
  },
  {
   "cell_type": "code",
   "execution_count": null,
   "id": "6a3b2f8a",
   "metadata": {},
   "outputs": [],
   "source": [
    "entropies = dict.fromkeys(summary.donor_id.unique())"
   ]
  },
  {
   "cell_type": "code",
   "execution_count": null,
   "id": "11f18304",
   "metadata": {
    "scrolled": false
   },
   "outputs": [],
   "source": [
    "for donor in entropies.keys():\n",
    "    if donor == \"KX003\":\n",
    "        continue\n",
    "    filtered_matrix = filter_mutations(*load_patient(donor))\n",
    "    \n",
    "    fig, ax = plt.subplots(1, 1)\n",
    "    sfs = filtered_matrix.sum(axis=1).value_counts()\n",
    "    ax.scatter(sfs.index.to_numpy(), sfs.to_numpy(), label=donor)\n",
    "    ncells = filtered_matrix.shape[1]\n",
    "    x = np.arange(1, ncells, dtype=int)\n",
    "    y = 1.0 / x * ncells\n",
    "    ax.plot(x, y, linestyle=\"--\", c=\"black\", alpha=0.7, label=\"1/f\")\n",
    "    ax.set_yscale(\"log\")\n",
    "    ax.set_xscale(\"log\")\n",
    "    ax.legend()\n",
    "    ax.set_title(\"SFS\")\n",
    "    fig.show()\n",
    "    \n",
    "    fig, ax = plt.subplots(1, 1)\n",
    "    filtered_matrix.sum(axis=0).plot(kind=\"hist\", bins=100, ax=ax)\n",
    "    ax.set_title(f\"single-cell mutational burden for donor {donor}\")\n",
    "    ax.set_xlabel(\"SNV from the genotype matrix\")\n",
    "    fig.show()\n",
    "    entropies[donor] = compute_entropy(filtered_matrix)"
   ]
  },
  {
   "cell_type": "code",
   "execution_count": null,
   "id": "9e3a3ed6",
   "metadata": {},
   "outputs": [],
   "source": [
    "summary = pd.merge(\n",
    "    left=pd.Series(entropies, name=\"entropy\"), left_index=True,\n",
    "    right=summary, right_on=\"donor_id\",\n",
    "    validate=\"one_to_many\", how=\"right\"\n",
    ")"
   ]
  },
  {
   "cell_type": "code",
   "execution_count": null,
   "id": "c3f9afc7",
   "metadata": {},
   "outputs": [],
   "source": [
    "fig, ax = plt.subplots(1, 1)\n",
    "for donor, entropy in entropies.items():\n",
    "    toplot = summary.loc[summary.donor_id == donor, [\"age\", \"entropy\"]].drop_duplicates()\n",
    "    ax.scatter(toplot.age, toplot.entropy, label=toplot.index.tolist()[0])\n",
    "ax.legend()\n",
    "fig.show()"
   ]
  }
 ],
 "metadata": {
  "kernelspec": {
   "display_name": "hsc-draft",
   "language": "python",
   "name": "hsc-draft"
  },
  "language_info": {
   "codemirror_mode": {
    "name": "ipython",
    "version": 3
   },
   "file_extension": ".py",
   "mimetype": "text/x-python",
   "name": "python",
   "nbconvert_exporter": "python",
   "pygments_lexer": "ipython3",
   "version": "3.9.17"
  }
 },
 "nbformat": 4,
 "nbformat_minor": 5
}
