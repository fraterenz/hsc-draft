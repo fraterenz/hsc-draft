{
 "cells": [
  {
   "cell_type": "markdown",
   "id": "804a2ee6",
   "metadata": {},
   "source": [
    "## Create parameters file"
   ]
  },
  {
   "cell_type": "code",
   "execution_count": null,
   "id": "00526b0d",
   "metadata": {},
   "outputs": [],
   "source": [
    "%load_ext autoreload\n",
    "%autoreload 2"
   ]
  },
  {
   "cell_type": "code",
   "execution_count": null,
   "id": "9ca22b7d",
   "metadata": {},
   "outputs": [],
   "source": [
    "import pandas as pd\n",
    "import numpy as np\n",
    "from pathlib import Path\n",
    "from typing import List\n",
    "\n",
    "from hscpy import mitchell, realisation, parameters\n",
    "from futils import parse_version\n",
    "\n",
    "NCELLS = 100_000\n",
    "REPLICATES = 500\n",
    "PATH2HSC = Path(\"~\").expanduser() / \"hsc\"\n",
    "PATH2DATA = Path(\"~\").expanduser() / \"hsc-draft/data\""
   ]
  },
  {
   "cell_type": "code",
   "execution_count": null,
   "id": "2d630a95",
   "metadata": {},
   "outputs": [],
   "source": [
    "%%bash -s \"$PATH2HSC\" --out version\n",
    "$1/target/release/hsc  --version"
   ]
  },
  {
   "cell_type": "code",
   "execution_count": null,
   "id": "39ce7c74",
   "metadata": {},
   "outputs": [],
   "source": [
    "VERSION = parse_version(version)\n",
    "PATH2SAVE = Path(f\"./{VERSION}\")\n",
    "\n",
    "print(\"Running hsc with version:\", VERSION)"
   ]
  },
  {
   "cell_type": "code",
   "execution_count": null,
   "id": "c24e1535",
   "metadata": {},
   "outputs": [],
   "source": [
    "donors = mitchell.donors()\n",
    "donors"
   ]
  },
  {
   "cell_type": "code",
   "execution_count": null,
   "id": "87588878",
   "metadata": {},
   "outputs": [],
   "source": [
    "def create_parameters(\n",
    "    donors: pd.DataFrame, names: List[str], eta: float, sigma: float, mu: int, mu_exp: int, tau: float, exp_phase: bool = True, dir2save: Path = PATH2DATA / VERSION\n",
    ") -> realisation.SimulationCMD:\n",
    "    return realisation.SimulationCMD(\n",
    "        cells=NCELLS,\n",
    "        samples=donors[donors.name.isin(names)].cells.tolist(),\n",
    "        eta=eta,\n",
    "        sigma=sigma,\n",
    "        mu=mu,\n",
    "        mu_exp=mu_exp,\n",
    "        tau=tau,\n",
    "        ages=donors[donors.name.isin(names)].age.tolist(),\n",
    "        name=name,\n",
    "        seed=None,\n",
    "        exp_phase=exp_phase,\n",
    "        tau_exp=parameters.tau_exp(NCELLS),\n",
    "        dir2save=dir2save.absolute(),\n",
    "    )"
   ]
  },
  {
   "cell_type": "code",
   "execution_count": null,
   "id": "eb797b58",
   "metadata": {},
   "outputs": [],
   "source": [
    "# params are from ABC\n",
    "parameters_ = dict()\n",
    "\n",
    "name = \"CB001\"\n",
    "eta, sigma, mu, tau = 0.03, 0.01, 1, 1\n",
    "parameters_[name] = create_parameters(donors, [name], eta, sigma, mu, mu, tau, dir2save=(PATH2DATA / Path(f\"simulations/{VERSION}\")))\n",
    "\n",
    "# assume same params for both 0 age donors\n",
    "name = \"CB002\"\n",
    "eta, sigma, mu, tau = 0.03, 0.01, 1, 1\n",
    "parameters_[name] = create_parameters(donors, [name], eta, sigma, mu, mu, tau, dir2save=(PATH2DATA / Path(f\"simulations/{VERSION}\")))\n",
    "\n",
    "name = \"KX001\"\n",
    "eta, sigma, mu, tau = 0.03, 0.01, 1, 1.8\n",
    "parameters_[name] = create_parameters(donors, [name], eta, sigma, mu, mu, tau, dir2save=(PATH2DATA / Path(f\"simulations/{VERSION}\")))\n",
    "\n",
    "name = \"KX002\"\n",
    "eta, sigma, mu, tau = 0.02, 0.01, 1, 2.6\n",
    "parameters_[name] = create_parameters(donors, [name], eta, sigma, mu, mu, tau, dir2save=(PATH2DATA / Path(f\"simulations/{VERSION}\")))\n",
    "\n",
    "name = \"SX001\"\n",
    "eta, sigma, mu, tau = 0.03, 0.01, 1, 2.6\n",
    "parameters_[name] = create_parameters(donors, [name], eta, sigma, mu, mu, tau, dir2save=(PATH2DATA / Path(f\"simulations/{VERSION}\")))\n",
    "\n",
    "name = \"AX001\"\n",
    "eta, sigma, mu, tau = 0.02, 0.01, 1, 3\n",
    "parameters_[name] = create_parameters(donors, [name], eta, sigma, mu, mu, tau, dir2save=(PATH2DATA / Path(f\"simulations/{VERSION}\")))\n",
    "\n",
    "name = \"KX008\"\n",
    "eta, sigma, mu, tau = 0.06, 0.04, 16, 5\n",
    "parameters_[name] = create_parameters(donors, [name], eta, sigma, mu, mu, tau, dir2save=(PATH2DATA / Path(f\"simulations/{VERSION}\")))\n",
    "\n",
    "name = \"KX004\"\n",
    "eta, sigma, mu, tau = 0.12, 0.04, 16, 1.4\n",
    "parameters_[name] = create_parameters(donors, [name], eta, sigma, mu, mu, tau, dir2save=(PATH2DATA / Path(f\"simulations/{VERSION}\")))\n",
    "\n",
    "name = \"KX003\"\n",
    "eta, sigma, mu, tau = 0.08, 0.04, 23, 3\n",
    "parameters_[name] = create_parameters(donors, [name], eta, sigma, mu, mu, tau, dir2save=(PATH2DATA / Path(f\"simulations/{VERSION}\")))"
   ]
  },
  {
   "cell_type": "code",
   "execution_count": null,
   "id": "5afb11db",
   "metadata": {},
   "outputs": [],
   "source": [
    "def write_parameters_to_file(parameters: List[realisation.SimulationCMD], path2file: Path, mode=\"w\"):\n",
    "    with open(path2file, mode) as f:\n",
    "        for params in parameters:\n",
    "            for _ in range(REPLICATES):\n",
    "                f.write(params.parameters() + \"\\n\")\n",
    "    assert path2file.is_file()"
   ]
  },
  {
   "cell_type": "code",
   "execution_count": null,
   "id": "fd70147e",
   "metadata": {},
   "outputs": [],
   "source": [
    "write_parameters_to_file(list(parameters_.values()), Path(\"parameters.txt\"))"
   ]
  },
  {
   "cell_type": "code",
   "execution_count": null,
   "id": "e1cd38a8",
   "metadata": {},
   "outputs": [],
   "source": [
    "%%bash\n",
    "head parameters.txt"
   ]
  },
  {
   "cell_type": "code",
   "execution_count": null,
   "id": "d58d7fd8",
   "metadata": {},
   "outputs": [],
   "source": [
    "%%bash\n",
    "tail parameters.txt"
   ]
  },
  {
   "cell_type": "code",
   "execution_count": null,
   "id": "7cb42f40",
   "metadata": {},
   "outputs": [],
   "source": [
    "%%bash\n",
    "wc -l parameters.txt"
   ]
  },
  {
   "cell_type": "code",
   "execution_count": null,
   "id": "3ad2206e",
   "metadata": {},
   "outputs": [],
   "source": [
    "%%bash --out runs\n",
    "wc -l parameters.txt"
   ]
  },
  {
   "cell_type": "code",
   "execution_count": null,
   "id": "98b599ac",
   "metadata": {},
   "outputs": [],
   "source": [
    "runs = int(runs.split(\" \")[0])\n",
    "assert (\n",
    "    REPLICATES * len(parameters_) == runs\n",
    "), f\"{REPLICATES * len(parameters_)} vs {runs}\""
   ]
  },
  {
   "cell_type": "code",
   "execution_count": null,
   "id": "82542cee",
   "metadata": {},
   "outputs": [],
   "source": [
    "REPLICATES * len(parameters_)"
   ]
  },
  {
   "cell_type": "markdown",
   "id": "e6f4c69a",
   "metadata": {},
   "source": [
    "## The parameters for dynamics"
   ]
  },
  {
   "cell_type": "code",
   "execution_count": null,
   "id": "9ed91da1",
   "metadata": {},
   "outputs": [],
   "source": [
    "names = donors.name.unique()\n",
    "path2dir = PATH2DATA / f\"dynamics/{VERSION}\"\n",
    "\n",
    "parameters_varying_eta = list()\n",
    "etas, sigma, mu, tau = [0.05, 0.08, 0.15], 0.01, 1, 1\n",
    "for eta in etas:\n",
    "    parameters_varying_eta.append(\n",
    "        create_parameters(donors, names, eta, sigma, mu, mu, tau, exp_phase=True, dir2save=path2dir / \"etas\")\n",
    "    )\n",
    "    \n",
    "parameters_varying_mu = list()\n",
    "eta, sigma, mus, tau = 0.08, 0.01, [0.5, 3, 10], 1\n",
    "for mu in mus:\n",
    "    parameters_varying_mu.append(\n",
    "        create_parameters(donors, names, eta, sigma, mu, mu, tau, exp_phase=True, dir2save=path2dir / \"mus\")\n",
    "    )\n",
    "    \n",
    "    \n",
    "parameters_varying_tau = list()\n",
    "eta, sigma, mu, taus = 0.08, 0.01, 1, [0.3, 1, 5]\n",
    "for tau in taus:\n",
    "    parameters_varying_tau.append(\n",
    "        create_parameters(donors, names, eta, sigma, mu, mu, tau, exp_phase=True, dir2save=path2dir / \"taus\")\n",
    "    )"
   ]
  },
  {
   "cell_type": "code",
   "execution_count": null,
   "id": "3b5bc6cb",
   "metadata": {},
   "outputs": [],
   "source": [
    "for file, params in zip(\n",
    "    [\"parameters_varying_eta.txt\", \"parameters_varying_mu.txt\", \"parameters_varying_tau.txt\"],\n",
    "    [parameters_varying_eta, parameters_varying_mu, parameters_varying_tau]\n",
    "):\n",
    "    print(file)\n",
    "    write_parameters_to_file(params, Path(file), mode=\"w\")"
   ]
  },
  {
   "cell_type": "code",
   "execution_count": null,
   "id": "74aaeb9c",
   "metadata": {},
   "outputs": [],
   "source": [
    "%%bash\n",
    "head parameters_varying_mu.txt"
   ]
  },
  {
   "cell_type": "code",
   "execution_count": null,
   "id": "269e6a67",
   "metadata": {},
   "outputs": [],
   "source": [
    "%%bash\n",
    "tail parameters_varying_mu.txt"
   ]
  },
  {
   "cell_type": "code",
   "execution_count": null,
   "id": "afea6fd5",
   "metadata": {},
   "outputs": [],
   "source": [
    "%%bash\n",
    "tail parameters_varying_eta.txt"
   ]
  },
  {
   "cell_type": "code",
   "execution_count": null,
   "id": "3775a8e6",
   "metadata": {},
   "outputs": [],
   "source": [
    "%%bash --out runs\n",
    "wc -l parameters_varying_eta.txt"
   ]
  },
  {
   "cell_type": "code",
   "execution_count": null,
   "id": "ba6bffa6",
   "metadata": {},
   "outputs": [],
   "source": [
    "runs = int(runs.split(\" \")[0])\n",
    "assert (\n",
    "    REPLICATES * len(parameters_varying_eta) == runs\n",
    "), f\"{REPLICATES * len(parameters_varying_eta)} vs {runs}\"\n",
    "\n",
    "REPLICATES * len(parameters_varying_eta)"
   ]
  },
  {
   "cell_type": "markdown",
   "id": "644282d0",
   "metadata": {},
   "source": [
    "## The parameters for sde"
   ]
  },
  {
   "cell_type": "code",
   "execution_count": null,
   "id": "017e9490",
   "metadata": {},
   "outputs": [],
   "source": [
    "path2dir = PATH2DATA / f\"sde/{VERSION}\"\n",
    "donors = pd.DataFrame(\n",
    "    [(n, a, c) for n, a, c in zip(\n",
    "        [f\"t{i}\" for i in range(0, 21)], range(0, 105, 5), [NCELLS]*100)\n",
    "    ], \n",
    "    columns=[\"name\", \"age\", \"cells\"]\n",
    ")\n",
    "names = donors.name.squeeze()\n",
    "donors"
   ]
  },
  {
   "cell_type": "code",
   "execution_count": null,
   "id": "42f3b8da",
   "metadata": {},
   "outputs": [],
   "source": [
    "parameters_varying_eta1 = list()\n",
    "etas, sigma, mu, tau = [0.05, 0.2], 0.025, 4, 1\n",
    "for eta in etas:\n",
    "    parameters_varying_eta1.append(create_parameters(donors, names, eta, sigma, mu, 0, tau, exp_phase=False, dir2save=path2dir / \"etas_mu4\"))\n",
    "    \n",
    "parameters_varying_eta2 = list()\n",
    "etas, sigma, mu, tau = [0.05, 0.2], 0.025, 15, 1\n",
    "for eta in etas:\n",
    "    parameters_varying_eta2.append(create_parameters(donors, names, eta, sigma, mu, 0, tau, exp_phase=False, dir2save=path2dir / \"etas_mu15\"))"
   ]
  },
  {
   "cell_type": "code",
   "execution_count": null,
   "id": "861fa6f7",
   "metadata": {},
   "outputs": [],
   "source": [
    "for file, params in zip(\n",
    "    [\"parameters_sde_varying_eta1.txt\", \"parameters_sde_varying_eta2.txt\", ],\n",
    "    [parameters_varying_eta1, parameters_varying_eta2]\n",
    "):\n",
    "    print(file)\n",
    "    write_parameters_to_file(params, Path(file), mode=\"w\")"
   ]
  },
  {
   "cell_type": "code",
   "execution_count": null,
   "id": "b2dc7c8c",
   "metadata": {},
   "outputs": [],
   "source": [
    "%%bash --out runs\n",
    "wc -l parameters_sde_varying_eta1.txt"
   ]
  },
  {
   "cell_type": "code",
   "execution_count": null,
   "id": "c1019aac",
   "metadata": {},
   "outputs": [],
   "source": [
    "runs = int(runs.split(\" \")[0])\n",
    "assert (\n",
    "    REPLICATES * len(parameters_varying_eta1) == runs\n",
    "), f\"{REPLICATES * len(parameters_varying_eta1)} vs {runs}\"\n",
    "\n",
    "REPLICATES * len(parameters_varying_eta1)"
   ]
  },
  {
   "cell_type": "code",
   "execution_count": null,
   "id": "d0565e9e",
   "metadata": {},
   "outputs": [],
   "source": [
    "%%bash\n",
    "tail parameters_sde_varying_eta1.txt"
   ]
  },
  {
   "cell_type": "code",
   "execution_count": null,
   "id": "611ec590",
   "metadata": {},
   "outputs": [],
   "source": [
    "%%bash\n",
    "tail parameters_sde_varying_eta2.txt"
   ]
  }
 ],
 "metadata": {
  "kernelspec": {
   "display_name": "hsc-draft",
   "language": "python",
   "name": "hsc-draft"
  },
  "language_info": {
   "codemirror_mode": {
    "name": "ipython",
    "version": 3
   },
   "file_extension": ".py",
   "mimetype": "text/x-python",
   "name": "python",
   "nbconvert_exporter": "python",
   "pygments_lexer": "ipython3",
   "version": "3.9.7"
  }
 },
 "nbformat": 4,
 "nbformat_minor": 5
}
