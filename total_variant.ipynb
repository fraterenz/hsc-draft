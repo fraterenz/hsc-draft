{
 "cells": [
  {
   "cell_type": "code",
   "execution_count": null,
   "id": "ce19ffa6",
   "metadata": {},
   "outputs": [],
   "source": [
    "import matplotlib.pyplot as plt\n",
    "import json\n",
    "import numpy as np\n",
    "import pandas as pd\n",
    "import socket\n",
    "from pathlib import Path\n",
    "from ecdna_figures import dynamics, parse_version\n",
    "\n",
    "PATH2BIN = Path(\"~\").expanduser() / \"hsc/target/release\"\n",
    "assert PATH2BIN.is_dir()\n",
    "\n",
    "if socket.gethostname() == \"5X9ZYD3\":\n",
    "    PATH2SIMS = Path(\n",
    "        \"/mnt/c/Users/terenz01/Documents/SwitchDrive/PhD/variantFractionTime_s0.15_sigma0.03_mu2.csv\"\n",
    "    )\n",
    "    # need + 1 to save the last timepoint\n",
    "    YEARS = 50 + 1\n",
    "    x = [\n",
    "        0.1,\n",
    "        5.6555552,\n",
    "        11.211111,\n",
    "        16.766666,\n",
    "        22.322222,\n",
    "        27.877777,\n",
    "        33.433334,\n",
    "        38.98889,\n",
    "        44.54445,\n",
    "        50.0,\n",
    "    ]\n",
    "else:\n",
    "    PATH2SIMS = Path(\"~\").expanduser() / Path(\n",
    "        \"variantFractionTime_s0.15_sigma0.03_mu2.csv\"\n",
    "    )\n",
    "    # need + 1 to save the last timepoint\n",
    "    YEARS = 100 + 1\n",
    "    x = [\n",
    "        0.1,\n",
    "        11.211111,\n",
    "        22.322222,\n",
    "        33.433334,\n",
    "        44.544445,\n",
    "        55.655556,\n",
    "        66.76666,\n",
    "        77.87778,\n",
    "        88.98889,\n",
    "        100.0,\n",
    "    ]\n",
    "assert PATH2SIMS.is_file()\n",
    "FIGSIZE = [7, 3]\n",
    "PDF = True\n",
    "EXTENSION = \".pdf\" if PDF else \".png\"\n",
    "SAVE = True"
   ]
  },
  {
   "cell_type": "code",
   "execution_count": null,
   "id": "d40ff0f6",
   "metadata": {},
   "outputs": [],
   "source": [
    "NCELLS = 200_000\n",
    "RUNS = 24\n",
    "\n",
    "# division rate for the wild-type, aka alpha\n",
    "B0 = 1\n",
    "# avg fit mutations arising in 1 year\n",
    "MU0 = 2\n",
    "# avg number of neutral mutations per each proliferative event\n",
    "NEUTRAL_RATE = 1\n",
    "\n",
    "# proliferative advantage conferred by fit mutations\n",
    "S = 0.15\n",
    "# probability of getting an asymmetric division per each proliferate event\n",
    "P_ASYMMETRIC = 0"
   ]
  },
  {
   "cell_type": "code",
   "execution_count": null,
   "id": "affa36a0",
   "metadata": {},
   "outputs": [],
   "source": [
    "%%bash -s \"$PATH2BIN\" --out version\n",
    "$1/hsc --version"
   ]
  },
  {
   "cell_type": "code",
   "execution_count": null,
   "id": "554d54b6",
   "metadata": {},
   "outputs": [],
   "source": [
    "VERSION = parse_version(version)\n",
    "PATH2SAVE = Path(f\"./{VERSION}\")\n",
    "print(\"Running hsc with version:\", VERSION)"
   ]
  },
  {
   "cell_type": "code",
   "execution_count": null,
   "id": "1c914562",
   "metadata": {},
   "outputs": [],
   "source": [
    "%%bash -s \"$PATH2BIN\" \"$PATH2SAVE\" \"$B0\" \"$MU0\" \"$NEUTRAL_RATE\" \"$S\" \"$P_ASYMMETRIC\" \"$RUNS\" \"$NCELLS\" \"$YEARS\"\n",
    "rm -rf $2\n",
    "$1/hsc -c $9 -y ${10} -r $8 --b0 $3 --mu0 $4 --neutral-rate $5 -s $6 --p-asymmetric $7 $2"
   ]
  },
  {
   "cell_type": "code",
   "execution_count": null,
   "id": "5b8b3acf",
   "metadata": {},
   "outputs": [],
   "source": [
    "def load_variant_fractions(path2dir: Path):\n",
    "    assert path2dir.is_dir(), \"must be dir\"\n",
    "\n",
    "    data = []\n",
    "    for path2snapshot in sorted(\n",
    "        list((PATH2SAVE / \"variant_fraction\").iterdir()),\n",
    "        key=lambda path2name: int(path2name.name),\n",
    "        reverse=True,\n",
    "    ):\n",
    "        for file in path2snapshot.iterdir():\n",
    "            with open(file, \"r\") as f:\n",
    "                # remove wild type clone\n",
    "                data.extend(\n",
    "                    [\n",
    "                        float(ele)\n",
    "                        for i, ele in enumerate(f.read().split(\",\"))\n",
    "                        if ele and i > 0\n",
    "                    ]\n",
    "                )\n",
    "    return np.array(data, dtype=float).reshape(\n",
    "        10, RUNS, 40 - 1\n",
    "    )  # timepoints x RUNS x MAX_SUBCLONES - 1 (rm wildtype)"
   ]
  },
  {
   "cell_type": "code",
   "execution_count": null,
   "id": "107479de",
   "metadata": {
    "scrolled": true
   },
   "outputs": [],
   "source": [
    "fig, ax = plt.subplots(1, 1, tight_layout=True, figsize=FIGSIZE)\n",
    "other_sims = pd.read_csv(PATH2SIMS).loc[:YEARS, :]\n",
    "\n",
    "ax.set_xlabel(\"time [years]\")\n",
    "ax.set_ylabel(\"avg total variant fraction\")\n",
    "total_fraction = load_variant_fractions(PATH2SAVE).sum(axis=-1)\n",
    "ax.errorbar(\n",
    "    x,\n",
    "    total_fraction.mean(axis=-1),\n",
    "    yerr=total_fraction.std(axis=-1),\n",
    "    fmt=\"o\",\n",
    "    alpha=0.8,\n",
    "    label=f\"ABM, avg of {RUNS} runs\",\n",
    ")\n",
    "ax.plot(other_sims._t, other_sims.theory, label=\"theory\")\n",
    "ax.plot(\n",
    "    other_sims._t, other_sims.simsAverage, linestyle=\"--\", label=\"sims, avg of 500 runs\"\n",
    ")\n",
    "ax.legend(loc=\"upper left\")\n",
    "if SAVE:\n",
    "    path2figure = PATH2SAVE / \"figures\"\n",
    "    try:\n",
    "        plt.savefig(path2figure / f\"total_variant{EXTENSION}\")\n",
    "    except FileNotFoundError:\n",
    "        path2figure.mkdir()\n",
    "        plt.savefig(path2figure / f\"total_variant{EXTENSION}\")\n",
    "plt.show()"
   ]
  }
 ],
 "metadata": {
  "kernelspec": {
   "display_name": "Python 3 (ipykernel)",
   "language": "python",
   "name": "python3"
  },
  "language_info": {
   "codemirror_mode": {
    "name": "ipython",
    "version": 3
   },
   "file_extension": ".py",
   "mimetype": "text/x-python",
   "name": "python",
   "nbconvert_exporter": "python",
   "pygments_lexer": "ipython3",
   "version": "3.10.10"
  }
 },
 "nbformat": 4,
 "nbformat_minor": 5
}
