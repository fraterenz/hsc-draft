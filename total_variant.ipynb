{
 "cells": [
  {
   "cell_type": "code",
   "execution_count": null,
   "id": "ce19ffa6",
   "metadata": {},
   "outputs": [],
   "source": [
    "import matplotlib.pyplot as plt\n",
    "import json\n",
    "import numpy as np\n",
    "import pandas as pd\n",
    "import socket\n",
    "import seaborn as sns\n",
    "from scipy import stats\n",
    "from pathlib import Path\n",
    "from ecdna_figures import dynamics, parse_version\n",
    "\n",
    "PATH2BIN = Path(\"~\").expanduser() / \"hsc/target/release\"\n",
    "assert PATH2BIN.is_dir()\n",
    "FIGSIZE = [7, 3]\n",
    "PDF = True\n",
    "EXTENSION = \".pdf\" if PDF else \".png\"\n",
    "SAVE = False"
   ]
  },
  {
   "cell_type": "code",
   "execution_count": null,
   "id": "d40ff0f6",
   "metadata": {},
   "outputs": [],
   "source": [
    "NCELLS = 200_000\n",
    "RUNS = 24\n",
    "\n",
    "# division rate for the wild-type, aka alpha\n",
    "B0 = 1\n",
    "# avg fit mutations arising in 1 year\n",
    "MU0 = 2\n",
    "# avg number of neutral mutations per each proliferative event\n",
    "NEUTRAL_RATE = 1\n",
    "\n",
    "# proliferative advantage conferred by fit mutations\n",
    "S = 0.15\n",
    "# probability of getting an asymmetric division per each proliferate event\n",
    "P_ASYMMETRIC = 0"
   ]
  },
  {
   "cell_type": "code",
   "execution_count": null,
   "id": "985e133e",
   "metadata": {},
   "outputs": [],
   "source": [
    "if socket.gethostname() == \"5X9ZYD3\":\n",
    "    PATH2SIMS = Path(\n",
    "        \"/mnt/c/Users/terenz01/Documents/SwitchDrive/PhD/variantFractionTime_s0.15_sigma0.03_mu2.csv\"\n",
    "    )\n",
    "    # need + 1 to save the last timepoint\n",
    "    YEARS = 50 + 1\n",
    "    x = [\n",
    "        0.1,\n",
    "        5.6555552,\n",
    "        11.211111,\n",
    "        16.766666,\n",
    "        22.322222,\n",
    "        27.877777,\n",
    "        33.433334,\n",
    "        38.98889,\n",
    "        44.54445,\n",
    "        50.0,\n",
    "    ]\n",
    "else:\n",
    "    PATH2SIMS = Path(\"~\").expanduser() / Path(\n",
    "        \"variantFractionTime_s0.15_sigma0.03_mu2.csv\"\n",
    "    )\n",
    "    # need + 1 to save the last timepoint\n",
    "    YEARS = 100 + 1\n",
    "    x = [\n",
    "        0.1,\n",
    "        11.211111,\n",
    "        22.322222,\n",
    "        33.433334,\n",
    "        44.544445,\n",
    "        55.655556,\n",
    "        66.76666,\n",
    "        77.87778,\n",
    "        88.98889,\n",
    "        100.0,\n",
    "    ]\n",
    "assert PATH2SIMS.is_file()"
   ]
  },
  {
   "cell_type": "code",
   "execution_count": null,
   "id": "affa36a0",
   "metadata": {},
   "outputs": [],
   "source": [
    "%%bash -s \"$PATH2BIN\" --out version\n",
    "$1/hsc --version"
   ]
  },
  {
   "cell_type": "code",
   "execution_count": null,
   "id": "554d54b6",
   "metadata": {},
   "outputs": [],
   "source": [
    "VERSION = parse_version(version)\n",
    "PATH2SAVE = Path(f\"./{VERSION}\")\n",
    "print(\"Running hsc with version:\", VERSION)"
   ]
  },
  {
   "cell_type": "code",
   "execution_count": null,
   "id": "1c914562",
   "metadata": {},
   "outputs": [],
   "source": [
    "%%bash -s \"$PATH2BIN\" \"$PATH2SAVE\" \"$B0\" \"$MU0\" \"$NEUTRAL_RATE\" \"$S\" \"$P_ASYMMETRIC\" \"$RUNS\" \"$NCELLS\" \"$YEARS\"\n",
    "rm -rf $2\n",
    "$1/hsc -c $9 -y ${10} -r $8 --b0 $3 --mu0 $4 --neutral-rate $5 -s $6 --p-asymmetric $7 $2"
   ]
  },
  {
   "cell_type": "markdown",
   "id": "dd2a2fae",
   "metadata": {},
   "source": [
    "## Entropy\n",
    "Compute the entropy of the neutral sfs (all neutral lineages) for all patients."
   ]
  },
  {
   "cell_type": "code",
   "execution_count": null,
   "id": "87fd96f1",
   "metadata": {},
   "outputs": [],
   "source": [
    "def load_sfs_neutral(path2dir: Path):\n",
    "    assert path2dir.is_dir(), \"must be dir\"\n",
    "\n",
    "    data, lens, idx = [], [], []\n",
    "    for file in (PATH2SAVE / \"sfs_neutral\").iterdir():\n",
    "        with open(file, \"r\") as f:\n",
    "            data.append([ele for ele in json.load(f).values()])\n",
    "        lens.append(len(data[-1]))\n",
    "        idx.append(int(file.stem))\n",
    "    pad = max(lens)\n",
    "    for d in data:\n",
    "        for _ in range(pad - len(d)):\n",
    "            d.append(0)\n",
    "    print(f\"max number of neutral lineages found in all patients: {pad}\")\n",
    "    return np.array(data, dtype=float).reshape(RUNS, pad), idx"
   ]
  },
  {
   "cell_type": "code",
   "execution_count": null,
   "id": "8fe71650",
   "metadata": {},
   "outputs": [],
   "source": [
    "pk, idx = load_sfs_neutral(PATH2SAVE)\n",
    "pk /= pk.sum(axis=1)[:, np.newaxis]\n",
    "\n",
    "fig, ax = plt.subplots(1, 1, tight_layout=True, figsize=FIGSIZE)\n",
    "ax.bar(idx, stats.entropy(pk, axis=1))\n",
    "ax.set_ylabel(\"entropy\")\n",
    "ax.set_xlabel(\"run idx\")\n",
    "ax.set_ylim([0.95, 1.05])\n",
    "ax.set_xticks(range(0, RUNS))\n",
    "plt.show()"
   ]
  },
  {
   "cell_type": "markdown",
   "id": "cbd84017",
   "metadata": {},
   "source": [
    "## Total variant\n",
    "The total variant fraction is the fraction of all selected clones averaged over all patients, that is anything except the wild type."
   ]
  },
  {
   "cell_type": "code",
   "execution_count": null,
   "id": "5b8b3acf",
   "metadata": {},
   "outputs": [],
   "source": [
    "def load_variant_fractions(path2dir: Path):\n",
    "    assert path2dir.is_dir(), \"must be dir\"\n",
    "\n",
    "    data = []\n",
    "    for path2snapshot in sorted(\n",
    "        list((PATH2SAVE / \"variant_fraction\").iterdir()),\n",
    "        key=lambda path2name: int(path2name.name),\n",
    "        reverse=True,\n",
    "    ):  # need to reverse because rust saves from the last timepoint\n",
    "        for file in path2snapshot.iterdir():\n",
    "            with open(file, \"r\") as f:\n",
    "                # remove wild type clone\n",
    "                data.extend(\n",
    "                    [\n",
    "                        float(ele)\n",
    "                        for i, ele in enumerate(f.read().split(\",\"))\n",
    "                        if ele and i > 0\n",
    "                    ]\n",
    "                )\n",
    "    return np.array(data, dtype=float).reshape(\n",
    "        10, RUNS, 40 - 1\n",
    "    )  # timepoints x RUNS x MAX_SUBCLONES - 1 (rm wildtype)"
   ]
  },
  {
   "cell_type": "code",
   "execution_count": null,
   "id": "107479de",
   "metadata": {
    "scrolled": true
   },
   "outputs": [],
   "source": [
    "fig, ax = plt.subplots(1, 1, tight_layout=True, figsize=FIGSIZE)\n",
    "other_sims = pd.read_csv(PATH2SIMS).loc[:YEARS, :]\n",
    "\n",
    "ax.set_xlabel(\"time [years]\")\n",
    "ax.set_ylabel(\"avg total variant fraction\")\n",
    "variant_fraction = load_variant_fractions(PATH2SAVE)\n",
    "total_fraction = variant_fraction.sum(axis=-1)\n",
    "ax.errorbar(\n",
    "    x,\n",
    "    total_fraction.mean(axis=-1),\n",
    "    yerr=total_fraction.std(axis=-1),\n",
    "    fmt=\"o\",\n",
    "    alpha=0.8,\n",
    "    label=f\"ABM, avg of {RUNS} runs\",\n",
    ")\n",
    "ax.plot(other_sims._t, other_sims.theory, label=\"theory\")\n",
    "ax.plot(\n",
    "    other_sims._t, other_sims.simsAverage, linestyle=\"--\", label=\"sims, avg of 500 runs\"\n",
    ")\n",
    "ax.legend(loc=\"upper left\")\n",
    "if SAVE:\n",
    "    path2figure = PATH2SAVE / \"figures\"\n",
    "    try:\n",
    "        plt.savefig(path2figure / f\"total_variant{EXTENSION}\")\n",
    "    except FileNotFoundError:\n",
    "        path2figure.mkdir()\n",
    "        plt.savefig(path2figure / f\"total_variant{EXTENSION}\")\n",
    "plt.show()"
   ]
  },
  {
   "cell_type": "code",
   "execution_count": null,
   "id": "83ce05f2",
   "metadata": {
    "scrolled": false
   },
   "outputs": [],
   "source": [
    "int_x = [int(x_) for x_ in x]\n",
    "for run in range(RUNS):\n",
    "    fig, ax = plt.subplots(1, 1, tight_layout=True, figsize=FIGSIZE)\n",
    "    for clone in range(variant_fraction.shape[-1]):\n",
    "        sns.barplot(x=int_x, y=variant_fraction[:, run, clone], ax=ax)\n",
    "    ax.set_ylabel(\"variant fraction\")\n",
    "    ax.set_xlabel(\"time [years]\")\n",
    "    plt.show()"
   ]
  }
 ],
 "metadata": {
  "kernelspec": {
   "display_name": "Python 3 (ipykernel)",
   "language": "python",
   "name": "python3"
  },
  "language_info": {
   "codemirror_mode": {
    "name": "ipython",
    "version": 3
   },
   "file_extension": ".py",
   "mimetype": "text/x-python",
   "name": "python",
   "nbconvert_exporter": "python",
   "pygments_lexer": "ipython3",
   "version": "3.11.3"
  }
 },
 "nbformat": 4,
 "nbformat_minor": 5
}
