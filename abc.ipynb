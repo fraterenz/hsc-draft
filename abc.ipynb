{
 "cells": [
  {
   "cell_type": "code",
   "execution_count": null,
   "id": "8b0ca6b9-0ad3-4c80-8b8e-82921c1f91c4",
   "metadata": {},
   "outputs": [],
   "source": [
    "%load_ext autoreload\n",
    "%autoreload 2"
   ]
  },
  {
   "cell_type": "code",
   "execution_count": null,
   "id": "8e1c9998-173c-4494-a6c8-4600ee4104be",
   "metadata": {},
   "outputs": [],
   "source": [
    "import random\n",
    "import numpy as np\n",
    "import socket\n",
    "import pandas as pd\n",
    "import seaborn as sns\n",
    "import matplotlib.pyplot as plt\n",
    "from scipy import stats\n",
    "from matplotlib import colors\n",
    "from datetime import datetime\n",
    "from pathlib import Path\n",
    "from random import choices\n",
    "\n",
    "from futils import parse_version, snapshot\n",
    "from hscpy.figures import PlotOptions\n",
    "from hscpy.figures import abc as abc_fig\n",
    "from hscpy.figures import sfs as sfs_fig\n",
    "from hscpy import sfs, mitchell, abc, parse_path2folder_xdoty_years, variant\n",
    "\n",
    "PATH2BIN = Path(\"~\").expanduser() / \"hsc/target/release\"\n",
    "assert PATH2BIN.is_dir()"
   ]
  },
  {
   "cell_type": "code",
   "execution_count": null,
   "id": "236ccb3a-881b-45a2-9d40-64f425a0eaf4",
   "metadata": {},
   "outputs": [],
   "source": [
    "%%bash -s \"$PATH2BIN\" --out version\n",
    "$1/hsc --version"
   ]
  },
  {
   "cell_type": "code",
   "execution_count": null,
   "id": "370b6c11-d170-4ffa-a999-13b67704a53b",
   "metadata": {},
   "outputs": [],
   "source": [
    "USE_SCRATCH = True\n",
    "SAMPLE = 368\n",
    "SAVEFIG = True\n",
    "SHOW_PRIORS = False"
   ]
  },
  {
   "cell_type": "code",
   "execution_count": null,
   "id": "2813d27f-0a2f-4794-96e1-66536fe6df1c",
   "metadata": {},
   "outputs": [],
   "source": [
    "LATEST = True\n",
    "if LATEST:\n",
    "    VERSION = parse_version(version)\n",
    "else:\n",
    "    VERSION = \"v1.3.0\"\n",
    "PATH2SAVE = Path(f\"./{VERSION}\")\n",
    "\n",
    "print(\"Running hsc with version:\", VERSION)\n",
    "\n",
    "if USE_SCRATCH:\n",
    "    PATH2SIMS = Path(\"/data/scratch/\")\n",
    "else:\n",
    "    PATH2SIMS = Path(\"/data/home/\")\n",
    "PATH2SIMS /= f\"hfx923/hsc-draft/{VERSION}\"\n",
    "\n",
    "if socket.gethostname() == \"5X9ZYD3\":\n",
    "    PATH2MITCHELL = Path(\"/mnt/c/Users/terenz01/Documents/SwitchDrive/PhD/hsc\")\n",
    "elif socket.gethostname() == \"LAPTOP-CEKCHJ4C\":\n",
    "    PATH2MITCHELL = Path(\"/mnt/c/Users/fra_t/Documents/PhD/hsc\")\n",
    "else:\n",
    "    PATH2MITCHELL = Path(\"~\").expanduser()"
   ]
  },
  {
   "cell_type": "code",
   "execution_count": null,
   "id": "8973ca0b-f40d-4583-aa7e-658f71b98edf",
   "metadata": {},
   "outputs": [],
   "source": [
    "options = PlotOptions(figsize=(7, 6), extension=\"pdf\", save=SAVEFIG)\n",
    "# exclude donors for different reasons:\n",
    "# 1. exclude KX007 bc they have uploded twice the same donor\n",
    "# 2. exclude CB001 bc it maps to to the same timepoint as CB002 (same age 0)\n",
    "summary = mitchell.load_and_process_mitchell(\n",
    "    PATH2MITCHELL / \"Summary_cut.csv\", drop_donor_KX007=True\n",
    ")\n",
    "print(summary.shape)\n",
    "summary.drop(index=summary[summary.donor_id == \"CB001\"].index, inplace=True)\n",
    "print(summary.shape)\n",
    "ages = summary.age.unique().tolist()"
   ]
  },
  {
   "cell_type": "markdown",
   "id": "53e35139-66eb-4dfd-a454-d103966cf175",
   "metadata": {},
   "source": [
    "## Remove runs\n",
    "Remove all the runs that didn't finish running. This is required because we load runs in a numpy array with fixed size."
   ]
  },
  {
   "cell_type": "code",
   "execution_count": null,
   "id": "b9f38853-def6-4179-a252-0f8c9702e150",
   "metadata": {},
   "outputs": [],
   "source": [
    "path2sfs = Path(f\"{PATH2SIMS}/{SAMPLE}cells/sfs/\")\n",
    "timepoint1 = {file.stem for file in (path2sfs / \"0dot0years\").iterdir()}\n",
    "timepoint2 = {file.stem for file in (path2sfs / \"81dot0years\").iterdir()}\n",
    "files2remove = timepoint1.symmetric_difference(timepoint2)\n",
    "print(f\"{len(files2remove)} files to remove\")\n",
    "runs2remove = \" \".join(files2remove)"
   ]
  },
  {
   "cell_type": "code",
   "execution_count": null,
   "id": "80392028-8504-46e0-814f-8b2108c77298",
   "metadata": {
    "scrolled": true,
    "tags": []
   },
   "outputs": [],
   "source": [
    "%%bash -s \"$runs2remove\" \"$PATH2SIMS\"\n",
    "echo \"removing files\"\n",
    "for file in $1\n",
    "do\n",
    "    find $2 -name *$file* -exec rm {} \\;\n",
    "done"
   ]
  },
  {
   "cell_type": "code",
   "execution_count": null,
   "id": "bec5a430-9842-4185-ab22-950357b0197b",
   "metadata": {},
   "outputs": [],
   "source": [
    "path2sfs = Path(f\"{PATH2SIMS}/{SAMPLE}cells/sfs/\")\n",
    "timepoint1 = {file.stem for file in (path2sfs / \"0dot0years\").iterdir()}\n",
    "timepoint2 = {file.stem for file in (path2sfs / \"81dot0years\").iterdir()}\n",
    "files2remove = timepoint1.symmetric_difference(timepoint2)\n",
    "print(f\"{len(files2remove)} files to remove\")\n",
    "runs2remove = \" \".join(files2remove)"
   ]
  },
  {
   "cell_type": "markdown",
   "id": "2f136cd7-4116-4f68-a7f6-0f013177c3ae",
   "metadata": {},
   "source": [
    "## Load simualted data both SFS and variant fractions"
   ]
  },
  {
   "cell_type": "code",
   "execution_count": null,
   "id": "a260479b-1aa8-400e-9d26-80b5bae9534b",
   "metadata": {},
   "outputs": [],
   "source": [
    "%%time\n",
    "# load the sfs from sims by age, considering the age of the donors\n",
    "# in the Mitchell data `summary`\n",
    "path2sfs = Path(PATH2SIMS / f\"{SAMPLE}cells/sfs/\")\n",
    "ages_mitchell = sorted(summary.age.unique())\n",
    "ages_sims = sorted([parse_path2folder_xdoty_years(path) for path in path2sfs.iterdir()])\n",
    "assert ages_sims == ages_mitchell\n",
    "# load data\n",
    "sfs_sims = sfs.load_all_sfs_by_age(path2sfs)"
   ]
  },
  {
   "cell_type": "code",
   "execution_count": null,
   "id": "1626f4cb",
   "metadata": {},
   "outputs": [],
   "source": [
    "%%time\n",
    "counts = variant.load_all_detected_var_counts_by_age(\n",
    "    PATH2SIMS / f\"{SAMPLE}cells/variant_fraction\", 0.01\n",
    ")\n",
    "counts = variant.variant_counts_detected_df(counts)"
   ]
  },
  {
   "cell_type": "code",
   "execution_count": null,
   "id": "ac52f0b9",
   "metadata": {},
   "outputs": [],
   "source": [
    "fig, ax = plt.subplots(1, 1)\n",
    "sns.lineplot(\n",
    "    counts,\n",
    "    x=\"age\",\n",
    "    y=\"variant counts detected\",\n",
    "    errorbar=lambda x: (np.min(x), np.max(x)),\n",
    "    ax=ax,\n",
    ")\n",
    "sns.lineplot(\n",
    "    counts, x=\"age\", y=\"variant counts detected\", errorbar=\"sd\", ax=ax, color=\"orange\"\n",
    ")\n",
    "plt.show()"
   ]
  },
  {
   "cell_type": "code",
   "execution_count": null,
   "id": "40f3e0ce",
   "metadata": {},
   "outputs": [],
   "source": [
    "counts[[\"variant counts detected\", \"age\"]].groupby(\"age\").describe()"
   ]
  },
  {
   "cell_type": "markdown",
   "id": "559bd040-792b-401d-a86d-cdd00453fbb8",
   "metadata": {},
   "source": [
    "## Run ABC on the real data\n",
    "\n",
    "### Load the data\n",
    "We have excluded two donors from the ABC:\n",
    "1. exclude KX007 bc they have uploded twice the same donor\n",
    "3. exclude CB001 bc it maps to to the same timepoint as CB002 (same age 0)"
   ]
  },
  {
   "cell_type": "code",
   "execution_count": null,
   "id": "f775c641-05f0-4fca-a65c-598b8057c19a",
   "metadata": {},
   "outputs": [],
   "source": [
    "%%time\n",
    "names_mitchell = [\n",
    "    summary.loc[summary.age == age, [\"donor_id\", \"age\"]]\n",
    "    .drop_duplicates()\n",
    "    .donor_id.squeeze()\n",
    "    for age in ages_mitchell\n",
    "]\n",
    "target_sfs = {\n",
    "    age: mitchell.sfs_donor_mitchell(donor, PATH2MITCHELL, remove_indels=False)\n",
    "    for age, donor in zip(ages_mitchell, names_mitchell)\n",
    "}"
   ]
  },
  {
   "cell_type": "markdown",
   "id": "6be826ce",
   "metadata": {},
   "source": [
    "### Compute the summary statistics (wasserstein metric) and add the number of clones"
   ]
  },
  {
   "cell_type": "code",
   "execution_count": null,
   "id": "56387316",
   "metadata": {},
   "outputs": [],
   "source": [
    "%%time\n",
    "abc_mitchell = abc.sfs_summary_statistic_wasserstein(sfs_sims, target_sfs, \"mitchell\")\n",
    "abc_mitchell\n",
    "\n",
    "# add information about clones from Mitchell's fig 5a\n",
    "abc_mitchell = abc_mitchell.merge(\n",
    "    right=counts[[\"age\", \"idx\", \"variant counts detected\"]],\n",
    "    how=\"left\",\n",
    "    left_on=[\"idx\", \"timepoint\"],\n",
    "    right_on=[\"idx\", \"age\"],\n",
    "    validate=\"one_to_one\",\n",
    ")\n",
    "assert (\n",
    "    not abc_mitchell.isna().any().any()\n",
    "), \"cannot match the nb of clones data to the abc results\"\n",
    "abc_mitchell = pd.DataFrame.from_records(\n",
    "    [\n",
    "        {\"age\": 0.0, \"clones\": 0},\n",
    "        {\"age\": 29.0, \"clones\": 0},\n",
    "        {\"age\": 38.0, \"clones\": 1},\n",
    "        {\"age\": 48.0, \"clones\": 0},\n",
    "        {\"age\": 63.0, \"clones\": 1},\n",
    "        {\"age\": 76.0, \"clones\": 12},\n",
    "        {\"age\": 77.0, \"clones\": 15},\n",
    "        {\"age\": 81.0, \"clones\": 13},\n",
    "    ]\n",
    ").merge(right=abc_mitchell, how=\"right\", on=\"age\", validate=\"one_to_many\")\n",
    "abc_mitchell[\"clones diff\"] = (\n",
    "    abc_mitchell[\"clones\"] - abc_mitchell[\"variant counts detected\"]\n",
    ").abs()"
   ]
  },
  {
   "cell_type": "markdown",
   "id": "84707a4b",
   "metadata": {},
   "source": [
    "### Show priors"
   ]
  },
  {
   "cell_type": "code",
   "execution_count": null,
   "id": "f0477c7d-8841-4945-a080-16529cc40e53",
   "metadata": {
    "tags": []
   },
   "outputs": [],
   "source": [
    "if SHOW_PRIORS:\n",
    "    priors = abc_mitchell[[\"mu\", \"u\", \"s\", \"std\"]].drop_duplicates()\n",
    "\n",
    "    fig, ax = plt.subplots(1, 1, figsize=[7, 6])\n",
    "    ax = abc_fig.plot_prior(priors[\"s\"], ax=ax, binwidth=0.01)\n",
    "    plt.show()\n",
    "\n",
    "    fig, ax = plt.subplots(1, 1, figsize=[7, 6])\n",
    "    ax = abc_fig.plot_prior(priors[\"std\"], ax=ax, binwidth=0.001)\n",
    "    plt.show()\n",
    "\n",
    "    fig, ax = plt.subplots(1, 1, figsize=[7, 6])\n",
    "    ax = abc_fig.plot_prior(priors[\"mu\"], ax=ax, discrete=True)\n",
    "    plt.show()\n",
    "\n",
    "    fig, ax = plt.subplots(1, 1, figsize=[7, 6])\n",
    "    ax = abc_fig.plot_prior(priors[\"u\"], ax=ax)\n",
    "    plt.show()\n",
    "\n",
    "    fig, ax = plt.subplots(1, 1, figsize=[7, 6])\n",
    "    sns.histplot(abc_mitchell[\"wasserstein\"], binwidth=0.01, ax=ax)\n",
    "    plt.show()"
   ]
  },
  {
   "cell_type": "markdown",
   "id": "647598d9",
   "metadata": {},
   "source": [
    "### Run abc considering all timepoints at the same time"
   ]
  },
  {
   "cell_type": "code",
   "execution_count": null,
   "id": "b6f57556-9b3a-472c-a2b2-dd872d85e8be",
   "metadata": {
    "scrolled": false
   },
   "outputs": [],
   "source": [
    "assert abc_mitchell.timepoint.unique().shape[0] == len(ages_mitchell)\n",
    "quantile = 0.9\n",
    "prop2discard = 0.1  # the higher, the less precise and thus the more runs\n",
    "minimum_runs = len(ages_mitchell) - round(len(ages_mitchell) * prop2discard)\n",
    "print(f\"{minimum_runs} vs {len(ages_mitchell)}\")\n",
    "results_mitchell, g1, g2, g3 = abc_fig.run_abc_filtering_on_clones(\n",
    "    abc_mitchell, quantile, nb_clones_diff=4, minimum_runs=minimum_runs\n",
    ")\n",
    "if options.save:\n",
    "    g1.savefig(f\"posterior_mu_s.{options.extension}\")\n",
    "    g2.savefig(f\"posterior_mu_std.{options.extension}\")\n",
    "    g3.savefig(f\"posterior_s_std.{options.extension}\")"
   ]
  },
  {
   "cell_type": "code",
   "execution_count": null,
   "id": "65ca4250-9465-4804-b5f7-d432f551ae93",
   "metadata": {
    "scrolled": true
   },
   "outputs": [],
   "source": [
    "# k = 2\n",
    "# idx2show = choices(results_mitchell.get_idx(), k=k)\n",
    "verbose = False\n",
    "\n",
    "for t in sorted(abc_mitchell.timepoint.unique()):\n",
    "    if verbose:\n",
    "        title = f\"age: {t} years, quantile threshold: {abc_mitchell.loc[abc_mitchell.timepoint == t, 'wasserstein'].quantile(quantile):.2f}\"\n",
    "    else:\n",
    "        title = f\"age: {round(t)} years\"\n",
    "    idx2show = []\n",
    "\n",
    "    idx2show.append(\n",
    "        abc_fig.get_idx_smaller_distance_clones_from_results(\n",
    "            abc_mitchell[abc_mitchell.timepoint == t], results_mitchell\n",
    "        )\n",
    "    )\n",
    "\n",
    "    fig = sfs_fig.plot_sfs_cdf(\n",
    "        idx2show, target_sfs[t], sfs_sims[t], verbose=verbose, alpha=0.7\n",
    "    )\n",
    "    fig.suptitle(\n",
    "        title,\n",
    "        x=0.4,\n",
    "    )\n",
    "    if options.save:\n",
    "        fig.savefig(f\"sfs_{t}years.pdf\")\n",
    "    plt.show()"
   ]
  },
  {
   "cell_type": "code",
   "execution_count": null,
   "id": "ef6ca7b3-5520-4ce6-b8bd-860a3cc5c0db",
   "metadata": {
    "scrolled": true
   },
   "outputs": [],
   "source": [
    "fig, ax = plt.subplots(1, 1)\n",
    "sns.histplot(\n",
    "    data=results_mitchell.accepted.timepoint + 2,\n",
    "    discrete=True,\n",
    "    ax=ax,\n",
    "    stat=\"density\",\n",
    "    label=\"accepted filtered\",\n",
    ")\n",
    "sns.histplot(\n",
    "    data=results_mitchell.accepted_quantile.timepoint,\n",
    "    discrete=True,\n",
    "    stat=\"density\",\n",
    "    ax=ax,\n",
    "    label=\"accepted\",\n",
    ")\n",
    "ax.legend()\n",
    "plt.show()\n",
    "\n",
    "fig, ax = plt.subplots(1, 1)\n",
    "sns.lineplot(\n",
    "    x=\"age\",\n",
    "    y=\"wasserstein\",\n",
    "    data=abc_mitchell.loc[\n",
    "        abc_mitchell.idx.isin(results_mitchell.get_idx()),\n",
    "        [\"timepoint\", \"wasserstein\"],\n",
    "    ].rename({\"timepoint\": \"age\"}, axis=1),\n",
    "    errorbar=\"sd\",\n",
    "    label=\"accepted filtered\",\n",
    "    ax=ax,\n",
    ")\n",
    "\n",
    "sns.lineplot(\n",
    "    x=\"age\",\n",
    "    y=\"wasserstein\",\n",
    "    data=abc_mitchell.loc[\n",
    "        abc_mitchell.idx.isin(results_mitchell.accepted_quantile.idx.unique()),\n",
    "        [\"timepoint\", \"wasserstein\"],\n",
    "    ].rename({\"timepoint\": \"age\"}, axis=1),\n",
    "    errorbar=\"sd\",\n",
    "    label=\"accepted\",\n",
    "    ax=ax,\n",
    ")\n",
    "ax.set_ylim([abc_mitchell.wasserstein.min(), abc_mitchell.wasserstein.max()])\n",
    "plt.show()"
   ]
  },
  {
   "cell_type": "markdown",
   "id": "fccc4a18",
   "metadata": {},
   "source": [
    "## Run ABC on subsampled simulated data"
   ]
  },
  {
   "cell_type": "markdown",
   "id": "f31d4a79",
   "metadata": {},
   "source": [
    "### High fitness"
   ]
  },
  {
   "cell_type": "code",
   "execution_count": null,
   "id": "d2343627",
   "metadata": {
    "scrolled": false
   },
   "outputs": [],
   "source": [
    "%%time\n",
    "target_stem = \"7dot2964754mu0_0dot000018241096768178977u_0dot39135662mean_0dot045755856std_1b0_200000cells_14230idx\"\n",
    "target_sfs_simulated = {\n",
    "    t: sfs_.sfs\n",
    "    for t, sfs_donor in sfs_sims.items()\n",
    "    for sfs_ in sfs_donor\n",
    "    if sfs_.parameters.path.stem == target_stem\n",
    "}\n",
    "abc_simulated = abc.sfs_summary_statistic_wasserstein(\n",
    "    sfs_sims, target_sfs_simulated, target_stem\n",
    ")\n",
    "\n",
    "abc_simulated[\"target\"] = abc_simulated.path.map(lambda x: Path(x).stem) == target_stem\n",
    "\n",
    "abc_simulated = abc_simulated.merge(\n",
    "    right=counts[[\"age\", \"idx\", \"variant counts detected\"]],\n",
    "    how=\"left\",\n",
    "    left_on=[\"idx\", \"timepoint\"],\n",
    "    right_on=[\"idx\", \"age\"],\n",
    "    validate=\"one_to_one\",\n",
    ")\n",
    "\n",
    "abc_simulated = abc_simulated.merge(\n",
    "    right=abc_simulated.loc[\n",
    "        abc_simulated.target, [\"variant counts detected\", \"timepoint\"]\n",
    "    ].rename({\"variant counts detected\": \"clones\"}, axis=1),\n",
    "    how=\"left\",\n",
    "    on=\"timepoint\",\n",
    "    validate=\"many_to_one\",\n",
    ")\n",
    "\n",
    "abc_simulated[\"clones diff\"] = (\n",
    "    abc_simulated[\"clones\"] - abc_simulated[\"variant counts detected\"]\n",
    ").abs()\n",
    "\n",
    "abc_simulated"
   ]
  },
  {
   "cell_type": "code",
   "execution_count": null,
   "id": "130c3b65",
   "metadata": {
    "tags": []
   },
   "outputs": [],
   "source": [
    "if SHOW_PRIORS:\n",
    "    priors = abc_simulated[[\"mu\", \"u\", \"s\", \"std\"]].drop_duplicates()\n",
    "\n",
    "    fig, ax = plt.subplots(1, 1, figsize=[7, 6])\n",
    "    ax = abc_fig.plot_prior(priors[\"s\"], ax=ax, binwidth=0.01)\n",
    "    plt.show()\n",
    "\n",
    "    fig, ax = plt.subplots(1, 1, figsize=[7, 6])\n",
    "    ax = abc_fig.plot_prior(priors[\"std\"], ax=ax, binwidth=0.001)\n",
    "    plt.show()\n",
    "\n",
    "    fig, ax = plt.subplots(1, 1, figsize=[7, 6])\n",
    "    ax = abc_fig.plot_prior(priors[\"mu\"], ax=ax, discrete=True)\n",
    "    plt.show()\n",
    "\n",
    "    fig, ax = plt.subplots(1, 1, figsize=[7, 6])\n",
    "    ax = abc_fig.plot_prior(priors[\"u\"], ax=ax)\n",
    "    plt.show()\n",
    "\n",
    "    fig, ax = plt.subplots(1, 1, figsize=[7, 6])\n",
    "    sns.histplot(abc_simulated[\"wasserstein\"], binwidth=0.01, ax=ax)\n",
    "    plt.show()"
   ]
  },
  {
   "cell_type": "code",
   "execution_count": null,
   "id": "e0bd7682",
   "metadata": {
    "scrolled": false
   },
   "outputs": [],
   "source": [
    "quantile = 0.5\n",
    "prop2discard = 0.1  # the higher, the less precise and thus the more runs\n",
    "minimum_runs = len(ages_mitchell) - round(len(ages_mitchell) * prop2discard)\n",
    "print(f\"{minimum_runs} vs {len(ages_mitchell)}\")\n",
    "results, g1, g2, g3 = abc_fig.run_abc_filtering_on_clones(\n",
    "    abc_simulated, quantile, nb_clones_diff=2, minimum_runs=minimum_runs\n",
    ")\n",
    "mu_target, s_target, std_target = (\n",
    "    abc_simulated.loc[abc_simulated.target, \"mu\"].squeeze(),\n",
    "    abc_simulated.loc[abc_simulated.target, \"s\"].squeeze(),\n",
    "    abc_simulated.loc[abc_simulated.target, \"std\"].squeeze(),\n",
    ")\n",
    "g1.ax_joint.plot(mu_target, s_target, marker=\"x\", color=\"black\", mew=2)\n",
    "g2.ax_joint.plot(mu_target, std_target, marker=\"x\", color=\"black\", mew=2)\n",
    "g3.ax_joint.plot(s_target, std_target, marker=\"x\", color=\"black\", mew=2)\n",
    "\n",
    "plt.show()"
   ]
  },
  {
   "cell_type": "markdown",
   "id": "4357ca6d",
   "metadata": {},
   "source": [
    "### Low fitness"
   ]
  },
  {
   "cell_type": "code",
   "execution_count": null,
   "id": "3b35a1b5",
   "metadata": {
    "scrolled": false
   },
   "outputs": [],
   "source": [
    "%%time\n",
    "target_stem = \"3dot2131548mu0_0dot000008032846380956471u_0dot097829mean_0dot057576984std_1b0_200000cells_66310idx\"\n",
    "target_sfs_simulated = {\n",
    "    t: sfs_.sfs\n",
    "    for t, sfs_donor in sfs_sims.items()\n",
    "    for sfs_ in sfs_donor\n",
    "    if sfs_.parameters.path.stem == target_stem\n",
    "}\n",
    "abc_simulated = abc.sfs_summary_statistic_wasserstein(\n",
    "    sfs_sims, target_sfs_simulated, target_stem\n",
    ")\n",
    "\n",
    "abc_simulated[\"target\"] = abc_simulated.path.map(lambda x: Path(x).stem) == target_stem\n",
    "\n",
    "abc_simulated = abc_simulated.merge(\n",
    "    right=counts[[\"age\", \"idx\", \"variant counts detected\"]],\n",
    "    how=\"left\",\n",
    "    left_on=[\"idx\", \"timepoint\"],\n",
    "    right_on=[\"idx\", \"age\"],\n",
    "    validate=\"one_to_one\",\n",
    ")\n",
    "\n",
    "abc_simulated = abc_simulated.merge(\n",
    "    right=abc_simulated.loc[\n",
    "        abc_simulated.target, [\"variant counts detected\", \"timepoint\"]\n",
    "    ].rename({\"variant counts detected\": \"clones\"}, axis=1),\n",
    "    how=\"left\",\n",
    "    on=\"timepoint\",\n",
    "    validate=\"many_to_one\",\n",
    ")\n",
    "\n",
    "abc_simulated[\"clones diff\"] = (\n",
    "    abc_simulated[\"clones\"] - abc_simulated[\"variant counts detected\"]\n",
    ").abs()\n",
    "\n",
    "abc_simulated"
   ]
  },
  {
   "cell_type": "code",
   "execution_count": null,
   "id": "769f98ca",
   "metadata": {
    "tags": []
   },
   "outputs": [],
   "source": [
    "if SHOW_PRIORS:\n",
    "    priors = abc_simulated[[\"mu\", \"u\", \"s\", \"std\"]].drop_duplicates()\n",
    "\n",
    "    fig, ax = plt.subplots(1, 1, figsize=[7, 6])\n",
    "    ax = abc_fig.plot_prior(priors[\"s\"], ax=ax, binwidth=0.01)\n",
    "    plt.show()\n",
    "\n",
    "    fig, ax = plt.subplots(1, 1, figsize=[7, 6])\n",
    "    ax = abc_fig.plot_prior(priors[\"std\"], ax=ax, binwidth=0.001)\n",
    "    plt.show()\n",
    "\n",
    "    fig, ax = plt.subplots(1, 1, figsize=[7, 6])\n",
    "    ax = abc_fig.plot_prior(priors[\"mu\"], ax=ax, discrete=True)\n",
    "    plt.show()\n",
    "\n",
    "    fig, ax = plt.subplots(1, 1, figsize=[7, 6])\n",
    "    ax = abc_fig.plot_prior(priors[\"u\"], ax=ax)\n",
    "    plt.show()\n",
    "\n",
    "    fig, ax = plt.subplots(1, 1, figsize=[7, 6])\n",
    "    sns.histplot(abc_simulated[\"wasserstein\"], binwidth=0.01, ax=ax)\n",
    "    plt.show()"
   ]
  },
  {
   "cell_type": "code",
   "execution_count": null,
   "id": "b9938a1a",
   "metadata": {
    "scrolled": false
   },
   "outputs": [],
   "source": [
    "quantile = 0.9\n",
    "prop2discard = 0.1  # the higher, the less precise and thus the more runs\n",
    "minimum_runs = len(ages_mitchell) - round(len(ages_mitchell) * prop2discard)\n",
    "print(f\"{minimum_runs} vs {len(ages_mitchell)}\")\n",
    "results, g1, g2, g3 = abc_fig.run_abc_filtering_on_clones(\n",
    "    abc_simulated, quantile, nb_clones_diff=0, minimum_runs=minimum_runs\n",
    ")\n",
    "mu_target, s_target, std_target = (\n",
    "    abc_simulated.loc[abc_simulated.target, \"mu\"].squeeze(),\n",
    "    abc_simulated.loc[abc_simulated.target, \"s\"].squeeze(),\n",
    "    abc_simulated.loc[abc_simulated.target, \"std\"].squeeze(),\n",
    ")\n",
    "g1.ax_joint.plot(mu_target, s_target, marker=\"x\", color=\"black\", mew=2)\n",
    "g2.ax_joint.plot(mu_target, std_target, marker=\"x\", color=\"black\", mew=2)\n",
    "g3.ax_joint.plot(s_target, std_target, marker=\"x\", color=\"black\", mew=2)\n",
    "\n",
    "plt.show()"
   ]
  }
 ],
 "metadata": {
  "kernelspec": {
   "display_name": "hsc-draft",
   "language": "python",
   "name": "hsc-draft"
  },
  "language_info": {
   "codemirror_mode": {
    "name": "ipython",
    "version": 3
   },
   "file_extension": ".py",
   "mimetype": "text/x-python",
   "name": "python",
   "nbconvert_exporter": "python",
   "pygments_lexer": "ipython3",
   "version": "3.11.4"
  }
 },
 "nbformat": 4,
 "nbformat_minor": 5
}
