{
 "cells": [
  {
   "cell_type": "code",
   "execution_count": null,
   "id": "8b0ca6b9-0ad3-4c80-8b8e-82921c1f91c4",
   "metadata": {},
   "outputs": [],
   "source": [
    "%load_ext autoreload\n",
    "%autoreload 2"
   ]
  },
  {
   "cell_type": "code",
   "execution_count": null,
   "id": "8e1c9998-173c-4494-a6c8-4600ee4104be",
   "metadata": {},
   "outputs": [],
   "source": [
    "import random\n",
    "import numpy as np\n",
    "import socket\n",
    "import pandas as pd\n",
    "import seaborn as sns\n",
    "import matplotlib.pyplot as plt\n",
    "from scipy import stats\n",
    "from matplotlib import colors\n",
    "from datetime import datetime\n",
    "from pathlib import Path\n",
    "from random import choices\n",
    "from typing import Union, List\n",
    "from futils import parse_version, snapshot\n",
    "from hscpy.figures import PlotOptions\n",
    "from hscpy.figures import abc as abc_fig\n",
    "from hscpy.figures import sfs as sfs_fig\n",
    "from hscpy import realisation, mitchell, abc, parse_path2folder_xdoty_years, variant\n",
    "\n",
    "PATH2BIN = Path(\"~\").expanduser() / \"hsc/target/release\"\n",
    "assert PATH2BIN.is_dir()"
   ]
  },
  {
   "cell_type": "code",
   "execution_count": null,
   "id": "236ccb3a-881b-45a2-9d40-64f425a0eaf4",
   "metadata": {},
   "outputs": [],
   "source": [
    "%%bash -s \"$PATH2BIN\" --out version\n",
    "$1/hsc --version"
   ]
  },
  {
   "cell_type": "code",
   "execution_count": null,
   "id": "370b6c11-d170-4ffa-a999-13b67704a53b",
   "metadata": {},
   "outputs": [],
   "source": [
    "USE_SCRATCH = True\n",
    "SAMPLE = 368\n",
    "SAVEFIG = True\n",
    "SHOW_PRIORS = True\n",
    "LATEST = True\n",
    "\n",
    "# the higher, the less precise and thus the more runs\n",
    "QUANTILE, PROPORTION_RUNS_DISCARDED, NB_CLONES_DIFF = 0.85, 0.2, 3\n",
    "\n",
    "options = PlotOptions(figsize=(7, 6), extension=\"svg\", save=SAVEFIG)"
   ]
  },
  {
   "cell_type": "code",
   "execution_count": null,
   "id": "2813d27f-0a2f-4794-96e1-66536fe6df1c",
   "metadata": {},
   "outputs": [],
   "source": [
    "if LATEST:\n",
    "    VERSION = parse_version(version)\n",
    "else:\n",
    "    VERSION = \"v1.3.0\"\n",
    "PATH2SAVE = Path(f\"./{VERSION}\")\n",
    "\n",
    "print(\"Running hsc with version:\", VERSION)\n",
    "\n",
    "if USE_SCRATCH:\n",
    "    PATH2SIMS = Path(\"/data/scratch/\")\n",
    "else:\n",
    "    PATH2SIMS = Path(\"/data/home/\")\n",
    "PATH2SIMS /= f\"hfx923/hsc-draft/{VERSION}\"\n",
    "\n",
    "if socket.gethostname() == \"5X9ZYD3\":\n",
    "    PATH2MITCHELL = Path(\"/mnt/c/Users/terenz01/Documents/SwitchDrive/PhD/hsc\")\n",
    "elif socket.gethostname() == \"LAPTOP-CEKCHJ4C\":\n",
    "    PATH2MITCHELL = Path(\"/mnt/c/Users/fra_t/Documents/PhD/hsc\")\n",
    "else:\n",
    "    PATH2MITCHELL = Path(\"~\").expanduser()"
   ]
  },
  {
   "cell_type": "code",
   "execution_count": null,
   "id": "8973ca0b-f40d-4583-aa7e-658f71b98edf",
   "metadata": {},
   "outputs": [],
   "source": [
    "# exclude donors for different reasons:\n",
    "# 1. exclude KX007 bc they have uploded twice the same donor\n",
    "# 2. exclude CB001 bc it maps to to the same timepoint as CB002 (same age 0)\n",
    "summary = mitchell.load_and_process_mitchell(\n",
    "    PATH2MITCHELL / \"Summary_cut.csv\", drop_donor_KX007=True\n",
    ")\n",
    "print(summary.shape)\n",
    "summary.drop(index=summary[summary.donor_id == \"CB001\"].index, inplace=True)\n",
    "print(summary.shape)\n",
    "ages = summary.age.unique().tolist()"
   ]
  },
  {
   "cell_type": "markdown",
   "id": "53e35139-66eb-4dfd-a454-d103966cf175",
   "metadata": {},
   "source": [
    "## Remove runs\n",
    "Remove all the runs that didn't finish running. This is required because we load runs in a numpy array with fixed size."
   ]
  },
  {
   "cell_type": "code",
   "execution_count": null,
   "id": "b9f38853-def6-4179-a252-0f8c9702e150",
   "metadata": {},
   "outputs": [],
   "source": [
    "path2sfs = Path(f\"{PATH2SIMS}/{SAMPLE}cells/sfs/\")\n",
    "timepoint1 = {file.stem for file in (path2sfs / \"0dot0years\").iterdir()}\n",
    "timepoint2 = {file.stem for file in (path2sfs / \"81dot0years\").iterdir()}\n",
    "files2remove = timepoint1.symmetric_difference(timepoint2)\n",
    "print(f\"{len(files2remove)} files to remove\")\n",
    "runs2remove = \" \".join(files2remove)"
   ]
  },
  {
   "cell_type": "code",
   "execution_count": null,
   "id": "80392028-8504-46e0-814f-8b2108c77298",
   "metadata": {
    "scrolled": true,
    "tags": []
   },
   "outputs": [],
   "source": [
    "%%bash -s \"$runs2remove\" \"$PATH2SIMS\"\n",
    "echo \"removing files\"\n",
    "for file in $1\n",
    "do\n",
    "    find $2 -name *$file* -exec rm {} \\;\n",
    "done"
   ]
  },
  {
   "cell_type": "code",
   "execution_count": null,
   "id": "bec5a430-9842-4185-ab22-950357b0197b",
   "metadata": {},
   "outputs": [],
   "source": [
    "path2sfs = Path(f\"{PATH2SIMS}/{SAMPLE}cells/sfs/\")\n",
    "timepoint1 = {file.stem for file in (path2sfs / \"0dot0years\").iterdir()}\n",
    "timepoint2 = {file.stem for file in (path2sfs / \"81dot0years\").iterdir()}\n",
    "files2remove = timepoint1.symmetric_difference(timepoint2)\n",
    "print(f\"{len(files2remove)} files to remove\")\n",
    "runs2remove = \" \".join(files2remove)"
   ]
  },
  {
   "cell_type": "markdown",
   "id": "2f136cd7-4116-4f68-a7f6-0f013177c3ae",
   "metadata": {},
   "source": [
    "## Load simualted data both SFS and variant fractions"
   ]
  },
  {
   "cell_type": "code",
   "execution_count": null,
   "id": "a260479b-1aa8-400e-9d26-80b5bae9534b",
   "metadata": {},
   "outputs": [],
   "source": [
    "%%time\n",
    "# load the sfs from sims by age, considering the age of the donors\n",
    "# in the Mitchell data `summary`\n",
    "path2sfs = Path(PATH2SIMS / f\"{SAMPLE}cells/sfs/\")\n",
    "ages_mitchell = sorted(summary.age.unique())\n",
    "ages_sims = sorted([parse_path2folder_xdoty_years(path) for path in path2sfs.iterdir()])\n",
    "assert ages_sims == ages_mitchell\n",
    "# load data\n",
    "sfs_sims = realisation.load_all_sfs_by_age(path2sfs)"
   ]
  },
  {
   "cell_type": "code",
   "execution_count": null,
   "id": "1626f4cb",
   "metadata": {},
   "outputs": [],
   "source": [
    "%%time\n",
    "counts = variant.load_all_detected_var_counts_by_age(\n",
    "    PATH2SIMS / f\"{SAMPLE}cells/variant_fraction\", 0.01\n",
    ")\n",
    "counts = variant.variant_counts_detected_df(counts)"
   ]
  },
  {
   "cell_type": "code",
   "execution_count": null,
   "id": "ac52f0b9",
   "metadata": {},
   "outputs": [],
   "source": [
    "fig, ax = plt.subplots(1, 1)\n",
    "sns.lineplot(\n",
    "    counts,\n",
    "    x=\"age\",\n",
    "    y=\"variant counts detected\",\n",
    "    errorbar=lambda x: (np.min(x), np.max(x)),\n",
    "    ax=ax,\n",
    "    label=\"min-max\",\n",
    ")\n",
    "sns.lineplot(\n",
    "    counts,\n",
    "    x=\"age\",\n",
    "    y=\"variant counts detected\",\n",
    "    errorbar=\"sd\",\n",
    "    ax=ax,\n",
    "    color=\"orange\",\n",
    "    label=\"std\",\n",
    ")\n",
    "ax.legend()\n",
    "plt.show()"
   ]
  },
  {
   "cell_type": "code",
   "execution_count": null,
   "id": "40f3e0ce",
   "metadata": {},
   "outputs": [],
   "source": [
    "counts[[\"variant counts detected\", \"age\"]].groupby(\"age\").describe()"
   ]
  },
  {
   "cell_type": "markdown",
   "id": "559bd040-792b-401d-a86d-cdd00453fbb8",
   "metadata": {},
   "source": [
    "## Run ABC on the real data\n",
    "\n",
    "### Load the data\n",
    "We have excluded two donors from the ABC:\n",
    "1. exclude KX007 bc they have uploded twice the same donor\n",
    "3. exclude CB001 bc it maps to to the same timepoint as CB002 (same age 0)"
   ]
  },
  {
   "cell_type": "code",
   "execution_count": null,
   "id": "f775c641-05f0-4fca-a65c-598b8057c19a",
   "metadata": {},
   "outputs": [],
   "source": [
    "%%time\n",
    "names_mitchell = [\n",
    "    summary.loc[summary.age == age, [\"donor_id\", \"age\"]]\n",
    "    .drop_duplicates()\n",
    "    .donor_id.squeeze()\n",
    "    for age in ages_mitchell\n",
    "]\n",
    "target_sfs = {\n",
    "    age: mitchell.sfs_donor_mitchell(donor, PATH2MITCHELL, remove_indels=False)\n",
    "    for age, donor in zip(ages_mitchell, names_mitchell)\n",
    "}"
   ]
  },
  {
   "cell_type": "markdown",
   "id": "6be826ce",
   "metadata": {},
   "source": [
    "### Compute the summary statistics (wasserstein metric) and add the number of clones"
   ]
  },
  {
   "cell_type": "code",
   "execution_count": null,
   "id": "56387316",
   "metadata": {
    "scrolled": false
   },
   "outputs": [],
   "source": [
    "%%time\n",
    "abc_mitchell = abc.sfs_summary_statistic_wasserstein(sfs_sims, target_sfs, \"mitchell\")\n",
    "abc_mitchell\n",
    "\n",
    "# add information about clones from Mitchell's fig 5a\n",
    "abc_mitchell = abc_mitchell.merge(\n",
    "    right=counts[[\"age\", \"idx\", \"variant counts detected\"]],\n",
    "    how=\"left\",\n",
    "    left_on=[\"idx\", \"timepoint\"],\n",
    "    right_on=[\"idx\", \"age\"],\n",
    "    validate=\"one_to_one\",\n",
    ")\n",
    "assert (\n",
    "    not abc_mitchell.isna().any().any()\n",
    "), \"cannot match the nb of clones data to the abc results\"\n",
    "abc_mitchell = pd.DataFrame.from_records(\n",
    "    [\n",
    "        {\"age\": 0.0, \"clones\": 0},\n",
    "        {\"age\": 29.0, \"clones\": 0},\n",
    "        {\"age\": 38.0, \"clones\": 1},\n",
    "        {\"age\": 48.0, \"clones\": 0},\n",
    "        {\"age\": 63.0, \"clones\": 1},\n",
    "        {\"age\": 76.0, \"clones\": 12},\n",
    "        {\"age\": 77.0, \"clones\": 15},\n",
    "        {\"age\": 81.0, \"clones\": 13},\n",
    "    ]\n",
    ").merge(right=abc_mitchell, how=\"right\", on=\"age\", validate=\"one_to_many\")\n",
    "abc_mitchell[\"clones diff\"] = (\n",
    "    abc_mitchell[\"clones\"] - abc_mitchell[\"variant counts detected\"]\n",
    ").abs()"
   ]
  },
  {
   "cell_type": "markdown",
   "id": "84707a4b",
   "metadata": {},
   "source": [
    "### Show priors"
   ]
  },
  {
   "cell_type": "code",
   "execution_count": null,
   "id": "f0477c7d-8841-4945-a080-16529cc40e53",
   "metadata": {
    "scrolled": true,
    "tags": []
   },
   "outputs": [],
   "source": [
    "if SHOW_PRIORS:\n",
    "    priors = abc_mitchell[[\"mu\", \"u\", \"s\", \"std\"]].drop_duplicates()\n",
    "\n",
    "    fig, ax = plt.subplots(1, 1, figsize=[7, 6])\n",
    "    ax = abc_fig.plot_prior(priors[\"s\"], ax=ax, binwidth=0.01)\n",
    "    plt.show()\n",
    "\n",
    "    fig, ax = plt.subplots(1, 1, figsize=[7, 6])\n",
    "    ax = abc_fig.plot_prior(priors[\"std\"], ax=ax, binwidth=0.001)\n",
    "    plt.show()\n",
    "\n",
    "    fig, ax = plt.subplots(1, 1, figsize=[7, 6])\n",
    "    ax = abc_fig.plot_prior(priors[\"mu\"], ax=ax, discrete=False)\n",
    "    plt.show()\n",
    "\n",
    "    fig, ax = plt.subplots(1, 1, figsize=[7, 6])\n",
    "    ax = abc_fig.plot_prior(priors[\"u\"], ax=ax)\n",
    "    plt.show()\n",
    "\n",
    "    fig, ax = plt.subplots(1, 1, figsize=[7, 6])\n",
    "    sns.histplot(abc_mitchell[\"wasserstein\"], binwidth=0.01, ax=ax)\n",
    "    plt.show()"
   ]
  },
  {
   "cell_type": "markdown",
   "id": "647598d9",
   "metadata": {},
   "source": [
    "### Run abc considering all timepoints at the same time"
   ]
  },
  {
   "cell_type": "code",
   "execution_count": null,
   "id": "23e59133",
   "metadata": {},
   "outputs": [],
   "source": [
    "def find_map_by_cut(\n",
    "    view: pd.Series, bins: List[Union[float, int]]\n",
    ") -> Union[float, None]:\n",
    "    max_a_posteriori = pd.cut(view, bins=bins).mode()\n",
    "    if max_a_posteriori.shape[0] > 1:\n",
    "        print(\n",
    "            f\"cannot compute MAP because more than one mode have been found {max_a_posteriori}\"\n",
    "        )\n",
    "        return None\n",
    "    max_a_posteriori = max_a_posteriori.iloc[0]\n",
    "    return max_a_posteriori.mid"
   ]
  },
  {
   "cell_type": "code",
   "execution_count": null,
   "id": "c118f92b",
   "metadata": {
    "scrolled": false
   },
   "outputs": [],
   "source": [
    "results_mitchell, g1, g2, g3 = abc_fig.run_abc_filtering_on_clones(\n",
    "    abc_mitchell,\n",
    "    abc.AbcThresholds(\n",
    "        quantile=0.9,\n",
    "        proportion_runs_to_discard=PROPORTION_RUNS_DISCARDED,\n",
    "        nb_clones_diff=NB_CLONES_DIFF,\n",
    "    ),\n",
    ")\n",
    "view = abc_mitchell[abc_mitchell.idx.isin(results_mitchell.get_idx())]\n",
    "map_mu = find_map_by_cut(view.mu, range(0, 21))\n",
    "map_s = find_map_by_cut(view.s, np.arange(0, 0.45, 0.01).tolist())\n",
    "map_std = find_map_by_cut(view[\"std\"], np.arange(0, 0.15, 0.002).tolist())\n",
    "\n",
    "if map_mu:\n",
    "    g1.ax_joint.vlines(\n",
    "        map_mu,\n",
    "        view.s.min(),\n",
    "        view.s.max(),\n",
    "        color=\"yellowgreen\",\n",
    "        label=r\"MAP $\\mu=$\" + str(map_mu),\n",
    "    )\n",
    "    g2.ax_joint.vlines(\n",
    "        map_mu,\n",
    "        view[\"std\"].min(),\n",
    "        view[\"std\"].max(),\n",
    "        color=\"yellowgreen\",\n",
    "        label=r\"MAP $\\mu=$\" + str(map_mu),\n",
    "    )\n",
    "if map_s:\n",
    "    g1.ax_joint.hlines(\n",
    "        map_s,\n",
    "        view.mu.min(),\n",
    "        view.mu.max(),\n",
    "        color=\"yellowgreen\",\n",
    "        linestyle=\"--\",\n",
    "        label=r\"MAP $s=$\" + f\" {map_s:.2f}\",\n",
    "    )\n",
    "    g3.ax_joint.vlines(\n",
    "        map_s,\n",
    "        view[\"std\"].min(),\n",
    "        view[\"std\"].max(),\n",
    "        color=\"yellowgreen\",\n",
    "        label=r\"MAP $s=$\" + f\" {map_s:.2f}\",\n",
    "    )\n",
    "\n",
    "if map_std:\n",
    "    g2.ax_joint.hlines(\n",
    "        map_std,\n",
    "        view.mu.min(),\n",
    "        view.mu.max(),\n",
    "        color=\"yellowgreen\",\n",
    "        linestyle=\"--\",\n",
    "        label=r\"MAP $\\sigma=$\" + f\"{map_std:.2f}\",\n",
    "    )\n",
    "    g3.ax_joint.hlines(\n",
    "        map_std,\n",
    "        view.s.min(),\n",
    "        view.s.max(),\n",
    "        color=\"yellowgreen\",\n",
    "        linestyle=\"--\",\n",
    "        label=r\"MAP $\\sigma=$\" + f\"{map_std:.2f}\",\n",
    "    )\n",
    "\n",
    "result = stats.pearsonr(view.mu, view.s)\n",
    "\n",
    "sns.regplot(\n",
    "    data=view[[\"mu\", \"s\"]],\n",
    "    x=\"mu\",\n",
    "    y=\"s\",\n",
    "    label=f\"r={result.statistic:.2f}, p={result.pvalue:.2e}\",\n",
    "    scatter=False,\n",
    "    line_kws={\"color\": \"purple\", \"linewidth\": 1},\n",
    "    ax=g1.ax_joint,\n",
    ")\n",
    "g1.ax_joint.set_xlabel(r\"$\\mu$\")\n",
    "\n",
    "for g_ in {g1, g2, g3}:\n",
    "    g_.ax_joint.tick_params(\n",
    "        which=\"major\",\n",
    "        bottom=True,\n",
    "        top=False,\n",
    "        left=True,\n",
    "        right=False,\n",
    "        width=1.1,\n",
    "        length=5,\n",
    "        labelsize=14,\n",
    "    )\n",
    "    g_.ax_joint.tick_params(\n",
    "        which=\"minor\",\n",
    "        bottom=True,\n",
    "        top=False,\n",
    "        left=True,\n",
    "        right=False,\n",
    "        width=1.1,\n",
    "        length=3,\n",
    "        labelsize=14,\n",
    "    )\n",
    "    g_.ax_marg_x.tick_params(\n",
    "        which=\"major\",\n",
    "        bottom=True,\n",
    "        top=False,\n",
    "        left=True,\n",
    "        right=False,\n",
    "        width=1.1,\n",
    "        length=3,\n",
    "        labelsize=14,\n",
    "    )\n",
    "    g_.ax_marg_x.tick_params(\n",
    "        which=\"minor\",\n",
    "        bottom=True,\n",
    "        top=False,\n",
    "        left=True,\n",
    "        right=False,\n",
    "        width=1.1,\n",
    "        length=3,\n",
    "        labelsize=14,\n",
    "    )\n",
    "    g_.ax_marg_y.tick_params(\n",
    "        which=\"minor\",\n",
    "        bottom=True,\n",
    "        top=False,\n",
    "        left=True,\n",
    "        right=False,\n",
    "        width=1.1,\n",
    "        length=3,\n",
    "        labelsize=14,\n",
    "    )\n",
    "    g_.ax_marg_y.tick_params(\n",
    "        which=\"major\",\n",
    "        bottom=True,\n",
    "        top=False,\n",
    "        left=True,\n",
    "        right=False,\n",
    "        width=1.1,\n",
    "        length=3,\n",
    "        labelsize=14,\n",
    "    )\n",
    "    g_.ax_joint.legend(fontsize=14)\n",
    "\n",
    "if options.save:\n",
    "    g1.savefig(f\"posterior_mu_s.{options.extension}\")\n",
    "    g2.savefig(f\"posterior_mu_std.{options.extension}\")\n",
    "    g3.savefig(f\"posterior_s_std.{options.extension}\")\n",
    "\n",
    "verbose = False\n",
    "idx2show = dict()\n",
    "\n",
    "for t in sorted(abc_mitchell.timepoint.unique()):\n",
    "    if verbose:\n",
    "        title = f\"age: {t} years, quantile threshold: {abc_mitchell.loc[abc_mitchell.timepoint == t, 'wasserstein'].quantile(quantile):.2f}\"\n",
    "    else:\n",
    "        title = f\"age: {round(t)} years\"\n",
    "\n",
    "    idx2show[t] = abc_fig.get_idx_smaller_distance_clones_from_results(\n",
    "        abc_mitchell[abc_mitchell.timepoint == t], results_mitchell\n",
    "    )\n",
    "\n",
    "    fig = sfs_fig.plot_sfs_cdf(\n",
    "        [idx2show[t]], target_sfs[t], sfs_sims[t], t, verbose=verbose, alpha=0.7\n",
    "    )\n",
    "    \"\"\"fig.suptitle(\n",
    "        title,\n",
    "        x=0.4,\n",
    "    )\"\"\"\n",
    "    if options.save:\n",
    "        fig.savefig(f\"sfs_{t}years.{options.extension}\")\n",
    "    plt.show()"
   ]
  },
  {
   "cell_type": "code",
   "execution_count": null,
   "id": "bf77da09",
   "metadata": {},
   "outputs": [],
   "source": [
    "fig, ax = plt.subplots(1, 1)\n",
    "view = counts[counts.idx.isin(idx2show.values())]\n",
    "sns.lineplot(\n",
    "    view,\n",
    "    x=\"age\",\n",
    "    y=\"variant counts detected\",\n",
    "    errorbar=lambda x: (np.min(x), np.max(x)),\n",
    "    ax=ax,\n",
    "    label=\"min-max\",\n",
    ")\n",
    "sns.lineplot(\n",
    "    view,\n",
    "    x=\"age\",\n",
    "    y=\"variant counts detected\",\n",
    "    errorbar=\"sd\",\n",
    "    ax=ax,\n",
    "    color=\"orange\",\n",
    "    label=\"std\",\n",
    ")\n",
    "sns.scatterplot(\n",
    "    data=abc_mitchell[[\"age\", \"clones\"]].drop_duplicates(),\n",
    "    x=\"age\",\n",
    "    y=\"clones\",\n",
    "    marker=\"x\",\n",
    "    linewidths=2,\n",
    "    color=\"purple\",\n",
    "    label=\"Mitchell\",\n",
    ")\n",
    "ax.legend()\n",
    "plt.show()"
   ]
  },
  {
   "cell_type": "code",
   "execution_count": null,
   "id": "b7a19504",
   "metadata": {
    "scrolled": false
   },
   "outputs": [],
   "source": [
    "ts = list(idx2show.keys())\n",
    "mus, ss = (\n",
    "    [\n",
    "        abc_mitchell[(abc_mitchell.timepoint == t) & (abc_mitchell.idx == idx)].mu.iloc[\n",
    "            0\n",
    "        ]\n",
    "        for t, idx in idx2show.items()\n",
    "    ],\n",
    "    [\n",
    "        abc_mitchell[(abc_mitchell.timepoint == t) & (abc_mitchell.idx == idx)].s.iloc[\n",
    "            0\n",
    "        ]\n",
    "        for t, idx in idx2show.items()\n",
    "    ],\n",
    ")\n",
    "sns.histplot(mus, binwidth=0.5)\n",
    "plt.show()\n",
    "sns.histplot(ss, binwidth=0.005)\n",
    "plt.show()\n",
    "\n",
    "plt.plot(ts, mus, marker=\"x\", mew=2)\n",
    "plt.show()\n",
    "\n",
    "plt.plot(ts, ss, marker=\"x\", mew=2)\n",
    "plt.show()"
   ]
  },
  {
   "cell_type": "code",
   "execution_count": null,
   "id": "ef6ca7b3-5520-4ce6-b8bd-860a3cc5c0db",
   "metadata": {
    "scrolled": true
   },
   "outputs": [],
   "source": [
    "fig, ax = plt.subplots(1, 1)\n",
    "sns.histplot(\n",
    "    data=results_mitchell.accepted.timepoint + 2,\n",
    "    discrete=True,\n",
    "    ax=ax,\n",
    "    stat=\"density\",\n",
    "    label=\"accepted filtered\",\n",
    ")\n",
    "sns.histplot(\n",
    "    data=results_mitchell.accepted_quantile.timepoint,\n",
    "    discrete=True,\n",
    "    stat=\"density\",\n",
    "    ax=ax,\n",
    "    label=\"accepted\",\n",
    ")\n",
    "ax.legend()\n",
    "plt.show()\n",
    "\n",
    "fig, ax = plt.subplots(1, 1)\n",
    "sns.lineplot(\n",
    "    x=\"age\",\n",
    "    y=\"wasserstein\",\n",
    "    data=abc_mitchell.loc[\n",
    "        abc_mitchell.idx.isin(results_mitchell.get_idx()),\n",
    "        [\"timepoint\", \"wasserstein\"],\n",
    "    ].rename({\"timepoint\": \"age\"}, axis=1),\n",
    "    errorbar=\"sd\",\n",
    "    label=\"accepted filtered\",\n",
    "    ax=ax,\n",
    ")\n",
    "\n",
    "sns.lineplot(\n",
    "    x=\"age\",\n",
    "    y=\"wasserstein\",\n",
    "    data=abc_mitchell.loc[\n",
    "        abc_mitchell.idx.isin(results_mitchell.accepted_quantile.idx.unique()),\n",
    "        [\"timepoint\", \"wasserstein\"],\n",
    "    ].rename({\"timepoint\": \"age\"}, axis=1),\n",
    "    errorbar=\"sd\",\n",
    "    label=\"accepted\",\n",
    "    ax=ax,\n",
    ")\n",
    "ax.set_ylim([abc_mitchell.wasserstein.min(), abc_mitchell.wasserstein.max()])\n",
    "plt.show()"
   ]
  },
  {
   "cell_type": "markdown",
   "id": "fccc4a18",
   "metadata": {},
   "source": [
    "## Run ABC on subsampled simulated data"
   ]
  },
  {
   "cell_type": "markdown",
   "id": "09379b3a",
   "metadata": {},
   "source": [
    "### Low mu $\\mu = 1.097$"
   ]
  },
  {
   "cell_type": "code",
   "execution_count": null,
   "id": "f4f78cf1",
   "metadata": {},
   "outputs": [],
   "source": [
    "low_mu = (\n",
    "    abc_mitchell[(abc_mitchell.mu - 1.1).abs() < 0.01]\n",
    "    .drop_duplicates(subset={\"mu\", \"s\"})\n",
    "    .sort_values(by=[\"s\", \"mu\"])\n",
    ")\n",
    "idx_low_low = low_mu.iloc[1].idx\n",
    "idx_low_high = low_mu.iloc[-2].idx\n",
    "idx_low_medium = low_mu.iloc[int(low_mu.shape[0] / 2)].idx"
   ]
  },
  {
   "cell_type": "markdown",
   "id": "9fc7d11f",
   "metadata": {},
   "source": [
    "#### Low mu and low s, $\\mu=1.097$ and $s=0.017$"
   ]
  },
  {
   "cell_type": "code",
   "execution_count": null,
   "id": "a558d058",
   "metadata": {
    "scrolled": true
   },
   "outputs": [],
   "source": [
    "view = abc_mitchell[abc_mitchell.idx == idx_low_low]\n",
    "target_stem = view.path.iloc[0].stem\n",
    "view"
   ]
  },
  {
   "cell_type": "code",
   "execution_count": null,
   "id": "5eba8564",
   "metadata": {
    "scrolled": false
   },
   "outputs": [],
   "source": [
    "%%time\n",
    "_, g1, g2, g3 = abc_fig.abc_simulated_validation(\n",
    "    target_stem,\n",
    "    sfs_sims,\n",
    "    counts,\n",
    "    abc.AbcThresholds(quantile=0.4, proportion_runs_to_discard=0, nb_clones_diff=2),\n",
    "    show_priors=False,\n",
    ")\n",
    "plt.show()"
   ]
  },
  {
   "cell_type": "markdown",
   "id": "002e8f80",
   "metadata": {},
   "source": [
    "#### Low mu and medium s, $\\mu=1.096$ and $s=0.189$"
   ]
  },
  {
   "cell_type": "code",
   "execution_count": null,
   "id": "4f4111d0",
   "metadata": {
    "scrolled": true
   },
   "outputs": [],
   "source": [
    "view = abc_mitchell[abc_mitchell.idx == idx_low_medium]\n",
    "target_stem = view.path.iloc[0].stem\n",
    "view"
   ]
  },
  {
   "cell_type": "code",
   "execution_count": null,
   "id": "6684baac",
   "metadata": {
    "scrolled": false
   },
   "outputs": [],
   "source": [
    "%%time\n",
    "_, g1, g2, g3 = abc_fig.abc_simulated_validation(\n",
    "    target_stem,\n",
    "    sfs_sims,\n",
    "    counts,\n",
    "    abc.AbcThresholds(quantile=0.4, proportion_runs_to_discard=0, nb_clones_diff=2),\n",
    "    show_priors=False,\n",
    ")\n",
    "plt.show()"
   ]
  },
  {
   "cell_type": "markdown",
   "id": "19e4722e",
   "metadata": {},
   "source": [
    "#### Low mu and high s, $\\mu=1.102$ and $s=0.367$"
   ]
  },
  {
   "cell_type": "code",
   "execution_count": null,
   "id": "3fec96b8",
   "metadata": {},
   "outputs": [],
   "source": [
    "view = abc_mitchell[abc_mitchell.idx == idx_low_high]\n",
    "target_stem = view.path.iloc[0].stem\n",
    "view"
   ]
  },
  {
   "cell_type": "code",
   "execution_count": null,
   "id": "c7af0ca5",
   "metadata": {
    "scrolled": false
   },
   "outputs": [],
   "source": [
    "%%time\n",
    "_, g1, g2, g3 = abc_fig.abc_simulated_validation(\n",
    "    target_stem,\n",
    "    sfs_sims,\n",
    "    counts,\n",
    "    abc.AbcThresholds(quantile=0.4, proportion_runs_to_discard=0, nb_clones_diff=2),\n",
    "    show_priors=False,\n",
    ")\n",
    "plt.show()"
   ]
  },
  {
   "cell_type": "markdown",
   "id": "90eb31e8",
   "metadata": {},
   "source": [
    "### Medium mu $\\mu = 10$"
   ]
  },
  {
   "cell_type": "code",
   "execution_count": null,
   "id": "54c80b4a",
   "metadata": {},
   "outputs": [],
   "source": [
    "medium_mu = (\n",
    "    abc_mitchell[(abc_mitchell.mu - 10).abs() < 0.01]\n",
    "    .drop_duplicates(subset={\"mu\", \"s\"})\n",
    "    .sort_values(by=[\"s\", \"mu\"])\n",
    ")\n",
    "idx_medium_low = medium_mu.iloc[1].idx\n",
    "idx_medium_high = medium_mu.iloc[-2].idx\n",
    "idx_medium_medium = medium_mu.iloc[int(medium_mu.shape[0] / 2)].idx"
   ]
  },
  {
   "cell_type": "markdown",
   "id": "f31d4a79",
   "metadata": {},
   "source": [
    "#### Medium mu and low s, $\\mu=9.991$ and $s=0.027$"
   ]
  },
  {
   "cell_type": "code",
   "execution_count": null,
   "id": "e8661a84",
   "metadata": {
    "scrolled": true
   },
   "outputs": [],
   "source": [
    "view = abc_mitchell[abc_mitchell.idx == idx_medium_low]\n",
    "target_stem = view.path.iloc[0].stem\n",
    "view"
   ]
  },
  {
   "cell_type": "code",
   "execution_count": null,
   "id": "d2343627",
   "metadata": {
    "scrolled": true
   },
   "outputs": [],
   "source": [
    "%%time\n",
    "_, g1, g2, g3 = abc_fig.abc_simulated_validation(\n",
    "    target_stem,\n",
    "    sfs_sims,\n",
    "    counts,\n",
    "    abc.AbcThresholds(quantile=0.4, proportion_runs_to_discard=0, nb_clones_diff=2),\n",
    "    show_priors=False,\n",
    ")\n",
    "plt.show()"
   ]
  },
  {
   "cell_type": "markdown",
   "id": "79324433",
   "metadata": {},
   "source": [
    "#### Medium mu and medium s, $\\mu=10.004$ and $s=0.193$"
   ]
  },
  {
   "cell_type": "code",
   "execution_count": null,
   "id": "8580dcee",
   "metadata": {
    "scrolled": true
   },
   "outputs": [],
   "source": [
    "view = abc_mitchell[abc_mitchell.idx == idx_medium_medium]\n",
    "target_stem = view.path.iloc[0].stem\n",
    "view"
   ]
  },
  {
   "cell_type": "code",
   "execution_count": null,
   "id": "1fbee1d6",
   "metadata": {
    "scrolled": true
   },
   "outputs": [],
   "source": [
    "%%time\n",
    "_, g1, g2, g3 = abc_fig.abc_simulated_validation(\n",
    "    target_stem,\n",
    "    sfs_sims,\n",
    "    counts,\n",
    "    abc.AbcThresholds(quantile=0.4, proportion_runs_to_discard=0, nb_clones_diff=2),\n",
    "    show_priors=False,\n",
    ")\n",
    "plt.show()"
   ]
  },
  {
   "cell_type": "markdown",
   "id": "a86f9030",
   "metadata": {},
   "source": [
    "### High mu $\\mu=19.091$"
   ]
  },
  {
   "cell_type": "code",
   "execution_count": null,
   "id": "ac774652",
   "metadata": {},
   "outputs": [],
   "source": [
    "high_mu = (\n",
    "    abc_mitchell[(abc_mitchell.mu - 19.1).abs() < 0.01]\n",
    "    .drop_duplicates(subset={\"mu\", \"s\"})\n",
    "    .sort_values(by=[\"s\", \"mu\"])\n",
    ")\n",
    "idx_high_low = high_mu.iloc[1].idx\n",
    "idx_high_high = high_mu.iloc[-2].idx\n",
    "idx_high_medium = high_mu.iloc[int(high_mu.shape[0] / 2)].idx"
   ]
  },
  {
   "cell_type": "markdown",
   "id": "0c2a858c",
   "metadata": {},
   "source": [
    "#### High mu and low s, $\\mu=19.091$ and $s=0.022$"
   ]
  },
  {
   "cell_type": "code",
   "execution_count": null,
   "id": "33d00e9b",
   "metadata": {},
   "outputs": [],
   "source": [
    "view = abc_mitchell[abc_mitchell.idx == idx_high_low]\n",
    "target_stem = view.path.iloc[0].stem\n",
    "view"
   ]
  },
  {
   "cell_type": "code",
   "execution_count": null,
   "id": "fc77a1e1",
   "metadata": {
    "scrolled": false
   },
   "outputs": [],
   "source": [
    "%%time\n",
    "_, g1, g2, g3 = abc_fig.abc_simulated_validation(\n",
    "    target_stem,\n",
    "    sfs_sims,\n",
    "    counts,\n",
    "    abc.AbcThresholds(quantile=0.4, proportion_runs_to_discard=0, nb_clones_diff=2),\n",
    "    show_priors=False,\n",
    ")\n",
    "plt.show()"
   ]
  },
  {
   "cell_type": "markdown",
   "id": "014d3e19",
   "metadata": {},
   "source": [
    "#### High mu and medium s, $\\mu=19.105$ and $s=0.234$"
   ]
  },
  {
   "cell_type": "code",
   "execution_count": null,
   "id": "12d871be",
   "metadata": {},
   "outputs": [],
   "source": [
    "view = abc_mitchell[abc_mitchell.idx == idx_high_medium]\n",
    "target_stem = view.path.iloc[0].stem\n",
    "view"
   ]
  },
  {
   "cell_type": "code",
   "execution_count": null,
   "id": "873d3de3",
   "metadata": {},
   "outputs": [],
   "source": [
    "%%time\n",
    "_, g1, g2, g3 = abc_fig.abc_simulated_validation(\n",
    "    target_stem,\n",
    "    sfs_sims,\n",
    "    counts,\n",
    "    abc.AbcThresholds(quantile=0.4, proportion_runs_to_discard=0, nb_clones_diff=2),\n",
    "    show_priors=False,\n",
    ")\n",
    "plt.show()"
   ]
  },
  {
   "cell_type": "markdown",
   "id": "3de7d703",
   "metadata": {},
   "source": [
    "#### HIgh mu and high s, $\\mu=19.095$ and $s=0.390$"
   ]
  },
  {
   "cell_type": "code",
   "execution_count": null,
   "id": "b554e832",
   "metadata": {},
   "outputs": [],
   "source": [
    "view = abc_mitchell[abc_mitchell.idx == idx_high_high]\n",
    "target_stem = view.path.iloc[0].stem\n",
    "view"
   ]
  },
  {
   "cell_type": "code",
   "execution_count": null,
   "id": "10c5ab26",
   "metadata": {},
   "outputs": [],
   "source": [
    "%%time\n",
    "_, g1, g2, g3 = abc_fig.abc_simulated_validation(\n",
    "    target_stem,\n",
    "    sfs_sims,\n",
    "    counts,\n",
    "    abc.AbcThresholds(quantile=0.4, proportion_runs_to_discard=0, nb_clones_diff=2),\n",
    "    show_priors=False,\n",
    ")\n",
    "plt.show()"
   ]
  }
 ],
 "metadata": {
  "kernelspec": {
   "display_name": "hsc-draft",
   "language": "python",
   "name": "hsc-draft"
  },
  "language_info": {
   "codemirror_mode": {
    "name": "ipython",
    "version": 3
   },
   "file_extension": ".py",
   "mimetype": "text/x-python",
   "name": "python",
   "nbconvert_exporter": "python",
   "pygments_lexer": "ipython3",
   "version": "3.11.4"
  }
 },
 "nbformat": 4,
 "nbformat_minor": 5
}
