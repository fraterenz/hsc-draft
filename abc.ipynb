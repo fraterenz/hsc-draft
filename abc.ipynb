{
 "cells": [
  {
   "cell_type": "code",
   "execution_count": null,
   "id": "8e1c9998-173c-4494-a6c8-4600ee4104be",
   "metadata": {},
   "outputs": [],
   "source": [
    "import random\n",
    "import numpy as np\n",
    "import socket\n",
    "import pandas as pd\n",
    "import seaborn as sns\n",
    "import matplotlib.pyplot as plt \n",
    "from scipy import stats\n",
    "from matplotlib import colors\n",
    "from datetime import datetime\n",
    "from pathlib import Path\n",
    "from futils import parse_version, snapshot\n",
    "from hscpy.figures import simulations, mitchell, PlotOptions\n",
    "from hscpy.figures import abc as abc_fig\n",
    "from hscpy import abc, sfs\n",
    "\n",
    "PATH2BIN = Path(\"~\").expanduser() / \"hsc/target/release\"\n",
    "assert PATH2BIN.is_dir()"
   ]
  },
  {
   "cell_type": "code",
   "execution_count": null,
   "id": "236ccb3a-881b-45a2-9d40-64f425a0eaf4",
   "metadata": {},
   "outputs": [],
   "source": [
    "%%bash -s \"$PATH2BIN\" --out version\n",
    "$1/hsc --version"
   ]
  },
  {
   "cell_type": "code",
   "execution_count": null,
   "id": "370b6c11-d170-4ffa-a999-13b67704a53b",
   "metadata": {},
   "outputs": [],
   "source": [
    "YEARS = 100\n",
    "YEARS_ENTROPY = 1\n",
    "RUNS = 2737\n",
    "NB_TIMEPOINTS = 20\n",
    "DETECTION_THRESH = 0.01\n",
    "SUBCLONES = 60\n",
    "USE_SCRATCH = True\n",
    "\n",
    "NCELLS = 200_000\n",
    "SAMPLE = 368\n",
    "\n",
    "MU_BACKGROUND = 15.5\n",
    "S = 0.11\n",
    "\n",
    "SHOW_PRIORS = True"
   ]
  },
  {
   "cell_type": "code",
   "execution_count": null,
   "id": "2813d27f-0a2f-4794-96e1-66536fe6df1c",
   "metadata": {},
   "outputs": [],
   "source": [
    "VERSION = parse_version(version)\n",
    "PATH2SAVE = Path(f\"./{VERSION}\")\n",
    "\n",
    "print(\"Running hsc with version:\", VERSION)\n",
    "\n",
    "if USE_SCRATCH:\n",
    "    PATH2SIMS = Path(\"/data/scratch/\")\n",
    "else:\n",
    "    PATH2SIMS = Path(\"/data/home/\")\n",
    "PATH2SIMS /= f\"hfx923/hsc-draft/{VERSION}\"\n",
    "\n",
    "if socket.gethostname() == \"5X9ZYD3\":\n",
    "    PATH2MITCHELL = Path(\"/mnt/c/Users/terenz01/Documents/SwitchDrive/PhD/hsc\")\n",
    "elif socket.gethostname() == \"LAPTOP-CEKCHJ4C\":\n",
    "    PATH2MITCHELL = Path(\"/mnt/c/Users/fra_t/Documents/PhD/hsc\")\n",
    "else:\n",
    "    PATH2MITCHELL = Path(\"~\").expanduser()"
   ]
  },
  {
   "cell_type": "code",
   "execution_count": null,
   "id": "8973ca0b-f40d-4583-aa7e-658f71b98edf",
   "metadata": {},
   "outputs": [],
   "source": [
    "sim_options_abc = simulations.SimulationOptions(\n",
    "    runs=RUNS,\n",
    "    cells=NCELLS,\n",
    "    sample=SAMPLE,\n",
    "    path2save=PATH2SIMS,\n",
    "    neutral_rate=MU_BACKGROUND,\n",
    "    nb_timepoints=NB_TIMEPOINTS,\n",
    "    last_timepoint_years=YEARS,\n",
    "    nb_subclones=SUBCLONES,\n",
    "    s=S,\n",
    ")\n",
    "options = PlotOptions(figsize=(7, 6), extension=\"pdf\", save=False)\n",
    "summary = mitchell.load_and_process_mitchell(PATH2MITCHELL / \"Summary_cut.csv\")\n",
    "donors = simulations.donors_from_mitchell(summary, sim_options_abc)\n",
    "donors = [donor for donor in donors if donor.name != \"KX007\"]  # they have uploded twice the same donor"
   ]
  },
  {
   "cell_type": "markdown",
   "id": "53e35139-66eb-4dfd-a454-d103966cf175",
   "metadata": {},
   "source": [
    "## Remove runs\n",
    "Remove all the runs that didn't finish running. This is required because we load runs in a numpy array with fixed size."
   ]
  },
  {
   "cell_type": "code",
   "execution_count": null,
   "id": "b9f38853-def6-4179-a252-0f8c9702e150",
   "metadata": {},
   "outputs": [],
   "source": [
    "path2burden = Path(f\"{sim_options_abc.path2save}/{sim_options_abc.sample}cells/sfs/\")\n",
    "timepoint1 = {file.stem for file in (path2burden / \"1\").iterdir()}\n",
    "timepoint2 =  {file.stem for file in (path2burden / \"20\").iterdir()}\n",
    "files2remove = timepoint1.symmetric_difference(timepoint2)\n",
    "print(f\"{len(files2remove)} files to remove\")\n",
    "runs2remove = \" \".join(files2remove)"
   ]
  },
  {
   "cell_type": "code",
   "execution_count": null,
   "id": "80392028-8504-46e0-814f-8b2108c77298",
   "metadata": {
    "scrolled": true,
    "tags": []
   },
   "outputs": [],
   "source": [
    "%%bash -s \"$runs2remove\" \"$sim_options_abc.path2save\"\n",
    "echo \"removing files\"\n",
    "for file in $1\n",
    "do\n",
    "    find $2 -name *$file* -exec rm {} \\;\n",
    "done"
   ]
  },
  {
   "cell_type": "code",
   "execution_count": null,
   "id": "bec5a430-9842-4185-ab22-950357b0197b",
   "metadata": {},
   "outputs": [],
   "source": [
    "path2burden = Path(f\"{sim_options_abc.path2save}/{sim_options_abc.sample}cells/burden/\")\n",
    "timepoint1 = {file.stem for file in (path2burden / \"1\").iterdir()}\n",
    "timepoint2 =  {file.stem for file in (path2burden / \"20\").iterdir()}\n",
    "files2remove = timepoint1.symmetric_difference(timepoint2)\n",
    "print(f\"{len(files2remove)} files to remove\")"
   ]
  },
  {
   "cell_type": "markdown",
   "id": "2f136cd7-4116-4f68-a7f6-0f013177c3ae",
   "metadata": {},
   "source": [
    "## Load simualted SFS"
   ]
  },
  {
   "cell_type": "code",
   "execution_count": null,
   "id": "a260479b-1aa8-400e-9d26-80b5bae9534b",
   "metadata": {},
   "outputs": [],
   "source": [
    "%%time\n",
    "sfs_sims = sfs.load_sfs_timepoints(\n",
    "    sim_options_abc.path2save, \n",
    "    sim_options_abc.nb_timepoints, \n",
    "    sim_options_abc.sample, \n",
    "    sim_options_abc.runs\n",
    ")"
   ]
  },
  {
   "cell_type": "markdown",
   "id": "3eb3d2c4-d13e-4ff8-a3a8-1b00fcf81fb3",
   "metadata": {},
   "source": [
    "## Run ABC on subsampled simulated data"
   ]
  },
  {
   "cell_type": "code",
   "execution_count": null,
   "id": "a40f7acc-9d59-48ac-a283-74d49aafa6fb",
   "metadata": {},
   "outputs": [],
   "source": [
    "# summarise\n",
    "donor_idx = \"7mu0_0dot000017499913155916147u_0dot11840355mean_0dot05043838std_1b0_200000cells_21430idx\"\n",
    "target_sfs = {t: sfs_donor[donor_idx] for t, sfs_donor in sfs_sims.items()}\n",
    "abc_results = abc.sfs_summary_statistic_wasserstein(sfs_sims, target_sfs, donor_idx)\n",
    "abc_results"
   ]
  },
  {
   "cell_type": "code",
   "execution_count": null,
   "id": "cd2629e7-9811-49ce-9416-b39fa6c4539e",
   "metadata": {
    "tags": []
   },
   "outputs": [],
   "source": [
    "# show priors\n",
    "priors = abc_results[[\"mu\", \"u\", \"s\", \"std\"]].drop_duplicates()\n",
    "\n",
    "if SHOW_PRIORS:\n",
    "    fig, ax = plt.subplots(1, 1, figsize=[7, 6])\n",
    "    ax = abc_fig.plot_prior(priors[\"s\"], ax=ax, binwidth=0.01)\n",
    "    plt.show()\n",
    "\n",
    "    fig, ax = plt.subplots(1, 1, figsize=[7, 6])\n",
    "    ax = abc_fig.plot_prior(priors[\"std\"], ax=ax, binwidth=0.001)\n",
    "    plt.show()\n",
    "\n",
    "    fig, ax = plt.subplots(1, 1, figsize=[7, 6])\n",
    "    ax = abc_fig.plot_prior(priors[\"mu\"], ax=ax, discrete=True)\n",
    "    plt.show()\n",
    "\n",
    "    fig, ax = plt.subplots(1, 1, figsize=[7, 6])\n",
    "    ax = abc_fig.plot_prior(priors[\"u\"], ax=ax)\n",
    "    plt.show()\n",
    "\n",
    "    fig, ax = plt.subplots(1, 1, figsize=[7, 6])\n",
    "    sns.histplot(abc_results[\"wasserstein\"], binwidth=0.01, ax=ax)\n",
    "    plt.show()"
   ]
  },
  {
   "cell_type": "code",
   "execution_count": null,
   "id": "6ea93eb2-372d-44c6-8eb3-c084fbd074d4",
   "metadata": {},
   "outputs": [],
   "source": [
    "# run abc to filter runs TODO\n",
    "quantile = 0.24\n",
    "minimum_runs = 16\n",
    "runs2keep = abc.run_abc(abc_results, quantile, minimum_runs)"
   ]
  },
  {
   "cell_type": "code",
   "execution_count": null,
   "id": "ab881c02-9267-4a67-be9e-8a5025d64850",
   "metadata": {
    "scrolled": true,
    "tags": []
   },
   "outputs": [],
   "source": [
    "for t in abc_results.timepoint.unique():\n",
    "    print(t)\n",
    "    # plot SFS\n",
    "    fig, ax = plt.subplots(1, 1)\n",
    "    idx_target = abc_results.loc[abc_results.filename == donor_idx, \"idx\"].unique()[0]\n",
    "    target = sfs.process_sfs(sfs_sims[t][donor_idx], normalise=True, log_transform=True)\n",
    "    ax.plot(list(target.keys()), list(target.values()), marker=\"x\", linestyle=\"\", color=\"b\", label=f\"target {idx_target}\", mew=2)\n",
    "    # ax = sfs_fig.plot_sfs_sim_with_id(ax, target, normalise=True, options=options, linestyle=\"\", marker=\"x\", mew=2, label=f\"target {idx_target}\", color=\"b\")\n",
    "    for s_id in runs2keep:\n",
    "        filename_sim = abc_results.loc[abc_results.idx == s_id, \"filename\"].unique()[0]\n",
    "        sim = sfs.process_sfs(sfs_sims[t][filename_sim], normalise=True, log_transform=True)\n",
    "        ax.plot(list(sim.keys()), list(sim.values()), marker=\"o\", linestyle=\"\", alpha=0.4, label=f\"sim {s_id}\")\n",
    "        # ax.set_xscale(\"log\")\n",
    "        # ax.set_yscale(\"log\")\n",
    "    ax.legend()\n",
    "    plt.show()\n",
    "sns.heatmap(abc_results.loc[(abc_results.idx.isin(runs2keep)) & (abc_results.timepoint == t), [\"s\", \"mu\", \"wasserstein\"]].drop_duplicates().pivot(index='s', columns='mu', values='wasserstein'))\n",
    "plt.show()\n",
    "sns.heatmap(abc_results.loc[(abc_results.idx.isin(runs2keep)) & (abc_results.timepoint == t), [\"s\", \"std\", \"wasserstein\"]].drop_duplicates().pivot(index='s', columns='std', values='wasserstein'))\n",
    "plt.show()"
   ]
  },
  {
   "cell_type": "code",
   "execution_count": null,
   "id": "036cb5f4-8d1d-4968-8f44-2a801ae733c6",
   "metadata": {},
   "outputs": [],
   "source": [
    "selected = abc_results.loc[abc_results.idx.isin(runs2keep), [\"mu\", \"s\", \"std\"]].drop_duplicates()\n",
    "\n",
    "abc_fig.plot_results(\n",
    "    selected, [\"mu\", \"s\"], [0, abc_fig.lims(priors, \"mu\")[1]], \n",
    "    [0, abc_fig.lims(priors, \"s\")[1]], \n",
    "    {\"discrete\": True}, {\"binwidth\": 0.01}\n",
    ")\n",
    "abc_fig.plot_results(\n",
    "    selected, [\"mu\", \"std\"],\n",
    "    [0, abc_fig.lims(priors, \"mu\")[1]], \n",
    "    [0, abc_fig.lims(priors, \"std\")[1]], \n",
    "    {\"discrete\": True}, {\"binwidth\": 0.005}\n",
    ")\n",
    "abc_fig.plot_results(\n",
    "    selected, [\"s\", \"std\"],  \n",
    "    [0, abc_fig.lims(priors, \"s\")[1]],\n",
    "    [0, abc_fig.lims(priors, \"std\")[1]], \n",
    "    {\"binwidth\": 0.01}, {\"binwidth\": 0.005}\n",
    ")"
   ]
  },
  {
   "cell_type": "markdown",
   "id": "559bd040-792b-401d-a86d-cdd00453fbb8",
   "metadata": {},
   "source": [
    "## Run ABC on the real data"
   ]
  },
  {
   "cell_type": "code",
   "execution_count": null,
   "id": "f775c641-05f0-4fca-a65c-598b8057c19a",
   "metadata": {},
   "outputs": [],
   "source": [
    "%%time\n",
    "# summarise\n",
    "# skip the first donor for now since we have another donor with age 0\n",
    "target_sfs = {donor.id_timepoint: mitchell.sfs_donor_mitchell(donor.name, PATH2SIMS, remove_indels=False) for donor in donors[1:]}\n",
    "abc_results = abc.sfs_summary_statistic_wasserstein({t: sfs for t, sfs in sfs_sims.items() if t in set(target_sfs.keys())}, target_sfs, \"mitchell\")\n",
    "abc_results"
   ]
  },
  {
   "cell_type": "code",
   "execution_count": null,
   "id": "f0477c7d-8841-4945-a080-16529cc40e53",
   "metadata": {
    "tags": []
   },
   "outputs": [],
   "source": [
    "priors = abc_results[[\"mu\", \"u\", \"s\", \"std\"]].drop_duplicates()\n",
    "\n",
    "if SHOW_PRIORS:\n",
    "    fig, ax = plt.subplots(1, 1, figsize=[7, 6])\n",
    "    ax = abc_fig.plot_prior(priors[\"s\"], ax=ax, binwidth=0.01)\n",
    "    plt.show()\n",
    "\n",
    "    fig, ax = plt.subplots(1, 1, figsize=[7, 6])\n",
    "    ax = abc_fig.plot_prior(priors[\"std\"], ax=ax, binwidth=0.001)\n",
    "    plt.show()\n",
    "\n",
    "    fig, ax = plt.subplots(1, 1, figsize=[7, 6])\n",
    "    ax = abc_fig.plot_prior(priors[\"mu\"], ax=ax, discrete=True)\n",
    "    plt.show()\n",
    "\n",
    "    fig, ax = plt.subplots(1, 1, figsize=[7, 6])\n",
    "    ax = abc_fig.plot_prior(priors[\"u\"], ax=ax)\n",
    "    plt.show()\n",
    "\n",
    "    fig, ax = plt.subplots(1, 1, figsize=[7, 6])\n",
    "    sns.histplot(abc_results[\"wasserstein\"], binwidth=0.01, ax=ax)\n",
    "    plt.show()"
   ]
  },
  {
   "cell_type": "code",
   "execution_count": null,
   "id": "d48c90d0-90ee-49e6-b07e-afad7cb8d57f",
   "metadata": {},
   "outputs": [],
   "source": [
    "# run abc\n",
    "quantile = 0.2\n",
    "minimum_runs = 6\n",
    "runs2keep = abc.run_abc(abc_results, quantile, minimum_runs)"
   ]
  },
  {
   "cell_type": "code",
   "execution_count": null,
   "id": "9f90a06a-4d3f-4ea8-9389-4bad858dcff1",
   "metadata": {},
   "outputs": [],
   "source": [
    "selected = abc_results.loc[abc_results.idx.isin(runs2keep), [\"mu\", \"s\", \"std\"]].drop_duplicates()\n",
    "\n",
    "abc_fig.plot_results(\n",
    "    selected, [\"mu\", \"s\"], [0, abc_fig.lims(priors, \"mu\")[1]], \n",
    "    [0, abc_fig.lims(priors, \"s\")[1]], \n",
    "    {\"discrete\": True}, {\"binwidth\": 0.01}\n",
    ")\n",
    "abc_fig.plot_results(\n",
    "    selected, [\"mu\", \"std\"],\n",
    "    [0, abc_fig.lims(priors, \"mu\")[1]], \n",
    "    [0, abc_fig.lims(priors, \"std\")[1]], \n",
    "    {\"discrete\": True}, {\"binwidth\": 0.005}\n",
    ")\n",
    "abc_fig.plot_results(\n",
    "    selected, [\"s\", \"std\"],  \n",
    "    [0, abc_fig.lims(priors, \"s\")[1]],\n",
    "    [0, abc_fig.lims(priors, \"std\")[1]], \n",
    "    {\"binwidth\": 0.01}, {\"binwidth\": 0.005}\n",
    ")"
   ]
  },
  {
   "cell_type": "markdown",
   "id": "682d9286-3c2d-4ab1-875c-ef26267226bc",
   "metadata": {},
   "source": [
    "## Show metric over time"
   ]
  },
  {
   "cell_type": "code",
   "execution_count": null,
   "id": "fbdf11e8-df20-4750-acb9-f93755930699",
   "metadata": {},
   "outputs": [],
   "source": [
    "raise NotImplementedError"
   ]
  },
  {
   "cell_type": "code",
   "execution_count": null,
   "id": "78024ff7-8b58-4280-ac13-9b9031e10137",
   "metadata": {},
   "outputs": [],
   "source": [
    "show_fitness_distributions = False\n",
    "                 \n",
    "for _ in range(9):\n",
    "    id1, id2 = random.choices(list(sfs_sims[20].keys()), k=2)\n",
    "    my_stats = abc.heatmap_wasserstein(\n",
    "        sfs_sims,\n",
    "        id1,\n",
    "        id2,\n",
    "        sim_options_abc.nb_timepoints,\n",
    "        sim_options_abc.last_timepoint_years,\n",
    "        normalise=True,\n",
    "        log_transform=True,\n",
    "    )\n",
    "    my_stats.index.name = my_stats.index.name.split(\"_\")[-1].replace(\"id\", \" id\")\n",
    "    my_stats.columns.name = my_stats.columns.name.split(\"_\")[-1].replace(\"id\", \" id\")\n",
    "\n",
    "    fig, ax = plt.subplots(1, 1, figsize=[7, 6])\n",
    "    sns.heatmap(my_stats, norm=colors.LogNorm(), ax=ax)\n",
    "    plt.show()\n",
    "\n",
    "    if show_fitness_distributions:\n",
    "        for idx in (id1, id2):\n",
    "            fig, ax = plt.subplots(1, 1)\n",
    "            pd.read_csv(sim_options_abc.path2save / f\"rates/{idx}.csv\", header=None).squeeze().plot(\n",
    "                kind=\"hist\", ax=ax, bins=35\n",
    "            )\n",
    "            ax.set_xlim(0.95, 1.4)  # TODO?\n",
    "            ax.set_title(f\"simulation id: {idx}\")\n",
    "            plt.show()\n",
    "            if idx == id2:\n",
    "                break\n",
    "else:\n",
    "    my_stats = abc.heatmap_wasserstein(\n",
    "        sfs_sims,\n",
    "        id1,\n",
    "        id1,\n",
    "        sim_options_abc.nb_timepoints,\n",
    "        sim_options_abc.last_timepoint_years,\n",
    "        normalise=True,\n",
    "        log_transform=True,\n",
    "    )\n",
    "    my_stats.index.name = my_stats.index.name.split(\"_\")[-1].replace(\"id\", \" id\")\n",
    "    my_stats.columns.name = my_stats.columns.name.split(\"_\")[-1].replace(\"id\", \" id\")\n",
    "    \n",
    "    fig, ax = plt.subplots(1, 1, figsize=[7, 6])\n",
    "    sns.heatmap(my_stats, norm=colors.LogNorm(), ax=ax)\n",
    "    plt.show()"
   ]
  }
 ],
 "metadata": {
  "kernelspec": {
   "display_name": "hsc-draft",
   "language": "python",
   "name": "hsc-draft"
  },
  "language_info": {
   "codemirror_mode": {
    "name": "ipython",
    "version": 3
   },
   "file_extension": ".py",
   "mimetype": "text/x-python",
   "name": "python",
   "nbconvert_exporter": "python",
   "pygments_lexer": "ipython3",
   "version": "3.11.4"
  }
 },
 "nbformat": 4,
 "nbformat_minor": 5
}
