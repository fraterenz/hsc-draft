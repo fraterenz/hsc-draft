{
 "cells": [
  {
   "cell_type": "markdown",
   "id": "3509fddf",
   "metadata": {},
   "source": [
    "# HSC\n",
    "Markov process with fixed-size population with k-types such that the type 0 is the wild-type with growth rate of `B0`. \n",
    "\n",
    "A cells can get a mutation conferring a proliferative advantage upon cell division. We model this process with a Bernouilli trial with success probability of `u`, with units of 1 mutation/division. To compute `u` we can do `u =  MU0 / (B0 * NCELLS)` for the symmetric division case.\n",
    "\n",
    "For now, all k clones have the same proliferative advantage with k greater than 0."
   ]
  },
  {
   "cell_type": "markdown",
   "id": "97b8f4d1",
   "metadata": {},
   "source": [
    "**Entropy:** based on the code they [developped](https://github.com/emily-mitchell/normal_haematopoiesis/blob/23d221e8d125d78c1e8bcbe05d41d0f3594b0cfb/4_phylogeny_analysis/scripts/shannon_diversity.Rmd#L147), I think they define entropy as in [here](http://math.bu.edu/people/mkon/J6A.pdf) using the phylogenetic tree.\n",
    "We just compute the entropy from the number of cells: we consider a class being the cells with the same number of mutations and compute the abbundance of those classes, that is the abbundance of cells with the same number of mutations."
   ]
  },
  {
   "cell_type": "code",
   "execution_count": null,
   "id": "ce19ffa6",
   "metadata": {},
   "outputs": [],
   "source": [
    "import matplotlib.pyplot as plt\n",
    "import json\n",
    "import numpy as np\n",
    "import pandas as pd\n",
    "import socket\n",
    "import seaborn as sns\n",
    "import sys\n",
    "\n",
    "from hscpy import get_idx_timepoint_from_age, sfs\n",
    "from hscpy.figures import burden as burden_figures\n",
    "from hscpy.figures import sfs as sfs_figures\n",
    "from hscpy.figures import variant as variant_figures\n",
    "from hscpy.figures import options, mitchell\n",
    "\n",
    "from typing import Dict\n",
    "from scipy import stats\n",
    "from pathlib import Path\n",
    "from futils import parse_version, snapshot\n",
    "\n",
    "PATH2BIN = Path(\"~\").expanduser() / \"hsc/target/release\"\n",
    "assert PATH2BIN.is_dir()\n",
    "\n",
    "YEARS_FAST = 80\n",
    "YEARS_ENTROPY = 1\n",
    "RUNS = 12\n",
    "NB_TIMEPOINTS = 21\n",
    "DETECTION_THRESH = 0.01\n",
    "SUBCLONES = 60\n",
    "USE_SCRATCH = True\n",
    "mitchell_ages = (0, 29, 38, 48, 63, 75, 81)\n",
    "\n",
    "SAVE = True\n",
    "BIGLABELS = False\n",
    "FIGSIZE = [5, 3] if BIGLABELS else [6.4, 4.8]  # default matplotlib\n",
    "PDF = True\n",
    "EXTENSION = \".pdf\" if PDF else \".png\"\n",
    "\n",
    "PLOT_OPTIONS = options.PlotOptions(figsize=FIGSIZE, extension=EXTENSION, save=SAVE)"
   ]
  },
  {
   "cell_type": "code",
   "execution_count": null,
   "id": "b7d3540d",
   "metadata": {},
   "outputs": [],
   "source": [
    "def get_ymin(min1: float, min2: float) -> float:\n",
    "    my_min = min1 if min1 < min2 else min2\n",
    "    return my_min - my_min * 0.2\n",
    "\n",
    "\n",
    "def get_xmax(max1: int, max2: int) -> int:\n",
    "    my_max = max1 if max1 > max2 else max2\n",
    "    return my_max + my_max * 0.2\n",
    "\n",
    "\n",
    "def plot_sfs_simulations_data(simulated):\n",
    "    # pop size\n",
    "    N = 200_000\n",
    "    _f = sfs.compute_frequencies(N)\n",
    "    id2plot = '0'  # id of the simulation\n",
    "\n",
    "    for i, donor in enumerate(summary.donor_id.unique()):\n",
    "        age = summary.loc[summary.donor_id == donor, \"age\"].iloc[0]\n",
    "        # TODO: rust starts saving at 1\n",
    "        if age == 0:\n",
    "            age = 2\n",
    "        if donor == \"KX003\":\n",
    "            continue\n",
    "        print(f\"donor {donor}\")\n",
    "        filtered_matrix = mitchell.filter_mutations(\n",
    "            *mitchell.load_patient(\n",
    "                donor, \n",
    "                path2data / f\"mutMatrix{donor}.csv\",\n",
    "                path2data / f\"mutType{donor}.csv\"\n",
    "            )\n",
    "        )\n",
    "        sfs_donor = filtered_matrix.sum(axis=1).value_counts(normalize=True)\n",
    "        sfs_donor.drop(index=sfs_donor[sfs_donor.index==0].index, inplace=True)\n",
    "        x_sfs = sfs_donor.index.to_numpy(dtype=int)\n",
    "        y_sfs = sfs_donor.to_numpy()\n",
    "        # sample size\n",
    "        cells = summary.loc[summary.donor_id == donor, \"cells\"].unique()[0]\n",
    "        correction = sfs.SamplingCorrection(N, cells)\n",
    "        assert cells <= 1000\n",
    "\n",
    "        sampled_f, y = sfs.compute_variants(correction, sfs.Correction.ONE_OVER_F, cells)\n",
    "        sampled_f_squared, y_squared = sfs.compute_variants(correction, sfs.Correction.ONE_OVER_F_SQUARED, cells)\n",
    "\n",
    "        sfs_simulations = pd.Series(simulated[closest_age[age]][id2plot], dtype=int).value_counts()\n",
    "        sfs_simulations /= sfs_simulations.max()\n",
    "\n",
    "        fig, ax = plt.subplots(1, 1, figsize=FIGSIZE)\n",
    "        ax.plot(_f[:cells], sampled_f, label=f\"$1/f$ sampled\", alpha=0.4, linestyle=\"--\", c=\"black\")\n",
    "        ax.plot(_f[:cells], sampled_f_squared / sampled_f_squared.max(), label=f\"$1/f^2$ sampled\", alpha=0.4, c=\"black\")\n",
    "        ax.plot(x_sfs, sfs_donor.to_numpy(), label=f\"{donor}\", linestyle=\"\", marker=\"x\", c=\"blue\", alpha=0.7)\n",
    "        ax.plot(sfs_simulations.index, sfs_simulations, linestyle=\"\", marker=\"o\", label=\"simulation\", c=\"purple\", alpha=0.7)\n",
    "        ax.set_yscale(\"log\")\n",
    "        ax.set_xscale(\"log\")\n",
    "        ax.set_xlabel(\"j cells\")\n",
    "        ax.set_ylabel(\"normalised nb of muts in j cells\")\n",
    "        ax.set_ylim([get_ymin(y_sfs.min(), sfs_simulations.min()), 2])\n",
    "        ax.set_xlim([0.8, get_xmax(x_sfs.max(), sfs_simulations.index.to_numpy().max())])\n",
    "        ax.legend()\n",
    "        ax.set_title(f\"age {age}\")\n",
    "        if SAVE:\n",
    "            plt.savefig(f\"./{donor}_sfs{EXTENSION}\")\n",
    "        plt.show()\n",
    "\n",
    "\n",
    "def load_sfs_simulations(sim_options):\n",
    "    simulated = dict()\n",
    "    for age in ages:\n",
    "        # TODO: rust starts saving at 1\n",
    "        if age == 0:\n",
    "            age = 2\n",
    "        print(f\"\\nloading sfs for age {age}\")\n",
    "        idx_timepoint, closest_age_ = get_idx_timepoint_from_age(\n",
    "            age,\n",
    "            sim_options.last_timepoint_years,\n",
    "            nb_timepoints=sim_options.nb_timepoints,\n",
    "        )\n",
    "        closest_age[age] = closest_age_\n",
    "        simulated[closest_age[age]] = dict()\n",
    "        for idx_sim, simulation in sfs.load_sfs(\n",
    "            sim_options.path2save,\n",
    "            runs=sim_options.runs,\n",
    "            cells=sim_options.sample,\n",
    "            timepoint=idx_timepoint,\n",
    "        ).items():\n",
    "            simulated[closest_age[age]][idx_sim] = simulation"
   ]
  },
  {
   "cell_type": "code",
   "execution_count": null,
   "id": "985e133e",
   "metadata": {},
   "outputs": [],
   "source": [
    "if socket.gethostname() == \"5X9ZYD3\":\n",
    "    PATH2SIMS = Path(\"/mnt/c/Users/terenz01/Documents/SwitchDrive/PhD/\")\n",
    "    YEARS = YEARS_FAST\n",
    "elif socket.gethostname() == \"LAPTOP-CEKCHJ4C\":\n",
    "    PATH2SIMS = Path(\"/mnt/c/Users/fra_t/Documents/PhD/\")\n",
    "    # need + 1 to save the last timepoint\n",
    "    YEARS = YEARS_FAST\n",
    "else:\n",
    "    PATH2SIMS = Path(\"~\").expanduser()\n",
    "    YEARS = 100\n",
    "\n",
    "PATH2SIMS /= Path(\"totalVariantFracTime.csv\")\n",
    "assert PATH2SIMS.is_file()"
   ]
  },
  {
   "cell_type": "code",
   "execution_count": null,
   "id": "affa36a0",
   "metadata": {},
   "outputs": [],
   "source": [
    "%%bash -s \"$PATH2BIN\" --out version\n",
    "$1/hsc --version"
   ]
  },
  {
   "cell_type": "code",
   "execution_count": null,
   "id": "554d54b6",
   "metadata": {},
   "outputs": [],
   "source": [
    "VERSION = parse_version(version)\n",
    "if USE_SCRATCH:\n",
    "    PATH2SAVE = Path(f\"/data/scratch/hfx923/hsc-draft/{VERSION}\")\n",
    "else:\n",
    "    PATH2SAVE = Path(f\"./{VERSION}\")\n",
    "print(\"Running hsc with version:\", VERSION)"
   ]
  },
  {
   "cell_type": "markdown",
   "id": "f788bd4b",
   "metadata": {},
   "source": [
    "## Mitchell's data"
   ]
  },
  {
   "cell_type": "code",
   "execution_count": null,
   "id": "bf0282ac",
   "metadata": {},
   "outputs": [],
   "source": [
    "try:\n",
    "    path2data = Path.home()\n",
    "    summary = pd.read_csv(path2data / \"Summary_cut.csv\", index_col=0)\n",
    "except FileNotFoundError:\n",
    "    path2data = \"/mnt/c/Users/fra_t/Documents/PhD/\"\n",
    "    summary = pd.read_csv(\n",
    "        path2data / \"Summary_cut.csv\", index_col=0\n",
    "    )\n",
    "summary.cell_type = summary.cell_type.astype(\"category\")\n",
    "summary.sample_type = summary.sample_type.astype(\"category\")\n",
    "summary.sort_values(by=\"age\", inplace=True)\n",
    "summary.reset_index(inplace=True)\n",
    "ages = summary.age.unique()\n",
    "closest_age = dict.fromkeys(ages)    \n",
    "# neglect some duplicated colonies e.g. summary.colony_ID == \"11_E07\"\n",
    "summary = summary.merge(\n",
    "    summary[[\"donor_id\", \"age\"]]\n",
    "    .groupby(\"donor_id\")\n",
    "    .count()\n",
    "    .reset_index()\n",
    "    .rename(columns={\"age\": \"cells\"}),\n",
    "    on=\"donor_id\",\n",
    "    validate=\"many_to_one\",\n",
    "    how=\"left\",\n",
    ")\n",
    "summary.dtypes"
   ]
  },
  {
   "cell_type": "code",
   "execution_count": null,
   "id": "19a2afe0",
   "metadata": {},
   "outputs": [],
   "source": [
    "print(summary.describe())\n",
    "print(f\"\\n\\ncell types: \\n{summary.cell_type.value_counts()}\")\n",
    "print(f\"\\n\\nsample types: \\n{summary.sample_type.value_counts()}\")\n",
    "print(f\"\\n\\ntimepoints: \\n{summary.timepoint.value_counts()}\")\n",
    "print(f'\\n\\nages and cells: \\n{summary[[\"donor_id\", \"cells\", \"age\"]].drop_duplicates()}')\n",
    "print(f'\\n\\nmutations per donor: \\n{summary[[\"donor_id\", \"number_mutations\"]].groupby(\"donor_id\").sum()}')"
   ]
  },
  {
   "cell_type": "code",
   "execution_count": null,
   "id": "e21afa92",
   "metadata": {},
   "outputs": [],
   "source": [
    "mean_mutations = (\n",
    "    summary[[\"donor_id\", \"number_mutations\"]]\n",
    "    .groupby(\"donor_id\")\n",
    "    .mean()\n",
    "    .reset_index()\n",
    "    .merge(\n",
    "        summary[[\"donor_id\", \"age\"]].drop_duplicates(),\n",
    "        on=\"donor_id\",\n",
    "        how=\"inner\",\n",
    "        validate=\"one_to_one\",\n",
    "    )\n",
    "    .sort_values(by=\"age\")\n",
    ")\n",
    "\n",
    "x = mean_mutations.age.to_numpy()\n",
    "y = mean_mutations.number_mutations.to_numpy()\n",
    "A = np.vstack([x, np.ones(len(x))]).T\n",
    "m, c = np.linalg.lstsq(A, y, rcond=None)[0]\n",
    "\n",
    "fig, ax = plt.subplots(1, 1, figsize=FIGSIZE)\n",
    "ax.plot(summary[\"age\"], summary[\"number_mutations\"], linestyle=\"\", marker=\"o\", alpha=0.4)\n",
    "ax.plot(x, y, \"x\", c=\"orange\")\n",
    "ax.plot(x, m * x + c, linestyle=\"--\", c=\"orange\")\n",
    "ax.set_xlabel(\"age [years]\")\n",
    "ax.set_ylabel(\"number of SNVs\")\n",
    "ax.set_title(f\"y=mx+c with m={m:.2f}, c={c:.2f}\")\n",
    "plt.show()\n",
    "\n",
    "fig, ax = plt.subplots(1, 1, tight_layout=True, figsize=FIGSIZE)\n",
    "sns.histplot(\n",
    "    data=summary,\n",
    "    x=\"number_mutations\",\n",
    "    hue=\"donor_id\",\n",
    "    kde=True,\n",
    "    binwidth=10,\n",
    "    ax=ax,\n",
    "    stat=\"count\",\n",
    ")\n",
    "sns.move_legend(ax, bbox_to_anchor=(1.01, 1), loc=\"upper left\", frameon=False)\n",
    "if SAVE:\n",
    "    plt.savefig(f\"./mitchell_burden{EXTENSION}\")\n",
    "plt.show()"
   ]
  },
  {
   "cell_type": "code",
   "execution_count": null,
   "id": "3429f098",
   "metadata": {},
   "outputs": [],
   "source": [
    "for i in summary.donor_id.unique():\n",
    "    fig, ax = plt.subplots(1, 1, tight_layout=True, figsize=(6, 4))\n",
    "    sns.histplot(\n",
    "        data=summary[summary.donor_id == i],\n",
    "        x=\"number_mutations\",\n",
    "        hue=\"donor_id\",\n",
    "        kde=True,\n",
    "        bins=50,\n",
    "        ax=ax,\n",
    "        stat=\"count\",\n",
    "    )\n",
    "    if SAVE:\n",
    "        plt.savefig(f\"./{i}_burden{EXTENSION}\")\n",
    "    plt.show()"
   ]
  },
  {
   "cell_type": "markdown",
   "id": "5b8200aa",
   "metadata": {},
   "source": [
    "## Simulations"
   ]
  },
  {
   "cell_type": "code",
   "execution_count": null,
   "id": "f3c54fbd",
   "metadata": {},
   "outputs": [],
   "source": [
    "SAMPLE_STRONG = 600\n",
    "SAMPLE_WEAK = 6_000\n",
    "NCELLS = 200_000\n",
    "# mean of the Bernouilli trial (prob of success) to get an asymmetric\n",
    "# division upon cell division, units are [1 asymmetric division / division]\n",
    "P_ASYMMETRIC = 0\n",
    "\n",
    "## NEUTRAL RATES\n",
    "# division rate for the wild-type in units of [division / (year * cell)]\n",
    "# Welch, J.S. et al. (2012) ‘The Origin and Evolution of Mutations in Acute Myeloid Leukemia’,\n",
    "# Cell, 150(2), pp. 264–278\n",
    "B0 = 1  # TODO: double check this, should be between 2 and 20?\n",
    "# Abascal, F. et al. (2021) ‘Somatic mutation landscapes at single-molecule resolution’,\n",
    "# Nature, 593(7859), pp. 405–410. fig. 2b\n",
    "# see also fig 1b of Mitchell, E. et al.\n",
    "# (2022) ‘Clonal dynamics of haematopoiesis across the human lifespan’,\n",
    "# Nature, 606(7913), pp. 343–350\n",
    "NEUTRAL_RATE = 20  # [mut/(year * cell)]\n",
    "\n",
    "## FIT CLONES\n",
    "# avg fit mutations arising in 1 year, units are [mutations/year]\n",
    "# from ABC's inference\n",
    "MU0 = 2\n",
    "# proliferative advantage conferred by fit mutations, all clones\n",
    "# have the same proliferative advantage for now. Units are\n",
    "# [mutation / division]\n",
    "S = 0.11\n",
    "# mean of the Bernouilli trial (prob of success) to get a fit variant upon\n",
    "# cell division, units are [1 mutation/division]\n",
    "u = MU0 / (B0 * NCELLS)\n",
    "# should be 2.0 × 10−3 per HSC per year according to Mitchell, E. et al.\n",
    "# (2022) ‘Clonal dynamics of haematopoiesis across the human lifespan’,\n",
    "# Nature, 606(7913), pp. 343–350\n",
    "# driver mutations enter the HSC compartment at 2.0 × 10−3 per HSC per year\n",
    "print(f\"average sucess rate of occurence of 1 fit mutation upon cell division u={u}\")"
   ]
  },
  {
   "cell_type": "markdown",
   "id": "bf5d78e4-c96b-4a7f-b4d2-b758417cd476",
   "metadata": {},
   "source": [
    "We run the simulations with and without subsampling at the same time."
   ]
  },
  {
   "cell_type": "code",
   "execution_count": null,
   "id": "01352f2b-ae30-4000-a8f9-c1867161a8ac",
   "metadata": {},
   "outputs": [],
   "source": [
    "sim_options_population = options.SimulationOptions(\n",
    "    runs=RUNS,\n",
    "    cells=NCELLS,\n",
    "    sample=NCELLS,\n",
    "    path2save=PATH2SAVE / \"competition\",\n",
    "    neutral_rate=NEUTRAL_RATE,\n",
    "    nb_timepoints=NB_TIMEPOINTS,\n",
    "    last_timepoint_years=80,\n",
    "    nb_subclones=SUBCLONES,\n",
    "    s=S,\n",
    ")\n",
    "\n",
    "sim_options_subsampling_strong = options.SimulationOptions(\n",
    "    runs=RUNS,\n",
    "    cells=NCELLS,\n",
    "    sample=SAMPLE_STRONG,\n",
    "    path2save=PATH2SAVE / \"competition\",\n",
    "    neutral_rate=NEUTRAL_RATE,\n",
    "    nb_timepoints=NB_TIMEPOINTS,\n",
    "    last_timepoint_years=80,\n",
    "    nb_subclones=SUBCLONES,\n",
    "    s=S,\n",
    ")\n",
    "\n",
    "sim_options_subsampling_weak = options.SimulationOptions(\n",
    "    runs=RUNS,\n",
    "    cells=NCELLS,\n",
    "    sample=SAMPLE_WEAK,\n",
    "    path2save=PATH2SAVE / \"competition\",\n",
    "    neutral_rate=NEUTRAL_RATE,\n",
    "    nb_timepoints=NB_TIMEPOINTS,\n",
    "    last_timepoint_years=80,\n",
    "    nb_subclones=SUBCLONES,\n",
    "    s=S,\n",
    ")"
   ]
  },
  {
   "cell_type": "code",
   "execution_count": null,
   "id": "1c914562",
   "metadata": {},
   "outputs": [],
   "source": [
    "%%bash -s \"$PATH2BIN\" \"$sim_options_population.path2save\" \"$B0\" \"$MU0\" \"$sim_options_population.neutral_rate\" \"$sim_options_population.s\" \"$P_ASYMMETRIC\" \"$sim_options_population.runs\" \"$sim_options_population.cells\" \"$sim_options_population.last_timepoint_years\" \"$sim_options_population.nb_timepoints\" \"$sim_options_subsampling_strong.sample\" \"$sim_options_subsampling_weak.sample\" \"$YEARS_ENTROPY\"\n",
    "# rm -rf $2\n",
    "# $1/hsc -c $9 -y ${10} -r $8 --b0 $3 --mu0 $4 --neutral-rate $5 -s $6 --p-asymmetric $7 --snapshot-entropy ${14} --subsample ${12} ${13} --snapshots ${11} $2"
   ]
  },
  {
   "cell_type": "markdown",
   "id": "91e7e29f-6916-4e69-ac74-2f05d648874e",
   "metadata": {},
   "source": [
    "### no subsampling"
   ]
  },
  {
   "cell_type": "code",
   "execution_count": null,
   "id": "ed71b9ec-3b17-4f7c-ad87-14a2b87547fe",
   "metadata": {},
   "outputs": [],
   "source": [
    "sfs_figures.show_sfs_last_timepoint_plots(sim_options_population, PLOT_OPTIONS)"
   ]
  },
  {
   "cell_type": "code",
   "execution_count": null,
   "id": "76460474-f8f1-4496-8e34-a4186b3e2fa7",
   "metadata": {},
   "outputs": [],
   "source": [
    "sfs_figures.show_entropy_plots(\n",
    "    sim_options_population, PLOT_OPTIONS, mitchell_ages, early_variants_only=True\n",
    ")"
   ]
  },
  {
   "cell_type": "code",
   "execution_count": null,
   "id": "520d84e4-6fc9-418a-91ed-f2a7c48c56f8",
   "metadata": {},
   "outputs": [],
   "source": [
    "%%time\n",
    "sfs_figures.show_entropy_plots(\n",
    "    sim_options_population, PLOT_OPTIONS, mitchell_ages, early_variants_only=False\n",
    ")"
   ]
  },
  {
   "cell_type": "code",
   "execution_count": null,
   "id": "f795bb18-48a7-4aef-9363-f396deaa1aa7",
   "metadata": {},
   "outputs": [],
   "source": [
    "burden_figures.show_burden_plots(sim_options_population, PLOT_OPTIONS, mitchell_ages)"
   ]
  },
  {
   "cell_type": "code",
   "execution_count": null,
   "id": "420f86a9-43f4-47ec-a4c6-ec33a04a51dc",
   "metadata": {},
   "outputs": [],
   "source": [
    "variant_figures.show_variant_plots(\n",
    "    sim_options_population, PLOT_OPTIONS, PATH2SIMS, DETECTION_THRESH\n",
    ")"
   ]
  },
  {
   "cell_type": "code",
   "execution_count": null,
   "id": "11a58d0f",
   "metadata": {},
   "outputs": [],
   "source": [
    "%%time\n",
    "plot_sfs_simulations_data(load_sfs_simulations(sim_options_subsampling_weak))"
   ]
  },
  {
   "cell_type": "markdown",
   "id": "268634f0-e3e4-4412-b80e-ec053f5882e2",
   "metadata": {},
   "source": [
    "### weak subsampling"
   ]
  },
  {
   "cell_type": "code",
   "execution_count": null,
   "id": "3503b673-0282-4654-85f7-4afcd4e36384",
   "metadata": {},
   "outputs": [],
   "source": [
    "sfs_figures.show_sfs_last_timepoint_plots(sim_options_subsampling_weak, PLOT_OPTIONS)"
   ]
  },
  {
   "cell_type": "code",
   "execution_count": null,
   "id": "3a3fb5af-85fc-404d-8763-231ad4e4241b",
   "metadata": {},
   "outputs": [],
   "source": [
    "sfs_figures.show_entropy_plots(\n",
    "    sim_options_subsampling_weak, PLOT_OPTIONS, mitchell_ages, early_variants_only=True\n",
    ")"
   ]
  },
  {
   "cell_type": "code",
   "execution_count": null,
   "id": "eae49a2a-9b35-4254-8196-6672fbdc0bd5",
   "metadata": {},
   "outputs": [],
   "source": [
    "%%time\n",
    "sfs_figures.show_entropy_plots(\n",
    "    sim_options_subsampling_weak, PLOT_OPTIONS, mitchell_ages, early_variants_only=False\n",
    ")"
   ]
  },
  {
   "cell_type": "code",
   "execution_count": null,
   "id": "c2f5742f-0ac0-4f74-82cf-a780b3bf18f7",
   "metadata": {
    "scrolled": true
   },
   "outputs": [],
   "source": [
    "burden_figures.show_burden_plots(sim_options_subsampling_weak, PLOT_OPTIONS, mitchell_ages)"
   ]
  },
  {
   "cell_type": "code",
   "execution_count": null,
   "id": "0bb35bea",
   "metadata": {},
   "outputs": [],
   "source": [
    "%%time\n",
    "plot_sfs_simulations_data(load_sfs_simulations(sim_options_subsampling_weak))"
   ]
  },
  {
   "cell_type": "markdown",
   "id": "80a0133f",
   "metadata": {},
   "source": [
    "### strong subsampling"
   ]
  },
  {
   "cell_type": "code",
   "execution_count": null,
   "id": "9781b915",
   "metadata": {},
   "outputs": [],
   "source": [
    "sfs_figures.show_sfs_last_timepoint_plots(sim_options_subsampling_strong, PLOT_OPTIONS)"
   ]
  },
  {
   "cell_type": "code",
   "execution_count": null,
   "id": "e3d57406",
   "metadata": {
    "scrolled": false
   },
   "outputs": [],
   "source": [
    "sfs_figures.show_entropy_plots(\n",
    "    sim_options_subsampling_strong, PLOT_OPTIONS, mitchell_ages, early_variants_only=True\n",
    ")"
   ]
  },
  {
   "cell_type": "code",
   "execution_count": null,
   "id": "1753e03c",
   "metadata": {},
   "outputs": [],
   "source": [
    "%%time\n",
    "sfs_figures.show_entropy_plots(\n",
    "    sim_options_subsampling_strong, PLOT_OPTIONS, mitchell_ages, early_variants_only=False\n",
    ")"
   ]
  },
  {
   "cell_type": "code",
   "execution_count": null,
   "id": "280bf7b7",
   "metadata": {},
   "outputs": [],
   "source": [
    "burden_figures.show_burden_plots(sim_options_subsampling_strong, PLOT_OPTIONS, mitchell_ages)"
   ]
  },
  {
   "cell_type": "code",
   "execution_count": null,
   "id": "07b14a82",
   "metadata": {},
   "outputs": [],
   "source": [
    "%%time\n",
    "plot_sfs_simulations_data(load_sfs_simulations(sim_options_subsampling_strong))"
   ]
  },
  {
   "cell_type": "markdown",
   "id": "034bd20e-c756-4638-be3f-076d47d33c80",
   "metadata": {},
   "source": [
    "## Competition vs neutral vs 1 clone (logistic fn)"
   ]
  },
  {
   "cell_type": "code",
   "execution_count": null,
   "id": "8a76c6a7-2d67-47ec-a807-fb61c7324453",
   "metadata": {},
   "outputs": [],
   "source": [
    "# TODO 1 clone logistic fn"
   ]
  }
 ],
 "metadata": {
  "kernelspec": {
   "display_name": "hsc-draft",
   "language": "python",
   "name": "hsc-draft"
  },
  "language_info": {
   "codemirror_mode": {
    "name": "ipython",
    "version": 3
   },
   "file_extension": ".py",
   "mimetype": "text/x-python",
   "name": "python",
   "nbconvert_exporter": "python",
   "pygments_lexer": "ipython3",
   "version": "3.11.4"
  }
 },
 "nbformat": 4,
 "nbformat_minor": 5
}
