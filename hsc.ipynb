{
 "cells": [
  {
   "cell_type": "markdown",
   "id": "3509fddf",
   "metadata": {
    "tags": []
   },
   "source": [
    "# HSC\n",
    "Markov process with fixed-size population with k-types such that the type 0 is the wild-type with growth rate of `B0`. \n",
    "\n",
    "A cells can get a mutation conferring a proliferative advantage upon cell division. We model this process with a Bernouilli trial with success probability of `u`, with units of 1 mutation/division. To compute `u` we can do `u =  MU0 / (B0 * NCELLS)` for the symmetric division case.\n",
    "\n",
    "For now, all k clones have the same proliferative advantage with k greater than 0.\n",
    "\n",
    "**Entropy:** based on the code they [developped](https://github.com/emily-mitchell/normal_haematopoiesis/blob/23d221e8d125d78c1e8bcbe05d41d0f3594b0cfb/4_phylogeny_analysis/scripts/shannon_diversity.Rmd#L147), I think they define entropy as in [here](http://math.bu.edu/people/mkon/J6A.pdf) using the phylogenetic tree.\n",
    "We just compute the entropy from the number of cells: we consider a class being the cells with the same number of mutations and compute the abbundance of those classes, that is the abbundance of cells with the same number of mutations."
   ]
  },
  {
   "cell_type": "markdown",
   "id": "282ca49e-addc-4afa-b63c-0900e7485666",
   "metadata": {
    "tags": []
   },
   "source": [
    "## How to use it\n",
    "Install a version of python greather or equal to 3.11 and then install `seaborn`, `scipy`, `pandas`, `ipykernel` with pip.\n",
    "Then, install `futils` and `hscpy` in editable mode.\n",
    "Finally, on the cluster, make this env availbale as a ipython kernel."
   ]
  },
  {
   "cell_type": "code",
   "execution_count": null,
   "id": "83cfa2e4",
   "metadata": {},
   "outputs": [],
   "source": [
    "%%bash\n",
    "cd ../hsc/\n",
    "git pull\n",
    "cargo b --release"
   ]
  },
  {
   "cell_type": "code",
   "execution_count": null,
   "id": "ce19ffa6",
   "metadata": {},
   "outputs": [],
   "source": [
    "import matplotlib.pyplot as plt\n",
    "import numpy as np\n",
    "import pandas as pd\n",
    "import socket\n",
    "import seaborn as sns\n",
    "import sys\n",
    "\n",
    "from pathlib import Path\n",
    "\n",
    "from hscpy.figures import burden as burden_figures\n",
    "from hscpy.figures import sfs as sfs_figures\n",
    "from hscpy.figures import variant as variant_figures\n",
    "from hscpy.figures import options\n",
    "from hscpy.sfs import compute_variants, Correction\n",
    "\n",
    "from futils import parse_version\n",
    "\n",
    "PATH2BIN = Path(\"~\").expanduser() / \"hsc/target/release\"\n",
    "assert PATH2BIN.is_dir()\n",
    "\n",
    "YEARS = 80\n",
    "YEARS_ENTROPY = 1\n",
    "RUNS = 32\n",
    "NB_TIMEPOINTS = 19\n",
    "DETECTION_THRESH = 0.01\n",
    "SUBCLONES = 60\n",
    "USE_SCRATCH = True\n",
    "mitchell_ages = (0, 29, 38, 48, 63, 75, 81)\n",
    "\n",
    "SAVE = True\n",
    "BIGLABELS = False\n",
    "FIGSIZE = [5, 3] if BIGLABELS else [6.4, 4.8]  # default matplotlib\n",
    "PDF = True\n",
    "EXTENSION = \".pdf\" if PDF else \".png\"\n",
    "\n",
    "PLOT_OPTIONS = options.PlotOptions(figsize=FIGSIZE, extension=EXTENSION, save=SAVE)"
   ]
  },
  {
   "cell_type": "code",
   "execution_count": null,
   "id": "985e133e",
   "metadata": {},
   "outputs": [],
   "source": [
    "if socket.gethostname() == \"5X9ZYD3\":\n",
    "    PATH2SIMS = Path(\"/mnt/c/Users/terenz01/Documents/SwitchDrive/PhD/hsc\")\n",
    "elif socket.gethostname() == \"LAPTOP-CEKCHJ4C\":\n",
    "    PATH2SIMS = Path(\"/mnt/c/Users/fra_t/Documents/PhD/hsc\")\n",
    "else:\n",
    "    PATH2SIMS = Path(\"~\").expanduser()\n",
    "\n",
    "PATH2SIMS /= Path(\"variantFractionTime_s0.15_sigma0.03_mu2.csv\")\n",
    "assert PATH2SIMS.is_file(), f\"cannot find totalVariantFracTime.csv from {PATH2SIMS}\""
   ]
  },
  {
   "cell_type": "code",
   "execution_count": null,
   "id": "affa36a0",
   "metadata": {},
   "outputs": [],
   "source": [
    "%%bash -s \"$PATH2BIN\" --out version\n",
    "$1/hsc --version"
   ]
  },
  {
   "cell_type": "code",
   "execution_count": null,
   "id": "554d54b6",
   "metadata": {},
   "outputs": [],
   "source": [
    "VERSION = parse_version(version)\n",
    "if USE_SCRATCH:\n",
    "    PATH2SAVE = Path(f\"/data/scratch/hfx923/hsc-draft/{VERSION}\")\n",
    "else:\n",
    "    PATH2SAVE = Path(f\"./{VERSION}\")\n",
    "\n",
    "print(\"Running hsc with version:\", VERSION)"
   ]
  },
  {
   "cell_type": "markdown",
   "id": "f788bd4b",
   "metadata": {
    "tags": []
   },
   "source": [
    "## Mitchell's data"
   ]
  },
  {
   "cell_type": "code",
   "execution_count": null,
   "id": "bf0282ac",
   "metadata": {},
   "outputs": [],
   "source": [
    "summary = pd.read_csv(PATH2SIMS.parent / \"Summary_cut.csv\", index_col=0)\n",
    "summary.cell_type = summary.cell_type.astype(\"category\")\n",
    "summary.sample_type = summary.sample_type.astype(\"category\")\n",
    "summary.sort_values(by=\"age\", inplace=True)\n",
    "summary.reset_index(inplace=True)\n",
    "ages = summary.age.unique()\n",
    "closest_age = dict.fromkeys(ages)\n",
    "# neglect some duplicated colonies e.g. summary.colony_ID == \"11_E07\"\n",
    "summary = summary.merge(\n",
    "    summary[[\"donor_id\", \"age\"]]\n",
    "    .groupby(\"donor_id\")\n",
    "    .count()\n",
    "    .reset_index()\n",
    "    .rename(columns={\"age\": \"cells\"}),\n",
    "    on=\"donor_id\",\n",
    "    validate=\"many_to_one\",\n",
    "    how=\"left\",\n",
    ")\n",
    "summary.dtypes"
   ]
  },
  {
   "cell_type": "code",
   "execution_count": null,
   "id": "19a2afe0",
   "metadata": {},
   "outputs": [],
   "source": [
    "print(summary.describe())\n",
    "print(f\"\\n\\ncell types: \\n{summary.cell_type.value_counts()}\")\n",
    "print(f\"\\n\\nsample types: \\n{summary.sample_type.value_counts()}\")\n",
    "print(f\"\\n\\ntimepoints: \\n{summary.timepoint.value_counts()}\")\n",
    "print(\n",
    "    f'\\n\\nages and cells: \\n{summary[[\"donor_id\", \"cells\", \"age\"]].drop_duplicates()}'\n",
    ")\n",
    "print(\n",
    "    f'\\n\\nmutations per donor: \\n{summary[[\"donor_id\", \"number_mutations\"]].groupby(\"donor_id\").sum()}'\n",
    ")"
   ]
  },
  {
   "cell_type": "code",
   "execution_count": null,
   "id": "e21afa92",
   "metadata": {},
   "outputs": [],
   "source": [
    "mean_mutations = (\n",
    "    summary[[\"donor_id\", \"number_mutations\"]]\n",
    "    .groupby(\"donor_id\")\n",
    "    .mean()\n",
    "    .reset_index()\n",
    "    .merge(\n",
    "        summary[[\"donor_id\", \"age\"]].drop_duplicates(),\n",
    "        on=\"donor_id\",\n",
    "        how=\"inner\",\n",
    "        validate=\"one_to_one\",\n",
    "    )\n",
    "    .sort_values(by=\"age\")\n",
    ")\n",
    "\n",
    "x = mean_mutations.age.to_numpy()\n",
    "y = mean_mutations.number_mutations.to_numpy()\n",
    "A = np.vstack([x, np.ones(len(x))]).T\n",
    "m, c = np.linalg.lstsq(A, y, rcond=None)[0]\n",
    "\n",
    "fig, ax = plt.subplots(1, 1, figsize=FIGSIZE)\n",
    "ax.plot(\n",
    "    summary[\"age\"], summary[\"number_mutations\"], linestyle=\"\", marker=\"o\", \n",
    "    alpha=0.4, label=\"Mitchell's data\", mew=2,\n",
    ")\n",
    "ax.plot(x, y, \"x\", c=\"orange\", label=\"avg Mitchell's data\", mew=2)\n",
    "ax.plot(x, m * x + c, linestyle=\"--\", c=\"orange\", label=\"LS regression\")\n",
    "ax.plot([7.8, 15.6, 23.3, 31.1, 38.9, 46.7, 54.4, 62.2, 70], \n",
    "        [137.80, 264.58, 391.92, 518.37, 645.25, 771.70, 898.47, 1024.67, 1152.31], \n",
    "        \"x\", c=\"yellowgreen\", label=\"simulation\", mew=2)\n",
    "ax.set_xlabel(\"age [years]\")\n",
    "ax.set_ylabel(\"number of SNVs\")\n",
    "ax.set_title(f\"y=mx+c with m={m:.2f}, c={c:.2f}\")\n",
    "ax.legend()\n",
    "plt.show()\n",
    "\n",
    "fig, ax = plt.subplots(1, 1, tight_layout=True, figsize=FIGSIZE)\n",
    "sns.histplot(\n",
    "    data=summary,\n",
    "    x=\"number_mutations\",\n",
    "    hue=\"donor_id\",\n",
    "    kde=True,\n",
    "    binwidth=10,\n",
    "    ax=ax,\n",
    "    stat=\"count\",\n",
    ")\n",
    "sns.move_legend(ax, bbox_to_anchor=(1.01, 1), loc=\"upper left\", frameon=False)\n",
    "if SAVE:\n",
    "    plt.savefig(f\"./mitchell_burden{EXTENSION}\")\n",
    "plt.show()"
   ]
  },
  {
   "cell_type": "code",
   "execution_count": null,
   "id": "3429f098",
   "metadata": {
    "tags": []
   },
   "outputs": [],
   "source": [
    "for i in summary.donor_id.unique():\n",
    "    fig, ax = plt.subplots(1, 1, tight_layout=True, figsize=(6, 4))\n",
    "    sns.histplot(\n",
    "        data=summary[summary.donor_id == i],\n",
    "        x=\"number_mutations\",\n",
    "        hue=\"donor_id\",\n",
    "        kde=True,\n",
    "        bins=50,\n",
    "        ax=ax,\n",
    "        stat=\"count\",\n",
    "    )\n",
    "    if SAVE:\n",
    "        plt.savefig(f\"./{i}_burden{EXTENSION}\")\n",
    "    plt.show()"
   ]
  },
  {
   "cell_type": "markdown",
   "id": "5b8200aa",
   "metadata": {
    "tags": []
   },
   "source": [
    "## Simulations"
   ]
  },
  {
   "cell_type": "code",
   "execution_count": null,
   "id": "f3c54fbd",
   "metadata": {},
   "outputs": [],
   "source": [
    "SAMPLE_STRONG = int(summary.cells.mean())\n",
    "SAMPLE_WEAK = SAMPLE_STRONG * 10  # TODO * 100\n",
    "NCELLS = 200_000\n",
    "# mean of the Bernouilli trial (prob of success) to get an asymmetric\n",
    "# division upon cell division, units are [1 asymmetric division / division]\n",
    "P_ASYMMETRIC = 0\n",
    "\n",
    "## NEUTRAL RATES\n",
    "# division rate for the wild-type in units of [division / (year * cell)]\n",
    "# Welch, J.S. et al. (2012) ‘The Origin and Evolution of Mutations in Acute Myeloid Leukemia’,\n",
    "# Cell, 150(2), pp. 264–278\n",
    "B0 = 1  # TODO: double check this, should be between 2 and 20?\n",
    "# Abascal, F. et al. (2021) ‘Somatic mutation landscapes at single-molecule resolution’,\n",
    "# Nature, 593(7859), pp. 405–410. fig. 2b\n",
    "# see also fig 1b of Mitchell, E. et al.\n",
    "# (2022) ‘Clonal dynamics of haematopoiesis across the human lifespan’,\n",
    "# Nature, 606(7913), pp. 343–350\n",
    "NEUTRAL_RATE = 20  # [mut/(year * cell)]\n",
    "\n",
    "## FIT CLONES\n",
    "# avg fit mutations arising in 1 year, units are [mutations/year]\n",
    "# from ABC's inference\n",
    "MU0 = 2\n",
    "# proliferative advantage conferred by fit mutations, all clones\n",
    "# have the same proliferative advantage for now. Units are\n",
    "# [mutation / division]\n",
    "S = 0.11\n",
    "# mean of the Bernouilli trial (prob of success) to get a fit variant upon\n",
    "# cell division, units are [1 mutation/division]\n",
    "u = MU0 / (B0 * NCELLS)\n",
    "# should be 2.0 × 10−3 per HSC per year according to Mitchell, E. et al.\n",
    "# (2022) ‘Clonal dynamics of haematopoiesis across the human lifespan’,\n",
    "# Nature, 606(7913), pp. 343–350\n",
    "# driver mutations enter the HSC compartment at 2.0 × 10−3 per HSC per year\n",
    "print(f\"average sucess rate of occurence of 1 fit mutation upon cell division u={u}\")"
   ]
  },
  {
   "cell_type": "markdown",
   "id": "55190ccc",
   "metadata": {
    "tags": []
   },
   "source": [
    "### Positive selection"
   ]
  },
  {
   "cell_type": "markdown",
   "id": "287e9835-41c0-48db-b6a9-d7b3c616d33c",
   "metadata": {
    "tags": []
   },
   "source": [
    "#### Rust simulations"
   ]
  },
  {
   "cell_type": "markdown",
   "id": "bf5d78e4-c96b-4a7f-b4d2-b758417cd476",
   "metadata": {},
   "source": [
    "We run the simulations with and without subsampling at the same time."
   ]
  },
  {
   "cell_type": "code",
   "execution_count": null,
   "id": "01352f2b-ae30-4000-a8f9-c1867161a8ac",
   "metadata": {},
   "outputs": [],
   "source": [
    "sim_options_population = options.SimulationOptions(\n",
    "    runs=RUNS,\n",
    "    cells=NCELLS,\n",
    "    sample=NCELLS,\n",
    "    path2save=PATH2SAVE / \"competition\",\n",
    "    neutral_rate=NEUTRAL_RATE,\n",
    "    nb_timepoints=NB_TIMEPOINTS,\n",
    "    last_timepoint_years=YEARS + 1,\n",
    "    nb_subclones=SUBCLONES,\n",
    "    s=S,\n",
    ")\n",
    "\n",
    "sim_options_subsampling_strong = options.SimulationOptions(\n",
    "    runs=RUNS,\n",
    "    cells=NCELLS,\n",
    "    sample=SAMPLE_STRONG,\n",
    "    path2save=PATH2SAVE / \"competition\",\n",
    "    neutral_rate=NEUTRAL_RATE,\n",
    "    nb_timepoints=NB_TIMEPOINTS,\n",
    "    last_timepoint_years=YEARS + 1,\n",
    "    nb_subclones=SUBCLONES,\n",
    "    s=S,\n",
    ")\n",
    "\n",
    "sim_options_subsampling_weak = options.SimulationOptions(\n",
    "    runs=RUNS,\n",
    "    cells=NCELLS,\n",
    "    sample=SAMPLE_WEAK,\n",
    "    path2save=PATH2SAVE / \"competition\",\n",
    "    neutral_rate=NEUTRAL_RATE,\n",
    "    nb_timepoints=NB_TIMEPOINTS,\n",
    "    last_timepoint_years=YEARS + 1,\n",
    "    nb_subclones=SUBCLONES,\n",
    "    s=S,\n",
    ")"
   ]
  },
  {
   "cell_type": "code",
   "execution_count": null,
   "id": "1c914562",
   "metadata": {},
   "outputs": [],
   "source": [
    "%%bash -s \"$PATH2BIN\" \"$sim_options_population.path2save\" \"$B0\" \"$MU0\" \"$sim_options_population.neutral_rate\" \"$sim_options_population.s\" \"$P_ASYMMETRIC\" \"$sim_options_population.runs\" \"$sim_options_population.cells\" \"$YEARS\" \"$sim_options_population.nb_timepoints\" \"$sim_options_subsampling_strong.sample\" \"$sim_options_subsampling_weak.sample\" \"$YEARS_ENTROPY\"\n",
    "rm -rf $2\n",
    "$1/hsc -c $9 -y ${10} -r $8 --b0 $3 --mu0 $4 --neutral-rate $5 --p-asymmetric $7 --snapshot-entropy ${14} --subsample ${12} ${13} --snapshots ${11} --mean-std 0.1 0.03 --exponential $2"
   ]
  },
  {
   "cell_type": "code",
   "execution_count": null,
   "id": "da32aca7",
   "metadata": {
    "tags": []
   },
   "outputs": [],
   "source": [
    "for i, f in enumerate((PATH2SAVE / \"competition/rates/\").iterdir()):\n",
    "    fig, ax = plt.subplots(1, 1)\n",
    "    pd.read_csv(f, header=None).squeeze().plot(kind=\"hist\", ax=ax, bins=15)\n",
    "    ax.set_xlim(0.95, 1.25)  # TODO?\n",
    "    ax.set_title(f\"simulation id: {i}\")\n",
    "    plt.show()"
   ]
  },
  {
   "cell_type": "code",
   "execution_count": null,
   "id": "a6b91c58",
   "metadata": {},
   "outputs": [],
   "source": [
    "donors = sfs_figures.donors_from_mitchell(summary, sim_options_population)"
   ]
  },
  {
   "cell_type": "code",
   "execution_count": null,
   "id": "70325d8b-ce8b-484b-9d07-7d4728f8c94b",
   "metadata": {},
   "outputs": [],
   "source": [
    "%%time\n",
    "# compute the correction for the SFS with sampled distributions from\n",
    "# https://www.biorxiv.org/content/10.1101/2022.11.07.515470v2\n",
    "corrected_variants_one_over_1_squared = dict()\n",
    "for donor in donors:\n",
    "    print(\n",
    "        f\"apply sampling correction to SFS of donor {donor.name} with age {donor.age} mapped to closest_age {donor.closest_age}\"\n",
    "    )\n",
    "    corrected_variants_one_over_1_squared[donor.name] = compute_variants(\n",
    "        Correction.ONE_OVER_F_SQUARED,\n",
    "        pop_size=sim_options_subsampling_strong.cells,\n",
    "        sample_size=donor.cells,\n",
    "    )"
   ]
  },
  {
   "cell_type": "markdown",
   "id": "91e7e29f-6916-4e69-ac74-2f05d648874e",
   "metadata": {
    "jp-MarkdownHeadingCollapsed": true,
    "tags": []
   },
   "source": [
    "#### no subsampling"
   ]
  },
  {
   "cell_type": "code",
   "execution_count": null,
   "id": "fa7a312f-57a6-470c-9fef-3ded128de9cf",
   "metadata": {},
   "outputs": [],
   "source": [
    "%%time\n",
    "# load simulated sfs for all the ages of the donors present in the data\n",
    "sfs_age_simulations = sfs_figures.load_sfs_simulations(donors, sim_options_population)"
   ]
  },
  {
   "cell_type": "code",
   "execution_count": null,
   "id": "5fe4e418-5e71-4314-ba83-16960615906a",
   "metadata": {
    "tags": []
   },
   "outputs": [],
   "source": [
    "sfs_figures.plot_sfs_simulations_data(\n",
    "    sfs_age_simulations,\n",
    "    corrected_variants_one_over_1_squared,\n",
    "    sim_options_population.cells,\n",
    "    sim_options_population.sample,\n",
    "    donors,\n",
    "    PLOT_OPTIONS,\n",
    "    PATH2SIMS.parent,\n",
    ")"
   ]
  },
  {
   "cell_type": "code",
   "execution_count": null,
   "id": "05eef445-eaf1-496a-90f8-8bcea0e3e8cc",
   "metadata": {
    "tags": []
   },
   "outputs": [],
   "source": [
    "sfs_figures.plot_sfs_simulations_data(\n",
    "    sfs_age_simulations,\n",
    "    corrected_variants_one_over_1_squared,\n",
    "    sim_options_population.cells,\n",
    "    sim_options_population.sample,\n",
    "    donors,\n",
    "    PLOT_OPTIONS,\n",
    "    PATH2SIMS.parent,\n",
    "    id2plot=\"2\",\n",
    ")"
   ]
  },
  {
   "cell_type": "code",
   "execution_count": null,
   "id": "76460474-f8f1-4496-8e34-a4186b3e2fa7",
   "metadata": {},
   "outputs": [],
   "source": [
    "sfs_figures.show_entropy_plots(\n",
    "    sim_options_population, PLOT_OPTIONS, mitchell_ages, early_variants_only=True\n",
    ")"
   ]
  },
  {
   "cell_type": "code",
   "execution_count": null,
   "id": "658d74de-8a50-4ddb-b079-7820349b8658",
   "metadata": {},
   "outputs": [],
   "source": [
    "sfs_figures.show_entropy_plots(\n",
    "    sim_options_population, PLOT_OPTIONS, mitchell_ages, early_variants_only=False\n",
    ")"
   ]
  },
  {
   "cell_type": "code",
   "execution_count": null,
   "id": "f795bb18-48a7-4aef-9363-f396deaa1aa7",
   "metadata": {
    "tags": []
   },
   "outputs": [],
   "source": [
    "burden_figures.show_burden_plots(sim_options_population, PLOT_OPTIONS, mitchell_ages)"
   ]
  },
  {
   "cell_type": "code",
   "execution_count": null,
   "id": "420f86a9-43f4-47ec-a4c6-ec33a04a51dc",
   "metadata": {
    "tags": []
   },
   "outputs": [],
   "source": [
    "variant_figures.show_variant_plots(\n",
    "    sim_options_population, PLOT_OPTIONS, PATH2SIMS, DETECTION_THRESH\n",
    ")"
   ]
  },
  {
   "cell_type": "markdown",
   "id": "268634f0-e3e4-4412-b80e-ec053f5882e2",
   "metadata": {
    "tags": []
   },
   "source": [
    "#### weak subsampling"
   ]
  },
  {
   "cell_type": "code",
   "execution_count": null,
   "id": "afd2da46-891a-42c1-8bfc-4762b300b907",
   "metadata": {},
   "outputs": [],
   "source": [
    "%%time\n",
    "# load simulated sfs for all the ages of the donors present in the data\n",
    "sfs_age_simulations = sfs_figures.load_sfs_simulations(\n",
    "    donors, sim_options_subsampling_weak\n",
    ")"
   ]
  },
  {
   "cell_type": "code",
   "execution_count": null,
   "id": "51a180ed-29fc-4bc0-bf6d-460a8056006e",
   "metadata": {},
   "outputs": [],
   "source": [
    "sfs_figures.plot_sfs_simulations_data(\n",
    "    sfs_age_simulations,\n",
    "    corrected_variants_one_over_1_squared,\n",
    "    sim_options_subsampling_weak.cells,\n",
    "    sim_options_subsampling_weak.sample,\n",
    "    donors,\n",
    "    PLOT_OPTIONS,\n",
    "    PATH2SIMS.parent,\n",
    ")"
   ]
  },
  {
   "cell_type": "code",
   "execution_count": null,
   "id": "5ef063db-9753-482c-a2aa-cd1914955036",
   "metadata": {
    "tags": []
   },
   "outputs": [],
   "source": [
    "sfs_figures.plot_sfs_simulations_data(\n",
    "    sfs_age_simulations,\n",
    "    corrected_variants_one_over_1_squared,\n",
    "    sim_options_subsampling_weak.cells,\n",
    "    sim_options_subsampling_weak.sample,\n",
    "    donors,\n",
    "    PLOT_OPTIONS,\n",
    "    PATH2SIMS.parent,\n",
    "    id2plot=\"2\",\n",
    ")"
   ]
  },
  {
   "cell_type": "code",
   "execution_count": null,
   "id": "3a3fb5af-85fc-404d-8763-231ad4e4241b",
   "metadata": {},
   "outputs": [],
   "source": [
    "sfs_figures.show_entropy_plots(\n",
    "    sim_options_subsampling_weak, PLOT_OPTIONS, mitchell_ages, early_variants_only=True\n",
    ")"
   ]
  },
  {
   "cell_type": "code",
   "execution_count": null,
   "id": "0285b95c-571e-4d78-9ad9-7b94e3b321f5",
   "metadata": {},
   "outputs": [],
   "source": [
    "sfs_figures.show_entropy_plots(\n",
    "    sim_options_subsampling_weak, PLOT_OPTIONS, mitchell_ages, early_variants_only=False\n",
    ")"
   ]
  },
  {
   "cell_type": "code",
   "execution_count": null,
   "id": "c2f5742f-0ac0-4f74-82cf-a780b3bf18f7",
   "metadata": {
    "tags": []
   },
   "outputs": [],
   "source": [
    "burden_figures.show_burden_plots(\n",
    "    sim_options_subsampling_weak, PLOT_OPTIONS, mitchell_ages\n",
    ")"
   ]
  },
  {
   "cell_type": "markdown",
   "id": "80a0133f",
   "metadata": {
    "tags": []
   },
   "source": [
    "#### strong subsampling"
   ]
  },
  {
   "cell_type": "code",
   "execution_count": null,
   "id": "d498ec8f-6d2a-4a8a-bacc-e1554ba36ecb",
   "metadata": {},
   "outputs": [],
   "source": [
    "%%time\n",
    "# load simulated sfs for all the ages of the donors present in the data\n",
    "sfs_age_simulations = sfs_figures.load_sfs_simulations(\n",
    "    donors, sim_options_subsampling_strong\n",
    ")"
   ]
  },
  {
   "cell_type": "code",
   "execution_count": null,
   "id": "398ceb86-a8af-41ba-9ee9-63f86ff7f593",
   "metadata": {},
   "outputs": [],
   "source": [
    "sfs_figures.plot_sfs_simulations_data(\n",
    "    sfs_age_simulations,\n",
    "    corrected_variants_one_over_1_squared,\n",
    "    sim_options_subsampling_strong.cells,\n",
    "    sim_options_subsampling_strong.sample,\n",
    "    donors,\n",
    "    PLOT_OPTIONS,\n",
    "    PATH2SIMS.parent,\n",
    ")"
   ]
  },
  {
   "cell_type": "code",
   "execution_count": null,
   "id": "0cd93e29-a906-4a07-9c3b-ed382aae2e3d",
   "metadata": {
    "tags": []
   },
   "outputs": [],
   "source": [
    "sfs_figures.plot_sfs_simulations_data(\n",
    "    sfs_age_simulations,\n",
    "    corrected_variants_one_over_1_squared,\n",
    "    sim_options_subsampling_strong.cells,\n",
    "    sim_options_subsampling_strong.sample,\n",
    "    donors,\n",
    "    PLOT_OPTIONS,\n",
    "    PATH2SIMS.parent,\n",
    "    id2plot=\"2\",\n",
    ")"
   ]
  },
  {
   "cell_type": "code",
   "execution_count": null,
   "id": "e3d57406",
   "metadata": {},
   "outputs": [],
   "source": [
    "sfs_figures.show_entropy_plots(\n",
    "    sim_options_subsampling_strong,\n",
    "    PLOT_OPTIONS,\n",
    "    mitchell_ages,\n",
    "    early_variants_only=True,\n",
    ")"
   ]
  },
  {
   "cell_type": "code",
   "execution_count": null,
   "id": "da11d3cc-63d4-4878-ac6a-ac3ae9113c27",
   "metadata": {},
   "outputs": [],
   "source": [
    "sfs_figures.show_entropy_plots(\n",
    "    sim_options_subsampling_strong,\n",
    "    PLOT_OPTIONS,\n",
    "    mitchell_ages,\n",
    "    early_variants_only=False,\n",
    ")"
   ]
  },
  {
   "cell_type": "code",
   "execution_count": null,
   "id": "280bf7b7",
   "metadata": {
    "tags": []
   },
   "outputs": [],
   "source": [
    "burden_figures.show_burden_plots(\n",
    "    sim_options_subsampling_strong, PLOT_OPTIONS, mitchell_ages\n",
    ")"
   ]
  },
  {
   "cell_type": "markdown",
   "id": "034bd20e-c756-4638-be3f-076d47d33c80",
   "metadata": {
    "jp-MarkdownHeadingCollapsed": true,
    "tags": []
   },
   "source": [
    "### Competition vs neutral vs 1 clone (logistic fn)"
   ]
  },
  {
   "cell_type": "code",
   "execution_count": null,
   "id": "8a76c6a7-2d67-47ec-a807-fb61c7324453",
   "metadata": {},
   "outputs": [],
   "source": [
    "# TODO 1 clone logistic fn"
   ]
  },
  {
   "cell_type": "markdown",
   "id": "fea6dd30",
   "metadata": {
    "jp-MarkdownHeadingCollapsed": true,
    "tags": []
   },
   "source": [
    "### Neutral scenario"
   ]
  },
  {
   "cell_type": "code",
   "execution_count": null,
   "id": "24c087b1-18dc-4215-9555-628c0261b468",
   "metadata": {},
   "outputs": [],
   "source": [
    "%%bash -s \"$PATH2BIN\" \"$sim_options_subsampling_strong.path2save\" \"$B0\" \"$MU0\" \"$sim_options_population.neutral_rate\" \"$sim_options_population.s\" \"$P_ASYMMETRIC\" \"$sim_options_population.runs\" \"$sim_options_population.cells\" \"$YEARS\" \"$sim_options_population.nb_timepoints\" \"$sim_options_subsampling_strong.sample\" \"$sim_options_subsampling_weak.sample\" \"$YEARS_ENTROPY\"\n",
    "rm -rf $2\n",
    "$1/hsc -c $9 -y ${10} -r $8 --b0 $3 --mu0 $4 --neutral-rate $5 --p-asymmetric $7 --snapshot-entropy ${14} --subsample ${12} ${13} --snapshots ${11} --neutral --exponential $2"
   ]
  },
  {
   "cell_type": "code",
   "execution_count": null,
   "id": "24ecc676-16e6-455f-84fd-ec4acd7c7a58",
   "metadata": {},
   "outputs": [],
   "source": [
    "sfs_figures.show_entropy_plots(\n",
    "    sim_options_population, PLOT_OPTIONS, mitchell_ages, early_variants_only=True\n",
    ")\n",
    "\n",
    "sfs_figures.show_entropy_plots(\n",
    "    sim_options_population, PLOT_OPTIONS, mitchell_ages, early_variants_only=False\n",
    ")"
   ]
  },
  {
   "cell_type": "code",
   "execution_count": null,
   "id": "3d467ebe-db7c-493f-be38-76746ea41ebf",
   "metadata": {},
   "outputs": [],
   "source": [
    "sfs_figures.show_entropy_plots(\n",
    "    sim_options_subsampling_weak, PLOT_OPTIONS, mitchell_ages, early_variants_only=True\n",
    ")\n",
    "\n",
    "sfs_figures.show_entropy_plots(\n",
    "    sim_options_subsampling_weak, PLOT_OPTIONS, mitchell_ages, early_variants_only=False\n",
    ")"
   ]
  },
  {
   "cell_type": "code",
   "execution_count": null,
   "id": "51201abb-d891-48e4-9059-5c1e2d865141",
   "metadata": {},
   "outputs": [],
   "source": [
    "sfs_figures.show_entropy_plots(\n",
    "    sim_options_subsampling_strong,\n",
    "    PLOT_OPTIONS,\n",
    "    mitchell_ages,\n",
    "    early_variants_only=True,\n",
    ")\n",
    "\n",
    "sfs_figures.show_entropy_plots(\n",
    "    sim_options_subsampling_strong,\n",
    "    PLOT_OPTIONS,\n",
    "    mitchell_ages,\n",
    "    early_variants_only=False,\n",
    ")"
   ]
  }
 ],
 "metadata": {
  "kernelspec": {
   "display_name": "Python 3 (ipykernel)",
   "language": "python",
   "name": "python3"
  },
  "language_info": {
   "codemirror_mode": {
    "name": "ipython",
    "version": 3
   },
   "file_extension": ".py",
   "mimetype": "text/x-python",
   "name": "python",
   "nbconvert_exporter": "python",
   "pygments_lexer": "ipython3",
   "version": "3.11.5"
  }
 },
 "nbformat": 4,
 "nbformat_minor": 5
}
