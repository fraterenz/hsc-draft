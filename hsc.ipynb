{
 "cells": [
  {
   "cell_type": "markdown",
   "id": "3509fddf",
   "metadata": {
    "tags": []
   },
   "source": [
    "# HSC\n",
    "Markov process with fixed-size population with k-types such that the type 0 is the wild-type with growth rate of `B0`. \n",
    "\n",
    "A cells can get a mutation conferring a proliferative advantage upon cell division. We model this process with a Bernouilli trial with success probability of `u`, with units of 1 mutation/division. To compute `u` we can do `u =  MU0 / (B0 * NCELLS)` for the symmetric division case."
   ]
  },
  {
   "cell_type": "markdown",
   "id": "282ca49e-addc-4afa-b63c-0900e7485666",
   "metadata": {
    "tags": []
   },
   "source": [
    "## How to use it\n",
    "Install a version of python greather or equal to 3.11 and then install `seaborn`, `scipy`, `pandas`, `ipykernel` with pip.\n",
    "Then, install `futils` and `hscpy` in editable mode.\n",
    "Finally, on the cluster, make this env availbale as a ipython kernel."
   ]
  },
  {
   "cell_type": "code",
   "execution_count": null,
   "id": "013dfa7a-53c6-4347-869c-29f66ee18bc8",
   "metadata": {},
   "outputs": [],
   "source": [
    "%load_ext autoreload\n",
    "%autoreload 2"
   ]
  },
  {
   "cell_type": "code",
   "execution_count": null,
   "id": "ce19ffa6",
   "metadata": {},
   "outputs": [],
   "source": [
    "import matplotlib.pyplot as plt\n",
    "import numpy as np\n",
    "import pandas as pd\n",
    "import socket\n",
    "import seaborn as sns\n",
    "import sys\n",
    "from pathlib import Path\n",
    "from random import choices\n",
    "\n",
    "from hscpy import sfs, mitchell\n",
    "from hscpy.figures import sfs as sfs_figures\n",
    "from hscpy.figures import PlotOptions, simulations\n",
    "\n",
    "from futils import parse_version\n",
    "\n",
    "PATH2BIN = Path(\"~\").expanduser() / \"hsc/target/release\"\n",
    "assert PATH2BIN.is_dir()\n",
    "\n",
    "NCELLS = 200_000\n",
    "USE_SCRATCH = True\n",
    "SAMPLE = 368\n",
    "\n",
    "SAVE = False\n",
    "BIGLABELS = False\n",
    "FIGSIZE = [5, 3] if BIGLABELS else [6.4, 4.8]  # default matplotlib\n",
    "PDF = True\n",
    "EXTENSION = \".pdf\" if PDF else \".png\"\n",
    "PLOT_OPTIONS = PlotOptions(figsize=FIGSIZE, extension=EXTENSION, save=SAVE)"
   ]
  },
  {
   "cell_type": "code",
   "execution_count": null,
   "id": "affa36a0",
   "metadata": {},
   "outputs": [],
   "source": [
    "%%bash -s \"$PATH2BIN\" --out version\n",
    "$1/hsc --version"
   ]
  },
  {
   "cell_type": "code",
   "execution_count": null,
   "id": "985e133e",
   "metadata": {},
   "outputs": [],
   "source": [
    "VERSION = parse_version(version)\n",
    "PATH2SAVE = Path(f\"./{VERSION}\")\n",
    "\n",
    "print(\"Running hsc with version:\", VERSION)\n",
    "\n",
    "if USE_SCRATCH:\n",
    "    PATH2SIMS = Path(\"/data/scratch/\")\n",
    "else:\n",
    "    PATH2SIMS = Path(\"/data/home/\")\n",
    "PATH2SIMS /= f\"hfx923/hsc-draft/{VERSION}\"\n",
    "\n",
    "if socket.gethostname() == \"5X9ZYD3\":\n",
    "    PATH2MITCHELL = Path(\"/mnt/c/Users/terenz01/Documents/SwitchDrive/PhD/hsc\")\n",
    "elif socket.gethostname() == \"LAPTOP-CEKCHJ4C\":\n",
    "    PATH2MITCHELL = Path(\"/mnt/c/Users/fra_t/Documents/PhD/hsc\")\n",
    "else:\n",
    "    PATH2MITCHELL = Path(\"~\").expanduser()\n",
    "    \n",
    "PATH2SAVE = Path(f\"./{VERSION}\")"
   ]
  },
  {
   "cell_type": "markdown",
   "id": "f788bd4b",
   "metadata": {
    "tags": []
   },
   "source": [
    "## Mitchell's data"
   ]
  },
  {
   "cell_type": "code",
   "execution_count": null,
   "id": "bf0282ac",
   "metadata": {},
   "outputs": [],
   "source": [
    "summary = summary = mitchell.load_and_process_mitchell(PATH2MITCHELL / \"Summary_cut.csv\", drop_donor_KX007=True)\n",
    "summary.dtypes"
   ]
  },
  {
   "cell_type": "code",
   "execution_count": null,
   "id": "19a2afe0",
   "metadata": {},
   "outputs": [],
   "source": [
    "print(summary.describe())\n",
    "print(f\"\\n\\ncell types: \\n{summary.cell_type.value_counts()}\")\n",
    "print(f\"\\n\\nsample types: \\n{summary.sample_type.value_counts()}\")\n",
    "print(f\"\\n\\ntimepoints: \\n{summary.timepoint.value_counts()}\")\n",
    "print(\n",
    "    f'\\n\\nages and cells: \\n{summary[[\"donor_id\", \"cells\", \"age\"]].drop_duplicates()}'\n",
    ")\n",
    "print(\n",
    "    f'\\n\\nmutations per donor: \\n{summary[[\"donor_id\", \"number_mutations\"]].groupby(\"donor_id\").sum()}'\n",
    ")"
   ]
  },
  {
   "cell_type": "code",
   "execution_count": null,
   "id": "3429f098",
   "metadata": {
    "scrolled": true,
    "tags": []
   },
   "outputs": [],
   "source": [
    "for i in summary.donor_id.unique():\n",
    "    fig, ax = plt.subplots(1, 1, tight_layout=True, figsize=(6, 4))\n",
    "    sns.histplot(\n",
    "        data=summary[summary.donor_id == i],\n",
    "        x=\"number_mutations\",\n",
    "        hue=\"donor_id\",\n",
    "        kde=True,\n",
    "        bins=50,\n",
    "        ax=ax,\n",
    "        stat=\"count\",\n",
    "    )\n",
    "    if SAVE:\n",
    "        plt.savefig(f\"./{i}_burden{EXTENSION}\")\n",
    "    plt.show()"
   ]
  },
  {
   "cell_type": "code",
   "execution_count": null,
   "id": "aba9cabd-1658-432c-b97b-58f93c663fcd",
   "metadata": {},
   "outputs": [],
   "source": [
    "descr = (\n",
    "    summary.loc[summary.age == 0, [\"donor_id\", \"number_mutations\"]]\n",
    "    .groupby(\"donor_id\")\n",
    "    .describe()\n",
    ")\n",
    "descr"
   ]
  },
  {
   "cell_type": "code",
   "execution_count": null,
   "id": "09b5d81e-2695-47ed-b488-0d24aac691f7",
   "metadata": {},
   "outputs": [],
   "source": [
    "fig, ax = plt.subplots(1, 1, tight_layout=True, figsize=FIGSIZE)\n",
    "sns.histplot(\n",
    "    data=summary,\n",
    "    x=\"number_mutations\",\n",
    "    hue=\"donor_id\",\n",
    "    kde=True,\n",
    "    binwidth=10,\n",
    "    ax=ax,\n",
    "    stat=\"percent\",\n",
    ")\n",
    "sns.move_legend(ax, bbox_to_anchor=(1.01, 1), loc=\"upper left\", frameon=False)\n",
    "if SAVE:\n",
    "    plt.savefig(f\"./mitchell_burden{EXTENSION}\")\n",
    "plt.show()"
   ]
  },
  {
   "cell_type": "code",
   "execution_count": null,
   "id": "fdc763cd-16f3-45ce-995b-e98209295eb4",
   "metadata": {},
   "outputs": [],
   "source": [
    "descr[(\"number_mutations\", \"mean\")].mean() / (2 * np.log(200_000 - 2))"
   ]
  },
  {
   "cell_type": "code",
   "execution_count": null,
   "id": "17991679-ff17-43d3-8d02-2f6d709e1960",
   "metadata": {},
   "outputs": [],
   "source": [
    "descr[(\"number_mutations\", \"std\")] ** 2"
   ]
  },
  {
   "cell_type": "code",
   "execution_count": null,
   "id": "99a9fa81-54c7-44fc-949d-5cc46c5889e6",
   "metadata": {},
   "outputs": [],
   "source": [
    "%%time\n",
    "names_mitchell = summary.donor_id.unique()\n",
    "ages_mitchell = summary.age.unique().tolist()\n",
    "# there are two donors with the same age 0\n",
    "assert len(ages_mitchell) + 1 == len(names_mitchell)\n",
    "target_sfs = {\n",
    "    donor: mitchell.sfs_donor_mitchell(\n",
    "        donor, PATH2MITCHELL, remove_indels=False\n",
    "    )\n",
    "    for age, donor in zip([0] + ages_mitchell, names_mitchell)\n",
    "}"
   ]
  },
  {
   "cell_type": "markdown",
   "id": "5b8200aa",
   "metadata": {},
   "source": [
    "## Compare simulations against the data"
   ]
  },
  {
   "cell_type": "code",
   "execution_count": null,
   "id": "70325d8b-ce8b-484b-9d07-7d4728f8c94b",
   "metadata": {},
   "outputs": [],
   "source": [
    "%%time\n",
    "# compute the correction for the SFS with sampled distributions from\n",
    "# https://www.biorxiv.org/content/10.1101/2022.11.07.515470v2\n",
    "corrected_variants_one_over_1_squared = dict()\n",
    "for donor in summary[[\"donor_id\", \"age\", \"cells\"]].drop_duplicates().sort_values(by=\"age\", ascending=False).itertuples():\n",
    "    print(\n",
    "        f\"apply sampling correction to SFS of donor {donor.donor_id} with age {donor.age}\"\n",
    "    )\n",
    "    corrected_variants_one_over_1_squared[donor.donor_id] = sfs.compute_variants(\n",
    "        sfs.Correction.ONE_OVER_F_SQUARED,\n",
    "        pop_size=NCELLS,\n",
    "        sample_size=donor.cells,\n",
    "    )"
   ]
  },
  {
   "cell_type": "code",
   "execution_count": null,
   "id": "8b829189-35fb-4d46-8f2e-1cb74329ffa1",
   "metadata": {},
   "outputs": [],
   "source": [
    "%%time\n",
    "# load all sfs\n",
    "path2sfs = Path(PATH2SIMS / f\"{SAMPLE}cells/sfs/\")\n",
    "ages_sims = sorted([mitchell.parse_path2folder_xdoty_years(path) for path in path2sfs.iterdir()])\n",
    "assert ages_sims == ages_mitchell\n",
    "# load data\n",
    "sfs_sims = mitchell.load_all_sfs_by_age(path2sfs)"
   ]
  },
  {
   "cell_type": "code",
   "execution_count": null,
   "id": "60fb15aa-7937-46a6-8b06-ebfb8cf025fe",
   "metadata": {},
   "outputs": [],
   "source": [
    "# pick some runs to plot\n",
    "sims2plot = list()\n",
    "records = list()\n",
    "for sfs_ in sfs_sims[0]:\n",
    "    my_dict = sfs_.parameters.into_dict()\n",
    "    if abs(my_dict[\"s\"] - 0.11) <= 0.01 and abs(my_dict[\"mu\"] - 2.1) <= 0.5:\n",
    "        sims2plot.append(sfs_.parameters.idx)\n",
    "        records.append(my_dict)\n",
    "sns.pairplot(pd.DataFrame.from_records(records)[[\"mu\", \"s\", \"std\"]])"
   ]
  },
  {
   "cell_type": "code",
   "execution_count": null,
   "id": "4d11ca30-4a48-4514-86f6-3116b96a93d9",
   "metadata": {},
   "outputs": [],
   "source": [
    "markers = {\"D\", \"o\"}\n",
    "subsample = choices(sims2plot, k=len(markers))\n",
    "\n",
    "for age, name in zip([0] + ages_mitchell, names_mitchell):\n",
    "    fig, ax = plt.subplots(1, 1)\n",
    "    fig1, ax1 = plt.subplots(1, 1)\n",
    "    for sfs_, marker in zip(filter(lambda sim: sim.parameters.idx in subsample, sfs_sims[age]), markers):\n",
    "        simulations.plot_rates(ax1, PATH2SIMS, sfs_.parameters.idx, xlims=[0.95, 1.5])\n",
    "        ax1.set_label(f\"run {sfs_.parameters.idx} with mu {sfs_.parameters.mu}\")\n",
    "        my_dict = sfs_.parameters.into_dict()\n",
    "        print(f\"idx={my_dict['idx']}, s={my_dict['s']}, std={my_dict['std']}, mu={my_dict['mu']}\")\n",
    "        sfs_figures.plot_sfs(ax, sfs_.sfs, True, PLOT_OPTIONS, marker=marker, mew=2, linestyle=\"\", color=\"yellowgreen\", alpha=0.5, label=f\"run with id {sfs_.parameters.idx}\")\n",
    "   \n",
    "    try:\n",
    "        sfs_figures.plot_sfs_correction(\n",
    "            ax,\n",
    "            corrected_variants_one_over_1_squared[name], \n",
    "            True, PLOT_OPTIONS, linestyle=\"-\", color=\"grey\", label=r\"$1/f^2$ sampled\", linewidth=2\n",
    "        )\n",
    "    except KeyError:\n",
    "        pass\n",
    "    sfs_figures.plot_sfs(ax, target_sfs[name], normalise=True, options=PLOT_OPTIONS, color=\"purple\", mew=2, linestyle=\"\", marker=\"x\", label=f\"{name}, {age} years\")\n",
    "    sfs_figures.plot_sfs_avg(ax, [sfs_.sfs for sfs_ in filter(lambda sim: sim.parameters.idx in sims2plot, sfs_sims[age])], PLOT_OPTIONS, color=\"blue\", alpha=0.6, label=f\"avg of {len(sims2plot)} runs\")\n",
    "    ax.legend()\n",
    "    ax1.legend()\n",
    "    fig.show()"
   ]
  }
 ],
 "metadata": {
  "kernelspec": {
   "display_name": "hsc-draft",
   "language": "python",
   "name": "hsc-draft"
  },
  "language_info": {
   "codemirror_mode": {
    "name": "ipython",
    "version": 3
   },
   "file_extension": ".py",
   "mimetype": "text/x-python",
   "name": "python",
   "nbconvert_exporter": "python",
   "pygments_lexer": "ipython3",
   "version": "3.11.4"
  }
 },
 "nbformat": 4,
 "nbformat_minor": 5
}
