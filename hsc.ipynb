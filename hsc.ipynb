{
 "cells": [
  {
   "cell_type": "markdown",
   "id": "3509fddf",
   "metadata": {
    "tags": []
   },
   "source": [
    "# HSC\n",
    "Markov process with fixed-size population with k-types such that the type 0 is the wild-type with growth rate of `B0`. \n",
    "\n",
    "A cells can get a mutation conferring a proliferative advantage upon cell division. We model this process with a Bernouilli trial with success probability of `u`, with units of 1 mutation/division. To compute `u` we can do `u =  MU0 / (B0 * NCELLS)` for the symmetric division case.\n",
    "\n",
    "For now, all k clones have the same proliferative advantage with k greater than 0.\n",
    "\n",
    "**Entropy:** based on the code they [developped](https://github.com/emily-mitchell/normal_haematopoiesis/blob/23d221e8d125d78c1e8bcbe05d41d0f3594b0cfb/4_phylogeny_analysis/scripts/shannon_diversity.Rmd#L147), I think they define entropy as in [here](http://math.bu.edu/people/mkon/J6A.pdf) using the phylogenetic tree.\n",
    "We just compute the entropy from the number of cells: we consider a class being the cells with the same number of mutations and compute the abbundance of those classes, that is the abbundance of cells with the same number of mutations."
   ]
  },
  {
   "cell_type": "markdown",
   "id": "282ca49e-addc-4afa-b63c-0900e7485666",
   "metadata": {
    "tags": []
   },
   "source": [
    "## How to use it\n",
    "Install a version of python greather or equal to 3.11 and then install `seaborn`, `scipy`, `pandas`, `ipykernel` with pip.\n",
    "Then, install `futils` and `hscpy` in editable mode.\n",
    "Finally, on the cluster, make this env availbale as a ipython kernel."
   ]
  },
  {
   "cell_type": "code",
   "execution_count": null,
   "id": "83cfa2e4",
   "metadata": {},
   "outputs": [],
   "source": [
    "%%bash\n",
    "cd ../hsc/\n",
    "git pull\n",
    "cargo b --release"
   ]
  },
  {
   "cell_type": "code",
   "execution_count": null,
   "id": "ce19ffa6",
   "metadata": {},
   "outputs": [],
   "source": [
    "import matplotlib.pyplot as plt\n",
    "import numpy as np\n",
    "import pandas as pd\n",
    "import socket\n",
    "import seaborn as sns\n",
    "import sys\n",
    "\n",
    "from pathlib import Path\n",
    "\n",
    "from hscpy import sfs\n",
    "from hscpy.figures import burden as burden_figures\n",
    "from hscpy.figures import sfs as sfs_figures\n",
    "from hscpy.figures import simulations\n",
    "from hscpy.figures import variant as variant_figures\n",
    "from hscpy.figures import PlotOptions\n",
    "\n",
    "from futils import parse_version\n",
    "\n",
    "PATH2BIN = Path(\"~\").expanduser() / \"hsc/target/release\"\n",
    "assert PATH2BIN.is_dir()\n",
    "\n",
    "YEARS = 100\n",
    "YEARS_ENTROPY = 1\n",
    "RUNS = 64\n",
    "NB_TIMEPOINTS = 20\n",
    "DETECTION_THRESH = 0.01\n",
    "SUBCLONES = 60\n",
    "USE_SCRATCH = True\n",
    "mitchell_ages = (0, 29, 38, 48, 63, 75, 81)\n",
    "\n",
    "SAVE = True\n",
    "BIGLABELS = False\n",
    "FIGSIZE = [5, 3] if BIGLABELS else [6.4, 4.8]  # default matplotlib\n",
    "PDF = True\n",
    "EXTENSION = \".pdf\" if PDF else \".png\"\n",
    "NAIVE = True  # TODO remove\n",
    "PLOT_OPTIONS = PlotOptions(figsize=FIGSIZE, extension=EXTENSION, save=SAVE)"
   ]
  },
  {
   "cell_type": "code",
   "execution_count": null,
   "id": "985e133e",
   "metadata": {},
   "outputs": [],
   "source": [
    "if socket.gethostname() == \"5X9ZYD3\":\n",
    "    PATH2SIMS = Path(\"/mnt/c/Users/terenz01/Documents/SwitchDrive/PhD/hsc\")\n",
    "elif socket.gethostname() == \"LAPTOP-CEKCHJ4C\":\n",
    "    PATH2SIMS = Path(\"/mnt/c/Users/fra_t/Documents/PhD/hsc\")\n",
    "else:\n",
    "    PATH2SIMS = Path(\"~\").expanduser()\n",
    "\n",
    "PATH2SIMS /= Path(\"totalVariantFracTime.csv\")\n",
    "assert PATH2SIMS.is_file(), f\"cannot find totalVariantFracTime.csv from {PATH2SIMS}\""
   ]
  },
  {
   "cell_type": "code",
   "execution_count": null,
   "id": "affa36a0",
   "metadata": {},
   "outputs": [],
   "source": [
    "%%bash -s \"$PATH2BIN\" --out version\n",
    "$1/hsc --version"
   ]
  },
  {
   "cell_type": "code",
   "execution_count": null,
   "id": "554d54b6",
   "metadata": {},
   "outputs": [],
   "source": [
    "VERSION = parse_version(version)\n",
    "if USE_SCRATCH:\n",
    "    if NAIVE:\n",
    "        # PATH2SAVE = Path(f\"/data/scratch/hfx923/hsc-draft/naive/{VERSION}\")\n",
    "        # todo fix regression in naive: job arrays do not take the version\n",
    "        PATH2SAVE = Path(f\"/data/scratch/hfx923/hsc-draft/naive/\")\n",
    "    else:\n",
    "        PATH2SAVE = Path(f\"/data/scratch/hfx923/hsc-draft/{VERSION}\")\n",
    "else:\n",
    "    PATH2SAVE = Path(f\"./{VERSION}\")\n",
    "\n",
    "print(\"Running hsc with version:\", VERSION)"
   ]
  },
  {
   "cell_type": "markdown",
   "id": "f788bd4b",
   "metadata": {
    "jp-MarkdownHeadingCollapsed": true,
    "tags": []
   },
   "source": [
    "## Mitchell's data"
   ]
  },
  {
   "cell_type": "code",
   "execution_count": null,
   "id": "bf0282ac",
   "metadata": {},
   "outputs": [],
   "source": [
    "summary = pd.read_csv(PATH2SIMS.parent / \"Summary_cut.csv\", index_col=0)\n",
    "summary.cell_type = summary.cell_type.astype(\"category\")\n",
    "summary.sample_type = summary.sample_type.astype(\"category\")\n",
    "summary.sort_values(by=\"age\", inplace=True)\n",
    "summary.reset_index(inplace=True)\n",
    "ages = summary.age.unique()\n",
    "closest_age = dict.fromkeys(ages)\n",
    "# neglect some duplicated colonies e.g. summary.colony_ID == \"11_E07\"\n",
    "summary = summary.merge(\n",
    "    summary[[\"donor_id\", \"age\"]]\n",
    "    .groupby(\"donor_id\")\n",
    "    .count()\n",
    "    .reset_index()\n",
    "    .rename(columns={\"age\": \"cells\"}),\n",
    "    on=\"donor_id\",\n",
    "    validate=\"many_to_one\",\n",
    "    how=\"left\",\n",
    ")\n",
    "summary.dtypes"
   ]
  },
  {
   "cell_type": "code",
   "execution_count": null,
   "id": "19a2afe0",
   "metadata": {},
   "outputs": [],
   "source": [
    "print(summary.describe())\n",
    "print(f\"\\n\\ncell types: \\n{summary.cell_type.value_counts()}\")\n",
    "print(f\"\\n\\nsample types: \\n{summary.sample_type.value_counts()}\")\n",
    "print(f\"\\n\\ntimepoints: \\n{summary.timepoint.value_counts()}\")\n",
    "print(\n",
    "    f'\\n\\nages and cells: \\n{summary[[\"donor_id\", \"cells\", \"age\"]].drop_duplicates()}'\n",
    ")\n",
    "print(\n",
    "    f'\\n\\nmutations per donor: \\n{summary[[\"donor_id\", \"number_mutations\"]].groupby(\"donor_id\").sum()}'\n",
    ")"
   ]
  },
  {
   "cell_type": "code",
   "execution_count": null,
   "id": "3429f098",
   "metadata": {
    "scrolled": true,
    "tags": []
   },
   "outputs": [],
   "source": [
    "for i in summary.donor_id.unique():\n",
    "    fig, ax = plt.subplots(1, 1, tight_layout=True, figsize=(6, 4))\n",
    "    sns.histplot(\n",
    "        data=summary[summary.donor_id == i],\n",
    "        x=\"number_mutations\",\n",
    "        hue=\"donor_id\",\n",
    "        kde=True,\n",
    "        bins=50,\n",
    "        ax=ax,\n",
    "        stat=\"count\",\n",
    "    )\n",
    "    if SAVE:\n",
    "        plt.savefig(f\"./{i}_burden{EXTENSION}\")\n",
    "    plt.show()"
   ]
  },
  {
   "cell_type": "code",
   "execution_count": null,
   "id": "aba9cabd-1658-432c-b97b-58f93c663fcd",
   "metadata": {},
   "outputs": [],
   "source": [
    "descr = (\n",
    "    summary.loc[summary.age == 0, [\"donor_id\", \"number_mutations\"]]\n",
    "    .groupby(\"donor_id\")\n",
    "    .describe()\n",
    ")\n",
    "descr"
   ]
  },
  {
   "cell_type": "code",
   "execution_count": null,
   "id": "fdc763cd-16f3-45ce-995b-e98209295eb4",
   "metadata": {},
   "outputs": [],
   "source": [
    "descr[(\"number_mutations\", \"mean\")].mean() / (2 * np.log(200_000 - 2))"
   ]
  },
  {
   "cell_type": "code",
   "execution_count": null,
   "id": "17991679-ff17-43d3-8d02-2f6d709e1960",
   "metadata": {},
   "outputs": [],
   "source": [
    "descr[(\"number_mutations\", \"std\")] ** 2"
   ]
  },
  {
   "cell_type": "markdown",
   "id": "5b8200aa",
   "metadata": {
    "tags": []
   },
   "source": [
    "## Simulations"
   ]
  },
  {
   "cell_type": "code",
   "execution_count": null,
   "id": "f3c54fbd",
   "metadata": {},
   "outputs": [],
   "source": [
    "SAMPLE_STRONG = int(summary.cells.mean())\n",
    "SAMPLE_WEAK = SAMPLE_STRONG * 10\n",
    "NCELLS = 200_000\n",
    "# mean of the Bernouilli trial (prob of success) to get an asymmetric\n",
    "# division upon cell division, units are [1 asymmetric division / division]\n",
    "P_ASYMMETRIC = 0\n",
    "\n",
    "# division rate for the wild-type in units of [division / (year * cell)]\n",
    "# Welch, J.S. et al. (2012) ‘The Origin and Evolution of Mutations in Acute Myeloid Leukemia’,\n",
    "# Cell, 150(2), pp. 264–278\n",
    "B0 = 1  # TODO: double check this, should be between 2 and 20?\n",
    "\n",
    "## NEUTRAL RATES with untis [mut/(year * cell)]\n",
    "#\n",
    "# Abascal, F. et al. (2021) ‘Somatic mutation landscapes at single-molecule resolution’,\n",
    "# Nature, 593(7859), pp. 405–410. fig. 2b\n",
    "# see also fig 1b of Mitchell, E. et al.\n",
    "# (2022) ‘Clonal dynamics of haematopoiesis across the human lifespan’,\n",
    "# Nature, 606(7913), pp. 343–350\n",
    "# MITCHELL's has a mutation rate estimate at 16.8\n",
    "# we disantagle the mutation rate into a background and division\n",
    "# such that the sum is 16.8\n",
    "MU_BACKGROUND = 15.5\n",
    "MU_DIVISION = 1.3\n",
    "MU_EXP = 1.3\n",
    "\n",
    "## FIT CLONES\n",
    "#\n",
    "# avg fit mutations arising in 1 year, units are [mutations/year]\n",
    "# from ABC's inference\n",
    "MU0 = 2\n",
    "# proliferative advantage conferred by fit mutations, all clones\n",
    "# have the same proliferative advantage for now. Units are\n",
    "# [mutation / division]\n",
    "S = 0.11\n",
    "# mean of the Bernouilli trial (prob of success) to get a fit variant upon\n",
    "# cell division, units are [1 mutation/division]\n",
    "u = MU0 / (B0 * NCELLS)\n",
    "# should be 2.0 × 10−3 per HSC per year according to Mitchell, E. et al.\n",
    "# (2022) ‘Clonal dynamics of haematopoiesis across the human lifespan’,\n",
    "# Nature, 606(7913), pp. 343–350\n",
    "# driver mutations enter the HSC compartment at 2.0 × 10−3 per HSC per year\n",
    "print(f\"average sucess rate of occurence of 1 fit mutation upon cell division u={u}\")"
   ]
  },
  {
   "cell_type": "markdown",
   "id": "55190ccc",
   "metadata": {
    "tags": []
   },
   "source": [
    "### Positive selection"
   ]
  },
  {
   "cell_type": "markdown",
   "id": "287e9835-41c0-48db-b6a9-d7b3c616d33c",
   "metadata": {
    "tags": []
   },
   "source": [
    "#### Rust simulations"
   ]
  },
  {
   "cell_type": "markdown",
   "id": "bf5d78e4-c96b-4a7f-b4d2-b758417cd476",
   "metadata": {},
   "source": [
    "We run the simulations with and without subsampling at the same time."
   ]
  },
  {
   "cell_type": "code",
   "execution_count": null,
   "id": "01352f2b-ae30-4000-a8f9-c1867161a8ac",
   "metadata": {},
   "outputs": [],
   "source": [
    "sim_options_population = simulations.SimulationOptions(\n",
    "    runs=RUNS,\n",
    "    cells=NCELLS,\n",
    "    sample=NCELLS,\n",
    "    path2save=PATH2SAVE,\n",
    "    neutral_rate=MU_BACKGROUND,\n",
    "    nb_timepoints=NB_TIMEPOINTS,\n",
    "    last_timepoint_years=YEARS,\n",
    "    nb_subclones=SUBCLONES,\n",
    "    s=S,\n",
    ")\n",
    "\n",
    "sim_options_subsampling_strong = simulations.SimulationOptions(\n",
    "    runs=RUNS,\n",
    "    cells=NCELLS,\n",
    "    sample=SAMPLE_STRONG,\n",
    "    path2save=PATH2SAVE,\n",
    "    neutral_rate=MU_BACKGROUND,\n",
    "    nb_timepoints=NB_TIMEPOINTS,\n",
    "    last_timepoint_years=YEARS,\n",
    "    nb_subclones=SUBCLONES,\n",
    "    s=S,\n",
    ")\n",
    "\n",
    "sim_options_subsampling_weak = simulations.SimulationOptions(\n",
    "    runs=RUNS,\n",
    "    cells=NCELLS,\n",
    "    sample=SAMPLE_WEAK,\n",
    "    path2save=PATH2SAVE,\n",
    "    neutral_rate=MU_BACKGROUND,\n",
    "    nb_timepoints=NB_TIMEPOINTS,\n",
    "    last_timepoint_years=YEARS,\n",
    "    nb_subclones=SUBCLONES,\n",
    "    s=S,\n",
    ")"
   ]
  },
  {
   "cell_type": "code",
   "execution_count": null,
   "id": "1c914562",
   "metadata": {},
   "outputs": [],
   "source": [
    "%%bash -s \"$PATH2BIN\" \"$sim_options_population.path2save\" \"$B0\" \"$MU0\" \"$sim_options_population.neutral_rate\" \"$sim_options_population.s\" \"$P_ASYMMETRIC\" \"$sim_options_population.runs\" \"$sim_options_population.cells\" \"$YEARS\" \"$sim_options_population.nb_timepoints\" \"$sim_options_subsampling_strong.sample\" \"$sim_options_subsampling_weak.sample\" \"$YEARS_ENTROPY\"\n",
    "# rm -rf $2\n",
    "# $1/hsc -c $9 -y ${10} -r $8 --b0 $3 --mu0 $4 --neutral-rate $5 --p-asymmetric $7 --snapshot-entropy ${14} --subsample ${12} ${13} --snapshots ${11} --mean-std 0.1 0.03 --exponential $2"
   ]
  },
  {
   "cell_type": "code",
   "execution_count": null,
   "id": "da32aca7",
   "metadata": {
    "scrolled": true,
    "tags": []
   },
   "outputs": [],
   "source": [
    "for i, f in enumerate((PATH2SAVE / \"rates/\").iterdir()):\n",
    "    fig, ax = plt.subplots(1, 1)\n",
    "    pd.read_csv(f, header=None).squeeze().plot(kind=\"hist\", ax=ax, bins=15)\n",
    "    ax.set_xlim(0.95, 1.25)  # TODO?\n",
    "    ax.set_title(f\"simulation id: {i}\")\n",
    "    plt.show()"
   ]
  },
  {
   "cell_type": "code",
   "execution_count": null,
   "id": "09b5d81e-2695-47ed-b488-0d24aac691f7",
   "metadata": {},
   "outputs": [],
   "source": [
    "fig, ax = plt.subplots(1, 1, tight_layout=True, figsize=FIGSIZE)\n",
    "sns.histplot(\n",
    "    data=summary,\n",
    "    x=\"number_mutations\",\n",
    "    hue=\"donor_id\",\n",
    "    kde=True,\n",
    "    binwidth=10,\n",
    "    ax=ax,\n",
    "    stat=\"percent\",\n",
    ")\n",
    "sns.move_legend(ax, bbox_to_anchor=(1.01, 1), loc=\"upper left\", frameon=False)\n",
    "if SAVE:\n",
    "    plt.savefig(f\"./mitchell_burden{EXTENSION}\")\n",
    "plt.show()"
   ]
  },
  {
   "cell_type": "code",
   "execution_count": null,
   "id": "70325d8b-ce8b-484b-9d07-7d4728f8c94b",
   "metadata": {},
   "outputs": [],
   "source": [
    "%%time\n",
    "# compute the correction for the SFS with sampled distributions from\n",
    "# https://www.biorxiv.org/content/10.1101/2022.11.07.515470v2\n",
    "corrected_variants_one_over_1_squared = dict()\n",
    "for donor in summary[[\"donor_id\", \"age\", \"cells\"]].drop_duplicates().itertuples():\n",
    "    print(\n",
    "        f\"apply sampling correction to SFS of donor {donor.donor_id} with age {donor.age}\"\n",
    "    )\n",
    "    corrected_variants_one_over_1_squared[donor.donor_id] = sfs.compute_variants(\n",
    "        sfs.Correction.ONE_OVER_F_SQUARED,\n",
    "        pop_size=sim_options_subsampling_strong.cells,\n",
    "        sample_size=donor.cells,\n",
    "    )"
   ]
  },
  {
   "cell_type": "markdown",
   "id": "91e7e29f-6916-4e69-ac74-2f05d648874e",
   "metadata": {
    "tags": []
   },
   "source": [
    "#### no subsampling"
   ]
  },
  {
   "cell_type": "code",
   "execution_count": null,
   "id": "4d11ca30-4a48-4514-86f6-3116b96a93d9",
   "metadata": {},
   "outputs": [],
   "source": [
    "sims_pop = simulations.Simulations(summary, sim_options_population)"
   ]
  },
  {
   "cell_type": "code",
   "execution_count": null,
   "id": "57283094-2372-41d1-b94d-e121d9a6a430",
   "metadata": {
    "scrolled": true,
    "tags": []
   },
   "outputs": [],
   "source": [
    "sfs_figures.plot_simulations_donors_sfs(\n",
    "    sims_pop,\n",
    "    PLOT_OPTIONS,\n",
    "    PATH2SIMS.parent,\n",
    "    True,\n",
    "    corrected_variants_one_over_1_squared,\n",
    ")"
   ]
  },
  {
   "cell_type": "code",
   "execution_count": null,
   "id": "4912b670-032b-43db-93a6-a63c8c7383ce",
   "metadata": {},
   "outputs": [],
   "source": [
    "burden_figures.plot_simulations_burden(sims_pop, PLOT_OPTIONS, summary)"
   ]
  },
  {
   "cell_type": "code",
   "execution_count": null,
   "id": "420f86a9-43f4-47ec-a4c6-ec33a04a51dc",
   "metadata": {
    "scrolled": true,
    "tags": []
   },
   "outputs": [],
   "source": [
    "variant_figures.show_variant_plots(\n",
    "    sims_pop.sim_options, PLOT_OPTIONS, PATH2SIMS, DETECTION_THRESH\n",
    ")"
   ]
  },
  {
   "cell_type": "markdown",
   "id": "268634f0-e3e4-4412-b80e-ec053f5882e2",
   "metadata": {
    "tags": []
   },
   "source": [
    "#### weak subsampling"
   ]
  },
  {
   "cell_type": "code",
   "execution_count": null,
   "id": "f752d966-3d7d-497a-aff1-5022f58102e7",
   "metadata": {},
   "outputs": [],
   "source": [
    "sims_weak = simulations.Simulations(summary, sim_options_subsampling_weak)"
   ]
  },
  {
   "cell_type": "code",
   "execution_count": null,
   "id": "333e7aad-8396-4a68-b4a7-b1fce5d5b10c",
   "metadata": {
    "scrolled": true,
    "tags": []
   },
   "outputs": [],
   "source": [
    "sfs_figures.plot_simulations_donors_sfs(\n",
    "    sims_weak,\n",
    "    PLOT_OPTIONS,\n",
    "    PATH2SIMS.parent,\n",
    "    True,\n",
    "    corrected_variants_one_over_1_squared,\n",
    ")"
   ]
  },
  {
   "cell_type": "code",
   "execution_count": null,
   "id": "79797910-c515-495e-a31e-075a12402d0b",
   "metadata": {},
   "outputs": [],
   "source": [
    "burden_figures.plot_simulations_burden(sims_weak, PLOT_OPTIONS, summary)"
   ]
  },
  {
   "cell_type": "markdown",
   "id": "80a0133f",
   "metadata": {
    "tags": []
   },
   "source": [
    "#### strong subsampling"
   ]
  },
  {
   "cell_type": "code",
   "execution_count": null,
   "id": "0e891389-5cba-4e97-8d99-beee43aba1de",
   "metadata": {},
   "outputs": [],
   "source": [
    "sims_strong = simulations.Simulations(summary, sim_options_subsampling_strong)"
   ]
  },
  {
   "cell_type": "code",
   "execution_count": null,
   "id": "b63b5fc5-683a-4e59-84d7-e34dcab349e4",
   "metadata": {
    "scrolled": true,
    "tags": []
   },
   "outputs": [],
   "source": [
    "sfs_figures.plot_simulations_donors_sfs(\n",
    "    sims_strong,\n",
    "    PLOT_OPTIONS,\n",
    "    PATH2SIMS.parent,\n",
    "    True,\n",
    "    corrected_variants_one_over_1_squared,\n",
    ")"
   ]
  },
  {
   "cell_type": "code",
   "execution_count": null,
   "id": "592d8b3c-c920-4e0c-9c60-394639194eb5",
   "metadata": {},
   "outputs": [],
   "source": [
    "burden_figures.plot_simulations_burden(sims_strong, PLOT_OPTIONS, summary)"
   ]
  },
  {
   "cell_type": "code",
   "execution_count": null,
   "id": "8a76c6a7-2d67-47ec-a807-fb61c7324453",
   "metadata": {},
   "outputs": [],
   "source": [
    "# TODO 1 clone logistic fn"
   ]
  },
  {
   "cell_type": "markdown",
   "id": "fea6dd30",
   "metadata": {
    "tags": []
   },
   "source": [
    "### Neutral scenario"
   ]
  },
  {
   "cell_type": "code",
   "execution_count": null,
   "id": "50bc56fb-fdf8-4fe7-a3e6-5770707e9b43",
   "metadata": {},
   "outputs": [],
   "source": [
    "assert False"
   ]
  },
  {
   "cell_type": "code",
   "execution_count": null,
   "id": "24c087b1-18dc-4215-9555-628c0261b468",
   "metadata": {},
   "outputs": [],
   "source": [
    "%%bash -s \"$PATH2BIN\" \"$sim_options_subsampling_strong.path2save\" \"$B0\" \"$MU0\" \"$sim_options_population.neutral_rate\" \"$sim_options_population.s\" \"$P_ASYMMETRIC\" \"$sim_options_population.runs\" \"$sim_options_population.cells\" \"$YEARS\" \"$sim_options_population.nb_timepoints\" \"$sim_options_subsampling_strong.sample\" \"$sim_options_subsampling_weak.sample\" \"$YEARS_ENTROPY\"\n",
    "# rm -rf $2\n",
    "# $1/hsc -c $9 -y ${10} -r $8 --b0 $3 --mu0 $4 --neutral-rate $5 --p-asymmetric $7 --snapshot-entropy ${14} --subsample ${12} ${13} --snapshots ${11} --neutral --exponential $2"
   ]
  },
  {
   "cell_type": "code",
   "execution_count": null,
   "id": "24ecc676-16e6-455f-84fd-ec4acd7c7a58",
   "metadata": {},
   "outputs": [],
   "source": [
    "sfs_figures.show_entropy_plots(\n",
    "    sim_options_population, PLOT_OPTIONS, mitchell_ages, early_variants_only=True\n",
    ")\n",
    "\n",
    "sfs_figures.show_entropy_plots(\n",
    "    sim_options_population, PLOT_OPTIONS, mitchell_ages, early_variants_only=False\n",
    ")"
   ]
  },
  {
   "cell_type": "code",
   "execution_count": null,
   "id": "3d467ebe-db7c-493f-be38-76746ea41ebf",
   "metadata": {},
   "outputs": [],
   "source": [
    "sfs_figures.show_entropy_plots(\n",
    "    sim_options_subsampling_weak, PLOT_OPTIONS, mitchell_ages, early_variants_only=True\n",
    ")\n",
    "\n",
    "sfs_figures.show_entropy_plots(\n",
    "    sim_options_subsampling_weak, PLOT_OPTIONS, mitchell_ages, early_variants_only=False\n",
    ")"
   ]
  },
  {
   "cell_type": "code",
   "execution_count": null,
   "id": "51201abb-d891-48e4-9059-5c1e2d865141",
   "metadata": {},
   "outputs": [],
   "source": [
    "sfs_figures.show_entropy_plots(\n",
    "    sim_options_subsampling_strong,\n",
    "    PLOT_OPTIONS,\n",
    "    mitchell_ages,\n",
    "    early_variants_only=True,\n",
    ")\n",
    "\n",
    "sfs_figures.show_entropy_plots(\n",
    "    sim_options_subsampling_strong,\n",
    "    PLOT_OPTIONS,\n",
    "    mitchell_ages,\n",
    "    early_variants_only=False,\n",
    ")"
   ]
  }
 ],
 "metadata": {
  "kernelspec": {
   "display_name": "hsc-draft",
   "language": "python",
   "name": "hsc-draft"
  },
  "language_info": {
   "codemirror_mode": {
    "name": "ipython",
    "version": 3
   },
   "file_extension": ".py",
   "mimetype": "text/x-python",
   "name": "python",
   "nbconvert_exporter": "python",
   "pygments_lexer": "ipython3",
   "version": "3.11.4"
  }
 },
 "nbformat": 4,
 "nbformat_minor": 5
}
