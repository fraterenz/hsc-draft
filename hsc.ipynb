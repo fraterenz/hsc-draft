{
 "cells": [
  {
   "cell_type": "markdown",
   "id": "3509fddf",
   "metadata": {
    "tags": []
   },
   "source": [
    "# HSC\n",
    "Markov process with fixed-size population with k-types such that the type 0 is the wild-type with growth rate of `B0`. \n",
    "\n",
    "A cells can get a mutation conferring a proliferative advantage upon cell division. We model this process with a Bernouilli trial with success probability of `u`, with units of 1 mutation/division. To compute `u` we can do `u =  MU0 / (B0 * NCELLS)` for the symmetric division case.\n",
    "\n",
    "For now, all k clones have the same proliferative advantage with k greater than 0.\n",
    "\n",
    "**Entropy:** based on the code they [developped](https://github.com/emily-mitchell/normal_haematopoiesis/blob/23d221e8d125d78c1e8bcbe05d41d0f3594b0cfb/4_phylogeny_analysis/scripts/shannon_diversity.Rmd#L147), I think they define entropy as in [here](http://math.bu.edu/people/mkon/J6A.pdf) using the phylogenetic tree.\n",
    "We just compute the entropy from the number of cells: we consider a class being the cells with the same number of mutations and compute the abbundance of those classes, that is the abbundance of cells with the same number of mutations."
   ]
  },
  {
   "cell_type": "markdown",
   "id": "282ca49e-addc-4afa-b63c-0900e7485666",
   "metadata": {
    "tags": []
   },
   "source": [
    "## How to use it\n",
    "Install a version of python greather or equal to 3.11 and then install `seaborn`, `scipy`, `pandas`, `ipykernel` with pip.\n",
    "Then, install `futils` and `hscpy` in editable mode.\n",
    "Finally, on the cluster, make this env availbale as a ipython kernel."
   ]
  },
  {
   "cell_type": "code",
   "execution_count": null,
   "id": "83cfa2e4",
   "metadata": {},
   "outputs": [],
   "source": [
    "%%bash\n",
    "cd ../hsc/\n",
    "git pull\n",
    "cargo b --release"
   ]
  },
  {
   "cell_type": "code",
   "execution_count": null,
   "id": "ce19ffa6",
   "metadata": {},
   "outputs": [],
   "source": [
    "import matplotlib.pyplot as plt\n",
    "import numpy as np\n",
    "import pandas as pd\n",
    "import socket\n",
    "import seaborn as sns\n",
    "import sys\n",
    "\n",
    "from pathlib import Path\n",
    "\n",
    "from hscpy.figures import burden as burden_figures\n",
    "from hscpy.figures import sfs as sfs_figures\n",
    "from hscpy.figures import variant as variant_figures\n",
    "from hscpy.figures import options\n",
    "from hscpy.sfs import compute_variants, Correction\n",
    "from hscpy import burden, get_idx_timepoint_from_age\n",
    "\n",
    "from futils import parse_version\n",
    "\n",
    "PATH2BIN = Path(\"~\").expanduser() / \"hsc/target/release\"\n",
    "assert PATH2BIN.is_dir()\n",
    "\n",
    "YEARS = 100\n",
    "YEARS_ENTROPY = 1\n",
    "RUNS = 64\n",
    "NB_TIMEPOINTS = 20\n",
    "DETECTION_THRESH = 0.01\n",
    "SUBCLONES = 60\n",
    "USE_SCRATCH = True\n",
    "mitchell_ages = (0, 29, 38, 48, 63, 75, 81)\n",
    "\n",
    "SAVE = True\n",
    "BIGLABELS = False\n",
    "FIGSIZE = [5, 3] if BIGLABELS else [6.4, 4.8]  # default matplotlib\n",
    "PDF = True\n",
    "EXTENSION = \".pdf\" if PDF else \".png\"\n",
    "NAIVE = True # TODO remove\n",
    "PLOT_OPTIONS = options.PlotOptions(figsize=FIGSIZE, extension=EXTENSION, save=SAVE)"
   ]
  },
  {
   "cell_type": "code",
   "execution_count": null,
   "id": "985e133e",
   "metadata": {},
   "outputs": [],
   "source": [
    "if socket.gethostname() == \"5X9ZYD3\":\n",
    "    PATH2SIMS = Path(\"/mnt/c/Users/terenz01/Documents/SwitchDrive/PhD/hsc\")\n",
    "elif socket.gethostname() == \"LAPTOP-CEKCHJ4C\":\n",
    "    PATH2SIMS = Path(\"/mnt/c/Users/fra_t/Documents/PhD/hsc\")\n",
    "else:\n",
    "    PATH2SIMS = Path(\"~\").expanduser()\n",
    "\n",
    "PATH2SIMS /= Path(\"totalVariantFracTime.csv\")\n",
    "assert PATH2SIMS.is_file(), f\"cannot find totalVariantFracTime.csv from {PATH2SIMS}\""
   ]
  },
  {
   "cell_type": "code",
   "execution_count": null,
   "id": "affa36a0",
   "metadata": {},
   "outputs": [],
   "source": [
    "%%bash -s \"$PATH2BIN\" --out version\n",
    "$1/hsc --version"
   ]
  },
  {
   "cell_type": "code",
   "execution_count": null,
   "id": "554d54b6",
   "metadata": {},
   "outputs": [],
   "source": [
    "VERSION = parse_version(version)\n",
    "if USE_SCRATCH:\n",
    "    if NAIVE:\n",
    "        # PATH2SAVE = Path(f\"/data/scratch/hfx923/hsc-draft/naive/{VERSION}\")\n",
    "        # todo fix regression in naive: job arrays do not take the version\n",
    "        PATH2SAVE = Path(f\"/data/scratch/hfx923/hsc-draft/naive/\")\n",
    "    else:\n",
    "        PATH2SAVE = Path(f\"/data/scratch/hfx923/hsc-draft/{VERSION}\")\n",
    "else:\n",
    "    PATH2SAVE = Path(f\"./{VERSION}\")\n",
    "\n",
    "print(\"Running hsc with version:\", VERSION)"
   ]
  },
  {
   "cell_type": "markdown",
   "id": "f788bd4b",
   "metadata": {
    "tags": []
   },
   "source": [
    "## Mitchell's data"
   ]
  },
  {
   "cell_type": "code",
   "execution_count": null,
   "id": "bf0282ac",
   "metadata": {},
   "outputs": [],
   "source": [
    "summary = pd.read_csv(PATH2SIMS.parent / \"Summary_cut.csv\", index_col=0)\n",
    "summary.cell_type = summary.cell_type.astype(\"category\")\n",
    "summary.sample_type = summary.sample_type.astype(\"category\")\n",
    "summary.sort_values(by=\"age\", inplace=True)\n",
    "summary.reset_index(inplace=True)\n",
    "ages = summary.age.unique()\n",
    "closest_age = dict.fromkeys(ages)\n",
    "# neglect some duplicated colonies e.g. summary.colony_ID == \"11_E07\"\n",
    "summary = summary.merge(\n",
    "    summary[[\"donor_id\", \"age\"]]\n",
    "    .groupby(\"donor_id\")\n",
    "    .count()\n",
    "    .reset_index()\n",
    "    .rename(columns={\"age\": \"cells\"}),\n",
    "    on=\"donor_id\",\n",
    "    validate=\"many_to_one\",\n",
    "    how=\"left\",\n",
    ")\n",
    "summary.dtypes"
   ]
  },
  {
   "cell_type": "code",
   "execution_count": null,
   "id": "19a2afe0",
   "metadata": {},
   "outputs": [],
   "source": [
    "print(summary.describe())\n",
    "print(f\"\\n\\ncell types: \\n{summary.cell_type.value_counts()}\")\n",
    "print(f\"\\n\\nsample types: \\n{summary.sample_type.value_counts()}\")\n",
    "print(f\"\\n\\ntimepoints: \\n{summary.timepoint.value_counts()}\")\n",
    "print(\n",
    "    f'\\n\\nages and cells: \\n{summary[[\"donor_id\", \"cells\", \"age\"]].drop_duplicates()}'\n",
    ")\n",
    "print(\n",
    "    f'\\n\\nmutations per donor: \\n{summary[[\"donor_id\", \"number_mutations\"]].groupby(\"donor_id\").sum()}'\n",
    ")"
   ]
  },
  {
   "cell_type": "code",
   "execution_count": null,
   "id": "3429f098",
   "metadata": {
    "scrolled": true,
    "tags": []
   },
   "outputs": [],
   "source": [
    "for i in summary.donor_id.unique():\n",
    "    fig, ax = plt.subplots(1, 1, tight_layout=True, figsize=(6, 4))\n",
    "    sns.histplot(\n",
    "        data=summary[summary.donor_id == i],\n",
    "        x=\"number_mutations\",\n",
    "        hue=\"donor_id\",\n",
    "        kde=True,\n",
    "        bins=50,\n",
    "        ax=ax,\n",
    "        stat=\"count\",\n",
    "    )\n",
    "    if SAVE:\n",
    "        plt.savefig(f\"./{i}_burden{EXTENSION}\")\n",
    "    plt.show()"
   ]
  },
  {
   "cell_type": "code",
   "execution_count": null,
   "id": "aba9cabd-1658-432c-b97b-58f93c663fcd",
   "metadata": {},
   "outputs": [],
   "source": [
    "descr = summary.loc[summary.age == 0, [\"donor_id\", \"number_mutations\"]].groupby(\"donor_id\").describe()\n",
    "descr"
   ]
  },
  {
   "cell_type": "code",
   "execution_count": null,
   "id": "fdc763cd-16f3-45ce-995b-e98209295eb4",
   "metadata": {},
   "outputs": [],
   "source": [
    "descr[(\"number_mutations\", \"mean\")].mean()/ ( 2 * np.log(200_000 - 2))"
   ]
  },
  {
   "cell_type": "code",
   "execution_count": null,
   "id": "17991679-ff17-43d3-8d02-2f6d709e1960",
   "metadata": {},
   "outputs": [],
   "source": [
    "descr[(\"number_mutations\", \"std\")]**2"
   ]
  },
  {
   "cell_type": "markdown",
   "id": "5b8200aa",
   "metadata": {
    "tags": []
   },
   "source": [
    "## Simulations"
   ]
  },
  {
   "cell_type": "code",
   "execution_count": null,
   "id": "f3c54fbd",
   "metadata": {},
   "outputs": [],
   "source": [
    "SAMPLE_STRONG = int(summary.cells.mean())\n",
    "SAMPLE_WEAK =  SAMPLE_STRONG * 10\n",
    "NCELLS = 200_000\n",
    "# mean of the Bernouilli trial (prob of success) to get an asymmetric\n",
    "# division upon cell division, units are [1 asymmetric division / division]\n",
    "P_ASYMMETRIC = 0\n",
    "\n",
    "# division rate for the wild-type in units of [division / (year * cell)]\n",
    "# Welch, J.S. et al. (2012) ‘The Origin and Evolution of Mutations in Acute Myeloid Leukemia’,\n",
    "# Cell, 150(2), pp. 264–278\n",
    "B0 = 1  # TODO: double check this, should be between 2 and 20?\n",
    "\n",
    "## NEUTRAL RATES with untis [mut/(year * cell)]\n",
    "# \n",
    "# Abascal, F. et al. (2021) ‘Somatic mutation landscapes at single-molecule resolution’,\n",
    "# Nature, 593(7859), pp. 405–410. fig. 2b\n",
    "# see also fig 1b of Mitchell, E. et al.\n",
    "# (2022) ‘Clonal dynamics of haematopoiesis across the human lifespan’,\n",
    "# Nature, 606(7913), pp. 343–350\n",
    "# MITCHELL's has a mutation rate estimate at 16.8\n",
    "# we disantagle the mutation rate into a background and division\n",
    "# such that the sum is 16.8\n",
    "MU_BACKGROUND = 15.5\n",
    "MU_DIVISION = 1.3\n",
    "MU_EXP = 1.3  \n",
    "\n",
    "## FIT CLONES\n",
    "# \n",
    "# avg fit mutations arising in 1 year, units are [mutations/year]\n",
    "# from ABC's inference\n",
    "MU0 = 2\n",
    "# proliferative advantage conferred by fit mutations, all clones\n",
    "# have the same proliferative advantage for now. Units are\n",
    "# [mutation / division]\n",
    "S = 0.11\n",
    "# mean of the Bernouilli trial (prob of success) to get a fit variant upon\n",
    "# cell division, units are [1 mutation/division]\n",
    "u = MU0 / (B0 * NCELLS)\n",
    "# should be 2.0 × 10−3 per HSC per year according to Mitchell, E. et al.\n",
    "# (2022) ‘Clonal dynamics of haematopoiesis across the human lifespan’,\n",
    "# Nature, 606(7913), pp. 343–350\n",
    "# driver mutations enter the HSC compartment at 2.0 × 10−3 per HSC per year\n",
    "print(f\"average sucess rate of occurence of 1 fit mutation upon cell division u={u}\")"
   ]
  },
  {
   "cell_type": "markdown",
   "id": "55190ccc",
   "metadata": {
    "tags": []
   },
   "source": [
    "### Positive selection"
   ]
  },
  {
   "cell_type": "markdown",
   "id": "287e9835-41c0-48db-b6a9-d7b3c616d33c",
   "metadata": {
    "tags": []
   },
   "source": [
    "#### Rust simulations"
   ]
  },
  {
   "cell_type": "markdown",
   "id": "bf5d78e4-c96b-4a7f-b4d2-b758417cd476",
   "metadata": {},
   "source": [
    "We run the simulations with and without subsampling at the same time."
   ]
  },
  {
   "cell_type": "code",
   "execution_count": null,
   "id": "01352f2b-ae30-4000-a8f9-c1867161a8ac",
   "metadata": {},
   "outputs": [],
   "source": [
    "sim_options_population = options.SimulationOptions(\n",
    "    runs=RUNS,\n",
    "    cells=NCELLS,\n",
    "    sample=NCELLS,\n",
    "    path2save=PATH2SAVE,\n",
    "    neutral_rate=MU_BACKGROUND,\n",
    "    nb_timepoints=NB_TIMEPOINTS,\n",
    "    last_timepoint_years=YEARS,\n",
    "    nb_subclones=SUBCLONES,\n",
    "    s=S,\n",
    ")\n",
    "\n",
    "sim_options_subsampling_strong = options.SimulationOptions(\n",
    "    runs=RUNS,\n",
    "    cells=NCELLS,\n",
    "    sample=SAMPLE_STRONG,\n",
    "    path2save=PATH2SAVE,\n",
    "    neutral_rate=MU_BACKGROUND,\n",
    "    nb_timepoints=NB_TIMEPOINTS,\n",
    "    last_timepoint_years=YEARS,\n",
    "    nb_subclones=SUBCLONES,\n",
    "    s=S,\n",
    ")\n",
    "\n",
    "sim_options_subsampling_weak = options.SimulationOptions(\n",
    "    runs=RUNS,\n",
    "    cells=NCELLS,\n",
    "    sample=SAMPLE_WEAK,\n",
    "    path2save=PATH2SAVE,\n",
    "    neutral_rate=MU_BACKGROUND,\n",
    "    nb_timepoints=NB_TIMEPOINTS,\n",
    "    last_timepoint_years=YEARS,\n",
    "    nb_subclones=SUBCLONES,\n",
    "    s=S,\n",
    ")"
   ]
  },
  {
   "cell_type": "code",
   "execution_count": null,
   "id": "1c914562",
   "metadata": {},
   "outputs": [],
   "source": [
    "%%bash -s \"$PATH2BIN\" \"$sim_options_population.path2save\" \"$B0\" \"$MU0\" \"$sim_options_population.neutral_rate\" \"$sim_options_population.s\" \"$P_ASYMMETRIC\" \"$sim_options_population.runs\" \"$sim_options_population.cells\" \"$YEARS\" \"$sim_options_population.nb_timepoints\" \"$sim_options_subsampling_strong.sample\" \"$sim_options_subsampling_weak.sample\" \"$YEARS_ENTROPY\"\n",
    "rm -rf $2\n",
    "$1/hsc -c $9 -y ${10} -r $8 --b0 $3 --mu0 $4 --neutral-rate $5 --p-asymmetric $7 --snapshot-entropy ${14} --subsample ${12} ${13} --snapshots ${11} --mean-std 0.1 0.03 --exponential $2"
   ]
  },
  {
   "cell_type": "code",
   "execution_count": null,
   "id": "da32aca7",
   "metadata": {
    "scrolled": true,
    "tags": []
   },
   "outputs": [],
   "source": [
    "for i, f in enumerate((PATH2SAVE / \"rates/\").iterdir()):\n",
    "    fig, ax = plt.subplots(1, 1)\n",
    "    pd.read_csv(f, header=None).squeeze().plot(kind=\"hist\", ax=ax, bins=15)\n",
    "    ax.set_xlim(0.95, 1.25)  # TODO?\n",
    "    ax.set_title(f\"simulation id: {i}\")\n",
    "    plt.show()"
   ]
  },
  {
   "cell_type": "code",
   "execution_count": null,
   "id": "a6b91c58",
   "metadata": {},
   "outputs": [],
   "source": [
    "donors = sfs_figures.donors_from_mitchell(summary, sim_options_population)"
   ]
  },
  {
   "cell_type": "code",
   "execution_count": null,
   "id": "09b5d81e-2695-47ed-b488-0d24aac691f7",
   "metadata": {},
   "outputs": [],
   "source": [
    "fig, ax = plt.subplots(1, 1, tight_layout=True, figsize=FIGSIZE)\n",
    "sns.histplot(\n",
    "    data=summary,\n",
    "    x=\"number_mutations\",\n",
    "    hue=\"donor_id\",\n",
    "    kde=True,\n",
    "    binwidth=10,\n",
    "    ax=ax,\n",
    "    stat=\"percent\",\n",
    ")\n",
    "sns.move_legend(ax, bbox_to_anchor=(1.01, 1), loc=\"upper left\", frameon=False)\n",
    "if SAVE:\n",
    "    plt.savefig(f\"./mitchell_burden{EXTENSION}\")\n",
    "plt.show()\n",
    "\n",
    "# for later\n",
    "mean_mutations = (\n",
    "    summary[[\"donor_id\", \"number_mutations\"]]\n",
    "    .groupby(\"donor_id\")\n",
    "    .mean()\n",
    "    .reset_index()\n",
    "    .merge(\n",
    "        summary[[\"donor_id\", \"age\"]].drop_duplicates(),\n",
    "        on=\"donor_id\",\n",
    "        how=\"inner\",\n",
    "        validate=\"one_to_one\",\n",
    "    )\n",
    "    .sort_values(by=\"age\")\n",
    ")\n",
    "\n",
    "# fit only the neutral ones (without clonal exp)\n",
    "x = mean_mutations[mean_mutations.age < 70].age.to_numpy()\n",
    "y = mean_mutations[mean_mutations.age < 70].number_mutations.to_numpy()\n",
    "A = np.vstack([x, np.ones(len(x))]).T\n",
    "m, c = np.linalg.lstsq(A, y, rcond=None)[0]"
   ]
  },
  {
   "cell_type": "code",
   "execution_count": null,
   "id": "70325d8b-ce8b-484b-9d07-7d4728f8c94b",
   "metadata": {},
   "outputs": [],
   "source": [
    "%%time\n",
    "# compute the correction for the SFS with sampled distributions from\n",
    "# https://www.biorxiv.org/content/10.1101/2022.11.07.515470v2\n",
    "corrected_variants_one_over_1_squared = dict()\n",
    "for donor in donors:\n",
    "    print(\n",
    "        f\"apply sampling correction to SFS of donor {donor.name} with age {donor.age} mapped to closest_age {donor.closest_age}\"\n",
    "    )\n",
    "    corrected_variants_one_over_1_squared[donor.name] = compute_variants(\n",
    "        Correction.ONE_OVER_F_SQUARED,\n",
    "        pop_size=sim_options_subsampling_strong.cells,\n",
    "        sample_size=donor.cells,\n",
    "    )"
   ]
  },
  {
   "cell_type": "code",
   "execution_count": null,
   "id": "d6917f93-9fa2-4244-b841-abd0ca06745f",
   "metadata": {},
   "outputs": [],
   "source": [
    "age"
   ]
  },
  {
   "cell_type": "markdown",
   "id": "91e7e29f-6916-4e69-ac74-2f05d648874e",
   "metadata": {
    "tags": []
   },
   "source": [
    "#### no subsampling"
   ]
  },
  {
   "cell_type": "code",
   "execution_count": null,
   "id": "10411621-92aa-4ed1-9992-08259754c9ca",
   "metadata": {},
   "outputs": [],
   "source": [
    "my_sfs = dict()\n",
    "age_simulations = np.linspace(0, sim_options_population.last_timepoint_years, sim_options_population.nb_timepoints)[::-1]\n",
    "\n",
    "for i in range(1, sim_options_population.nb_timepoints + 1):\n",
    "    my_sfs[i] = dict()\n",
    "    for file in (sim_options_population.path2save / f\"{sim_options_population.sample}cells/sfs/{i}\").iterdir():\n",
    "        my_sfs[i][file.stem] = burden.load(file)"
   ]
  },
  {
   "cell_type": "code",
   "execution_count": null,
   "id": "2cb6fbc7-fa2a-4d13-9379-ed2f1b2210e8",
   "metadata": {},
   "outputs": [],
   "source": [
    "donor2id = {ele.donor_id: get_idx_timepoint_from_age(ele.age, years=sim_options_population.last_timepoint_years, nb_timepoints=sim_options_population.nb_timepoints, verbosity=False)[0] for ele in summary[[\"donor_id\", \"age\"]].drop_duplicates().itertuples()}\n",
    "donor2id"
   ]
  },
  {
   "cell_type": "code",
   "execution_count": null,
   "id": "ee6e1012-ab39-4b10-aa15-28012145d8d2",
   "metadata": {},
   "outputs": [],
   "source": [
    "from hscpy.figures import mitchell\n",
    "from hscpy import sfs\n",
    "from typing import Dict"
   ]
  },
  {
   "cell_type": "code",
   "execution_count": null,
   "id": "d0233170-3c6c-4e67-aa3f-463f2e01d1a7",
   "metadata": {},
   "outputs": [],
   "source": [
    "def plot_sfs_patient(ax, donor: sfs_figures.Donor, path2mitchell: Path, remove_indels: bool, normalise: bool, options: options.PlotOptions, **kwargs):\n",
    "    if remove_indels:\n",
    "        filtered_matrix = mitchell.filter_mutations(\n",
    "            *mitchell.load_patient(\n",
    "                donor.name,\n",
    "                path2mitchell / f\"mutMatrix{donor.name}.csv\",\n",
    "                path2mitchell / f\"mutType{donor.name}.csv\",\n",
    "            )\n",
    "        )\n",
    "    else:\n",
    "        filtered_matrix = mitchell.load_patient(\n",
    "            donor.name,\n",
    "            path2mitchell / f\"mutMatrix{donor.name}.csv\",\n",
    "            path2mitchell / f\"mutType{donor.name}.csv\",\n",
    "        )[0]\n",
    "\n",
    "    sfs_donor = filtered_matrix.sum(axis=1).value_counts(normalize=True)\n",
    "    sfs_donor.drop(index=sfs_donor[sfs_donor.index == 0].index, inplace=True)\n",
    "    x_sfs = sfs_donor.index.to_numpy(dtype=int)\n",
    "    \n",
    "    my_sfs = {x: y for x,y in zip(x_sfs, sfs_donor.to_numpy())}\n",
    "    return plot_sfs(ax, my_sfs, normalise, options, **kwargs)"
   ]
  },
  {
   "cell_type": "code",
   "execution_count": null,
   "id": "906884d9-f968-4b42-8d53-7c698e91c7d5",
   "metadata": {},
   "outputs": [],
   "source": [
    "def plot_sfs_correction(ax, correction: sfs.CorrectedVariants, cells: int, normalise: bool, options: options.PlotOptions, **kwargs):\n",
    "    x = correction.frequencies[: cells]\n",
    "    f_sampled = correction.corrected_variants\n",
    "    my_sfs = {xx: f for xx, f in zip(x, f_sampled)}\n",
    "    return plot_sfs(ax, my_sfs, normalise, options, **kwargs)"
   ]
  },
  {
   "cell_type": "code",
   "execution_count": null,
   "id": "29a91278-dad5-4450-95ca-bdd46805d0ea",
   "metadata": {},
   "outputs": [],
   "source": [
    "def plot_sfs_sim_with_id(ax, my_sfs: sfs.Sfs, sims: options.SimulationOptions, normalise: bool, options: options.PlotOptions, **kwargs):\n",
    "    return plot_sfs(ax, my_sfs, normalise=normalise, options=options, **kwargs)"
   ]
  },
  {
   "cell_type": "code",
   "execution_count": null,
   "id": "3fc583bd-47e8-4326-9901-6ea61e6b527e",
   "metadata": {},
   "outputs": [],
   "source": [
    "def plot_sfs(ax, my_sfs: sfs.Sfs, normalise: bool, options: options.PlotOptions, **kwargs):\n",
    "    if normalise:\n",
    "        jmuts = list(my_sfs.values())\n",
    "        max_ = max(jmuts)\n",
    "        jmuts = [ele / max_ for ele in jmuts]\n",
    "    jcells = list(my_sfs.keys())\n",
    "    ax.plot(jcells, jmuts, **kwargs)\n",
    "    ax.set_xscale(\"log\")\n",
    "    ax.set_yscale(\"log\")\n",
    "    ax.set_ylabel(\"density of variants with j cells\", fontsize=\"x-large\")\n",
    "    ax.set_xlabel(\"nb of j cells\", fontsize=\"x-large\")\n",
    "    ax.tick_params(axis='both', which='both', labelsize=14)\n",
    "    return ax"
   ]
  },
  {
   "cell_type": "code",
   "execution_count": null,
   "id": "df8221c2-68b8-4a7c-9079-15ec31553b6a",
   "metadata": {},
   "outputs": [],
   "source": [
    "def plot_sfs_avg(ax, my_sfs: Dict[str, sfs.Sfs], sims: options.SimulationOptions, age: int, options: options.PlotOptions, **kwargs):\n",
    "    pooled = burden.pooled_burden(my_sfs)\n",
    "    ax = plot_sfs(ax, pooled, normalise=True, options=options, **kwargs)\n",
    "    return ax"
   ]
  },
  {
   "cell_type": "code",
   "execution_count": null,
   "id": "d9ee2720-2205-447c-b391-68df92644e1d",
   "metadata": {},
   "outputs": [],
   "source": [
    "options_plot = options.PlotOptions(figsize=(6,4), extension=EXTENSION, save=SAVE)"
   ]
  },
  {
   "cell_type": "code",
   "execution_count": null,
   "id": "68de0c79-835a-48b2-b8f5-be1894a0d2e6",
   "metadata": {},
   "outputs": [],
   "source": [
    "fig, ax = plt.subplots(1, 1, figsize=options_plot.figsize, layout=\"tight\")\n",
    "ax = plot_sfs_sim_with_id(\n",
    "    ax, \n",
    "    my_sfs[donor2id['CB001']]['560'], \n",
    "    sim_options_population,normalise=True, \n",
    "    options=options_plot,\n",
    "    color=\"yellowgreen\", marker=\"d\", linestyle=\"\", \n",
    "    alpha=0.6, label=f\"1 run with id {idx}\"\n",
    ")\n",
    "ax = plot_sfs_avg(\n",
    "    ax, \n",
    "    my_sfs[donor2id['CB001']], sim_options_population, age=0, options=options_plot,\n",
    "    color=\"blue\", marker=\".\", linestyle=\"\", label=f\"avg of {sim_options_population.runs} runs\", alpha=0.6\n",
    ")\n",
    "ax = plot_sfs_correction(\n",
    "    ax, corrected_variants_one_over_1_squared['CB001'], sim_options_population.sample, normalise=True, options=options_plot,\n",
    "    color=\"grey\", label=r\"$1/f^2$ sampled\"\n",
    ")\n",
    "ax = plot_sfs_patient(\n",
    "    ax, donors[0], PATH2SIMS.parent, remove_indels=True, normalise=True, options=options_plot,\n",
    "    color=\"purple\", label=f\"{donor.name}, age: {donor.age:.0f}\", marker=\"x\", linestyle=\"\"\n",
    ")\n",
    "ax.legend()\n",
    "plt.show()"
   ]
  },
  {
   "cell_type": "code",
   "execution_count": null,
   "id": "7ad89fbf-6648-4e19-9845-4f97ad3b4656",
   "metadata": {
    "scrolled": true,
    "tags": []
   },
   "outputs": [],
   "source": [
    "for donor, idx in donor2id.items():\n",
    "    fig, ax = plt.subplots(1, 1)\n",
    "    pooled = burden.pooled_burden(my_sfs[idx])\n",
    "    jmuts = list(pooled.values())\n",
    "    max_ = max(jmuts)\n",
    "    ax.plot(list(pooled.keys()), [ele / max_ for ele in jmuts], linestyle=\"\", marker=\".\")\n",
    "    ax.plot(list(pooled.keys()), [ele / max_ for ele in jmuts], linestyle=\"\", marker=\".\")\n",
    "    ax.set_xscale(\"log\")\n",
    "    ax.set_yscale(\"log\")\n",
    "    ax.set_ylabel(\"density of variants with j cells\", fontsize=\"x-large\")\n",
    "    ax.set_xlabel(\"nb of j cells\", fontsize=\"x-large\")\n",
    "    ax.tick_params(axis='both', which='both', labelsize=14)\n",
    "    ax.set_title(f\"SFS computed from {RUNS} runs for age {age:.0f}\")\n",
    "    plt.tight_layout()\n",
    "    if SAVE:\n",
    "        plt.savefig(f\"SFS_{sim_options_population.sample}cells_{int(round(age, 0))}age{EXTENSION}\")\n",
    "    plt.show()"
   ]
  },
  {
   "cell_type": "code",
   "execution_count": null,
   "id": "591fe1eb-60ae-4347-b4d7-fa1708139f9d",
   "metadata": {},
   "outputs": [],
   "source": [
    "my_burden = dict()\n",
    "for i in range(1, sim_options_population.nb_timepoints + 1):\n",
    "    my_burden[i] = burden.load_burden(sim_options_population.path2save, sim_options_population.runs, sim_options_population.sample, timepoint=i)"
   ]
  },
  {
   "cell_type": "code",
   "execution_count": null,
   "id": "f795bb18-48a7-4aef-9363-f396deaa1aa7",
   "metadata": {
    "tags": []
   },
   "outputs": [],
   "source": [
    "fig, ax = plt.subplots(1, 1, figsize=FIGSIZE)\n",
    "ax.plot(\n",
    "    summary[\"age\"], summary[\"number_mutations\"], linestyle=\"\", marker=\"o\", \n",
    "    alpha=0.4, label=\"Mitchell's\", mew=2,\n",
    ")\n",
    "ax.plot(mean_mutations.age, mean_mutations.number_mutations, \"x\", c=\"orange\", label=\"avg Mitchell's\", mew=2)\n",
    "ax.plot(age_simulations, m * age_simulations + c, linestyle=\"--\", c=\"orange\", label=f\"fit Mitchell's, m={m:.1f}, c={c:.1f}\")\n",
    "\n",
    "means = []\n",
    "for idx, age in enumerate(age_simulations, 1):\n",
    "    # plot only the snvs\n",
    "    pooled = burden.pooled_burden(my_burden[idx])\n",
    "    mean = burden.compute_mean_variance(pooled)[0]\n",
    "    means.append(mean)\n",
    "    snvs = [k for k, i in pooled.items() if i > 0.0]\n",
    "    ax.plot([age] * len(snvs), snvs, \"o\", c=\"grey\", alpha=0.01, label=\"sims\" if idx == 1 else None)\n",
    "ax.plot(age_simulations, means, \"v\", label=f\"avg from {sim_options_population.runs} sims\", c=\"yellowgreen\", mew=2)\n",
    "\n",
    "A_sims = np.vstack([age_simulations, np.ones(len(age_simulations))]).T\n",
    "m_sims, c_sims = np.linalg.lstsq(A_sims, means, rcond=None)[0]\n",
    "ax.plot(age_simulations, m_sims * age_simulations + c_sims, linestyle=\"--\", c=\"yellowgreen\", \n",
    "        label=f\"fit sim's, m={m_sims:.1f}, c={c_sims:.1f}\")\n",
    "\n",
    "ax.set_xlabel(\"age [years]\", fontsize=\"xx-large\")\n",
    "ax.set_ylabel(\"number of SNVs\", fontsize=\"xx-large\")\n",
    "ax.tick_params(axis='both', which='major', labelsize=15)\n",
    "leg = ax.legend(prop={'size': 11}, fancybox=False)\n",
    "for lh in leg.legend_handles: \n",
    "    lh.set_alpha(0.6)\n",
    "fig.tight_layout()\n",
    "if SAVE:\n",
    "    plt.savefig(f\"burden{EXTENSION}\")\n",
    "plt.show()"
   ]
  },
  {
   "cell_type": "code",
   "execution_count": null,
   "id": "9a715b8a-a6d1-45f3-be94-d860130e495a",
   "metadata": {},
   "outputs": [],
   "source": [
    "fig, ax = plt.subplots(1, 1, tight_layout=True, figsize=(6, 4))\n",
    "sns.histplot(\n",
    "    data=summary[summary.age == 0],\n",
    "    x=\"number_mutations\",\n",
    "    hue=\"donor_id\",\n",
    "    kde=True,\n",
    "    bins=50,\n",
    "    ax=ax,\n",
    "    stat=\"density\",\n",
    ")\n",
    "pooled = burden.pooled_burden(my_burden[len(age_simulations)])\n",
    "ax.bar(x=list(pooled.keys()), height=list(pooled.values()), width=1, color=\"purple\", alpha=0.3, edgecolor=\"black\", align=\"edge\", label=f\"{RUNS} sims\")\n",
    "mean = sum([k * v for k, v in pooled.items()])\n",
    "ax.vlines(x=mean, ymin=0, ymax=0.06, color=\"purple\", linestyle=\"--\")\n",
    "ax.set_xlabel(\"number of SNVs\", fontsize=\"xx-large\")\n",
    "ax.set_ylabel(\"density\", fontsize=\"xx-large\")\n",
    "ax.tick_params(axis='both', which='major', labelsize=15)\n",
    "ax.legend([\"CB001\", \"CB002\", f\"simulation's mean={mean:.2f}\"], prop={'size': 12}, fancybox=False)\n",
    "if SAVE:\n",
    "    plt.savefig(f\"burden_year0{EXTENSION}\")\n",
    "plt.show()"
   ]
  },
  {
   "cell_type": "code",
   "execution_count": null,
   "id": "420f86a9-43f4-47ec-a4c6-ec33a04a51dc",
   "metadata": {
    "scrolled": true,
    "tags": []
   },
   "outputs": [],
   "source": [
    "variant_figures.show_variant_plots(\n",
    "    sim_options_population, PLOT_OPTIONS, PATH2SIMS, DETECTION_THRESH\n",
    ")"
   ]
  },
  {
   "cell_type": "markdown",
   "id": "268634f0-e3e4-4412-b80e-ec053f5882e2",
   "metadata": {
    "tags": []
   },
   "source": [
    "#### weak subsampling"
   ]
  },
  {
   "cell_type": "code",
   "execution_count": null,
   "id": "afd2da46-891a-42c1-8bfc-4762b300b907",
   "metadata": {},
   "outputs": [],
   "source": [
    "%%time\n",
    "# load simulated sfs for all the ages of the donors present in the data\n",
    "sfs_age_simulations = sfs_figures.load_sfs_simulations(\n",
    "    donors, sim_options_subsampling_weak\n",
    ")"
   ]
  },
  {
   "cell_type": "code",
   "execution_count": null,
   "id": "f408349e-3afe-475a-b4cc-cd9802bd0d2d",
   "metadata": {},
   "outputs": [],
   "source": [
    "my_sfs = dict()\n",
    "for i in range(1, sim_options_subsampling_weak.nb_timepoints + 1):\n",
    "    my_sfs[i] = dict()\n",
    "    for file in (sim_options_subsampling_weak.path2save / f\"{sim_options_subsampling_weak.sample}cells/sfs/{i}\").iterdir():\n",
    "        my_sfs[i][file.stem] = burden.load(file)"
   ]
  },
  {
   "cell_type": "code",
   "execution_count": null,
   "id": "89d1a940-7ec1-462f-b8cb-5463d3565425",
   "metadata": {
    "scrolled": true,
    "tags": []
   },
   "outputs": [],
   "source": [
    "for idx, age in enumerate(age_simulations, 1):\n",
    "    fig, ax = plt.subplots(1, 1)\n",
    "    pooled = burden.pooled_burden(my_sfs[idx])\n",
    "    jmuts = list(pooled.values())\n",
    "    max_ = max(jmuts)\n",
    "    ax.plot(list(pooled.keys()), [ele / max_ for ele in jmuts], linestyle=\"\", marker=\".\")\n",
    "    ax.set_xscale(\"log\")\n",
    "    ax.set_yscale(\"log\")\n",
    "    ax.set_ylabel(\"density of variants with j cells\", fontsize=\"x-large\")\n",
    "    ax.set_xlabel(\"nb of j cells\", fontsize=\"x-large\")\n",
    "    ax.tick_params(axis='both', which='both', labelsize=14)\n",
    "    ax.set_title(f\"SFS computed from {RUNS} runs for age {age:.0f}\")\n",
    "    plt.tight_layout()\n",
    "    if SAVE:\n",
    "        plt.savefig(f\"SFS_{sim_options_subsampling_weak.sample}cells_{int(round(age, 0))}age{EXTENSION}\")\n",
    "    plt.show()"
   ]
  },
  {
   "cell_type": "code",
   "execution_count": null,
   "id": "ecaac6bc-4d20-4257-a028-ed400eca1d41",
   "metadata": {},
   "outputs": [],
   "source": [
    "fig, ax = plt.subplots(1, 1, figsize=options_plot.figsize, layout=\"tight\")\n",
    "ax = plot_sfs_sim_with_id(\n",
    "    ax, \n",
    "    my_sfs[donor2id['CB001']]['560'], \n",
    "    sim_options_subsampling_weak,normalise=True, \n",
    "    options=options_plot,\n",
    "    color=\"yellowgreen\", marker=\"d\", linestyle=\"\", \n",
    "    alpha=0.6, label=f\"1 run with id {idx}\"\n",
    ")\n",
    "ax = plot_sfs_avg(\n",
    "    ax, \n",
    "    my_sfs[donor2id['CB001']], sim_options_subsampling_weak, age=0, options=options_plot,\n",
    "    color=\"blue\", marker=\".\", linestyle=\"\", label=f\"avg of {sim_options_subsampling_weak.runs} runs\", alpha=0.6\n",
    ")\n",
    "ax = plot_sfs_correction(\n",
    "    ax, corrected_variants_one_over_1_squared['CB001'], sim_options_subsampling_weak.sample, normalise=True, options=options_plot,\n",
    "    color=\"grey\", label=r\"$1/f^2$ sampled\"\n",
    ")\n",
    "ax = plot_sfs_patient(\n",
    "    ax, donors[0], PATH2SIMS.parent, remove_indels=True, normalise=True, options=options_plot,\n",
    "    color=\"purple\", label=f\"{donor.name}, age: {donor.age:.0f}\", marker=\"x\", linestyle=\"\"\n",
    ")\n",
    "ax.legend()\n",
    "plt.show()"
   ]
  },
  {
   "cell_type": "code",
   "execution_count": null,
   "id": "936e52a3-de7b-46e7-a87e-57dea7f681b1",
   "metadata": {},
   "outputs": [],
   "source": [
    "my_burden = dict()\n",
    "for i in range(1, sim_options_population.nb_timepoints + 1):\n",
    "    my_burden[i] = burden.load_burden(sim_options_subsampling_weak.path2save, sim_options_subsampling_weak.runs, sim_options_subsampling_weak.sample, timepoint=i)"
   ]
  },
  {
   "cell_type": "code",
   "execution_count": null,
   "id": "977dd3f3-0651-4c9e-9735-c4270adc8c9a",
   "metadata": {},
   "outputs": [],
   "source": [
    "fig, ax = plt.subplots(1, 1, figsize=FIGSIZE)\n",
    "ax.plot(\n",
    "    summary[\"age\"], summary[\"number_mutations\"], linestyle=\"\", marker=\"o\", \n",
    "    alpha=0.4, label=\"Mitchell's\", mew=2,\n",
    ")\n",
    "ax.plot(x, y, \"x\", c=\"orange\", label=\"avg Mitchell's\", mew=2)\n",
    "age_simulations = np.linspace(0, sim_options_subsampling_weak.last_timepoint_years, sim_options_subsampling_weak.nb_timepoints)[::-1]\n",
    "ax.plot(age_simulations, m * age_simulations + c, linestyle=\"--\", c=\"orange\", label=f\"fit m={m:.1f}, c={c:.1f}\")\n",
    "\n",
    "means = []\n",
    "for idx, age in enumerate(age_simulations, 1):\n",
    "    # plot only the snvs\n",
    "    pooled = burden.pooled_burden(my_burden[idx])\n",
    "    mean = burden.compute_mean_variance(pooled)[0]\n",
    "    means.append(mean)\n",
    "    snvs = [k for k, i in pooled.items() if i > 0.0]\n",
    "    ax.plot([age] * len(snvs), snvs, \"o\", c=\"grey\", alpha=0.01, label=\"simulations\" if idx == 1 else None)\n",
    "ax.plot(age_simulations, means, \"v\", label=f\"avg from {sim_options_subsampling_weak.runs} runs\", c=\"yellowgreen\", mew=2)\n",
    "\n",
    "A_sims = np.vstack([age_simulations, np.ones(len(age_simulations))]).T\n",
    "m_sims, c_sims = np.linalg.lstsq(A_sims, means, rcond=None)[0]\n",
    "ax.plot(age_simulations, m_sims * age_simulations + c_sims, linestyle=\"--\", c=\"yellowgreen\", \n",
    "        label=f\"fit m={m_sims:.1f}, c={c_sims:.1f}\")\n",
    "\n",
    "ax.set_xlabel(\"age [years]\", fontsize=\"xx-large\")\n",
    "ax.set_ylabel(\"number of SNVs\", fontsize=\"xx-large\")\n",
    "ax.tick_params(axis='both', which='major', labelsize=15)\n",
    "leg = ax.legend(prop={'size': 13}, fancybox=False)\n",
    "for lh in leg.legend_handles: \n",
    "    lh.set_alpha(0.6)\n",
    "fig.tight_layout()\n",
    "if SAVE:\n",
    "    plt.savefig(f\"burden{EXTENSION}\")\n",
    "plt.show()"
   ]
  },
  {
   "cell_type": "markdown",
   "id": "80a0133f",
   "metadata": {
    "tags": []
   },
   "source": [
    "#### strong subsampling"
   ]
  },
  {
   "cell_type": "code",
   "execution_count": null,
   "id": "d498ec8f-6d2a-4a8a-bacc-e1554ba36ecb",
   "metadata": {},
   "outputs": [],
   "source": [
    "%%time\n",
    "# load simulated sfs for all the ages of the donors present in the data\n",
    "sfs_age_simulations = sfs_figures.load_sfs_simulations(\n",
    "    donors, sim_options_subsampling_strong\n",
    ")"
   ]
  },
  {
   "cell_type": "code",
   "execution_count": null,
   "id": "0b2fc71c-c512-4770-ac47-1012064f4936",
   "metadata": {},
   "outputs": [],
   "source": [
    "my_sfs = dict()\n",
    "for i in range(1, sim_options_subsampling_strong.nb_timepoints + 1):\n",
    "    my_sfs[i] = dict()\n",
    "    for file in (sim_options_subsampling_strong.path2save / f\"{sim_options_subsampling_strong.sample}cells/sfs/{i}\").iterdir():\n",
    "        my_sfs[i][file.stem] = burden.load(file)"
   ]
  },
  {
   "cell_type": "code",
   "execution_count": null,
   "id": "6928562b-1bbd-4c93-85d6-ca88a7d23bf6",
   "metadata": {
    "scrolled": true,
    "tags": []
   },
   "outputs": [],
   "source": [
    "for idx, age in enumerate(age_simulations, 1):\n",
    "    fig, ax = plt.subplots(1, 1)\n",
    "    pooled = burden.pooled_burden(my_sfs[idx])\n",
    "    jmuts = list(pooled.values())\n",
    "    max_ = max(jmuts)\n",
    "    ax.plot(list(pooled.keys()), [ele / max_ for ele in jmuts], linestyle=\"\", marker=\".\")\n",
    "    ax.set_xscale(\"log\")\n",
    "    ax.set_yscale(\"log\")\n",
    "    ax.set_ylabel(\"density of variants with j cells\", fontsize=\"x-large\")\n",
    "    ax.set_xlabel(\"nb of j cells\", fontsize=\"x-large\")\n",
    "    ax.tick_params(axis='both', which='both', labelsize=14)\n",
    "    ax.set_title(f\"SFS computed from {RUNS} runs for age {age:.0f}\")\n",
    "    plt.tight_layout()\n",
    "    if SAVE:\n",
    "        plt.savefig(f\"SFS_{sim_options_subsampling_strong.sample}cells_{int(round(age, 0))}age{EXTENSION}\")\n",
    "    plt.show()"
   ]
  },
  {
   "cell_type": "code",
   "execution_count": null,
   "id": "9dcd4fda-ae69-4fa0-a5a4-3a57108996ec",
   "metadata": {},
   "outputs": [],
   "source": [
    "donors"
   ]
  },
  {
   "cell_type": "code",
   "execution_count": null,
   "id": "f4a37019-27be-4ed4-8f36-5353231c175e",
   "metadata": {},
   "outputs": [],
   "source": [
    "fig, ax = plt.subplots(1, 1, figsize=options_plot.figsize, layout=\"tight\")\n",
    "donor = donors[7]\n",
    "ax = plot_sfs_patient(\n",
    "    ax, donor, PATH2SIMS.parent, remove_indels=False, normalise=True, options=options_plot,\n",
    "    color=\"purple\", label=f\"{donor.name}, age: {donor.age:.0f}\", marker=\"x\", linestyle=\"\"\n",
    ")\n",
    "ax.legend()\n",
    "plt.show()"
   ]
  },
  {
   "cell_type": "code",
   "execution_count": null,
   "id": "b2474c31-5452-4aa4-92f1-26cd01cf8191",
   "metadata": {},
   "outputs": [],
   "source": [
    "fig, ax = plt.subplots(1, 1, figsize=options_plot.figsize, layout=\"tight\")\n",
    "donor = donors[6]\n",
    "ax = plot_sfs_patient(\n",
    "    ax, donor, PATH2SIMS.parent, remove_indels=False, normalise=True, options=options_plot,\n",
    "    color=\"purple\", label=f\"{donor.name}, age: {donor.age:.0f}\", marker=\"x\", linestyle=\"\"\n",
    ")\n",
    "ax.legend()\n",
    "plt.show()"
   ]
  },
  {
   "cell_type": "code",
   "execution_count": null,
   "id": "1911ce68-575f-4ade-977b-151f78db5fb7",
   "metadata": {},
   "outputs": [],
   "source": [
    "fig, ax = plt.subplots(1, 1, figsize=options_plot.figsize, layout=\"tight\")\n",
    "donor = donors[6]\n",
    "ax = plot_sfs_patient(\n",
    "    ax, donor, PATH2SIMS.parent, remove_indels=True, normalise=True, options=options_plot,\n",
    "    color=\"purple\", label=f\"{donor.name}, age: {donor.age:.0f}\", marker=\"x\", linestyle=\"\"\n",
    ")\n",
    "ax.legend()\n",
    "plt.show()"
   ]
  },
  {
   "cell_type": "code",
   "execution_count": null,
   "id": "7a55eced-b06f-4bc3-875b-ad248d3804ac",
   "metadata": {},
   "outputs": [],
   "source": [
    "fig, ax = plt.subplots(1, 1, figsize=options_plot.figsize, layout=\"tight\")\n",
    "donor = donors[5]\n",
    "ax = plot_sfs_patient(\n",
    "    ax, donor, PATH2SIMS.parent, remove_indels=True, normalise=True, options=options_plot,\n",
    "    color=\"purple\", label=f\"{donor.name}, age: {donor.age:.0f}\", marker=\"x\", linestyle=\"\"\n",
    ")\n",
    "ax.legend()\n",
    "plt.show()"
   ]
  },
  {
   "cell_type": "code",
   "execution_count": null,
   "id": "fa1c5b7f-c59f-4c95-a212-e42362179cc7",
   "metadata": {},
   "outputs": [],
   "source": [
    "fig, ax = plt.subplots(1, 1, figsize=options_plot.figsize, layout=\"tight\")\n",
    "donor = donors[5]\n",
    "ax = plot_sfs_patient(\n",
    "    ax, donor, PATH2SIMS.parent, remove_indels=False, normalise=True, options=options_plot,\n",
    "    color=\"purple\", label=f\"{donor.name}, age: {donor.age:.0f}\", marker=\"x\", linestyle=\"\"\n",
    ")\n",
    "ax.legend()\n",
    "plt.show()"
   ]
  },
  {
   "cell_type": "code",
   "execution_count": null,
   "id": "6cd78a9a-d58e-4000-a163-905b26c48031",
   "metadata": {},
   "outputs": [],
   "source": [
    "idx2show = '560'\n",
    "for donor in donors:\n",
    "    fig, ax = plt.subplots(1, 1, figsize=options_plot.figsize, layout=\"tight\")\n",
    "    ax = plot_sfs_sim_with_id(\n",
    "        ax, \n",
    "        my_sfs[donor2id[donor.name]][idx2show], \n",
    "        sim_options_subsampling_strong,normalise=True, \n",
    "        options=options_plot,\n",
    "        color=\"yellowgreen\", marker=\"d\", linestyle=\"\", \n",
    "        alpha=0.6, label=f\"1 run with id {idx2show}\"\n",
    "    )\n",
    "    ax = plot_sfs_avg(\n",
    "        ax, \n",
    "        my_sfs[donor2id[donor.name]], sim_options_subsampling_strong, age=0, options=options_plot,\n",
    "        color=\"blue\", linestyle=\"-\", label=f\"avg of {sim_options_subsampling_strong.runs} runs\", alpha=0.6\n",
    "    )\n",
    "    ax = plot_sfs_correction(\n",
    "        ax, corrected_variants_one_over_1_squared[donor.name], sim_options_subsampling_strong.sample, normalise=True, options=options_plot,\n",
    "        color=\"grey\", label=r\"$1/f^2$ sampled\"\n",
    "    )\n",
    "    ax = plot_sfs_patient(\n",
    "        ax, donor, PATH2SIMS.parent, remove_indels=False, normalise=True, options=options_plot,\n",
    "        color=\"purple\", label=f\"{donor.name}, age: {donor.age:.0f}\", marker=\"x\", linestyle=\"\"\n",
    "    )\n",
    "    ax.legend()\n",
    "    plt.tight_layout()\n",
    "    if options_plot.save:\n",
    "        plt.savefig(f\"SFS_{sim_options_subsampling_strong.sample}cells_{donor.name}{EXTENSION}\")\n",
    "    plt.show()"
   ]
  },
  {
   "cell_type": "markdown",
   "id": "034bd20e-c756-4638-be3f-076d47d33c80",
   "metadata": {
    "jp-MarkdownHeadingCollapsed": true,
    "tags": []
   },
   "source": [
    "### Competition vs neutral vs 1 clone (logistic fn)"
   ]
  },
  {
   "cell_type": "code",
   "execution_count": null,
   "id": "8a76c6a7-2d67-47ec-a807-fb61c7324453",
   "metadata": {},
   "outputs": [],
   "source": [
    "# TODO 1 clone logistic fn"
   ]
  },
  {
   "cell_type": "markdown",
   "id": "fea6dd30",
   "metadata": {
    "jp-MarkdownHeadingCollapsed": true,
    "tags": []
   },
   "source": [
    "### Neutral scenario"
   ]
  },
  {
   "cell_type": "code",
   "execution_count": null,
   "id": "24c087b1-18dc-4215-9555-628c0261b468",
   "metadata": {},
   "outputs": [],
   "source": [
    "%%bash -s \"$PATH2BIN\" \"$sim_options_subsampling_strong.path2save\" \"$B0\" \"$MU0\" \"$sim_options_population.neutral_rate\" \"$sim_options_population.s\" \"$P_ASYMMETRIC\" \"$sim_options_population.runs\" \"$sim_options_population.cells\" \"$YEARS\" \"$sim_options_population.nb_timepoints\" \"$sim_options_subsampling_strong.sample\" \"$sim_options_subsampling_weak.sample\" \"$YEARS_ENTROPY\"\n",
    "rm -rf $2\n",
    "$1/hsc -c $9 -y ${10} -r $8 --b0 $3 --mu0 $4 --neutral-rate $5 --p-asymmetric $7 --snapshot-entropy ${14} --subsample ${12} ${13} --snapshots ${11} --neutral --exponential $2"
   ]
  },
  {
   "cell_type": "code",
   "execution_count": null,
   "id": "24ecc676-16e6-455f-84fd-ec4acd7c7a58",
   "metadata": {},
   "outputs": [],
   "source": [
    "sfs_figures.show_entropy_plots(\n",
    "    sim_options_population, PLOT_OPTIONS, mitchell_ages, early_variants_only=True\n",
    ")\n",
    "\n",
    "sfs_figures.show_entropy_plots(\n",
    "    sim_options_population, PLOT_OPTIONS, mitchell_ages, early_variants_only=False\n",
    ")"
   ]
  },
  {
   "cell_type": "code",
   "execution_count": null,
   "id": "3d467ebe-db7c-493f-be38-76746ea41ebf",
   "metadata": {},
   "outputs": [],
   "source": [
    "sfs_figures.show_entropy_plots(\n",
    "    sim_options_subsampling_weak, PLOT_OPTIONS, mitchell_ages, early_variants_only=True\n",
    ")\n",
    "\n",
    "sfs_figures.show_entropy_plots(\n",
    "    sim_options_subsampling_weak, PLOT_OPTIONS, mitchell_ages, early_variants_only=False\n",
    ")"
   ]
  },
  {
   "cell_type": "code",
   "execution_count": null,
   "id": "51201abb-d891-48e4-9059-5c1e2d865141",
   "metadata": {},
   "outputs": [],
   "source": [
    "sfs_figures.show_entropy_plots(\n",
    "    sim_options_subsampling_strong,\n",
    "    PLOT_OPTIONS,\n",
    "    mitchell_ages,\n",
    "    early_variants_only=True,\n",
    ")\n",
    "\n",
    "sfs_figures.show_entropy_plots(\n",
    "    sim_options_subsampling_strong,\n",
    "    PLOT_OPTIONS,\n",
    "    mitchell_ages,\n",
    "    early_variants_only=False,\n",
    ")"
   ]
  }
 ],
 "metadata": {
  "kernelspec": {
   "display_name": "hsc-draft",
   "language": "python",
   "name": "hsc-draft"
  },
  "language_info": {
   "codemirror_mode": {
    "name": "ipython",
    "version": 3
   },
   "file_extension": ".py",
   "mimetype": "text/x-python",
   "name": "python",
   "nbconvert_exporter": "python",
   "pygments_lexer": "ipython3",
   "version": "3.11.4"
  }
 },
 "nbformat": 4,
 "nbformat_minor": 5
}
