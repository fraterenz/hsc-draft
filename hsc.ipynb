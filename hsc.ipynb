{
 "cells": [
  {
   "cell_type": "markdown",
   "id": "3509fddf",
   "metadata": {},
   "source": [
    "# HSC\n",
    "Markov process with fixed-size population with k-types such that the type 0 is the wild-type with growth rate of `B0`. \n",
    "\n",
    "A cells can get a mutation conferring a proliferative advantage upon cell division. We model this process with a Bernouilli trial with success probability of `u`, with units of 1 mutation/division. To compute `u` we can do `u =  MU0 / (2 * B0 * NCELLS)` for the symmetric division case.\n",
    "\n",
    "For now, all k clones have the same proliferative advantage with k greater than 0."
   ]
  },
  {
   "cell_type": "code",
   "execution_count": null,
   "id": "ce19ffa6",
   "metadata": {},
   "outputs": [],
   "source": [
    "import matplotlib.pyplot as plt\n",
    "import json\n",
    "import numpy as np\n",
    "import pandas as pd\n",
    "import socket\n",
    "import seaborn as sns\n",
    "import sys\n",
    "from scipy import stats\n",
    "from pathlib import Path\n",
    "from ecdna_figures import dynamics, parse_version, distribution\n",
    "\n",
    "PATH2BIN = Path(\"~\").expanduser() / \"hsc/target/release\"\n",
    "assert PATH2BIN.is_dir()\n",
    "FIGSIZE = [7, 3]\n",
    "PDF = True\n",
    "EXTENSION = \".pdf\" if PDF else \".png\"\n",
    "YEARS_FAST = 20\n",
    "RUNS = 24\n",
    "SAVE = False"
   ]
  },
  {
   "cell_type": "code",
   "execution_count": null,
   "id": "d40ff0f6",
   "metadata": {},
   "outputs": [],
   "source": [
    "NCELLS = 200_000\n",
    "# mean of the Bernouilli trial (prob of success) to get an asymmetric\n",
    "# division upon cell division, units are [1 asymmetric division / division]\n",
    "P_ASYMMETRIC = 0\n",
    "\n",
    "## NEUTRAL RATES\n",
    "# division rate for the wild-type in units of\n",
    "# [division / (year * cell)]\n",
    "# Welch, J.S. et al. (2012) ‘The Origin and Evolution of Mutations in Acute Myeloid Leukemia’,\n",
    "# Cell, 150(2), pp. 264–278\n",
    "B0 = 1  # TODO: double check this, should be between 2 and 20?\n",
    "# Abascal, F. et al. (2021) ‘Somatic mutation landscapes at single-molecule resolution’,\n",
    "# Nature, 593(7859), pp. 405–410. fig. 2b\n",
    "# see also fig 1b of Mitchell, E. et al.\n",
    "# (2022) ‘Clonal dynamics of haematopoiesis across the human lifespan’,\n",
    "# Nature, 606(7913), pp. 343–350\n",
    "NEUTRAL_RATE = 20  # [mut/(year * cell)]\n",
    "\n",
    "## FIT CLONES\n",
    "# avg fit mutations arising in 1 year, units are [mutations/year]\n",
    "# from ABC's inference\n",
    "MU0 = 2\n",
    "# proliferative advantage conferred by fit mutations, all clones\n",
    "# have the same proliferative advantage for now. Units are\n",
    "# [mutation / division]\n",
    "S = 0.11\n",
    "# mean of the Bernouilli trial (prob of success) to get a fit variant upon\n",
    "# cell division, units are [1 mutation/division]\n",
    "if not P_ASYMMETRIC:\n",
    "    u = MU0 / (2 * B0 * NCELLS)\n",
    "else:\n",
    "    u = MU0 / (B0 * NCELLS)\n",
    "# should be 2.0 × 10−3 per HSC per year according to Mitchell, E. et al.\n",
    "# (2022) ‘Clonal dynamics of haematopoiesis across the human lifespan’,\n",
    "# Nature, 606(7913), pp. 343–350\n",
    "# driver mutations enter the HSC compartment at 2.0 × 10−3 per HSC per year\n",
    "print(f\"average sucess rate of occurence of 1 fit mutation upon cell division u={u}\")"
   ]
  },
  {
   "cell_type": "code",
   "execution_count": null,
   "id": "985e133e",
   "metadata": {},
   "outputs": [],
   "source": [
    "if socket.gethostname() == \"5X9ZYD3\":\n",
    "    PATH2SIMS = Path(\n",
    "        \"/mnt/c/Users/terenz01/Documents/SwitchDrive/PhD/variantFractionTime_s0.15_sigma0.03_mu2.csv\"\n",
    "    )\n",
    "    YEARS = YEARS_FAST\n",
    "elif socket.gethostname() == \"LAPTOP-CEKCHJ4C\":\n",
    "    PATH2SIMS = Path(\n",
    "        \"/mnt/c/Users/fra_t/Documents/PhD/variantFractionTime_s0.15_sigma0.03_mu2.csv\"\n",
    "    )\n",
    "    # need + 1 to save the last timepoint\n",
    "    YEARS = YEARS_FAST\n",
    "else:\n",
    "    PATH2SIMS = Path(\"~\").expanduser() / Path(\n",
    "        \"variantFractionTime_s0.15_sigma0.03_mu2.csv\"\n",
    "    )\n",
    "    YEARS = 100\n",
    "\n",
    "# need + 1 to save the last timepoint\n",
    "YEARS += 1\n",
    "x = np.linspace(0.1, YEARS, 10)\n",
    "assert PATH2SIMS.is_file()"
   ]
  },
  {
   "cell_type": "code",
   "execution_count": null,
   "id": "affa36a0",
   "metadata": {},
   "outputs": [],
   "source": [
    "%%bash -s \"$PATH2BIN\" --out version\n",
    "$1/hsc --version"
   ]
  },
  {
   "cell_type": "code",
   "execution_count": null,
   "id": "554d54b6",
   "metadata": {},
   "outputs": [],
   "source": [
    "VERSION = parse_version(version)\n",
    "PATH2SAVE = Path(f\"./{VERSION}\")\n",
    "print(\"Running hsc with version:\", VERSION)"
   ]
  },
  {
   "cell_type": "code",
   "execution_count": null,
   "id": "1c914562",
   "metadata": {},
   "outputs": [],
   "source": [
    "%%bash -s \"$PATH2BIN\" \"$PATH2SAVE\" \"$B0\" \"$MU0\" \"$NEUTRAL_RATE\" \"$S\" \"$P_ASYMMETRIC\" \"$RUNS\" \"$NCELLS\" \"$YEARS\"\n",
    "rm -rf $2\n",
    "$1/hsc -c $9 -y ${10} -r $8 --b0 $3 --mu0 $4 --neutral-rate $5 -s $6 --p-asymmetric $7 $2"
   ]
  },
  {
   "cell_type": "markdown",
   "id": "4dfcd265",
   "metadata": {},
   "source": [
    "## The SFS"
   ]
  },
  {
   "cell_type": "code",
   "execution_count": null,
   "id": "8661c1f5",
   "metadata": {},
   "outputs": [],
   "source": [
    "def load_sfs(path2dir: Path, neutral: bool):\n",
    "    # load all sfs\n",
    "    sfs = dict()\n",
    "    for file in (PATH2SAVE / \"sfs_neutral\" if neutral else PATH2SAVE / \"sfs\").iterdir():\n",
    "        try:\n",
    "            with open(file, \"r\") as f:\n",
    "                sfs[file.stem] = {int(x): int(y) for x, y in json.load(f).items()}\n",
    "        except json.JSONDecodeError as e:\n",
    "            print(f\"Error in opening {file} {e}\")\n",
    "            sys.exit(1)\n",
    "    return sfs"
   ]
  },
  {
   "cell_type": "code",
   "execution_count": null,
   "id": "1b28eec9",
   "metadata": {},
   "outputs": [],
   "source": [
    "neutral_sfs = load_sfs(PATH2SAVE, neutral=True)\n",
    "# add zeros for values which are not present in all SFS\n",
    "neutral_sfs_uniformised = distribution.uniformise(list(neutral_sfs.values()))\n",
    "jcells = range(0, max(neutral_sfs_uniformised[0].keys()) + 1)\n",
    "# take the Nj mutations for all simulations\n",
    "avg_neutral_sfs = np.asarray(\n",
    "    [list(n.values()) for n in neutral_sfs_uniformised], dtype=float\n",
    ")\n",
    "# compute the average, not pooling this time\n",
    "avg_neutral_sfs = np.mean(avg_neutral_sfs, axis=0)"
   ]
  },
  {
   "cell_type": "code",
   "execution_count": null,
   "id": "c51b61fa",
   "metadata": {},
   "outputs": [],
   "source": [
    "fig, ax = plt.subplots(1, 1)\n",
    "for k in (\"10\", \"1\", \"2\"):\n",
    "    ax.plot(\n",
    "        list(neutral_sfs[k].keys()),\n",
    "        list(neutral_sfs[k].values()),\n",
    "        alpha=0.45,\n",
    "        marker=\"v\",\n",
    "        linestyle=\"\",\n",
    "        label=k,\n",
    "    )\n",
    "ax.set_ylabel(\"# of mutations with j cells\")\n",
    "ax.set_xlabel(\"j cells\")\n",
    "x_ = np.arange(1, 2 * NCELLS)\n",
    "y_ = 2 * NEUTRAL_RATE * NCELLS / x_\n",
    "ax.plot(x_, y_, linestyle=\"--\", c=\"black\", alpha=0.7, label=\"1/f\")\n",
    "ax.set_xscale(\"log\")\n",
    "ax.set_yscale(\"log\")\n",
    "ax.set_title(f\"individual realisations of the neutral SFS after {YEARS - 1} years\")\n",
    "ax.legend(title=\"sim id\")\n",
    "plt.show()\n",
    "\n",
    "fig, ax = plt.subplots(1, 1)\n",
    "ax.plot(\n",
    "    jcells,\n",
    "    avg_neutral_sfs,\n",
    "    alpha=0.45,\n",
    "    marker=\"x\",\n",
    "    linestyle=\"\",\n",
    "    c=\"grey\",\n",
    "    label=\"simulations\",\n",
    ")\n",
    "ax.set_ylabel(\"# of mutations with j cells\")\n",
    "ax.set_xlabel(\"j cells\")\n",
    "x_ = np.arange(1, 2 * NCELLS)\n",
    "y_ = 2 * NEUTRAL_RATE * NCELLS / x_\n",
    "ax.plot(x_, y_, linestyle=\"--\", c=\"black\", alpha=0.7, label=\"1/f\")\n",
    "# Watson, C.J. et al. (2020)\n",
    "# ‘The evolutionary dynamics and fitness landscape of clonal hematopoiesis’,\n",
    "# Science, 367(6485), pp. 1449–1454\n",
    "ax.plot(1, 2, linestyle=\"--\", c=\"yellowgreen\", alpha=0.7, label=\"expectation\")\n",
    "ax.set_xscale(\"log\")\n",
    "ax.set_yscale(\"log\")\n",
    "ax.legend()\n",
    "ax.set_title(f\"avg of the neutral SFS over {RUNS} runs after {YEARS - 1} years\")\n",
    "plt.show()"
   ]
  },
  {
   "cell_type": "code",
   "execution_count": null,
   "id": "193434ae",
   "metadata": {},
   "outputs": [],
   "source": [
    "sfs = load_sfs(PATH2SAVE, neutral=False)"
   ]
  },
  {
   "cell_type": "code",
   "execution_count": null,
   "id": "950d968f",
   "metadata": {},
   "outputs": [],
   "source": [
    "fig, ax = plt.subplots(1, 1)\n",
    "for k in (\"10\", \"1\", \"2\"):\n",
    "    ax.scatter(list(sfs[k].keys()), list(sfs[k].values()), alpha=0.45, marker=\"v\")\n",
    "x_ = np.arange(1, 2 * NCELLS)\n",
    "y_ = 2 * NEUTRAL_RATE * NCELLS / x_\n",
    "ax.plot(x_, y_, linestyle=\"--\", c=\"black\", alpha=0.7)\n",
    "ax.set_xscale(\"log\")\n",
    "ax.set_yscale(\"log\")\n",
    "ax.set_ylabel(\"# of mutations with j cells\")\n",
    "ax.set_xlabel(\"j cells\")\n",
    "plt.show()"
   ]
  },
  {
   "cell_type": "markdown",
   "id": "34c92e28",
   "metadata": {},
   "source": [
    "## Entropy\n",
    "Compute the entropy of the neutral sfs (all neutral lineages) for all patients.\n",
    "\n",
    "**Question:** is it ok to compute the entropy by taking all the normalising the cells in the SFS? In this way, are computing the probability of having Xj mutations in jcells, irrespective of the mutation itself."
   ]
  },
  {
   "cell_type": "code",
   "execution_count": null,
   "id": "e2d18624",
   "metadata": {},
   "outputs": [],
   "source": [
    "fig, ax = plt.subplots(1, 1, tight_layout=True, figsize=FIGSIZE)\n",
    "\n",
    "prob_jcells, idx = list(), list()\n",
    "for patient, sfs_patient in neutral_sfs.items():\n",
    "    jcells = np.fromiter(sfs_patient.keys(), dtype=float)\n",
    "    jcells /= jcells.sum()\n",
    "    prob_jcells.append(jcells)\n",
    "    idx.append(patient)\n",
    "\n",
    "for xx, pk in zip(idx, prob_jcells):\n",
    "    ax.bar(xx, stats.entropy(pk), color=\"grey\", alpha=0.8)\n",
    "ax.set_ylabel(\"entropy\")\n",
    "ax.set_xlabel(\"run idx\")\n",
    "ax.set_xticks(range(0, RUNS))\n",
    "plt.show()"
   ]
  },
  {
   "cell_type": "markdown",
   "id": "cbd84017",
   "metadata": {},
   "source": [
    "## Total variant\n",
    "The total variant fraction is the fraction of all selected clones averaged over all patients, that is anything except the wild type."
   ]
  },
  {
   "cell_type": "code",
   "execution_count": null,
   "id": "5b8b3acf",
   "metadata": {},
   "outputs": [],
   "source": [
    "def load_variant_fractions(path2dir: Path):\n",
    "    assert path2dir.is_dir(), \"must be dir\"\n",
    "\n",
    "    data = []\n",
    "    for path2snapshot in sorted(\n",
    "        list((PATH2SAVE / \"variant_fraction\").iterdir()),\n",
    "        key=lambda path2name: int(path2name.name),\n",
    "        reverse=True,\n",
    "    ):  # need to reverse because rust saves from the last timepoint\n",
    "        for file in path2snapshot.iterdir():\n",
    "            with open(file, \"r\") as f:\n",
    "                # remove wild type clone\n",
    "                data.extend(\n",
    "                    [\n",
    "                        float(ele)\n",
    "                        for i, ele in enumerate(f.read().split(\",\"))\n",
    "                        if ele and i > 0\n",
    "                    ]\n",
    "                )\n",
    "    return np.array(data, dtype=float).reshape(\n",
    "        10, RUNS, 40 - 1\n",
    "    )  # timepoints x RUNS x MAX_SUBCLONES - 1 (rm wildtype)"
   ]
  },
  {
   "cell_type": "code",
   "execution_count": null,
   "id": "107479de",
   "metadata": {
    "scrolled": true
   },
   "outputs": [],
   "source": [
    "fig, ax = plt.subplots(1, 1, tight_layout=True, figsize=FIGSIZE)\n",
    "other_sims = pd.read_csv(PATH2SIMS).loc[:YEARS, :]\n",
    "\n",
    "ax.set_xlabel(\"time [years]\")\n",
    "ax.set_ylabel(\"avg total variant fraction\")\n",
    "variant_fraction = load_variant_fractions(PATH2SAVE)\n",
    "total_fraction = variant_fraction.sum(axis=-1)\n",
    "ax.errorbar(\n",
    "    x,\n",
    "    total_fraction.mean(axis=-1),\n",
    "    yerr=total_fraction.std(axis=-1),\n",
    "    fmt=\"o\",\n",
    "    alpha=0.8,\n",
    "    label=f\"ABM, avg of {RUNS} runs\",\n",
    ")\n",
    "ax.plot(other_sims._t, other_sims.theory, label=\"theory\")\n",
    "ax.plot(\n",
    "    other_sims._t, other_sims.simsAverage, linestyle=\"--\", label=\"sims, avg of 500 runs\"\n",
    ")\n",
    "ax.legend(loc=\"upper left\")\n",
    "if SAVE:\n",
    "    path2figure = PATH2SAVE / \"figures\"\n",
    "    try:\n",
    "        plt.savefig(path2figure / f\"total_variant{EXTENSION}\")\n",
    "    except FileNotFoundError:\n",
    "        path2figure.mkdir()\n",
    "        plt.savefig(path2figure / f\"total_variant{EXTENSION}\")\n",
    "plt.show()"
   ]
  },
  {
   "cell_type": "code",
   "execution_count": null,
   "id": "83ce05f2",
   "metadata": {
    "scrolled": false
   },
   "outputs": [],
   "source": [
    "int_x = [int(x_) for x_ in x]\n",
    "for run in range(RUNS):\n",
    "    fig, ax = plt.subplots(1, 1, tight_layout=True, figsize=FIGSIZE)\n",
    "    for clone in range(variant_fraction.shape[-1]):\n",
    "        sns.barplot(x=int_x, y=variant_fraction[:, run, clone], ax=ax)\n",
    "    ax.set_ylabel(\"variant fraction\")\n",
    "    ax.set_xlabel(\"time [years]\")\n",
    "    plt.show()"
   ]
  }
 ],
 "metadata": {
  "kernelspec": {
   "display_name": "Python 3 (ipykernel)",
   "language": "python",
   "name": "python3"
  },
  "language_info": {
   "codemirror_mode": {
    "name": "ipython",
    "version": 3
   },
   "file_extension": ".py",
   "mimetype": "text/x-python",
   "name": "python",
   "nbconvert_exporter": "python",
   "pygments_lexer": "ipython3",
   "version": "3.11.3"
  }
 },
 "nbformat": 4,
 "nbformat_minor": 5
}
