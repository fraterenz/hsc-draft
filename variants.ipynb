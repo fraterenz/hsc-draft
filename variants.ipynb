{
 "cells": [
  {
   "cell_type": "markdown",
   "id": "71317a47",
   "metadata": {},
   "source": [
    "**N.B.** to generate the data, have a look at the script `variants.sh`."
   ]
  },
  {
   "cell_type": "code",
   "execution_count": null,
   "id": "53413b87",
   "metadata": {},
   "outputs": [],
   "source": [
    "import pandas as pd\n",
    "import seaborn as sns\n",
    "import matplotlib.pyplot as plt\n",
    "import numpy as np\n",
    "from futils import parse_version\n",
    "from hscpy import variant\n",
    "from pathlib import Path\n",
    "\n",
    "PATH2BIN = Path(\"~\").expanduser() / \"hsc/target/release\"\n",
    "SAVE = True"
   ]
  },
  {
   "cell_type": "code",
   "execution_count": null,
   "id": "1c2c3c34",
   "metadata": {},
   "outputs": [],
   "source": [
    "%%bash -s \"$PATH2BIN\" --out version\n",
    "$1/hsc --version"
   ]
  },
  {
   "cell_type": "code",
   "execution_count": null,
   "id": "0ac83d67",
   "metadata": {},
   "outputs": [],
   "source": [
    "VERSION = parse_version(version)\n",
    "PATH2SIMS = Path(f\"/data/scratch/hfx923/hsc-draft/{VERSION}/variants\")\n",
    "NCELLS = 100_000\n",
    "SAMPLE = 368"
   ]
  },
  {
   "cell_type": "code",
   "execution_count": null,
   "id": "256e0365",
   "metadata": {},
   "outputs": [],
   "source": [
    "%%time\n",
    "path2variants = PATH2SIMS / f\"tau0dot5/{NCELLS}cells/variant_fraction\"\n",
    "timepoint1 = {file.stem for file in (path2variants / \"0dot0years\").iterdir()}\n",
    "timepoint2 = {file.stem for file in (path2variants / \"90dot0years\").iterdir()}\n",
    "files2remove = timepoint1.symmetric_difference(timepoint2)\n",
    "print(f\"{len(files2remove)} files to remove\")\n",
    "runs2remove = \" \".join(files2remove)\n",
    "\n",
    "counts_0dot5 = variant.load_all_detected_var_counts_by_age(path2variants, 0.01)\n",
    "counts_0dot5 = variant.variant_counts_detected_df(counts_0dot5)"
   ]
  },
  {
   "cell_type": "code",
   "execution_count": null,
   "id": "20f8227f",
   "metadata": {},
   "outputs": [],
   "source": [
    "%%time\n",
    "path2variants = PATH2SIMS / f\"tau1/{NCELLS}cells/variant_fraction\"\n",
    "timepoint1 = {file.stem for file in (path2variants / \"0dot0years\").iterdir()}\n",
    "timepoint2 = {file.stem for file in (path2variants / \"90dot0years\").iterdir()}\n",
    "files2remove = timepoint1.symmetric_difference(timepoint2)\n",
    "print(f\"{len(files2remove)} files to remove\")\n",
    "runs2remove = \" \".join(files2remove)\n",
    "\n",
    "counts_1 = variant.load_all_detected_var_counts_by_age(path2variants, 0.01)\n",
    "counts_1 = variant.variant_counts_detected_df(counts_1)"
   ]
  },
  {
   "cell_type": "code",
   "execution_count": null,
   "id": "dd29910d",
   "metadata": {},
   "outputs": [],
   "source": [
    "%%time\n",
    "path2variants = PATH2SIMS / f\"tau2/{NCELLS}cells/variant_fraction\"\n",
    "timepoint1 = {file.stem for file in (path2variants / \"0dot0years\").iterdir()}\n",
    "timepoint2 = {file.stem for file in (path2variants / \"90dot0years\").iterdir()}\n",
    "files2remove = timepoint1.symmetric_difference(timepoint2)\n",
    "print(f\"{len(files2remove)} files to remove\")\n",
    "runs2remove = \" \".join(files2remove)\n",
    "\n",
    "counts_2 = variant.load_all_detected_var_counts_by_age(path2variants, 0.01)\n",
    "counts_2 = variant.variant_counts_detected_df(counts_2)"
   ]
  },
  {
   "cell_type": "code",
   "execution_count": null,
   "id": "fe774ee5",
   "metadata": {},
   "outputs": [],
   "source": [
    "%%time\n",
    "path2variants = PATH2SIMS / f\"tau5/{NCELLS}cells/variant_fraction\"\n",
    "timepoint1 = {file.stem for file in (path2variants / \"0dot0years\").iterdir()}\n",
    "timepoint2 = {file.stem for file in (path2variants / \"90dot0years\").iterdir()}\n",
    "files2remove = timepoint1.symmetric_difference(timepoint2)\n",
    "print(f\"{len(files2remove)} files to remove\")\n",
    "runs2remove = \" \".join(files2remove)\n",
    "\n",
    "counts_5 = variant.load_all_detected_var_counts_by_age(path2variants, 0.01)\n",
    "counts_5 = variant.variant_counts_detected_df(counts_5)"
   ]
  },
  {
   "cell_type": "code",
   "execution_count": null,
   "id": "7c96a4ab",
   "metadata": {},
   "outputs": [],
   "source": [
    "fig, ax = plt.subplots(1, 1, layout=\"tight\")\n",
    "\n",
    "sns.lineplot(\n",
    "    counts_0dot5,\n",
    "    x=\"age\",\n",
    "    y=\"variant counts detected\",\n",
    "    errorbar=lambda x: (np.min(x), np.max(x)),\n",
    "    ax=ax,\n",
    "    label=r\"$\\tau=0.5$\",\n",
    ")\n",
    "sns.lineplot(\n",
    "    counts_1,\n",
    "    x=\"age\",\n",
    "    y=\"variant counts detected\",\n",
    "    errorbar=lambda x: (np.min(x), np.max(x)),\n",
    "    ax=ax,\n",
    "    label=r\"$\\tau=1$\",\n",
    ")\n",
    "sns.lineplot(\n",
    "    counts_2,\n",
    "    x=\"age\",\n",
    "    y=\"variant counts detected\",\n",
    "    errorbar=lambda x: (np.min(x), np.max(x)),\n",
    "    ax=ax,\n",
    "    label=r\"$\\tau=2$\",\n",
    ")\n",
    "sns.lineplot(\n",
    "    counts_5,\n",
    "    x=\"age\",\n",
    "    y=\"variant counts detected\",\n",
    "    errorbar=lambda x: (np.min(x), np.max(x)),\n",
    "    ax=ax,\n",
    "    label=r\"$\\tau=5$\",\n",
    ")\n",
    "\n",
    "ax.legend(loc=2, frameon=False)\n",
    "if SAVE:\n",
    "    plt.savefig(f\"variants_varying_tau.svg\")\n",
    "plt.show()"
   ]
  }
 ],
 "metadata": {
  "kernelspec": {
   "display_name": "hsc-draft",
   "language": "python",
   "name": "hsc-draft"
  },
  "language_info": {
   "codemirror_mode": {
    "name": "ipython",
    "version": 3
   },
   "file_extension": ".py",
   "mimetype": "text/x-python",
   "name": "python",
   "nbconvert_exporter": "python",
   "pygments_lexer": "ipython3",
   "version": "3.11.4"
  }
 },
 "nbformat": 4,
 "nbformat_minor": 5
}
