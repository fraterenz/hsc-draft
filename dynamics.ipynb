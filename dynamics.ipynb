{
 "cells": [
  {
   "cell_type": "markdown",
   "id": "3509fddf",
   "metadata": {},
   "source": [
    "# HSC\n",
    "Markov process with fixed-size population with k-types such that the type 0 is the wild-type with growth rate of `B0`. \n",
    "\n",
    "A cells can get a mutation conferring a proliferative advantage upon cell division. We model this process with a Bernouilli trial with success probability of `u`, with units of 1 mutation/division. To compute `u` we can do `u =  MU0 / (B0 * NCELLS)` for the symmetric division case.\n",
    "\n",
    "For now, all k clones have the same proliferative advantage with k greater than 0."
   ]
  },
  {
   "cell_type": "code",
   "execution_count": null,
   "id": "ce19ffa6",
   "metadata": {},
   "outputs": [],
   "source": [
    "import matplotlib.pyplot as plt\n",
    "import json\n",
    "import numpy as np\n",
    "import pandas as pd\n",
    "import socket\n",
    "import seaborn as sns\n",
    "import sys\n",
    "\n",
    "from hscpy.figures import burden as burden_figures\n",
    "from hscpy.figures import sfs as sfs_figures\n",
    "from hscpy.figures import variant as variant_figures\n",
    "from hscpy.figures import options\n",
    "\n",
    "from typing import Dict\n",
    "from scipy import stats\n",
    "from pathlib import Path\n",
    "from futils import parse_version, snapshot\n",
    "\n",
    "PATH2BIN = Path(\"~\").expanduser() / \"hsc/target/release\"\n",
    "assert PATH2BIN.is_dir()\n",
    "\n",
    "YEARS_FAST = 80\n",
    "YEARS_ENTROPY = 1\n",
    "RUNS = 12\n",
    "NB_TIMEPOINTS = 21\n",
    "DETECTION_THRESH = 0.01\n",
    "SUBCLONES = 60\n",
    "USE_SCRATCH = False\n",
    "mitchell_ages = (0, 29, 38, 48, 63, 75, 81)\n",
    "\n",
    "SAVE = True\n",
    "BIGLABELS = False\n",
    "FIGSIZE = [5, 3] if BIGLABELS else [6.4, 4.8]  # default matplotlib\n",
    "PDF = True\n",
    "EXTENSION = \".pdf\" if PDF else \".png\"\n",
    "\n",
    "PLOT_OPTIONS = options.PlotOptions(figsize=FIGSIZE, extension=EXTENSION, save=SAVE)"
   ]
  },
  {
   "cell_type": "code",
   "execution_count": null,
   "id": "985e133e",
   "metadata": {},
   "outputs": [],
   "source": [
    "if socket.gethostname() == \"5X9ZYD3\":\n",
    "    PATH2SIMS = Path(\"/mnt/c/Users/terenz01/Documents/SwitchDrive/PhD/\")\n",
    "    YEARS = YEARS_FAST\n",
    "elif socket.gethostname() == \"LAPTOP-CEKCHJ4C\":\n",
    "    PATH2SIMS = Path(\"/mnt/c/Users/fra_t/Documents/PhD/\")\n",
    "    # need + 1 to save the last timepoint\n",
    "    YEARS = YEARS_FAST\n",
    "else:\n",
    "    PATH2SIMS = Path(\"~\").expanduser()\n",
    "    YEARS = 100\n",
    "\n",
    "PATH2SIMS /= Path(\"totalVariantFracTime.csv\")\n",
    "assert PATH2SIMS.is_file()"
   ]
  },
  {
   "cell_type": "code",
   "execution_count": null,
   "id": "affa36a0",
   "metadata": {},
   "outputs": [],
   "source": [
    "%%bash -s \"$PATH2BIN\" --out version\n",
    "$1/hsc --version"
   ]
  },
  {
   "cell_type": "code",
   "execution_count": null,
   "id": "554d54b6",
   "metadata": {},
   "outputs": [],
   "source": [
    "VERSION = parse_version(version)\n",
    "if USE_SCRATCH:\n",
    "    PATH2SAVE = Path(f\"/data/scratch/hfx923/hsc-draft/{VERSION}\")\n",
    "else:\n",
    "    PATH2SAVE = Path(f\"./{VERSION}\")\n",
    "print(\"Running hsc with version:\", VERSION)"
   ]
  },
  {
   "cell_type": "markdown",
   "id": "4dfcd265",
   "metadata": {},
   "source": [
    "## Competition"
   ]
  },
  {
   "cell_type": "code",
   "execution_count": null,
   "id": "d40ff0f6",
   "metadata": {},
   "outputs": [],
   "source": [
    "SAMPLE_STRONG = 600\n",
    "SAMPLE_WEAK = 6_000\n",
    "NCELLS = 200_000\n",
    "# mean of the Bernouilli trial (prob of success) to get an asymmetric\n",
    "# division upon cell division, units are [1 asymmetric division / division]\n",
    "P_ASYMMETRIC = 0\n",
    "\n",
    "## NEUTRAL RATES\n",
    "# division rate for the wild-type in units of [division / (year * cell)]\n",
    "# Welch, J.S. et al. (2012) ‘The Origin and Evolution of Mutations in Acute Myeloid Leukemia’,\n",
    "# Cell, 150(2), pp. 264–278\n",
    "B0 = 1  # TODO: double check this, should be between 2 and 20?\n",
    "# Abascal, F. et al. (2021) ‘Somatic mutation landscapes at single-molecule resolution’,\n",
    "# Nature, 593(7859), pp. 405–410. fig. 2b\n",
    "# see also fig 1b of Mitchell, E. et al.\n",
    "# (2022) ‘Clonal dynamics of haematopoiesis across the human lifespan’,\n",
    "# Nature, 606(7913), pp. 343–350\n",
    "NEUTRAL_RATE = 20  # [mut/(year * cell)]\n",
    "\n",
    "## FIT CLONES\n",
    "# avg fit mutations arising in 1 year, units are [mutations/year]\n",
    "# from ABC's inference\n",
    "MU0 = 2\n",
    "# proliferative advantage conferred by fit mutations, all clones\n",
    "# have the same proliferative advantage for now. Units are\n",
    "# [mutation / division]\n",
    "S = 0.11\n",
    "# mean of the Bernouilli trial (prob of success) to get a fit variant upon\n",
    "# cell division, units are [1 mutation/division]\n",
    "u = MU0 / (B0 * NCELLS)\n",
    "# should be 2.0 × 10−3 per HSC per year according to Mitchell, E. et al.\n",
    "# (2022) ‘Clonal dynamics of haematopoiesis across the human lifespan’,\n",
    "# Nature, 606(7913), pp. 343–350\n",
    "# driver mutations enter the HSC compartment at 2.0 × 10−3 per HSC per year\n",
    "print(f\"average sucess rate of occurence of 1 fit mutation upon cell division u={u}\")"
   ]
  },
  {
   "cell_type": "markdown",
   "id": "bf5d78e4-c96b-4a7f-b4d2-b758417cd476",
   "metadata": {},
   "source": [
    "We run the simulations with and without subsampling at the same time."
   ]
  },
  {
   "cell_type": "code",
   "execution_count": null,
   "id": "01352f2b-ae30-4000-a8f9-c1867161a8ac",
   "metadata": {},
   "outputs": [],
   "source": [
    "sim_options_population = options.SimulationOptions(\n",
    "    runs=RUNS,\n",
    "    cells=NCELLS,\n",
    "    sample=NCELLS,\n",
    "    path2save=PATH2SAVE / \"competition\",\n",
    "    neutral_rate=NEUTRAL_RATE,\n",
    "    nb_timepoints=NB_TIMEPOINTS,\n",
    "    last_timepoint_years=80,\n",
    "    nb_subclones=SUBCLONES,\n",
    "    s=S,\n",
    ")\n",
    "\n",
    "sim_options_subsampling_strong = options.SimulationOptions(\n",
    "    runs=RUNS,\n",
    "    cells=NCELLS,\n",
    "    sample=SAMPLE_STRONG,\n",
    "    path2save=PATH2SAVE / \"competition\",\n",
    "    neutral_rate=NEUTRAL_RATE,\n",
    "    nb_timepoints=NB_TIMEPOINTS,\n",
    "    last_timepoint_years=80,\n",
    "    nb_subclones=SUBCLONES,\n",
    "    s=S,\n",
    ")\n",
    "\n",
    "sim_options_subsampling_weak = options.SimulationOptions(\n",
    "    runs=RUNS,\n",
    "    cells=NCELLS,\n",
    "    sample=SAMPLE_STRONG,\n",
    "    path2save=PATH2SAVE / \"competition\",\n",
    "    neutral_rate=NEUTRAL_RATE,\n",
    "    nb_timepoints=NB_TIMEPOINTS,\n",
    "    last_timepoint_years=80,\n",
    "    nb_subclones=SUBCLONES,\n",
    "    s=S,\n",
    ")"
   ]
  },
  {
   "cell_type": "code",
   "execution_count": null,
   "id": "1c914562",
   "metadata": {},
   "outputs": [],
   "source": [
    "%%bash -s \"$PATH2BIN\" \"$sim_options_population.path2save\" \"$B0\" \"$MU0\" \"$sim_options_population.neutral_rate\" \"$sim_options_population.s\" \"$P_ASYMMETRIC\" \"$sim_options_population.runs\" \"$sim_options_population.cells\" \"$sim_options_population.last_timepoint_years\" \"$sim_options_population.nb_timepoints\" \"$sim_options_subsampling_strong.sample\" \"$sim_options_subsampling_weak.sample\" \"$YEARS_ENTROPY\"\n",
    "rm -rf $2\n",
    "$1/hsc -c $9 -y ${10} -r $8 --b0 $3 --mu0 $4 --neutral-rate $5 -s $6 --p-asymmetric $7 --snapshot-entropy ${14} --subsample ${12} ${13} --snapshots ${11} $2"
   ]
  },
  {
   "cell_type": "code",
   "execution_count": null,
   "id": "a42cb201",
   "metadata": {
    "scrolled": true
   },
   "outputs": [],
   "source": [
    "sfs_figures.show_entropy_plots(\n",
    "    sim_options_subsampling_strong, PLOT_OPTIONS, mitchell_ages, early_variants_only=True\n",
    ")"
   ]
  },
  {
   "cell_type": "code",
   "execution_count": null,
   "id": "db004071",
   "metadata": {},
   "outputs": [],
   "source": [
    "sfs_figures.show_entropy_plots(\n",
    "    sim_options_population, PLOT_OPTIONS, mitchell_ages, early_variants_only=True\n",
    ")"
   ]
  },
  {
   "cell_type": "code",
   "execution_count": null,
   "id": "f120eaeb",
   "metadata": {},
   "outputs": [],
   "source": [
    "sim_options_subsampling_strong.cells"
   ]
  },
  {
   "cell_type": "code",
   "execution_count": null,
   "id": "65393e2f",
   "metadata": {},
   "outputs": [],
   "source": [
    "from hscpy import burden"
   ]
  },
  {
   "cell_type": "code",
   "execution_count": null,
   "id": "a196d175",
   "metadata": {},
   "outputs": [],
   "source": [
    "burden_strong_sub = burden.load_burden(sim_options_subsampling_strong.path2save, sim_options_subsampling_strong.runs, sim_options_subsampling_strong.cells)\n",
    "burden_strong_sub"
   ]
  },
  {
   "cell_type": "code",
   "execution_count": null,
   "id": "c60a80fa",
   "metadata": {},
   "outputs": [],
   "source": [
    "sum(burden_strong_sub['1'].values())"
   ]
  },
  {
   "cell_type": "code",
   "execution_count": null,
   "id": "bc783e47",
   "metadata": {},
   "outputs": [],
   "source": [
    "for sim in burden_strong_sub.values():\n",
    "    print(sum(sim.values()))"
   ]
  },
  {
   "cell_type": "code",
   "execution_count": null,
   "id": "6f416dde",
   "metadata": {},
   "outputs": [],
   "source": [
    "count_values"
   ]
  },
  {
   "cell_type": "code",
   "execution_count": null,
   "id": "46e0591c",
   "metadata": {},
   "outputs": [],
   "source": [
    "count_values_entropy"
   ]
  },
  {
   "cell_type": "code",
   "execution_count": null,
   "id": "e8056dc7",
   "metadata": {
    "scrolled": true
   },
   "outputs": [],
   "source": [
    "count_values = dict()\n",
    "for idx, sfs_ in sfs.load_sfs(sim_options_subsampling_strong.path2save, sim_options_subsampling_strong.runs, sim_options_subsampling_strong.cells).items():\n",
    "    sfs_series = pd.Series(sfs_)\n",
    "    print(f\"{idx} {sfs_series.shape}\")\n",
    "    count_values[idx] = sfs_series.value_counts()"
   ]
  },
  {
   "cell_type": "code",
   "execution_count": null,
   "id": "3b78848f",
   "metadata": {},
   "outputs": [],
   "source": [
    "count_values_entropy = dict()\n",
    "entr = dict()\n",
    "for idx, sfs_ in sfs.load_sfs_entropy(sim_options_subsampling_strong.path2save, sim_options_subsampling_strong.runs, sim_options_subsampling_strong.cells).items():\n",
    "    entr[idx] = stats.entropy(sfs_)\n",
    "    sfs_series = pd.Series(sfs_)\n",
    "    print(f\"{idx} {sfs_series.shape}\")\n",
    "    count_values_entropy[idx] = sfs_series.value_counts()"
   ]
  },
  {
   "cell_type": "code",
   "execution_count": null,
   "id": "c83e1306",
   "metadata": {},
   "outputs": [],
   "source": [
    "entr"
   ]
  },
  {
   "cell_type": "code",
   "execution_count": null,
   "id": "e07e58b3",
   "metadata": {
    "scrolled": true
   },
   "outputs": [],
   "source": [
    "sfs_figures.show_entropy_plots(\n",
    "    sim_options_subsampling_strong, PLOT_OPTIONS, mitchell_ages, early_variants_only=True\n",
    ")"
   ]
  },
  {
   "cell_type": "markdown",
   "id": "91e7e29f-6916-4e69-ac74-2f05d648874e",
   "metadata": {},
   "source": [
    "### no subsampling"
   ]
  },
  {
   "cell_type": "code",
   "execution_count": null,
   "id": "ed71b9ec-3b17-4f7c-ad87-14a2b87547fe",
   "metadata": {},
   "outputs": [],
   "source": [
    "sfs_figures.show_sfs_last_timepoint_plots(sim_options_population, PLOT_OPTIONS)"
   ]
  },
  {
   "cell_type": "code",
   "execution_count": null,
   "id": "76460474-f8f1-4496-8e34-a4186b3e2fa7",
   "metadata": {},
   "outputs": [],
   "source": [
    "sfs_figures.show_entropy_plots(\n",
    "    sim_options_population, PLOT_OPTIONS, mitchell_ages, early_variants_only=True\n",
    ")"
   ]
  },
  {
   "cell_type": "code",
   "execution_count": null,
   "id": "520d84e4-6fc9-418a-91ed-f2a7c48c56f8",
   "metadata": {},
   "outputs": [],
   "source": [
    "%%time\n",
    "sfs_figures.show_entropy_plots(\n",
    "    sim_options_population, PLOT_OPTIONS, mitchell_ages, early_variants_only=False\n",
    ")"
   ]
  },
  {
   "cell_type": "code",
   "execution_count": null,
   "id": "f795bb18-48a7-4aef-9363-f396deaa1aa7",
   "metadata": {},
   "outputs": [],
   "source": [
    "burden_figures.show_burden_plots(sim_options_population, PLOT_OPTIONS, mitchell_ages)"
   ]
  },
  {
   "cell_type": "code",
   "execution_count": null,
   "id": "420f86a9-43f4-47ec-a4c6-ec33a04a51dc",
   "metadata": {},
   "outputs": [],
   "source": [
    "variant_figures.show_variant_plots(\n",
    "    sim_options_population, PLOT_OPTIONS, PATH2SIMS, DETECTION_THRESH\n",
    ")"
   ]
  },
  {
   "cell_type": "markdown",
   "id": "268634f0-e3e4-4412-b80e-ec053f5882e2",
   "metadata": {},
   "source": [
    "### weak subsampling"
   ]
  },
  {
   "cell_type": "code",
   "execution_count": null,
   "id": "3503b673-0282-4654-85f7-4afcd4e36384",
   "metadata": {},
   "outputs": [],
   "source": [
    "sfs_figures.show_sfs_last_timepoint_plots(sim_options_subsampling_weak, PLOT_OPTIONS)"
   ]
  },
  {
   "cell_type": "code",
   "execution_count": null,
   "id": "3a3fb5af-85fc-404d-8763-231ad4e4241b",
   "metadata": {},
   "outputs": [],
   "source": [
    "sfs_figures.show_entropy_plots(\n",
    "    sim_options_subsampling_weak, PLOT_OPTIONS, mitchell_ages, early_variants_only=True\n",
    ")"
   ]
  },
  {
   "cell_type": "code",
   "execution_count": null,
   "id": "eae49a2a-9b35-4254-8196-6672fbdc0bd5",
   "metadata": {},
   "outputs": [],
   "source": [
    "%%time\n",
    "sfs_figures.show_entropy_plots(\n",
    "    sim_options_subsampling_weak, PLOT_OPTIONS, mitchell_ages, early_variants_only=False\n",
    ")"
   ]
  },
  {
   "cell_type": "code",
   "execution_count": null,
   "id": "c2f5742f-0ac0-4f74-82cf-a780b3bf18f7",
   "metadata": {
    "scrolled": true
   },
   "outputs": [],
   "source": [
    "burden_figures.show_burden_plots(sim_options_subsampling_weak, PLOT_OPTIONS, mitchell_ages)"
   ]
  },
  {
   "cell_type": "code",
   "execution_count": null,
   "id": "d85ad35a-89c5-4266-ab87-afb4790aec5e",
   "metadata": {},
   "outputs": [],
   "source": [
    "variant_figures.show_variant_plots(\n",
    "    sim_options_subsampling_weak, PLOT_OPTIONS, PATH2SIMS, DETECTION_THRESH\n",
    ")"
   ]
  },
  {
   "cell_type": "markdown",
   "id": "80a0133f",
   "metadata": {},
   "source": [
    "### strong subsampling"
   ]
  },
  {
   "cell_type": "code",
   "execution_count": null,
   "id": "9781b915",
   "metadata": {},
   "outputs": [],
   "source": [
    "sfs_figures.show_sfs_last_timepoint_plots(sim_options_subsampling_strong, PLOT_OPTIONS)"
   ]
  },
  {
   "cell_type": "code",
   "execution_count": null,
   "id": "e3d57406",
   "metadata": {},
   "outputs": [],
   "source": [
    "sfs_figures.show_entropy_plots(\n",
    "    sim_options_subsampling_strong, PLOT_OPTIONS, mitchell_ages, early_variants_only=True\n",
    ")"
   ]
  },
  {
   "cell_type": "code",
   "execution_count": null,
   "id": "1753e03c",
   "metadata": {},
   "outputs": [],
   "source": [
    "%%time\n",
    "sfs_figures.show_entropy_plots(\n",
    "    sim_options_subsampling_strong, PLOT_OPTIONS, mitchell_ages, early_variants_only=False\n",
    ")"
   ]
  },
  {
   "cell_type": "code",
   "execution_count": null,
   "id": "280bf7b7",
   "metadata": {},
   "outputs": [],
   "source": [
    "burden_figures.show_burden_plots(sim_options_subsampling_strong, PLOT_OPTIONS, mitchell_ages)"
   ]
  },
  {
   "cell_type": "code",
   "execution_count": null,
   "id": "53a851fa",
   "metadata": {},
   "outputs": [],
   "source": [
    "variant_figures.show_variant_plots(\n",
    "    sim_options_subsampling_strong, PLOT_OPTIONS, PATH2SIMS, DETECTION_THRESH\n",
    ")"
   ]
  },
  {
   "cell_type": "markdown",
   "id": "034bd20e-c756-4638-be3f-076d47d33c80",
   "metadata": {},
   "source": [
    "## Competition vs neutral vs 1 clone (logistic fn)"
   ]
  },
  {
   "cell_type": "code",
   "execution_count": null,
   "id": "8a76c6a7-2d67-47ec-a807-fb61c7324453",
   "metadata": {},
   "outputs": [],
   "source": [
    "# TODO 1 clone logistic fn"
   ]
  }
 ],
 "metadata": {
  "kernelspec": {
   "display_name": "hsc-draft",
   "language": "python",
   "name": "hsc-draft"
  },
  "language_info": {
   "codemirror_mode": {
    "name": "ipython",
    "version": 3
   },
   "file_extension": ".py",
   "mimetype": "text/x-python",
   "name": "python",
   "nbconvert_exporter": "python",
   "pygments_lexer": "ipython3",
   "version": "3.11.4"
  }
 },
 "nbformat": 4,
 "nbformat_minor": 5
}
